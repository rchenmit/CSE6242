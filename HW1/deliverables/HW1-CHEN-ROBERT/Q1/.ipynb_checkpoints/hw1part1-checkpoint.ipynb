{
 "metadata": {
  "name": "",
  "signature": "sha256:0a1e8bedb6f128b1f2efc69494944576739257aa3037a199e7164f53c310e77c"
 },
 "nbformat": 3,
 "nbformat_minor": 0,
 "worksheets": [
  {
   "cells": [
    {
     "cell_type": "code",
     "collapsed": false,
     "input": [
      "import os\n",
      "import sys"
     ],
     "language": "python",
     "metadata": {},
     "outputs": [],
     "prompt_number": 1
    },
    {
     "cell_type": "code",
     "collapsed": false,
     "input": [
      "os.getcwd()"
     ],
     "language": "python",
     "metadata": {},
     "outputs": [
      {
       "metadata": {},
       "output_type": "pyout",
       "prompt_number": 2,
       "text": [
        "'/Users/localadmin/coursework/CSE6242/HW1/code/part1_getsimilartracks'"
       ]
      }
     ],
     "prompt_number": 2
    },
    {
     "cell_type": "code",
     "collapsed": false,
     "input": [
      "execfile('./getsimilartracks_cher_believe.py')"
     ],
     "language": "python",
     "metadata": {},
     "outputs": [
      {
       "output_type": "stream",
       "stream": "stdout",
       "text": [
        "* this script pulls from last.fm 100 similar tracks to what is specified\n",
        "* fetching authentification request token with api_key and api_signature:  \n",
        "{\"token\":\"dd6e612de93bb5c79411ca8b136a4d7f\"}\n"
       ]
      },
      {
       "output_type": "stream",
       "stream": "stdout",
       "text": [
        "\n",
        "* request authorization from user, using HTTP GET request\n"
       ]
      },
      {
       "ename": "TypeError",
       "evalue": "sequence item 4: expected string, tuple found",
       "output_type": "pyerr",
       "traceback": [
        "\u001b[0;31m---------------------------------------------------------------------------\u001b[0m\n\u001b[0;31mTypeError\u001b[0m                                 Traceback (most recent call last)",
        "\u001b[0;32m<ipython-input-13-6a5243426b6e>\u001b[0m in \u001b[0;36m<module>\u001b[0;34m()\u001b[0m\n\u001b[0;32m----> 1\u001b[0;31m \u001b[0mexecfile\u001b[0m\u001b[0;34m(\u001b[0m\u001b[0;34m'./getsimilartracks_cher_believe.py'\u001b[0m\u001b[0;34m)\u001b[0m\u001b[0;34m\u001b[0m\u001b[0m\n\u001b[0m",
        "\u001b[0;32m/Users/localadmin/coursework/CSE6242/HW1/code/part1_getsimilartracks/getsimilartracks_cher_believe.py\u001b[0m in \u001b[0;36m<module>\u001b[0;34m()\u001b[0m\n\u001b[1;32m     60\u001b[0m \u001b[0;31m# request authorization from user, using HTTP GET request\u001b[0m\u001b[0;34m\u001b[0m\u001b[0;34m\u001b[0m\u001b[0m\n\u001b[1;32m     61\u001b[0m \u001b[0;32mprint\u001b[0m \u001b[0;34m\"* request authorization from user, using HTTP GET request\"\u001b[0m\u001b[0;34m\u001b[0m\u001b[0m\n\u001b[0;32m---> 62\u001b[0;31m \u001b[0mrequestAuthorization\u001b[0m\u001b[0;34m(\u001b[0m\u001b[0mAPI_KEY\u001b[0m\u001b[0;34m,\u001b[0m \u001b[0mauth_token\u001b[0m\u001b[0;34m)\u001b[0m\u001b[0;34m\u001b[0m\u001b[0m\n\u001b[0m\u001b[1;32m     63\u001b[0m \u001b[0;34m\u001b[0m\u001b[0m\n\u001b[1;32m     64\u001b[0m \u001b[0;34m\u001b[0m\u001b[0m\n",
        "\u001b[0;32m/Users/localadmin/coursework/CSE6242/HW1/code/part1_getsimilartracks/getsimilartracks_cher_believe.py\u001b[0m in \u001b[0;36mrequestAuthorization\u001b[0;34m(api_key, token)\u001b[0m\n\u001b[1;32m     46\u001b[0m \trequest_url = ''.join([\"http://www.last.fm/api/auth\",\n\u001b[1;32m     47\u001b[0m                                                 \u001b[0;34m\"?api_key=\"\u001b[0m\u001b[0;34m,\u001b[0m \u001b[0mapi_key\u001b[0m\u001b[0;34m,\u001b[0m\u001b[0;34m\u001b[0m\u001b[0m\n\u001b[0;32m---> 48\u001b[0;31m \t\t\t\t\t\t\"&token=\", token])\n\u001b[0m\u001b[1;32m     49\u001b[0m         \u001b[0;32mreturn\u001b[0m \u001b[0mrequest_url\u001b[0m\u001b[0;34m\u001b[0m\u001b[0m\n\u001b[1;32m     50\u001b[0m \u001b[0;34m\u001b[0m\u001b[0m\n",
        "\u001b[0;31mTypeError\u001b[0m: sequence item 4: expected string, tuple found"
       ]
      }
     ],
     "prompt_number": 13
    },
    {
     "cell_type": "code",
     "collapsed": false,
     "input": [
      "auth_token"
     ],
     "language": "python",
     "metadata": {},
     "outputs": [
      {
       "metadata": {},
       "output_type": "pyout",
       "prompt_number": 14,
       "text": [
        "('http://ws.audioscrobbler.com/2.0/?method=auth.gettoken&api_key=27caacb0c5a55b33e72f02fabfb6ebf7&format=json',\n",
        " {u'token': u'dd6e612de93bb5c79411ca8b136a4d7f'})"
       ]
      }
     ],
     "prompt_number": 14
    },
    {
     "cell_type": "code",
     "collapsed": false,
     "input": [
      "base_url = ''.join([\"http://ws.audioscrobbler.com/2.0/\",\n",
      "                       \"?method=auth.gettoken\",\n",
      "                       \"&api_key=\", API_KEY,\n",
      "                       \"&format=json\"])\n",
      "response = urllib2.urlopen(base_url, timeout=200)\n",
      "response_json = response.read()"
     ],
     "language": "python",
     "metadata": {},
     "outputs": [],
     "prompt_number": 9
    },
    {
     "cell_type": "code",
     "collapsed": false,
     "input": [
      "response_json"
     ],
     "language": "python",
     "metadata": {},
     "outputs": [
      {
       "metadata": {},
       "output_type": "pyout",
       "prompt_number": 10,
       "text": [
        "'{\"token\":\"3b189f45d0dfbc5227599a90305d611a\"}\\n'"
       ]
      }
     ],
     "prompt_number": 10
    },
    {
     "cell_type": "code",
     "collapsed": false,
     "input": [
      "type(json.loads(response_json))"
     ],
     "language": "python",
     "metadata": {},
     "outputs": [
      {
       "metadata": {},
       "output_type": "pyout",
       "prompt_number": 12,
       "text": [
        "dict"
       ]
      }
     ],
     "prompt_number": 12
    },
    {
     "cell_type": "code",
     "collapsed": false,
     "input": [
      "fetchRequestToken(API_KEY, API_SIG)[0]"
     ],
     "language": "python",
     "metadata": {},
     "outputs": [
      {
       "output_type": "stream",
       "stream": "stdout",
       "text": [
        "{\"token\":\"e4c82ec9bd7e1bbb084a34b3ecb5bf6f\"}\n",
        "\n"
       ]
      },
      {
       "metadata": {},
       "output_type": "pyout",
       "prompt_number": 18,
       "text": [
        "'http://ws.audioscrobbler.com/2.0/?method=auth.gettoken&api_key=27caacb0c5a55b33e72f02fabfb6ebf7&format=json'"
       ]
      }
     ],
     "prompt_number": 18
    },
    {
     "cell_type": "code",
     "collapsed": false,
     "input": [
      "fetchRequestToken(API_KEY, API_SIG)[1][\"token\"]\n"
     ],
     "language": "python",
     "metadata": {},
     "outputs": [
      {
       "output_type": "stream",
       "stream": "stdout",
       "text": [
        "{\"token\":\"ad0b48d9b18dd834e1d2b1982c385ba0\"}\n",
        "\n"
       ]
      },
      {
       "metadata": {},
       "output_type": "pyout",
       "prompt_number": 19,
       "text": [
        "u'ad0b48d9b18dd834e1d2b1982c385ba0'"
       ]
      }
     ],
     "prompt_number": 19
    },
    {
     "cell_type": "code",
     "collapsed": false,
     "input": [
      "auth_token = fetchRequestToken(API_KEY, API_SIG)[1][\"token\"]"
     ],
     "language": "python",
     "metadata": {},
     "outputs": [
      {
       "output_type": "stream",
       "stream": "stdout",
       "text": [
        "{\"token\":\"b1793ce227034f598d31a77b299c2c28\"}\n",
        "\n"
       ]
      }
     ],
     "prompt_number": 23
    },
    {
     "cell_type": "code",
     "collapsed": false,
     "input": [
      "print auth_token"
     ],
     "language": "python",
     "metadata": {},
     "outputs": [
      {
       "output_type": "stream",
       "stream": "stdout",
       "text": [
        "b1793ce227034f598d31a77b299c2c28\n"
       ]
      }
     ],
     "prompt_number": 25
    },
    {
     "cell_type": "code",
     "collapsed": false,
     "input": [
      "requestAuthorization(API_KEY, auth_token)"
     ],
     "language": "python",
     "metadata": {},
     "outputs": [
      {
       "metadata": {},
       "output_type": "pyout",
       "prompt_number": 26,
       "text": [
        "u'http://www.last.fm/api/auth?api_key=27caacb0c5a55b33e72f02fabfb6ebf7&token=b1793ce227034f598d31a77b299c2c28'"
       ]
      }
     ],
     "prompt_number": 26
    },
    {
     "cell_type": "code",
     "collapsed": false,
     "input": [
      "execfile('./getsimilartracks_cher_believe.py')"
     ],
     "language": "python",
     "metadata": {},
     "outputs": [
      {
       "output_type": "stream",
       "stream": "stdout",
       "text": [
        "* this script pulls from last.fm 100 similar tracks to what is specified\n",
        "* fetching authentification request token with api_key and api_signature:  \n",
        "{\"token\":\"a1497458d1d2bfa0c31f5b3be4b7f6a1\"}\n"
       ]
      },
      {
       "output_type": "stream",
       "stream": "stdout",
       "text": [
        "\n",
        "* request authorization from user, using HTTP GET request\n",
        "a1497458d1d2bfa0c31f5b3be4b7f6a1\n"
       ]
      }
     ],
     "prompt_number": 27
    },
    {
     "cell_type": "code",
     "collapsed": false,
     "input": [
      "execfile('./getsimilartracks_cher_believe.py')"
     ],
     "language": "python",
     "metadata": {},
     "outputs": [
      {
       "output_type": "stream",
       "stream": "stdout",
       "text": [
        "* this script pulls from last.fm 100 similar tracks to what is specified\n",
        "* fetching authentification request token with api_key and api_signature:  \n",
        "{\"token\":\"24ee177746f5f43c60a4af5d2eb81890\"}\n"
       ]
      },
      {
       "output_type": "stream",
       "stream": "stdout",
       "text": [
        "\n",
        "* request authorization from user, using HTTP GET request\n",
        "24ee177746f5f43c60a4af5d2eb81890\n",
        "<addinfourl at 4376161168 whose fp = <socket._fileobject object at 0x104d76ad0>>"
       ]
      },
      {
       "output_type": "stream",
       "stream": "stdout",
       "text": [
        "\n"
       ]
      }
     ],
     "prompt_number": 28
    },
    {
     "cell_type": "code",
     "collapsed": false,
     "input": [
      "\n",
      "def requestAuthorization(api_key, token):\n",
      "\t'''\n",
      "\trequest authorization from user\n",
      "\t'''\n",
      "\tprint token\n",
      "\trequest_url = ''.join([\"http://www.last.fm/api/auth\",\n",
      "\t\t\t\t\t\t\"?api_key=\", api_key,\n",
      "\t\t\t\t\t\t\"&token=\", token])\n",
      "\n",
      "\t#now, open web brwoser!\n",
      "\tnew = 2 #open in a new tab\n",
      "\t#open the request_url in the new browser tab\n",
      "\twebbrowser.open(request_url, new=new)\n",
      "\n",
      "\treturn request_url"
     ],
     "language": "python",
     "metadata": {},
     "outputs": [],
     "prompt_number": 29
    },
    {
     "cell_type": "code",
     "collapsed": false,
     "input": [
      "import webbrowser\n"
     ],
     "language": "python",
     "metadata": {},
     "outputs": [],
     "prompt_number": 31
    },
    {
     "cell_type": "code",
     "collapsed": false,
     "input": [
      "requestAuthorization(API_KEY, auth_token)"
     ],
     "language": "python",
     "metadata": {},
     "outputs": [
      {
       "output_type": "stream",
       "stream": "stdout",
       "text": [
        "24ee177746f5f43c60a4af5d2eb81890\n"
       ]
      },
      {
       "metadata": {},
       "output_type": "pyout",
       "prompt_number": 32,
       "text": [
        "u'http://www.last.fm/api/auth?api_key=27caacb0c5a55b33e72f02fabfb6ebf7&token=24ee177746f5f43c60a4af5d2eb81890'"
       ]
      }
     ],
     "prompt_number": 32
    },
    {
     "cell_type": "code",
     "collapsed": false,
     "input": [
      "def requestAuthorization(api_key, token):\n",
      "\t'''\n",
      "\trequest authorization from user; given the API KEY and TOKEN, will open the webbrowser tab and authentication request;\n",
      "\tuser has to click \"allow access\" in this\n",
      "\t'''\n",
      "\tprint token\n",
      "\trequest_url = ''.join([\"http://www.last.fm/api/auth\",\n",
      "\t\t\t\t\t\t\"?api_key=\", api_key,\n",
      "\t\t\t\t\t\t\"&token=\", token])\n",
      "\n",
      "\t#now, open web brwoser!\n",
      "\tnew = 2 #open in a new tab\n",
      "\t#open the request_url in the new browser tab\n",
      "\twebbrowser.open(request_url, new=new)\n",
      "\treturn"
     ],
     "language": "python",
     "metadata": {},
     "outputs": [],
     "prompt_number": 33
    },
    {
     "cell_type": "code",
     "collapsed": false,
     "input": [
      "requestAuthorization(API_KEY, auth_token)\n"
     ],
     "language": "python",
     "metadata": {},
     "outputs": [
      {
       "output_type": "stream",
       "stream": "stdout",
       "text": [
        "24ee177746f5f43c60a4af5d2eb81890\n"
       ]
      }
     ],
     "prompt_number": 34
    },
    {
     "cell_type": "code",
     "collapsed": false,
     "input": [
      "\trequest_url = ''.join([\"http://ws.audioscrobbler.com/2.0/\",\n",
      "\t\t\t\t\t\t\t\"?method=\", \"auth.getSession\",\n",
      "\t\t\t\t\t\t\t\"&api_key\", API_KEY\n",
      "\t\t\t\t\t\t\t])"
     ],
     "language": "python",
     "metadata": {},
     "outputs": [],
     "prompt_number": 35
    },
    {
     "cell_type": "code",
     "collapsed": false,
     "input": [
      "request_url"
     ],
     "language": "python",
     "metadata": {},
     "outputs": [
      {
       "metadata": {},
       "output_type": "pyout",
       "prompt_number": 36,
       "text": [
        "'http://ws.audioscrobbler.com/2.0/?method=auth.getSession&api_key27caacb0c5a55b33e72f02fabfb6ebf7'"
       ]
      }
     ],
     "prompt_number": 36
    },
    {
     "cell_type": "code",
     "collapsed": false,
     "input": [
      "print \"* create api signature for auth.getSession call\"\n",
      "api_sig = ''.join([\"api_key\", API_KEY, \"method\", \"auth.getSession\", \"token\", auth_token])"
     ],
     "language": "python",
     "metadata": {},
     "outputs": [
      {
       "output_type": "stream",
       "stream": "stdout",
       "text": [
        "* create api signature for auth.getSession call\n"
       ]
      }
     ],
     "prompt_number": 37
    },
    {
     "cell_type": "code",
     "collapsed": false,
     "input": [
      "api_sig"
     ],
     "language": "python",
     "metadata": {},
     "outputs": [
      {
       "metadata": {},
       "output_type": "pyout",
       "prompt_number": 38,
       "text": [
        "u'api_key27caacb0c5a55b33e72f02fabfb6ebf7methodauth.getSessiontoken24ee177746f5f43c60a4af5d2eb81890'"
       ]
      }
     ],
     "prompt_number": 38
    },
    {
     "cell_type": "code",
     "collapsed": false,
     "input": [
      "## define api token\n",
      "API_KEY = \"27caacb0c5a55b33e72f02fabfb6ebf7\"\n",
      "API_SECRET = \"e88cad96fd686f9a635ba39e2143b939\"\n",
      "USER = \"rchen87\"\n",
      "## input what artist/ song\n",
      "artist_name = \"cher\"\n",
      "song_name = \"believe\""
     ],
     "language": "python",
     "metadata": {},
     "outputs": [],
     "prompt_number": 39
    },
    {
     "cell_type": "code",
     "collapsed": false,
     "input": [
      "print \"* create api signature for auth.getSession call\"\n",
      "api_sig = ''.join([\"api_key\", API_KEY, \"method\", \"auth.getSession\", \"token\", auth_token, API_SECRET])"
     ],
     "language": "python",
     "metadata": {},
     "outputs": [
      {
       "output_type": "stream",
       "stream": "stdout",
       "text": [
        "* create api signature for auth.getSession call\n"
       ]
      }
     ],
     "prompt_number": 40
    },
    {
     "cell_type": "code",
     "collapsed": false,
     "input": [
      "api_sig"
     ],
     "language": "python",
     "metadata": {},
     "outputs": [
      {
       "metadata": {},
       "output_type": "pyout",
       "prompt_number": 41,
       "text": [
        "u'api_key27caacb0c5a55b33e72f02fabfb6ebf7methodauth.getSessiontoken24ee177746f5f43c60a4af5d2eb81890e88cad96fd686f9a635ba39e2143b939'"
       ]
      }
     ],
     "prompt_number": 41
    },
    {
     "cell_type": "code",
     "collapsed": false,
     "input": [
      "import md5"
     ],
     "language": "python",
     "metadata": {},
     "outputs": [],
     "prompt_number": 42
    },
    {
     "cell_type": "code",
     "collapsed": false,
     "input": [
      "print \"* create api signature for auth.getSession call\"\n",
      "api_sig_str = ''.join([\"api_key\", API_KEY, \"method\", \"auth.getSession\", \"token\", auth_token, API_SECRET])\n",
      "api_sig = md5.new(api_sig_str).digest()"
     ],
     "language": "python",
     "metadata": {},
     "outputs": [
      {
       "output_type": "stream",
       "stream": "stdout",
       "text": [
        "* create api signature for auth.getSession call\n"
       ]
      }
     ],
     "prompt_number": 43
    },
    {
     "cell_type": "code",
     "collapsed": false,
     "input": [
      "api_sig"
     ],
     "language": "python",
     "metadata": {},
     "outputs": [
      {
       "metadata": {},
       "output_type": "pyout",
       "prompt_number": 44,
       "text": [
        "'\\xd9\\xff\\xc5\\xbe\\xf4\\xc4P5\\xb6\\xce\\xa7\\x8d\\x9c7\\n\\xc1'"
       ]
      }
     ],
     "prompt_number": 44
    },
    {
     "cell_type": "code",
     "collapsed": false,
     "input": [],
     "language": "python",
     "metadata": {},
     "outputs": [],
     "prompt_number": 44
    },
    {
     "cell_type": "code",
     "collapsed": false,
     "input": [
      "print \"* create a web service section\"\n",
      "createWebServiceSession(API_KEY, auth_token, api_sig)"
     ],
     "language": "python",
     "metadata": {},
     "outputs": [
      {
       "output_type": "stream",
       "stream": "stdout",
       "text": [
        "* create a web service section\n"
       ]
      },
      {
       "ename": "NameError",
       "evalue": "name 'createWebServiceSession' is not defined",
       "output_type": "pyerr",
       "traceback": [
        "\u001b[0;31m---------------------------------------------------------------------------\u001b[0m\n\u001b[0;31mNameError\u001b[0m                                 Traceback (most recent call last)",
        "\u001b[0;32m<ipython-input-45-2687fce8739d>\u001b[0m in \u001b[0;36m<module>\u001b[0;34m()\u001b[0m\n\u001b[1;32m      1\u001b[0m \u001b[0;32mprint\u001b[0m \u001b[0;34m\"* create a web service section\"\u001b[0m\u001b[0;34m\u001b[0m\u001b[0m\n\u001b[0;32m----> 2\u001b[0;31m \u001b[0mcreateWebServiceSession\u001b[0m\u001b[0;34m(\u001b[0m\u001b[0mAPI_KEY\u001b[0m\u001b[0;34m,\u001b[0m \u001b[0mauth_token\u001b[0m\u001b[0;34m,\u001b[0m \u001b[0mapi_sig\u001b[0m\u001b[0;34m)\u001b[0m\u001b[0;34m\u001b[0m\u001b[0m\n\u001b[0m",
        "\u001b[0;31mNameError\u001b[0m: name 'createWebServiceSession' is not defined"
       ]
      }
     ],
     "prompt_number": 45
    },
    {
     "cell_type": "code",
     "collapsed": false,
     "input": [
      "def createWebServiceSession(api_key, token, api_sig):\n",
      "\trequest_url = ''.join([\"http://ws.audioscrobbler.com/2.0/\",\n",
      "\t\t\t\t\t\t\t\"?method=\", \"auth.getSession\",\n",
      "\t\t\t\t\t\t\t\"&api_key\", api_key,\n",
      "\t\t\t\t\t\t\t\"&api_sig\", api_sig\n",
      "\t\t\t\t\t\t\t])\n",
      "\treturn"
     ],
     "language": "python",
     "metadata": {},
     "outputs": [],
     "prompt_number": 46
    },
    {
     "cell_type": "code",
     "collapsed": false,
     "input": [
      "print \"* create a web service section\"\n",
      "createWebServiceSession(API_KEY, auth_token, api_sig)"
     ],
     "language": "python",
     "metadata": {},
     "outputs": [
      {
       "output_type": "stream",
       "stream": "stdout",
       "text": [
        "* create a web service section\n"
       ]
      }
     ],
     "prompt_number": 47
    },
    {
     "cell_type": "code",
     "collapsed": false,
     "input": [
      "execfile('./getsimilartracks_cher_believe.py')"
     ],
     "language": "python",
     "metadata": {},
     "outputs": [
      {
       "output_type": "stream",
       "stream": "stdout",
       "text": [
        "* this script pulls from last.fm 100 similar tracks to what is specified\n",
        "* fetching authentification request token with api_key and api_signature:  \n",
        "{\"token\":\"e1edb6f178c39270868e6c956eb07857\"}\n"
       ]
      },
      {
       "output_type": "stream",
       "stream": "stdout",
       "text": [
        "\n",
        "* request authorization from user, using HTTP GET request\n",
        "e1edb6f178c39270868e6c956eb07857\n",
        "* create api signature for auth.getSession call"
       ]
      },
      {
       "output_type": "stream",
       "stream": "stdout",
       "text": [
        "\n",
        "* create a web service section, using API_KEY, auth_token and api_sig (md5 hashed)\n",
        "** authentification done ****\n"
       ]
      }
     ],
     "prompt_number": 48
    },
    {
     "cell_type": "code",
     "collapsed": false,
     "input": [
      "print(\"When you add {0} to {1} or {0} to {2}, the result is {0}\".format(0,1,10))"
     ],
     "language": "python",
     "metadata": {},
     "outputs": [
      {
       "output_type": "stream",
       "stream": "stdout",
       "text": [
        "When you add 0 to 1 or 0 to 10, the result is 0\n"
       ]
      }
     ],
     "prompt_number": 49
    },
    {
     "cell_type": "code",
     "collapsed": false,
     "input": [
      "print \"* getting similar tracks to the song: artist = {0}, track = {1}\".format(\"cher\", \"believe\")"
     ],
     "language": "python",
     "metadata": {},
     "outputs": [
      {
       "output_type": "stream",
       "stream": "stdout",
       "text": [
        "* getting similar tracks to the song: artist = cher, track = believe\n"
       ]
      }
     ],
     "prompt_number": 50
    },
    {
     "cell_type": "code",
     "collapsed": false,
     "input": [
      "request_url"
     ],
     "language": "python",
     "metadata": {},
     "outputs": [
      {
       "metadata": {},
       "output_type": "pyout",
       "prompt_number": 51,
       "text": [
        "'http://ws.audioscrobbler.com/2.0/?method=auth.getSession&api_key27caacb0c5a55b33e72f02fabfb6ebf7'"
       ]
      }
     ],
     "prompt_number": 51
    },
    {
     "cell_type": "code",
     "collapsed": false,
     "input": [
      "def createWebServiceSession(api_key, token, api_sig):\n",
      "\trequest_url = ''.join([\"http://ws.audioscrobbler.com/2.0/\",\n",
      "\t\t\t\t\t\t\t\"?method=\", \"auth.getSession\",\n",
      "\t\t\t\t\t\t\t\"&api_key\", api_key,\n",
      "\t\t\t\t\t\t\t\"&api_sig\", api_sig\n",
      "\t\t\t\t\t\t\t])\n",
      "\tresponse = urllib2.urlopen(request_url, timeout=200)\n",
      "\n",
      "\treturn response"
     ],
     "language": "python",
     "metadata": {},
     "outputs": [],
     "prompt_number": 52
    },
    {
     "cell_type": "code",
     "collapsed": false,
     "input": [
      "get_session = createWebServiceSession(API_KEY, auth_token, api_sig)\n"
     ],
     "language": "python",
     "metadata": {},
     "outputs": [
      {
       "ename": "BadStatusLine",
       "evalue": "''",
       "output_type": "pyerr",
       "traceback": [
        "\u001b[0;31m---------------------------------------------------------------------------\u001b[0m\n\u001b[0;31mBadStatusLine\u001b[0m                             Traceback (most recent call last)",
        "\u001b[0;32m<ipython-input-53-279a9f1beea1>\u001b[0m in \u001b[0;36m<module>\u001b[0;34m()\u001b[0m\n\u001b[0;32m----> 1\u001b[0;31m \u001b[0mget_session\u001b[0m \u001b[0;34m=\u001b[0m \u001b[0mcreateWebServiceSession\u001b[0m\u001b[0;34m(\u001b[0m\u001b[0mAPI_KEY\u001b[0m\u001b[0;34m,\u001b[0m \u001b[0mauth_token\u001b[0m\u001b[0;34m,\u001b[0m \u001b[0mapi_sig\u001b[0m\u001b[0;34m)\u001b[0m\u001b[0;34m\u001b[0m\u001b[0m\n\u001b[0m",
        "\u001b[0;32m<ipython-input-52-936184754d54>\u001b[0m in \u001b[0;36mcreateWebServiceSession\u001b[0;34m(api_key, token, api_sig)\u001b[0m\n\u001b[1;32m      5\u001b[0m                                                         \u001b[0;34m\"&api_sig\"\u001b[0m\u001b[0;34m,\u001b[0m \u001b[0mapi_sig\u001b[0m\u001b[0;34m\u001b[0m\u001b[0m\n\u001b[1;32m      6\u001b[0m \t\t\t\t\t\t\t])\n\u001b[0;32m----> 7\u001b[0;31m         \u001b[0mresponse\u001b[0m \u001b[0;34m=\u001b[0m \u001b[0murllib2\u001b[0m\u001b[0;34m.\u001b[0m\u001b[0murlopen\u001b[0m\u001b[0;34m(\u001b[0m\u001b[0mrequest_url\u001b[0m\u001b[0;34m,\u001b[0m \u001b[0mtimeout\u001b[0m\u001b[0;34m=\u001b[0m\u001b[0;36m200\u001b[0m\u001b[0;34m)\u001b[0m\u001b[0;34m\u001b[0m\u001b[0m\n\u001b[0m\u001b[1;32m      8\u001b[0m \u001b[0;34m\u001b[0m\u001b[0m\n\u001b[1;32m      9\u001b[0m         \u001b[0;32mreturn\u001b[0m \u001b[0mresponse\u001b[0m\u001b[0;34m\u001b[0m\u001b[0m\n",
        "\u001b[0;32m/Applications/Canopy.app/appdata/canopy-1.4.1.1975.macosx-x86_64/Canopy.app/Contents/lib/python2.7/urllib2.pyc\u001b[0m in \u001b[0;36murlopen\u001b[0;34m(url, data, timeout)\u001b[0m\n\u001b[1;32m    125\u001b[0m     \u001b[0;32mif\u001b[0m \u001b[0m_opener\u001b[0m \u001b[0;32mis\u001b[0m \u001b[0mNone\u001b[0m\u001b[0;34m:\u001b[0m\u001b[0;34m\u001b[0m\u001b[0m\n\u001b[1;32m    126\u001b[0m         \u001b[0m_opener\u001b[0m \u001b[0;34m=\u001b[0m \u001b[0mbuild_opener\u001b[0m\u001b[0;34m(\u001b[0m\u001b[0;34m)\u001b[0m\u001b[0;34m\u001b[0m\u001b[0m\n\u001b[0;32m--> 127\u001b[0;31m     \u001b[0;32mreturn\u001b[0m \u001b[0m_opener\u001b[0m\u001b[0;34m.\u001b[0m\u001b[0mopen\u001b[0m\u001b[0;34m(\u001b[0m\u001b[0murl\u001b[0m\u001b[0;34m,\u001b[0m \u001b[0mdata\u001b[0m\u001b[0;34m,\u001b[0m \u001b[0mtimeout\u001b[0m\u001b[0;34m)\u001b[0m\u001b[0;34m\u001b[0m\u001b[0m\n\u001b[0m\u001b[1;32m    128\u001b[0m \u001b[0;34m\u001b[0m\u001b[0m\n\u001b[1;32m    129\u001b[0m \u001b[0;32mdef\u001b[0m \u001b[0minstall_opener\u001b[0m\u001b[0;34m(\u001b[0m\u001b[0mopener\u001b[0m\u001b[0;34m)\u001b[0m\u001b[0;34m:\u001b[0m\u001b[0;34m\u001b[0m\u001b[0m\n",
        "\u001b[0;32m/Applications/Canopy.app/appdata/canopy-1.4.1.1975.macosx-x86_64/Canopy.app/Contents/lib/python2.7/urllib2.pyc\u001b[0m in \u001b[0;36mopen\u001b[0;34m(self, fullurl, data, timeout)\u001b[0m\n\u001b[1;32m    402\u001b[0m             \u001b[0mreq\u001b[0m \u001b[0;34m=\u001b[0m \u001b[0mmeth\u001b[0m\u001b[0;34m(\u001b[0m\u001b[0mreq\u001b[0m\u001b[0;34m)\u001b[0m\u001b[0;34m\u001b[0m\u001b[0m\n\u001b[1;32m    403\u001b[0m \u001b[0;34m\u001b[0m\u001b[0m\n\u001b[0;32m--> 404\u001b[0;31m         \u001b[0mresponse\u001b[0m \u001b[0;34m=\u001b[0m \u001b[0mself\u001b[0m\u001b[0;34m.\u001b[0m\u001b[0m_open\u001b[0m\u001b[0;34m(\u001b[0m\u001b[0mreq\u001b[0m\u001b[0;34m,\u001b[0m \u001b[0mdata\u001b[0m\u001b[0;34m)\u001b[0m\u001b[0;34m\u001b[0m\u001b[0m\n\u001b[0m\u001b[1;32m    405\u001b[0m \u001b[0;34m\u001b[0m\u001b[0m\n\u001b[1;32m    406\u001b[0m         \u001b[0;31m# post-process response\u001b[0m\u001b[0;34m\u001b[0m\u001b[0;34m\u001b[0m\u001b[0m\n",
        "\u001b[0;32m/Applications/Canopy.app/appdata/canopy-1.4.1.1975.macosx-x86_64/Canopy.app/Contents/lib/python2.7/urllib2.pyc\u001b[0m in \u001b[0;36m_open\u001b[0;34m(self, req, data)\u001b[0m\n\u001b[1;32m    420\u001b[0m         \u001b[0mprotocol\u001b[0m \u001b[0;34m=\u001b[0m \u001b[0mreq\u001b[0m\u001b[0;34m.\u001b[0m\u001b[0mget_type\u001b[0m\u001b[0;34m(\u001b[0m\u001b[0;34m)\u001b[0m\u001b[0;34m\u001b[0m\u001b[0m\n\u001b[1;32m    421\u001b[0m         result = self._call_chain(self.handle_open, protocol, protocol +\n\u001b[0;32m--> 422\u001b[0;31m                                   '_open', req)\n\u001b[0m\u001b[1;32m    423\u001b[0m         \u001b[0;32mif\u001b[0m \u001b[0mresult\u001b[0m\u001b[0;34m:\u001b[0m\u001b[0;34m\u001b[0m\u001b[0m\n\u001b[1;32m    424\u001b[0m             \u001b[0;32mreturn\u001b[0m \u001b[0mresult\u001b[0m\u001b[0;34m\u001b[0m\u001b[0m\n",
        "\u001b[0;32m/Applications/Canopy.app/appdata/canopy-1.4.1.1975.macosx-x86_64/Canopy.app/Contents/lib/python2.7/urllib2.pyc\u001b[0m in \u001b[0;36m_call_chain\u001b[0;34m(self, chain, kind, meth_name, *args)\u001b[0m\n\u001b[1;32m    380\u001b[0m             \u001b[0mfunc\u001b[0m \u001b[0;34m=\u001b[0m \u001b[0mgetattr\u001b[0m\u001b[0;34m(\u001b[0m\u001b[0mhandler\u001b[0m\u001b[0;34m,\u001b[0m \u001b[0mmeth_name\u001b[0m\u001b[0;34m)\u001b[0m\u001b[0;34m\u001b[0m\u001b[0m\n\u001b[1;32m    381\u001b[0m \u001b[0;34m\u001b[0m\u001b[0m\n\u001b[0;32m--> 382\u001b[0;31m             \u001b[0mresult\u001b[0m \u001b[0;34m=\u001b[0m \u001b[0mfunc\u001b[0m\u001b[0;34m(\u001b[0m\u001b[0;34m*\u001b[0m\u001b[0margs\u001b[0m\u001b[0;34m)\u001b[0m\u001b[0;34m\u001b[0m\u001b[0m\n\u001b[0m\u001b[1;32m    383\u001b[0m             \u001b[0;32mif\u001b[0m \u001b[0mresult\u001b[0m \u001b[0;32mis\u001b[0m \u001b[0;32mnot\u001b[0m \u001b[0mNone\u001b[0m\u001b[0;34m:\u001b[0m\u001b[0;34m\u001b[0m\u001b[0m\n\u001b[1;32m    384\u001b[0m                 \u001b[0;32mreturn\u001b[0m \u001b[0mresult\u001b[0m\u001b[0;34m\u001b[0m\u001b[0m\n",
        "\u001b[0;32m/Applications/Canopy.app/appdata/canopy-1.4.1.1975.macosx-x86_64/Canopy.app/Contents/lib/python2.7/urllib2.pyc\u001b[0m in \u001b[0;36mhttp_open\u001b[0;34m(self, req)\u001b[0m\n\u001b[1;32m   1212\u001b[0m \u001b[0;34m\u001b[0m\u001b[0m\n\u001b[1;32m   1213\u001b[0m     \u001b[0;32mdef\u001b[0m \u001b[0mhttp_open\u001b[0m\u001b[0;34m(\u001b[0m\u001b[0mself\u001b[0m\u001b[0;34m,\u001b[0m \u001b[0mreq\u001b[0m\u001b[0;34m)\u001b[0m\u001b[0;34m:\u001b[0m\u001b[0;34m\u001b[0m\u001b[0m\n\u001b[0;32m-> 1214\u001b[0;31m         \u001b[0;32mreturn\u001b[0m \u001b[0mself\u001b[0m\u001b[0;34m.\u001b[0m\u001b[0mdo_open\u001b[0m\u001b[0;34m(\u001b[0m\u001b[0mhttplib\u001b[0m\u001b[0;34m.\u001b[0m\u001b[0mHTTPConnection\u001b[0m\u001b[0;34m,\u001b[0m \u001b[0mreq\u001b[0m\u001b[0;34m)\u001b[0m\u001b[0;34m\u001b[0m\u001b[0m\n\u001b[0m\u001b[1;32m   1215\u001b[0m \u001b[0;34m\u001b[0m\u001b[0m\n\u001b[1;32m   1216\u001b[0m     \u001b[0mhttp_request\u001b[0m \u001b[0;34m=\u001b[0m \u001b[0mAbstractHTTPHandler\u001b[0m\u001b[0;34m.\u001b[0m\u001b[0mdo_request_\u001b[0m\u001b[0;34m\u001b[0m\u001b[0m\n",
        "\u001b[0;32m/Applications/Canopy.app/appdata/canopy-1.4.1.1975.macosx-x86_64/Canopy.app/Contents/lib/python2.7/urllib2.pyc\u001b[0m in \u001b[0;36mdo_open\u001b[0;34m(self, http_class, req)\u001b[0m\n\u001b[1;32m   1185\u001b[0m         \u001b[0;32melse\u001b[0m\u001b[0;34m:\u001b[0m\u001b[0;34m\u001b[0m\u001b[0m\n\u001b[1;32m   1186\u001b[0m             \u001b[0;32mtry\u001b[0m\u001b[0;34m:\u001b[0m\u001b[0;34m\u001b[0m\u001b[0m\n\u001b[0;32m-> 1187\u001b[0;31m                 \u001b[0mr\u001b[0m \u001b[0;34m=\u001b[0m \u001b[0mh\u001b[0m\u001b[0;34m.\u001b[0m\u001b[0mgetresponse\u001b[0m\u001b[0;34m(\u001b[0m\u001b[0mbuffering\u001b[0m\u001b[0;34m=\u001b[0m\u001b[0mTrue\u001b[0m\u001b[0;34m)\u001b[0m\u001b[0;34m\u001b[0m\u001b[0m\n\u001b[0m\u001b[1;32m   1188\u001b[0m             \u001b[0;32mexcept\u001b[0m \u001b[0mTypeError\u001b[0m\u001b[0;34m:\u001b[0m \u001b[0;31m# buffering kw not supported\u001b[0m\u001b[0;34m\u001b[0m\u001b[0m\n\u001b[1;32m   1189\u001b[0m                 \u001b[0mr\u001b[0m \u001b[0;34m=\u001b[0m \u001b[0mh\u001b[0m\u001b[0;34m.\u001b[0m\u001b[0mgetresponse\u001b[0m\u001b[0;34m(\u001b[0m\u001b[0;34m)\u001b[0m\u001b[0;34m\u001b[0m\u001b[0m\n",
        "\u001b[0;32m/Applications/Canopy.app/appdata/canopy-1.4.1.1975.macosx-x86_64/Canopy.app/Contents/lib/python2.7/httplib.pyc\u001b[0m in \u001b[0;36mgetresponse\u001b[0;34m(self, buffering)\u001b[0m\n\u001b[1;32m   1043\u001b[0m         \u001b[0mresponse\u001b[0m \u001b[0;34m=\u001b[0m \u001b[0mself\u001b[0m\u001b[0;34m.\u001b[0m\u001b[0mresponse_class\u001b[0m\u001b[0;34m(\u001b[0m\u001b[0;34m*\u001b[0m\u001b[0margs\u001b[0m\u001b[0;34m,\u001b[0m \u001b[0;34m**\u001b[0m\u001b[0mkwds\u001b[0m\u001b[0;34m)\u001b[0m\u001b[0;34m\u001b[0m\u001b[0m\n\u001b[1;32m   1044\u001b[0m \u001b[0;34m\u001b[0m\u001b[0m\n\u001b[0;32m-> 1045\u001b[0;31m         \u001b[0mresponse\u001b[0m\u001b[0;34m.\u001b[0m\u001b[0mbegin\u001b[0m\u001b[0;34m(\u001b[0m\u001b[0;34m)\u001b[0m\u001b[0;34m\u001b[0m\u001b[0m\n\u001b[0m\u001b[1;32m   1046\u001b[0m         \u001b[0;32massert\u001b[0m \u001b[0mresponse\u001b[0m\u001b[0;34m.\u001b[0m\u001b[0mwill_close\u001b[0m \u001b[0;34m!=\u001b[0m \u001b[0m_UNKNOWN\u001b[0m\u001b[0;34m\u001b[0m\u001b[0m\n\u001b[1;32m   1047\u001b[0m         \u001b[0mself\u001b[0m\u001b[0;34m.\u001b[0m\u001b[0m__state\u001b[0m \u001b[0;34m=\u001b[0m \u001b[0m_CS_IDLE\u001b[0m\u001b[0;34m\u001b[0m\u001b[0m\n",
        "\u001b[0;32m/Applications/Canopy.app/appdata/canopy-1.4.1.1975.macosx-x86_64/Canopy.app/Contents/lib/python2.7/httplib.pyc\u001b[0m in \u001b[0;36mbegin\u001b[0;34m(self)\u001b[0m\n\u001b[1;32m    407\u001b[0m         \u001b[0;31m# read until we get a non-100 response\u001b[0m\u001b[0;34m\u001b[0m\u001b[0;34m\u001b[0m\u001b[0m\n\u001b[1;32m    408\u001b[0m         \u001b[0;32mwhile\u001b[0m \u001b[0mTrue\u001b[0m\u001b[0;34m:\u001b[0m\u001b[0;34m\u001b[0m\u001b[0m\n\u001b[0;32m--> 409\u001b[0;31m             \u001b[0mversion\u001b[0m\u001b[0;34m,\u001b[0m \u001b[0mstatus\u001b[0m\u001b[0;34m,\u001b[0m \u001b[0mreason\u001b[0m \u001b[0;34m=\u001b[0m \u001b[0mself\u001b[0m\u001b[0;34m.\u001b[0m\u001b[0m_read_status\u001b[0m\u001b[0;34m(\u001b[0m\u001b[0;34m)\u001b[0m\u001b[0;34m\u001b[0m\u001b[0m\n\u001b[0m\u001b[1;32m    410\u001b[0m             \u001b[0;32mif\u001b[0m \u001b[0mstatus\u001b[0m \u001b[0;34m!=\u001b[0m \u001b[0mCONTINUE\u001b[0m\u001b[0;34m:\u001b[0m\u001b[0;34m\u001b[0m\u001b[0m\n\u001b[1;32m    411\u001b[0m                 \u001b[0;32mbreak\u001b[0m\u001b[0;34m\u001b[0m\u001b[0m\n",
        "\u001b[0;32m/Applications/Canopy.app/appdata/canopy-1.4.1.1975.macosx-x86_64/Canopy.app/Contents/lib/python2.7/httplib.pyc\u001b[0m in \u001b[0;36m_read_status\u001b[0;34m(self)\u001b[0m\n\u001b[1;32m    371\u001b[0m             \u001b[0;31m# Presumably, the server closed the connection before\u001b[0m\u001b[0;34m\u001b[0m\u001b[0;34m\u001b[0m\u001b[0m\n\u001b[1;32m    372\u001b[0m             \u001b[0;31m# sending a valid response.\u001b[0m\u001b[0;34m\u001b[0m\u001b[0;34m\u001b[0m\u001b[0m\n\u001b[0;32m--> 373\u001b[0;31m             \u001b[0;32mraise\u001b[0m \u001b[0mBadStatusLine\u001b[0m\u001b[0;34m(\u001b[0m\u001b[0mline\u001b[0m\u001b[0;34m)\u001b[0m\u001b[0;34m\u001b[0m\u001b[0m\n\u001b[0m\u001b[1;32m    374\u001b[0m         \u001b[0;32mtry\u001b[0m\u001b[0;34m:\u001b[0m\u001b[0;34m\u001b[0m\u001b[0m\n\u001b[1;32m    375\u001b[0m             \u001b[0;34m[\u001b[0m\u001b[0mversion\u001b[0m\u001b[0;34m,\u001b[0m \u001b[0mstatus\u001b[0m\u001b[0;34m,\u001b[0m \u001b[0mreason\u001b[0m\u001b[0;34m]\u001b[0m \u001b[0;34m=\u001b[0m \u001b[0mline\u001b[0m\u001b[0;34m.\u001b[0m\u001b[0msplit\u001b[0m\u001b[0;34m(\u001b[0m\u001b[0mNone\u001b[0m\u001b[0;34m,\u001b[0m \u001b[0;36m2\u001b[0m\u001b[0;34m)\u001b[0m\u001b[0;34m\u001b[0m\u001b[0m\n",
        "\u001b[0;31mBadStatusLine\u001b[0m: ''"
       ]
      }
     ],
     "prompt_number": 53
    },
    {
     "cell_type": "code",
     "collapsed": false,
     "input": [
      "def createWebServiceSession(api_key, token, api_sig):\n",
      "\trequest_url = ''.join([\"http://ws.audioscrobbler.com/2.0/\",\n",
      "\t\t\t\t\t\t\t\"?method=\", \"auth.getSession\",\n",
      "\t\t\t\t\t\t\t\"&api_key\", api_key,\n",
      "\t\t\t\t\t\t\t\"&api_sig\", api_sig\n",
      "\t\t\t\t\t\t\t])\n",
      "\t#response = urllib2.urlopen(request_url, timeout=200)\n",
      "\n",
      "\treturn request_url"
     ],
     "language": "python",
     "metadata": {},
     "outputs": [],
     "prompt_number": 54
    },
    {
     "cell_type": "code",
     "collapsed": false,
     "input": [
      "createWebServiceSession(API_KEY, auth_token, api_sig)"
     ],
     "language": "python",
     "metadata": {},
     "outputs": [
      {
       "metadata": {},
       "output_type": "pyout",
       "prompt_number": 55,
       "text": [
        "'http://ws.audioscrobbler.com/2.0/?method=auth.getSession&api_key27caacb0c5a55b33e72f02fabfb6ebf7&api_sig\\x01\\x9c\\\\\\xe8 [\\xf6\\x17\\x9b\\xa8\\xf5\\xcc=\\x94\\x08\\xbf'"
       ]
      }
     ],
     "prompt_number": 55
    },
    {
     "cell_type": "code",
     "collapsed": false,
     "input": [
      "ORIG_ARTIST_NAME = \"cher\"\n",
      "ORIG_SONG_NAME = \"believe\""
     ],
     "language": "python",
     "metadata": {},
     "outputs": [],
     "prompt_number": 56
    },
    {
     "cell_type": "code",
     "collapsed": false,
     "input": [
      "def getSimilarTracks(artist, songtitle):\n",
      "\n",
      "\treturn artist+songtitle\n",
      "\n",
      "print \"* getting similar tracks to the song: artist = {0}, track = {1}\".format(\"cher\", \"believe\")\n",
      "d_getSimilarTracks_origArtist = getSimilarTracks(ORIG_ARTIST_NAME, ORIG_SONG_NAME)"
     ],
     "language": "python",
     "metadata": {},
     "outputs": [
      {
       "output_type": "stream",
       "stream": "stdout",
       "text": [
        "* getting similar tracks to the song: artist = cher, track = believe\n"
       ]
      }
     ],
     "prompt_number": 57
    },
    {
     "cell_type": "code",
     "collapsed": false,
     "input": [
      "print d_getSimilarTracks_origArtist"
     ],
     "language": "python",
     "metadata": {},
     "outputs": [
      {
       "output_type": "stream",
       "stream": "stdout",
       "text": [
        "cherbelieve\n"
       ]
      }
     ],
     "prompt_number": 58
    },
    {
     "cell_type": "code",
     "collapsed": false,
     "input": [
      "API_ROOT_ADDRESS = \"http://ws.audioscrobbler.com/2.0/\"\n"
     ],
     "language": "python",
     "metadata": {},
     "outputs": [],
     "prompt_number": 59
    },
    {
     "cell_type": "code",
     "collapsed": false,
     "input": [
      "def getSimilarTracks(artist, songtitle, api_key, mbid=None, autocorrect[0|1]=None, limit=None):\n",
      "\t'''\n",
      "\tget similar songs to the songe name \"songtitle\" by artiest \"artist\"\n",
      "\t'''\n",
      "\trequest_url = ''.join([API_ROOT_ADDRESS,\n",
      "\t\t\t\t\t\t  \"?method=\", \"track.getSimilar\", \n",
      "\t\t\t\t\t\t  \"&api_key\", api_key,\n",
      "\t\t\t\t\t\t  \"&artist=\", artist,\n",
      "\t\t\t\t\t\t  \"&track=\", songtitle\n",
      "\t\t\t\t\t\t  ])\n",
      "\tif mbid:\n",
      "\t\trequest_url = request_url + \"&mbid=\" + mbid\n",
      "\tif autocorrect:\n",
      "\t\trequest_url = request_url + \"&autocorrect=\" + autocorrect\n",
      "\tif limit:\n",
      "\t\trequest_url = request_url + \"&limit=\" + limit\n",
      "\treturn request_url"
     ],
     "language": "python",
     "metadata": {},
     "outputs": [
      {
       "ename": "SyntaxError",
       "evalue": "invalid syntax (<ipython-input-60-7ef474d53677>, line 1)",
       "output_type": "pyerr",
       "traceback": [
        "\u001b[0;36m  File \u001b[0;32m\"<ipython-input-60-7ef474d53677>\"\u001b[0;36m, line \u001b[0;32m1\u001b[0m\n\u001b[0;31m    def getSimilarTracks(artist, songtitle, api_key, mbid=None, autocorrect[0|1]=None, limit=None):\u001b[0m\n\u001b[0m                                                                           ^\u001b[0m\n\u001b[0;31mSyntaxError\u001b[0m\u001b[0;31m:\u001b[0m invalid syntax\n"
       ]
      }
     ],
     "prompt_number": 60
    },
    {
     "cell_type": "code",
     "collapsed": false,
     "input": [
      "def getSimilarTracks(artist, songtitle, api_key, mbid=None, autocorrect=None, limit=None):\n",
      "\t'''\n",
      "\tget similar songs to the songe name \"songtitle\" by artiest \"artist\"\n",
      "\t'''\n",
      "\trequest_url = ''.join([API_ROOT_ADDRESS,\n",
      "\t\t\t\t\t\t  \"?method=\", \"track.getSimilar\", \n",
      "\t\t\t\t\t\t  \"&api_key\", api_key,\n",
      "\t\t\t\t\t\t  \"&artist=\", artist,\n",
      "\t\t\t\t\t\t  \"&track=\", songtitle\n",
      "\t\t\t\t\t\t  ])\n",
      "\tif mbid:\n",
      "\t\trequest_url = request_url + \"&mbid=\" + mbid\n",
      "\tif autocorrect:\n",
      "\t\trequest_url = request_url + \"&autocorrect=\" + autocorrect\n",
      "\tif limit:\n",
      "\t\trequest_url = request_url + \"&limit=\" + limit\n",
      "\treturn request_url\n",
      "\n",
      "###\n",
      "print \"* this script pulls from last.fm 100 similar tracks to what is specified\""
     ],
     "language": "python",
     "metadata": {},
     "outputs": [
      {
       "output_type": "stream",
       "stream": "stdout",
       "text": [
        "* this script pulls from last.fm 100 similar tracks to what is specified\n"
       ]
      }
     ],
     "prompt_number": 61
    },
    {
     "cell_type": "code",
     "collapsed": false,
     "input": [
      "d_getSimilarTracks_origArtist = getSimilarTracks(ORIG_ARTIST_NAME, ORIG_SONG_NAME, API_KEY, mbid=None)"
     ],
     "language": "python",
     "metadata": {},
     "outputs": [],
     "prompt_number": 62
    },
    {
     "cell_type": "code",
     "collapsed": false,
     "input": [
      "d_getSimilarTracks_origArtist"
     ],
     "language": "python",
     "metadata": {},
     "outputs": [
      {
       "metadata": {},
       "output_type": "pyout",
       "prompt_number": 63,
       "text": [
        "'http://ws.audioscrobbler.com/2.0/?method=track.getSimilar&api_key27caacb0c5a55b33e72f02fabfb6ebf7&artist=cher&track=believe'"
       ]
      }
     ],
     "prompt_number": 63
    },
    {
     "cell_type": "code",
     "collapsed": false,
     "input": [
      "def getSimilarTracks(artist, songtitle, api_key, mbid=None, autocorrect=None, limit=None):\n",
      "\t'''\n",
      "\tget similar songs to the songe name \"songtitle\" by artiest \"artist\"\n",
      "\t'''\n",
      "\trequest_url = ''.join([API_ROOT_ADDRESS,\n",
      "\t\t\t\t\t\t  \"?method=\", \"track.getSimilar\", \n",
      "\t\t\t\t\t\t  \"&api_key=\", api_key,\n",
      "\t\t\t\t\t\t  \"&artist=\", artist,\n",
      "\t\t\t\t\t\t  \"&track=\", songtitle\n",
      "\t\t\t\t\t\t  ])\n",
      "\tif mbid:\n",
      "\t\trequest_url = request_url + \"&mbid=\" + mbid\n",
      "\tif autocorrect:\n",
      "\t\trequest_url = request_url + \"&autocorrect=\" + autocorrect\n",
      "\tif limit:\n",
      "\t\trequest_url = request_url + \"&limit=\" + limit\n",
      "\treturn request_url"
     ],
     "language": "python",
     "metadata": {},
     "outputs": [],
     "prompt_number": 64
    },
    {
     "cell_type": "code",
     "collapsed": false,
     "input": [
      "d_getSimilarTracks_origArtist = getSimilarTracks(ORIG_ARTIST_NAME, ORIG_SONG_NAME, API_KEY, mbid=11111)\n"
     ],
     "language": "python",
     "metadata": {},
     "outputs": [
      {
       "ename": "TypeError",
       "evalue": "cannot concatenate 'str' and 'int' objects",
       "output_type": "pyerr",
       "traceback": [
        "\u001b[0;31m---------------------------------------------------------------------------\u001b[0m\n\u001b[0;31mTypeError\u001b[0m                                 Traceback (most recent call last)",
        "\u001b[0;32m<ipython-input-65-c8daad0837e2>\u001b[0m in \u001b[0;36m<module>\u001b[0;34m()\u001b[0m\n\u001b[0;32m----> 1\u001b[0;31m \u001b[0md_getSimilarTracks_origArtist\u001b[0m \u001b[0;34m=\u001b[0m \u001b[0mgetSimilarTracks\u001b[0m\u001b[0;34m(\u001b[0m\u001b[0mORIG_ARTIST_NAME\u001b[0m\u001b[0;34m,\u001b[0m \u001b[0mORIG_SONG_NAME\u001b[0m\u001b[0;34m,\u001b[0m \u001b[0mAPI_KEY\u001b[0m\u001b[0;34m,\u001b[0m \u001b[0mmbid\u001b[0m\u001b[0;34m=\u001b[0m\u001b[0;36m11111\u001b[0m\u001b[0;34m)\u001b[0m\u001b[0;34m\u001b[0m\u001b[0m\n\u001b[0m",
        "\u001b[0;32m<ipython-input-64-3e7e70dbe3b9>\u001b[0m in \u001b[0;36mgetSimilarTracks\u001b[0;34m(artist, songtitle, api_key, mbid, autocorrect, limit)\u001b[0m\n\u001b[1;32m     10\u001b[0m \t\t\t\t\t\t  ])\n\u001b[1;32m     11\u001b[0m         \u001b[0;32mif\u001b[0m \u001b[0mmbid\u001b[0m\u001b[0;34m:\u001b[0m\u001b[0;34m\u001b[0m\u001b[0m\n\u001b[0;32m---> 12\u001b[0;31m                 \u001b[0mrequest_url\u001b[0m \u001b[0;34m=\u001b[0m \u001b[0mrequest_url\u001b[0m \u001b[0;34m+\u001b[0m \u001b[0;34m\"&mbid=\"\u001b[0m \u001b[0;34m+\u001b[0m \u001b[0mmbid\u001b[0m\u001b[0;34m\u001b[0m\u001b[0m\n\u001b[0m\u001b[1;32m     13\u001b[0m         \u001b[0;32mif\u001b[0m \u001b[0mautocorrect\u001b[0m\u001b[0;34m:\u001b[0m\u001b[0;34m\u001b[0m\u001b[0m\n\u001b[1;32m     14\u001b[0m                 \u001b[0mrequest_url\u001b[0m \u001b[0;34m=\u001b[0m \u001b[0mrequest_url\u001b[0m \u001b[0;34m+\u001b[0m \u001b[0;34m\"&autocorrect=\"\u001b[0m \u001b[0;34m+\u001b[0m \u001b[0mautocorrect\u001b[0m\u001b[0;34m\u001b[0m\u001b[0m\n",
        "\u001b[0;31mTypeError\u001b[0m: cannot concatenate 'str' and 'int' objects"
       ]
      }
     ],
     "prompt_number": 65
    },
    {
     "cell_type": "code",
     "collapsed": false,
     "input": [
      "def getSimilarTracks(artist, songtitle, api_key, mbid=None, autocorrect=None, limit=None):\n",
      "\t'''\n",
      "\tget similar songs to the songe name \"songtitle\" by artiest \"artist\"\n",
      "\t'''\n",
      "\trequest_url = ''.join([API_ROOT_ADDRESS,\n",
      "\t\t\t\t\t\t  \"?method=\", \"track.getSimilar\", \n",
      "\t\t\t\t\t\t  \"&api_key=\", api_key,\n",
      "\t\t\t\t\t\t  \"&artist=\", artist,\n",
      "\t\t\t\t\t\t  \"&track=\", songtitle\n",
      "\t\t\t\t\t\t  ])\n",
      "\tif mbid:\n",
      "\t\trequest_url = request_url + \"&mbid=\" + mbid\n",
      "\tif autocorrect and autocorrect==0 or autocorrect==1:\n",
      "\t\trequest_url = request_url + \"&autocorrect=\" + autocorrect\n",
      "\tif limit:\n",
      "\t\trequest_url = request_url + \"&limit=\" + limit\n",
      "\treturn request_url"
     ],
     "language": "python",
     "metadata": {},
     "outputs": [],
     "prompt_number": 66
    },
    {
     "cell_type": "code",
     "collapsed": false,
     "input": [
      "def getSimilarTracks(artist, songtitle, api_key, mbid=None, autocorrect=None, limit=None):\n",
      "\t'''\n",
      "\tget similar songs to the songe name \"songtitle\" by artiest \"artist\"\n",
      "\t'''\n",
      "\trequest_url = ''.join([API_ROOT_ADDRESS,\n",
      "\t\t\t\t\t\t  \"?method=\", \"track.getSimilar\", \n",
      "\t\t\t\t\t\t  \"&api_key=\", api_key,\n",
      "\t\t\t\t\t\t  \"&artist=\", artist,\n",
      "\t\t\t\t\t\t  \"&track=\", songtitle\n",
      "\t\t\t\t\t\t  ])\n",
      "\tif mbid:\n",
      "\t\trequest_url = request_url + \"&mbid=\" + str(mbid)\n",
      "\tif autocorrect and autocorrect==0 or autocorrect==1:\n",
      "\t\trequest_url = request_url + \"&autocorrect=\" + autocorrect\n",
      "\tif limit:\n",
      "\t\trequest_url = request_url + \"&limit=\" + limit\n",
      "\treturn request_url\n"
     ],
     "language": "python",
     "metadata": {},
     "outputs": [],
     "prompt_number": 67
    },
    {
     "cell_type": "code",
     "collapsed": false,
     "input": [
      "d_getSimilarTracks_origArtist = getSimilarTracks(ORIG_ARTIST_NAME, ORIG_SONG_NAME, API_KEY, mbid=11111)\n"
     ],
     "language": "python",
     "metadata": {},
     "outputs": [],
     "prompt_number": 68
    },
    {
     "cell_type": "code",
     "collapsed": false,
     "input": [
      "d_getSimilarTracks_origArtist"
     ],
     "language": "python",
     "metadata": {},
     "outputs": [
      {
       "metadata": {},
       "output_type": "pyout",
       "prompt_number": 69,
       "text": [
        "'http://ws.audioscrobbler.com/2.0/?method=track.getSimilar&api_key=27caacb0c5a55b33e72f02fabfb6ebf7&artist=cher&track=believe&mbid=11111'"
       ]
      }
     ],
     "prompt_number": 69
    },
    {
     "cell_type": "code",
     "collapsed": false,
     "input": [
      "d_getSimilarTracks_origArtist = getSimilarTracks(ORIG_ARTIST_NAME, ORIG_SONG_NAME, API_KEY, mbid=None, autocorrect=9)\n"
     ],
     "language": "python",
     "metadata": {},
     "outputs": [],
     "prompt_number": 70
    },
    {
     "cell_type": "code",
     "collapsed": false,
     "input": [
      "print d_getSimilarTracks_origArtist"
     ],
     "language": "python",
     "metadata": {},
     "outputs": [
      {
       "output_type": "stream",
       "stream": "stdout",
       "text": [
        "http://ws.audioscrobbler.com/2.0/?method=track.getSimilar&api_key=27caacb0c5a55b33e72f02fabfb6ebf7&artist=cher&track=believe\n"
       ]
      }
     ],
     "prompt_number": 71
    },
    {
     "cell_type": "code",
     "collapsed": false,
     "input": [
      "d_getSimilarTracks_origArtist = getSimilarTracks(ORIG_ARTIST_NAME, ORIG_SONG_NAME, API_KEY, mbid=None, autocorrect=1)\n"
     ],
     "language": "python",
     "metadata": {},
     "outputs": [
      {
       "ename": "TypeError",
       "evalue": "cannot concatenate 'str' and 'int' objects",
       "output_type": "pyerr",
       "traceback": [
        "\u001b[0;31m---------------------------------------------------------------------------\u001b[0m\n\u001b[0;31mTypeError\u001b[0m                                 Traceback (most recent call last)",
        "\u001b[0;32m<ipython-input-72-942dfa91bca2>\u001b[0m in \u001b[0;36m<module>\u001b[0;34m()\u001b[0m\n\u001b[0;32m----> 1\u001b[0;31m \u001b[0md_getSimilarTracks_origArtist\u001b[0m \u001b[0;34m=\u001b[0m \u001b[0mgetSimilarTracks\u001b[0m\u001b[0;34m(\u001b[0m\u001b[0mORIG_ARTIST_NAME\u001b[0m\u001b[0;34m,\u001b[0m \u001b[0mORIG_SONG_NAME\u001b[0m\u001b[0;34m,\u001b[0m \u001b[0mAPI_KEY\u001b[0m\u001b[0;34m,\u001b[0m \u001b[0mmbid\u001b[0m\u001b[0;34m=\u001b[0m\u001b[0mNone\u001b[0m\u001b[0;34m,\u001b[0m \u001b[0mautocorrect\u001b[0m\u001b[0;34m=\u001b[0m\u001b[0;36m1\u001b[0m\u001b[0;34m)\u001b[0m\u001b[0;34m\u001b[0m\u001b[0m\n\u001b[0m",
        "\u001b[0;32m<ipython-input-67-a0905e3e462c>\u001b[0m in \u001b[0;36mgetSimilarTracks\u001b[0;34m(artist, songtitle, api_key, mbid, autocorrect, limit)\u001b[0m\n\u001b[1;32m     12\u001b[0m                 \u001b[0mrequest_url\u001b[0m \u001b[0;34m=\u001b[0m \u001b[0mrequest_url\u001b[0m \u001b[0;34m+\u001b[0m \u001b[0;34m\"&mbid=\"\u001b[0m \u001b[0;34m+\u001b[0m \u001b[0mstr\u001b[0m\u001b[0;34m(\u001b[0m\u001b[0mmbid\u001b[0m\u001b[0;34m)\u001b[0m\u001b[0;34m\u001b[0m\u001b[0m\n\u001b[1;32m     13\u001b[0m         \u001b[0;32mif\u001b[0m \u001b[0mautocorrect\u001b[0m \u001b[0;32mand\u001b[0m \u001b[0mautocorrect\u001b[0m\u001b[0;34m==\u001b[0m\u001b[0;36m0\u001b[0m \u001b[0;32mor\u001b[0m \u001b[0mautocorrect\u001b[0m\u001b[0;34m==\u001b[0m\u001b[0;36m1\u001b[0m\u001b[0;34m:\u001b[0m\u001b[0;34m\u001b[0m\u001b[0m\n\u001b[0;32m---> 14\u001b[0;31m                 \u001b[0mrequest_url\u001b[0m \u001b[0;34m=\u001b[0m \u001b[0mrequest_url\u001b[0m \u001b[0;34m+\u001b[0m \u001b[0;34m\"&autocorrect=\"\u001b[0m \u001b[0;34m+\u001b[0m \u001b[0mautocorrect\u001b[0m\u001b[0;34m\u001b[0m\u001b[0m\n\u001b[0m\u001b[1;32m     15\u001b[0m         \u001b[0;32mif\u001b[0m \u001b[0mlimit\u001b[0m\u001b[0;34m:\u001b[0m\u001b[0;34m\u001b[0m\u001b[0m\n\u001b[1;32m     16\u001b[0m                 \u001b[0mrequest_url\u001b[0m \u001b[0;34m=\u001b[0m \u001b[0mrequest_url\u001b[0m \u001b[0;34m+\u001b[0m \u001b[0;34m\"&limit=\"\u001b[0m \u001b[0;34m+\u001b[0m \u001b[0mlimit\u001b[0m\u001b[0;34m\u001b[0m\u001b[0m\n",
        "\u001b[0;31mTypeError\u001b[0m: cannot concatenate 'str' and 'int' objects"
       ]
      }
     ],
     "prompt_number": 72
    },
    {
     "cell_type": "code",
     "collapsed": false,
     "input": [
      "g = 1\n",
      "type(g)"
     ],
     "language": "python",
     "metadata": {},
     "outputs": [
      {
       "metadata": {},
       "output_type": "pyout",
       "prompt_number": 73,
       "text": [
        "int"
       ]
      }
     ],
     "prompt_number": 73
    },
    {
     "cell_type": "code",
     "collapsed": false,
     "input": [
      "\n",
      "print type(g)"
     ],
     "language": "python",
     "metadata": {},
     "outputs": [
      {
       "output_type": "stream",
       "stream": "stdout",
       "text": [
        "<type 'int'>\n"
       ]
      }
     ],
     "prompt_number": 74
    },
    {
     "cell_type": "code",
     "collapsed": false,
     "input": [
      "type(g) == int"
     ],
     "language": "python",
     "metadata": {},
     "outputs": [
      {
       "metadata": {},
       "output_type": "pyout",
       "prompt_number": 75,
       "text": [
        "True"
       ]
      }
     ],
     "prompt_number": 75
    },
    {
     "cell_type": "code",
     "collapsed": false,
     "input": [
      "def getSimilarTracks(artist, songtitle, api_key, mbid=None, autocorrect=None, limit=None):\n",
      "\t'''\n",
      "\tget similar songs to the songe name \"songtitle\" by artiest \"artist\"\n",
      "\t'''\n",
      "\trequest_url = ''.join([API_ROOT_ADDRESS,\n",
      "\t\t\t\t\t\t  \"?method=\", \"track.getSimilar\", \n",
      "\t\t\t\t\t\t  \"&api_key=\", api_key,\n",
      "\t\t\t\t\t\t  \"&artist=\", artist,\n",
      "\t\t\t\t\t\t  \"&track=\", songtitle\n",
      "\t\t\t\t\t\t  ])\n",
      "\tif mbid:\n",
      "\t\trequest_url = request_url + \"&mbid=\" + str(mbid)\n",
      "\tif autocorrect and autocorrect==0 or autocorrect==1:\n",
      "\t\trequest_url = request_url + \"&autocorrect=\" + str(autocorrect)\n",
      "\tif limit and type(limit)==int:\n",
      "\t\trequest_url = request_url + \"&limit=\" + str(limit)\n",
      "\treturn request_url\n"
     ],
     "language": "python",
     "metadata": {},
     "outputs": [],
     "prompt_number": 76
    },
    {
     "cell_type": "code",
     "collapsed": false,
     "input": [
      "d_getSimilarTracks_origArtist = getSimilarTracks(ORIG_ARTIST_NAME, ORIG_SONG_NAME, API_KEY, mbid=None, autocorrect=1, limit=100)\n"
     ],
     "language": "python",
     "metadata": {},
     "outputs": [],
     "prompt_number": 77
    },
    {
     "cell_type": "code",
     "collapsed": false,
     "input": [
      "d_getSimilarTracks_origArtist"
     ],
     "language": "python",
     "metadata": {},
     "outputs": [
      {
       "metadata": {},
       "output_type": "pyout",
       "prompt_number": 78,
       "text": [
        "'http://ws.audioscrobbler.com/2.0/?method=track.getSimilar&api_key=27caacb0c5a55b33e72f02fabfb6ebf7&artist=cher&track=believe&autocorrect=1&limit=100'"
       ]
      }
     ],
     "prompt_number": 78
    },
    {
     "cell_type": "code",
     "collapsed": false,
     "input": [
      "d_getSimilarTracks_origArtist = getSimilarTracks(ORIG_ARTIST_NAME, ORIG_SONG_NAME, API_KEY, mbid=None, autocorrect=None, limit=100)"
     ],
     "language": "python",
     "metadata": {},
     "outputs": [],
     "prompt_number": 79
    },
    {
     "cell_type": "code",
     "collapsed": false,
     "input": [
      "d_getSimilarTracks_origArtist"
     ],
     "language": "python",
     "metadata": {},
     "outputs": [
      {
       "metadata": {},
       "output_type": "pyout",
       "prompt_number": 80,
       "text": [
        "'http://ws.audioscrobbler.com/2.0/?method=track.getSimilar&api_key=27caacb0c5a55b33e72f02fabfb6ebf7&artist=cher&track=believe&limit=100'"
       ]
      }
     ],
     "prompt_number": 80
    },
    {
     "cell_type": "code",
     "collapsed": false,
     "input": [
      "def getSimilarTracks(artist, songtitle, api_key, mbid=None, autocorrect=None, limit=None):\n",
      "\t'''\n",
      "\tget similar songs to the songe name \"songtitle\" by artiest \"artist\"\n",
      "\t'''\n",
      "\trequest_url = ''.join([API_ROOT_ADDRESS,\n",
      "\t\t\t\t\t\t  \"?method=\", \"track.getSimilar\", \n",
      "\t\t\t\t\t\t  \"&api_key=\", api_key,\n",
      "\t\t\t\t\t\t  \"&artist=\", artist,\n",
      "\t\t\t\t\t\t  \"&track=\", songtitle\n",
      "\t\t\t\t\t\t  ])\n",
      "\tif mbid:\n",
      "\t\trequest_url = request_url + \"&mbid=\" + str(mbid)\n",
      "\tif autocorrect and autocorrect==0 or autocorrect==1:\n",
      "\t\trequest_url = request_url + \"&autocorrect=\" + str(autocorrect)\n",
      "\tif limit and type(limit)==int:\n",
      "\t\trequest_url = request_url + \"&limit=\" + str(limit)\n",
      "\n",
      "\tresponse = urllib2.urlopen(request_url, timeout=200)\n",
      "\tresponse_json = response.read()\n",
      "\tresponse_dict = json.loads(response_json)\n",
      "\treturn response_dict"
     ],
     "language": "python",
     "metadata": {},
     "outputs": [],
     "prompt_number": 81
    },
    {
     "cell_type": "code",
     "collapsed": false,
     "input": [
      "d_getSimilarTracks_origArtist = getSimilarTracks(ORIG_ARTIST_NAME, ORIG_SONG_NAME, API_KEY, mbid=None, autocorrect=None, limit=100)\n"
     ],
     "language": "python",
     "metadata": {},
     "outputs": [
      {
       "ename": "ValueError",
       "evalue": "No JSON object could be decoded",
       "output_type": "pyerr",
       "traceback": [
        "\u001b[0;31m---------------------------------------------------------------------------\u001b[0m\n\u001b[0;31mValueError\u001b[0m                                Traceback (most recent call last)",
        "\u001b[0;32m<ipython-input-82-d5af53ee8c30>\u001b[0m in \u001b[0;36m<module>\u001b[0;34m()\u001b[0m\n\u001b[0;32m----> 1\u001b[0;31m \u001b[0md_getSimilarTracks_origArtist\u001b[0m \u001b[0;34m=\u001b[0m \u001b[0mgetSimilarTracks\u001b[0m\u001b[0;34m(\u001b[0m\u001b[0mORIG_ARTIST_NAME\u001b[0m\u001b[0;34m,\u001b[0m \u001b[0mORIG_SONG_NAME\u001b[0m\u001b[0;34m,\u001b[0m \u001b[0mAPI_KEY\u001b[0m\u001b[0;34m,\u001b[0m \u001b[0mmbid\u001b[0m\u001b[0;34m=\u001b[0m\u001b[0mNone\u001b[0m\u001b[0;34m,\u001b[0m \u001b[0mautocorrect\u001b[0m\u001b[0;34m=\u001b[0m\u001b[0mNone\u001b[0m\u001b[0;34m,\u001b[0m \u001b[0mlimit\u001b[0m\u001b[0;34m=\u001b[0m\u001b[0;36m100\u001b[0m\u001b[0;34m)\u001b[0m\u001b[0;34m\u001b[0m\u001b[0m\n\u001b[0m",
        "\u001b[0;32m<ipython-input-81-fab9942a2746>\u001b[0m in \u001b[0;36mgetSimilarTracks\u001b[0;34m(artist, songtitle, api_key, mbid, autocorrect, limit)\u001b[0m\n\u001b[1;32m     18\u001b[0m         \u001b[0mresponse\u001b[0m \u001b[0;34m=\u001b[0m \u001b[0murllib2\u001b[0m\u001b[0;34m.\u001b[0m\u001b[0murlopen\u001b[0m\u001b[0;34m(\u001b[0m\u001b[0mrequest_url\u001b[0m\u001b[0;34m,\u001b[0m \u001b[0mtimeout\u001b[0m\u001b[0;34m=\u001b[0m\u001b[0;36m200\u001b[0m\u001b[0;34m)\u001b[0m\u001b[0;34m\u001b[0m\u001b[0m\n\u001b[1;32m     19\u001b[0m         \u001b[0mresponse_json\u001b[0m \u001b[0;34m=\u001b[0m \u001b[0mresponse\u001b[0m\u001b[0;34m.\u001b[0m\u001b[0mread\u001b[0m\u001b[0;34m(\u001b[0m\u001b[0;34m)\u001b[0m\u001b[0;34m\u001b[0m\u001b[0m\n\u001b[0;32m---> 20\u001b[0;31m         \u001b[0mresponse_dict\u001b[0m \u001b[0;34m=\u001b[0m \u001b[0mjson\u001b[0m\u001b[0;34m.\u001b[0m\u001b[0mloads\u001b[0m\u001b[0;34m(\u001b[0m\u001b[0mresponse_json\u001b[0m\u001b[0;34m)\u001b[0m\u001b[0;34m\u001b[0m\u001b[0m\n\u001b[0m\u001b[1;32m     21\u001b[0m         \u001b[0;32mreturn\u001b[0m \u001b[0mresponse_dict\u001b[0m\u001b[0;34m\u001b[0m\u001b[0m\n",
        "\u001b[0;32m/Applications/Canopy.app/appdata/canopy-1.4.1.1975.macosx-x86_64/Canopy.app/Contents/lib/python2.7/json/__init__.pyc\u001b[0m in \u001b[0;36mloads\u001b[0;34m(s, encoding, cls, object_hook, parse_float, parse_int, parse_constant, object_pairs_hook, **kw)\u001b[0m\n\u001b[1;32m    336\u001b[0m             \u001b[0mparse_int\u001b[0m \u001b[0;32mis\u001b[0m \u001b[0mNone\u001b[0m \u001b[0;32mand\u001b[0m \u001b[0mparse_float\u001b[0m \u001b[0;32mis\u001b[0m \u001b[0mNone\u001b[0m \u001b[0;32mand\u001b[0m\u001b[0;34m\u001b[0m\u001b[0m\n\u001b[1;32m    337\u001b[0m             parse_constant is None and object_pairs_hook is None and not kw):\n\u001b[0;32m--> 338\u001b[0;31m         \u001b[0;32mreturn\u001b[0m \u001b[0m_default_decoder\u001b[0m\u001b[0;34m.\u001b[0m\u001b[0mdecode\u001b[0m\u001b[0;34m(\u001b[0m\u001b[0ms\u001b[0m\u001b[0;34m)\u001b[0m\u001b[0;34m\u001b[0m\u001b[0m\n\u001b[0m\u001b[1;32m    339\u001b[0m     \u001b[0;32mif\u001b[0m \u001b[0mcls\u001b[0m \u001b[0;32mis\u001b[0m \u001b[0mNone\u001b[0m\u001b[0;34m:\u001b[0m\u001b[0;34m\u001b[0m\u001b[0m\n\u001b[1;32m    340\u001b[0m         \u001b[0mcls\u001b[0m \u001b[0;34m=\u001b[0m \u001b[0mJSONDecoder\u001b[0m\u001b[0;34m\u001b[0m\u001b[0m\n",
        "\u001b[0;32m/Applications/Canopy.app/appdata/canopy-1.4.1.1975.macosx-x86_64/Canopy.app/Contents/lib/python2.7/json/decoder.pyc\u001b[0m in \u001b[0;36mdecode\u001b[0;34m(self, s, _w)\u001b[0m\n\u001b[1;32m    363\u001b[0m \u001b[0;34m\u001b[0m\u001b[0m\n\u001b[1;32m    364\u001b[0m         \"\"\"\n\u001b[0;32m--> 365\u001b[0;31m         \u001b[0mobj\u001b[0m\u001b[0;34m,\u001b[0m \u001b[0mend\u001b[0m \u001b[0;34m=\u001b[0m \u001b[0mself\u001b[0m\u001b[0;34m.\u001b[0m\u001b[0mraw_decode\u001b[0m\u001b[0;34m(\u001b[0m\u001b[0ms\u001b[0m\u001b[0;34m,\u001b[0m \u001b[0midx\u001b[0m\u001b[0;34m=\u001b[0m\u001b[0m_w\u001b[0m\u001b[0;34m(\u001b[0m\u001b[0ms\u001b[0m\u001b[0;34m,\u001b[0m \u001b[0;36m0\u001b[0m\u001b[0;34m)\u001b[0m\u001b[0;34m.\u001b[0m\u001b[0mend\u001b[0m\u001b[0;34m(\u001b[0m\u001b[0;34m)\u001b[0m\u001b[0;34m)\u001b[0m\u001b[0;34m\u001b[0m\u001b[0m\n\u001b[0m\u001b[1;32m    366\u001b[0m         \u001b[0mend\u001b[0m \u001b[0;34m=\u001b[0m \u001b[0m_w\u001b[0m\u001b[0;34m(\u001b[0m\u001b[0ms\u001b[0m\u001b[0;34m,\u001b[0m \u001b[0mend\u001b[0m\u001b[0;34m)\u001b[0m\u001b[0;34m.\u001b[0m\u001b[0mend\u001b[0m\u001b[0;34m(\u001b[0m\u001b[0;34m)\u001b[0m\u001b[0;34m\u001b[0m\u001b[0m\n\u001b[1;32m    367\u001b[0m         \u001b[0;32mif\u001b[0m \u001b[0mend\u001b[0m \u001b[0;34m!=\u001b[0m \u001b[0mlen\u001b[0m\u001b[0;34m(\u001b[0m\u001b[0ms\u001b[0m\u001b[0;34m)\u001b[0m\u001b[0;34m:\u001b[0m\u001b[0;34m\u001b[0m\u001b[0m\n",
        "\u001b[0;32m/Applications/Canopy.app/appdata/canopy-1.4.1.1975.macosx-x86_64/Canopy.app/Contents/lib/python2.7/json/decoder.pyc\u001b[0m in \u001b[0;36mraw_decode\u001b[0;34m(self, s, idx)\u001b[0m\n\u001b[1;32m    381\u001b[0m             \u001b[0mobj\u001b[0m\u001b[0;34m,\u001b[0m \u001b[0mend\u001b[0m \u001b[0;34m=\u001b[0m \u001b[0mself\u001b[0m\u001b[0;34m.\u001b[0m\u001b[0mscan_once\u001b[0m\u001b[0;34m(\u001b[0m\u001b[0ms\u001b[0m\u001b[0;34m,\u001b[0m \u001b[0midx\u001b[0m\u001b[0;34m)\u001b[0m\u001b[0;34m\u001b[0m\u001b[0m\n\u001b[1;32m    382\u001b[0m         \u001b[0;32mexcept\u001b[0m \u001b[0mStopIteration\u001b[0m\u001b[0;34m:\u001b[0m\u001b[0;34m\u001b[0m\u001b[0m\n\u001b[0;32m--> 383\u001b[0;31m             \u001b[0;32mraise\u001b[0m \u001b[0mValueError\u001b[0m\u001b[0;34m(\u001b[0m\u001b[0;34m\"No JSON object could be decoded\"\u001b[0m\u001b[0;34m)\u001b[0m\u001b[0;34m\u001b[0m\u001b[0m\n\u001b[0m\u001b[1;32m    384\u001b[0m         \u001b[0;32mreturn\u001b[0m \u001b[0mobj\u001b[0m\u001b[0;34m,\u001b[0m \u001b[0mend\u001b[0m\u001b[0;34m\u001b[0m\u001b[0m\n",
        "\u001b[0;31mValueError\u001b[0m: No JSON object could be decoded"
       ]
      }
     ],
     "prompt_number": 82
    },
    {
     "cell_type": "code",
     "collapsed": false,
     "input": [
      "def getSimilarTracks(artist, songtitle, api_key, mbid=None, autocorrect=None, limit=None):\n",
      "\t'''\n",
      "\tget similar songs to the songe name \"songtitle\" by artiest \"artist\"\n",
      "\t'''\n",
      "\trequest_url = ''.join([API_ROOT_ADDRESS,\n",
      "\t\t\t\t\t\t  \"?method=\", \"track.getSimilar\", \n",
      "\t\t\t\t\t\t  \"&api_key=\", api_key,\n",
      "\t\t\t\t\t\t  \"&artist=\", artist,\n",
      "\t\t\t\t\t\t  \"&track=\", songtitle,\n",
      "\t\t\t\t\t\t  \"&format=json\"\n",
      "\t\t\t\t\t\t  ])\n",
      "\tif mbid:\n",
      "\t\trequest_url = request_url + \"&mbid=\" + str(mbid)\n",
      "\tif autocorrect and autocorrect==0 or autocorrect==1:\n",
      "\t\trequest_url = request_url + \"&autocorrect=\" + str(autocorrect)\n",
      "\tif limit and type(limit)==int:\n",
      "\t\trequest_url = request_url + \"&limit=\" + str(limit)\n",
      "\n",
      "\tresponse = urllib2.urlopen(request_url, timeout=200)\n",
      "\tresponse_json = response.read()\n",
      "\tresponse_dict = json.loads(response_json)\n",
      "\treturn response_dict\n"
     ],
     "language": "python",
     "metadata": {},
     "outputs": [],
     "prompt_number": 83
    },
    {
     "cell_type": "code",
     "collapsed": false,
     "input": [
      "print \"* getting similar tracks to the song: artist = {0}, track = {1}\".format(\"cher\", \"believe\")\n",
      "d_getSimilarTracks_origArtist = getSimilarTracks(ORIG_ARTIST_NAME, ORIG_SONG_NAME, API_KEY, mbid=None, autocorrect=None, limit=100)"
     ],
     "language": "python",
     "metadata": {},
     "outputs": [
      {
       "output_type": "stream",
       "stream": "stdout",
       "text": [
        "* getting similar tracks to the song: artist = cher, track = believe\n"
       ]
      },
      {
       "ename": "KeyboardInterrupt",
       "evalue": "",
       "output_type": "pyerr",
       "traceback": [
        "\u001b[0;31m---------------------------------------------------------------------------\u001b[0m\n\u001b[0;31mKeyboardInterrupt\u001b[0m                         Traceback (most recent call last)",
        "\u001b[0;32m<ipython-input-84-cca5a5cafed7>\u001b[0m in \u001b[0;36m<module>\u001b[0;34m()\u001b[0m\n\u001b[1;32m      1\u001b[0m \u001b[0;32mprint\u001b[0m \u001b[0;34m\"* getting similar tracks to the song: artist = {0}, track = {1}\"\u001b[0m\u001b[0;34m.\u001b[0m\u001b[0mformat\u001b[0m\u001b[0;34m(\u001b[0m\u001b[0;34m\"cher\"\u001b[0m\u001b[0;34m,\u001b[0m \u001b[0;34m\"believe\"\u001b[0m\u001b[0;34m)\u001b[0m\u001b[0;34m\u001b[0m\u001b[0m\n\u001b[0;32m----> 2\u001b[0;31m \u001b[0md_getSimilarTracks_origArtist\u001b[0m \u001b[0;34m=\u001b[0m \u001b[0mgetSimilarTracks\u001b[0m\u001b[0;34m(\u001b[0m\u001b[0mORIG_ARTIST_NAME\u001b[0m\u001b[0;34m,\u001b[0m \u001b[0mORIG_SONG_NAME\u001b[0m\u001b[0;34m,\u001b[0m \u001b[0mAPI_KEY\u001b[0m\u001b[0;34m,\u001b[0m \u001b[0mmbid\u001b[0m\u001b[0;34m=\u001b[0m\u001b[0mNone\u001b[0m\u001b[0;34m,\u001b[0m \u001b[0mautocorrect\u001b[0m\u001b[0;34m=\u001b[0m\u001b[0mNone\u001b[0m\u001b[0;34m,\u001b[0m \u001b[0mlimit\u001b[0m\u001b[0;34m=\u001b[0m\u001b[0;36m100\u001b[0m\u001b[0;34m)\u001b[0m\u001b[0;34m\u001b[0m\u001b[0m\n\u001b[0m",
        "\u001b[0;32m<ipython-input-83-151f9e5ca35a>\u001b[0m in \u001b[0;36mgetSimilarTracks\u001b[0;34m(artist, songtitle, api_key, mbid, autocorrect, limit)\u001b[0m\n\u001b[1;32m     18\u001b[0m \u001b[0;34m\u001b[0m\u001b[0m\n\u001b[1;32m     19\u001b[0m         \u001b[0mresponse\u001b[0m \u001b[0;34m=\u001b[0m \u001b[0murllib2\u001b[0m\u001b[0;34m.\u001b[0m\u001b[0murlopen\u001b[0m\u001b[0;34m(\u001b[0m\u001b[0mrequest_url\u001b[0m\u001b[0;34m,\u001b[0m \u001b[0mtimeout\u001b[0m\u001b[0;34m=\u001b[0m\u001b[0;36m200\u001b[0m\u001b[0;34m)\u001b[0m\u001b[0;34m\u001b[0m\u001b[0m\n\u001b[0;32m---> 20\u001b[0;31m         \u001b[0mresponse_json\u001b[0m \u001b[0;34m=\u001b[0m \u001b[0mresponse\u001b[0m\u001b[0;34m.\u001b[0m\u001b[0mread\u001b[0m\u001b[0;34m(\u001b[0m\u001b[0;34m)\u001b[0m\u001b[0;34m\u001b[0m\u001b[0m\n\u001b[0m\u001b[1;32m     21\u001b[0m         \u001b[0mresponse_dict\u001b[0m \u001b[0;34m=\u001b[0m \u001b[0mjson\u001b[0m\u001b[0;34m.\u001b[0m\u001b[0mloads\u001b[0m\u001b[0;34m(\u001b[0m\u001b[0mresponse_json\u001b[0m\u001b[0;34m)\u001b[0m\u001b[0;34m\u001b[0m\u001b[0m\n\u001b[1;32m     22\u001b[0m         \u001b[0;32mreturn\u001b[0m \u001b[0mresponse_dict\u001b[0m\u001b[0;34m\u001b[0m\u001b[0m\n",
        "\u001b[0;32m/Applications/Canopy.app/appdata/canopy-1.4.1.1975.macosx-x86_64/Canopy.app/Contents/lib/python2.7/socket.pyc\u001b[0m in \u001b[0;36mread\u001b[0;34m(self, size)\u001b[0m\n\u001b[1;32m    349\u001b[0m             \u001b[0;32mwhile\u001b[0m \u001b[0mTrue\u001b[0m\u001b[0;34m:\u001b[0m\u001b[0;34m\u001b[0m\u001b[0m\n\u001b[1;32m    350\u001b[0m                 \u001b[0;32mtry\u001b[0m\u001b[0;34m:\u001b[0m\u001b[0;34m\u001b[0m\u001b[0m\n\u001b[0;32m--> 351\u001b[0;31m                     \u001b[0mdata\u001b[0m \u001b[0;34m=\u001b[0m \u001b[0mself\u001b[0m\u001b[0;34m.\u001b[0m\u001b[0m_sock\u001b[0m\u001b[0;34m.\u001b[0m\u001b[0mrecv\u001b[0m\u001b[0;34m(\u001b[0m\u001b[0mrbufsize\u001b[0m\u001b[0;34m)\u001b[0m\u001b[0;34m\u001b[0m\u001b[0m\n\u001b[0m\u001b[1;32m    352\u001b[0m                 \u001b[0;32mexcept\u001b[0m \u001b[0merror\u001b[0m\u001b[0;34m,\u001b[0m \u001b[0me\u001b[0m\u001b[0;34m:\u001b[0m\u001b[0;34m\u001b[0m\u001b[0m\n\u001b[1;32m    353\u001b[0m                     \u001b[0;32mif\u001b[0m \u001b[0me\u001b[0m\u001b[0;34m.\u001b[0m\u001b[0margs\u001b[0m\u001b[0;34m[\u001b[0m\u001b[0;36m0\u001b[0m\u001b[0;34m]\u001b[0m \u001b[0;34m==\u001b[0m \u001b[0mEINTR\u001b[0m\u001b[0;34m:\u001b[0m\u001b[0;34m\u001b[0m\u001b[0m\n",
        "\u001b[0;32m/Applications/Canopy.app/appdata/canopy-1.4.1.1975.macosx-x86_64/Canopy.app/Contents/lib/python2.7/httplib.pyc\u001b[0m in \u001b[0;36mread\u001b[0;34m(self, amt)\u001b[0m\n\u001b[1;32m    565\u001b[0m         \u001b[0;31m# connection, and the user is reading more bytes than will be provided\u001b[0m\u001b[0;34m\u001b[0m\u001b[0;34m\u001b[0m\u001b[0m\n\u001b[1;32m    566\u001b[0m         \u001b[0;31m# (for example, reading in 1k chunks)\u001b[0m\u001b[0;34m\u001b[0m\u001b[0;34m\u001b[0m\u001b[0m\n\u001b[0;32m--> 567\u001b[0;31m         \u001b[0ms\u001b[0m \u001b[0;34m=\u001b[0m \u001b[0mself\u001b[0m\u001b[0;34m.\u001b[0m\u001b[0mfp\u001b[0m\u001b[0;34m.\u001b[0m\u001b[0mread\u001b[0m\u001b[0;34m(\u001b[0m\u001b[0mamt\u001b[0m\u001b[0;34m)\u001b[0m\u001b[0;34m\u001b[0m\u001b[0m\n\u001b[0m\u001b[1;32m    568\u001b[0m         \u001b[0;32mif\u001b[0m \u001b[0;32mnot\u001b[0m \u001b[0ms\u001b[0m\u001b[0;34m:\u001b[0m\u001b[0;34m\u001b[0m\u001b[0m\n\u001b[1;32m    569\u001b[0m             \u001b[0;31m# Ideally, we would raise IncompleteRead if the content-length\u001b[0m\u001b[0;34m\u001b[0m\u001b[0;34m\u001b[0m\u001b[0m\n",
        "\u001b[0;32m/Applications/Canopy.app/appdata/canopy-1.4.1.1975.macosx-x86_64/Canopy.app/Contents/lib/python2.7/socket.pyc\u001b[0m in \u001b[0;36mread\u001b[0;34m(self, size)\u001b[0m\n\u001b[1;32m    378\u001b[0m                 \u001b[0;31m# fragmentation issues on many platforms.\u001b[0m\u001b[0;34m\u001b[0m\u001b[0;34m\u001b[0m\u001b[0m\n\u001b[1;32m    379\u001b[0m                 \u001b[0;32mtry\u001b[0m\u001b[0;34m:\u001b[0m\u001b[0;34m\u001b[0m\u001b[0m\n\u001b[0;32m--> 380\u001b[0;31m                     \u001b[0mdata\u001b[0m \u001b[0;34m=\u001b[0m \u001b[0mself\u001b[0m\u001b[0;34m.\u001b[0m\u001b[0m_sock\u001b[0m\u001b[0;34m.\u001b[0m\u001b[0mrecv\u001b[0m\u001b[0;34m(\u001b[0m\u001b[0mleft\u001b[0m\u001b[0;34m)\u001b[0m\u001b[0;34m\u001b[0m\u001b[0m\n\u001b[0m\u001b[1;32m    381\u001b[0m                 \u001b[0;32mexcept\u001b[0m \u001b[0merror\u001b[0m\u001b[0;34m,\u001b[0m \u001b[0me\u001b[0m\u001b[0;34m:\u001b[0m\u001b[0;34m\u001b[0m\u001b[0m\n\u001b[1;32m    382\u001b[0m                     \u001b[0;32mif\u001b[0m \u001b[0me\u001b[0m\u001b[0;34m.\u001b[0m\u001b[0margs\u001b[0m\u001b[0;34m[\u001b[0m\u001b[0;36m0\u001b[0m\u001b[0;34m]\u001b[0m \u001b[0;34m==\u001b[0m \u001b[0mEINTR\u001b[0m\u001b[0;34m:\u001b[0m\u001b[0;34m\u001b[0m\u001b[0m\n",
        "\u001b[0;31mKeyboardInterrupt\u001b[0m: "
       ]
      }
     ],
     "prompt_number": 84
    },
    {
     "cell_type": "code",
     "collapsed": false,
     "input": [
      "print \"* getting similar tracks to the song: artist = {0}, track = {1}\".format(\"cher\", \"believe\")\n",
      "d_getSimilarTracks_origArtist = getSimilarTracks(ORIG_ARTIST_NAME, ORIG_SONG_NAME, API_KEY, mbid=None, autocorrect=None, limit=10)"
     ],
     "language": "python",
     "metadata": {},
     "outputs": [
      {
       "output_type": "stream",
       "stream": "stdout",
       "text": [
        "* getting similar tracks to the song: artist = cher, track = believe\n"
       ]
      }
     ],
     "prompt_number": 85
    },
    {
     "cell_type": "code",
     "collapsed": false,
     "input": [
      "d_getSimilarTracks_origArtist"
     ],
     "language": "python",
     "metadata": {},
     "outputs": [
      {
       "metadata": {},
       "output_type": "pyout",
       "prompt_number": 86,
       "text": [
        "{u'similartracks': {u'@attr': {u'artist': u'Cher', u'track': u'Believe'},\n",
        "  u'track': [{u'artist': {u'mbid': u'bfcc6d75-a6a5-4bc6-8282-47aec8531818',\n",
        "     u'name': u'Cher',\n",
        "     u'url': u'http://www.last.fm/music/Cher'},\n",
        "    u'duration': u'239000',\n",
        "    u'image': [{u'#text': u'http://userserve-ak.last.fm/serve/34s/71997588.png',\n",
        "      u'size': u'small'},\n",
        "     {u'#text': u'http://userserve-ak.last.fm/serve/64s/71997588.png',\n",
        "      u'size': u'medium'},\n",
        "     {u'#text': u'http://userserve-ak.last.fm/serve/126/71997588.png',\n",
        "      u'size': u'large'},\n",
        "     {u'#text': u'http://userserve-ak.last.fm/serve/300x300/71997588.png',\n",
        "      u'size': u'extralarge'}],\n",
        "    u'match': u'1',\n",
        "    u'mbid': u'2527625b-0752-48f3-95fd-c3f216686db8',\n",
        "    u'name': u'Strong Enough',\n",
        "    u'playcount': u'555617',\n",
        "    u'streamable': {u'#text': u'0', u'fulltrack': u'0'},\n",
        "    u'url': u'http://www.last.fm/music/Cher/_/Strong+Enough'},\n",
        "   {u'artist': {u'mbid': u'bfcc6d75-a6a5-4bc6-8282-47aec8531818',\n",
        "     u'name': u'Cher',\n",
        "     u'url': u'http://www.last.fm/music/Cher'},\n",
        "    u'duration': u'239000',\n",
        "    u'image': [{u'#text': u'http://userserve-ak.last.fm/serve/34s/71997588.png',\n",
        "      u'size': u'small'},\n",
        "     {u'#text': u'http://userserve-ak.last.fm/serve/64s/71997588.png',\n",
        "      u'size': u'medium'},\n",
        "     {u'#text': u'http://userserve-ak.last.fm/serve/126/71997588.png',\n",
        "      u'size': u'large'},\n",
        "     {u'#text': u'http://userserve-ak.last.fm/serve/300x300/71997588.png',\n",
        "      u'size': u'extralarge'}],\n",
        "    u'match': u'0.87856',\n",
        "    u'mbid': u'a88735e6-b35c-4379-8ef7-bbd2b793ccf4',\n",
        "    u'name': u'All or Nothing',\n",
        "    u'playcount': u'236522',\n",
        "    u'streamable': {u'#text': u'0', u'fulltrack': u'0'},\n",
        "    u'url': u'http://www.last.fm/music/Cher/_/All+or+Nothing'},\n",
        "   {u'artist': {u'mbid': u'2fddb92d-24b2-46a5-bf28-3aed46f4684c',\n",
        "     u'name': u'Kylie Minogue',\n",
        "     u'url': u'http://www.last.fm/music/Kylie+Minogue'},\n",
        "    u'duration': u'239000',\n",
        "    u'image': [{u'#text': u'http://userserve-ak.last.fm/serve/34s/80337607.png',\n",
        "      u'size': u'small'},\n",
        "     {u'#text': u'http://userserve-ak.last.fm/serve/64s/80337607.png',\n",
        "      u'size': u'medium'},\n",
        "     {u'#text': u'http://userserve-ak.last.fm/serve/126/80337607.png',\n",
        "      u'size': u'large'},\n",
        "     {u'#text': u'http://userserve-ak.last.fm/serve/300x300/80337607.png',\n",
        "      u'size': u'extralarge'}],\n",
        "    u'match': u'0.273721',\n",
        "    u'mbid': u'f7048ce4-6368-4087-9204-62d90480f708',\n",
        "    u'name': u\"Can't Get You Out of My Head\",\n",
        "    u'playcount': u'2197786',\n",
        "    u'streamable': {u'#text': u'0', u'fulltrack': u'0'},\n",
        "    u'url': u'http://www.last.fm/music/Kylie+Minogue/_/Can%27t+Get+You+Out+of+My+Head'},\n",
        "   {u'artist': {u'mbid': u'79239441-bfd5-4981-a70c-55c3f15c1287',\n",
        "     u'name': u'Madonna',\n",
        "     u'url': u'http://www.last.fm/music/Madonna'},\n",
        "    u'duration': u'239000',\n",
        "    u'image': [{u'#text': u'http://userserve-ak.last.fm/serve/34s/74051744.png',\n",
        "      u'size': u'small'},\n",
        "     {u'#text': u'http://userserve-ak.last.fm/serve/64s/74051744.png',\n",
        "      u'size': u'medium'},\n",
        "     {u'#text': u'http://userserve-ak.last.fm/serve/126/74051744.png',\n",
        "      u'size': u'large'},\n",
        "     {u'#text': u'http://userserve-ak.last.fm/serve/300x300/74051744.png',\n",
        "      u'size': u'extralarge'}],\n",
        "    u'match': u'0.270927',\n",
        "    u'mbid': u'31a6b752-291c-456f-ade5-f4b85545e6df',\n",
        "    u'name': u'Hung Up',\n",
        "    u'playcount': u'3559828',\n",
        "    u'streamable': {u'#text': u'0', u'fulltrack': u'0'},\n",
        "    u'url': u'http://www.last.fm/music/Madonna/_/Hung+Up'},\n",
        "   {u'artist': {u'mbid': u'79239441-bfd5-4981-a70c-55c3f15c1287',\n",
        "     u'name': u'Madonna',\n",
        "     u'url': u'http://www.last.fm/music/Madonna'},\n",
        "    u'duration': u'239000',\n",
        "    u'image': [{u'#text': u'http://userserve-ak.last.fm/serve/34s/89014729.png',\n",
        "      u'size': u'small'},\n",
        "     {u'#text': u'http://userserve-ak.last.fm/serve/64s/89014729.png',\n",
        "      u'size': u'medium'},\n",
        "     {u'#text': u'http://userserve-ak.last.fm/serve/126/89014729.png',\n",
        "      u'size': u'large'},\n",
        "     {u'#text': u'http://userserve-ak.last.fm/serve/300x300/89014729.png',\n",
        "      u'size': u'extralarge'}],\n",
        "    u'match': u'0.266593',\n",
        "    u'mbid': u'1111fd1f-7868-40a5-9dec-15dcd9b175a3',\n",
        "    u'name': u'Vogue',\n",
        "    u'playcount': u'1891064',\n",
        "    u'streamable': {u'#text': u'0', u'fulltrack': u'0'},\n",
        "    u'url': u'http://www.last.fm/music/Madonna/_/Vogue'},\n",
        "   {u'artist': {u'mbid': u'2fddb92d-24b2-46a5-bf28-3aed46f4684c',\n",
        "     u'name': u'Kylie Minogue',\n",
        "     u'url': u'http://www.last.fm/music/Kylie+Minogue'},\n",
        "    u'duration': u'239000',\n",
        "    u'image': [{u'#text': u'http://userserve-ak.last.fm/serve/34s/85578251.png',\n",
        "      u'size': u'small'},\n",
        "     {u'#text': u'http://userserve-ak.last.fm/serve/64s/85578251.png',\n",
        "      u'size': u'medium'},\n",
        "     {u'#text': u'http://userserve-ak.last.fm/serve/126/85578251.png',\n",
        "      u'size': u'large'},\n",
        "     {u'#text': u'http://userserve-ak.last.fm/serve/300x300/85578251.png',\n",
        "      u'size': u'extralarge'}],\n",
        "    u'match': u'0.239744',\n",
        "    u'mbid': u'4988f79d-2945-471d-b238-79f04949ed34',\n",
        "    u'name': u'Get Outta My Way',\n",
        "    u'playcount': u'2023223',\n",
        "    u'streamable': {u'#text': u'0', u'fulltrack': u'0'},\n",
        "    u'url': u'http://www.last.fm/music/Kylie+Minogue/_/Get+Outta+My+Way'},\n",
        "   {u'artist': {u'mbid': u'3e518707-b079-4334-bb6e-bfde317ce4d3',\n",
        "     u'name': u'Jennifer Lopez',\n",
        "     u'url': u'http://www.last.fm/music/Jennifer+Lopez'},\n",
        "    u'duration': u'239000',\n",
        "    u'image': [{u'#text': u'http://userserve-ak.last.fm/serve/34s/44969241.png',\n",
        "      u'size': u'small'},\n",
        "     {u'#text': u'http://userserve-ak.last.fm/serve/64s/44969241.png',\n",
        "      u'size': u'medium'},\n",
        "     {u'#text': u'http://userserve-ak.last.fm/serve/126/44969241.png',\n",
        "      u'size': u'large'},\n",
        "     {u'#text': u'http://userserve-ak.last.fm/serve/300x300/44969241.png',\n",
        "      u'size': u'extralarge'}],\n",
        "    u'match': u'0.23366',\n",
        "    u'mbid': u'd48db0f4-fab6-4d18-bc1f-aec43772af96',\n",
        "    u'name': u'Waiting for Tonight',\n",
        "    u'playcount': u'828992',\n",
        "    u'streamable': {u'#text': u'0', u'fulltrack': u'0'},\n",
        "    u'url': u'http://www.last.fm/music/Jennifer+Lopez/_/Waiting+for+Tonight'},\n",
        "   {u'artist': {u'mbid': u'650e7db6-b795-4eb5-a702-5ea2fc46c848',\n",
        "     u'name': u'Lady Gaga',\n",
        "     u'url': u'http://www.last.fm/music/Lady+Gaga'},\n",
        "    u'duration': u'239000',\n",
        "    u'image': [{u'#text': u'http://userserve-ak.last.fm/serve/34s/100112931.png',\n",
        "      u'size': u'small'},\n",
        "     {u'#text': u'http://userserve-ak.last.fm/serve/64s/100112931.png',\n",
        "      u'size': u'medium'},\n",
        "     {u'#text': u'http://userserve-ak.last.fm/serve/126/100112931.png',\n",
        "      u'size': u'large'},\n",
        "     {u'#text': u'http://userserve-ak.last.fm/serve/300x300/100112931.png',\n",
        "      u'size': u'extralarge'}],\n",
        "    u'match': u'0.212967',\n",
        "    u'mbid': u'bd59fce3-fdd1-4212-b26f-dbcfedd66c57',\n",
        "    u'name': u'Applause',\n",
        "    u'playcount': u'5145267',\n",
        "    u'streamable': {u'#text': u'0', u'fulltrack': u'0'},\n",
        "    u'url': u'http://www.last.fm/music/Lady+Gaga/_/Applause'},\n",
        "   {u'artist': {u'mbid': u'60530915-9371-4b16-bc31-5c4456317ae0',\n",
        "     u'name': u'Natalie Imbruglia',\n",
        "     u'url': u'http://www.last.fm/music/Natalie+Imbruglia'},\n",
        "    u'duration': u'239000',\n",
        "    u'image': [{u'#text': u'http://userserve-ak.last.fm/serve/34s/72647014.png',\n",
        "      u'size': u'small'},\n",
        "     {u'#text': u'http://userserve-ak.last.fm/serve/64s/72647014.png',\n",
        "      u'size': u'medium'},\n",
        "     {u'#text': u'http://userserve-ak.last.fm/serve/126/72647014.png',\n",
        "      u'size': u'large'},\n",
        "     {u'#text': u'http://userserve-ak.last.fm/serve/300x300/72647014.png',\n",
        "      u'size': u'extralarge'}],\n",
        "    u'match': u'0.211241',\n",
        "    u'mbid': u'5aa0d7aa-a9ed-4063-b978-18e089861d60',\n",
        "    u'name': u'Torn',\n",
        "    u'playcount': u'3468719',\n",
        "    u'streamable': {u'#text': u'0', u'fulltrack': u'0'},\n",
        "    u'url': u'http://www.last.fm/music/Natalie+Imbruglia/_/Torn'},\n",
        "   {u'artist': {u'mbid': u'122d63fc-8671-43e4-9752-34e846d62a9c',\n",
        "     u'name': u'Katy Perry',\n",
        "     u'url': u'http://www.last.fm/music/Katy+Perry'},\n",
        "    u'duration': u'239000',\n",
        "    u'image': [{u'#text': u'http://userserve-ak.last.fm/serve/34s/98230957.png',\n",
        "      u'size': u'small'},\n",
        "     {u'#text': u'http://userserve-ak.last.fm/serve/64s/98230957.png',\n",
        "      u'size': u'medium'},\n",
        "     {u'#text': u'http://userserve-ak.last.fm/serve/126/98230957.png',\n",
        "      u'size': u'large'},\n",
        "     {u'#text': u'http://userserve-ak.last.fm/serve/300x300/98230957.png',\n",
        "      u'size': u'extralarge'}],\n",
        "    u'match': u'0.209849',\n",
        "    u'mbid': u'35143c2f-0484-44e2-bf27-7baa7ca5e135',\n",
        "    u'name': u'Walking on Air',\n",
        "    u'playcount': u'1017098',\n",
        "    u'streamable': {u'#text': u'0', u'fulltrack': u'0'},\n",
        "    u'url': u'http://www.last.fm/music/Katy+Perry/_/Walking+on+Air'}]}}"
       ]
      }
     ],
     "prompt_number": 86
    },
    {
     "cell_type": "code",
     "collapsed": false,
     "input": [
      "len(d_getSimilarTracks_origArtist['similartracks']['track'])"
     ],
     "language": "python",
     "metadata": {},
     "outputs": [
      {
       "metadata": {},
       "output_type": "pyout",
       "prompt_number": 95,
       "text": [
        "10"
       ]
      }
     ],
     "prompt_number": 95
    },
    {
     "cell_type": "code",
     "collapsed": false,
     "input": [
      "d_getSimilarTracks_origArtist['similartracks']['track'][0]['mbid']"
     ],
     "language": "python",
     "metadata": {},
     "outputs": [
      {
       "metadata": {},
       "output_type": "pyout",
       "prompt_number": 97,
       "text": [
        "u'2527625b-0752-48f3-95fd-c3f216686db8'"
       ]
      }
     ],
     "prompt_number": 97
    },
    {
     "cell_type": "code",
     "collapsed": false,
     "input": [
      "l_similartracks_origArtist = d_getSimilarTracks_origArtist['similartracks']['track']\n",
      "for track in l_similartracks_origArtist:\n",
      "\tif ! exists(track['mbid']):\n",
      "\t\tprint \"no mbid\""
     ],
     "language": "python",
     "metadata": {},
     "outputs": [
      {
       "ename": "SyntaxError",
       "evalue": "invalid syntax (<ipython-input-98-cd830cb647bd>, line 3)",
       "output_type": "pyerr",
       "traceback": [
        "\u001b[0;36m  File \u001b[0;32m\"<ipython-input-98-cd830cb647bd>\"\u001b[0;36m, line \u001b[0;32m3\u001b[0m\n\u001b[0;31m    if ! exists(track['mbid']):\u001b[0m\n\u001b[0m       ^\u001b[0m\n\u001b[0;31mSyntaxError\u001b[0m\u001b[0;31m:\u001b[0m invalid syntax\n"
       ]
      }
     ],
     "prompt_number": 98
    },
    {
     "cell_type": "code",
     "collapsed": false,
     "input": [
      "l_similartracks_origArtist = d_getSimilarTracks_origArtist['similartracks']['track']\n",
      "for track in l_similartracks_origArtist:\n",
      "\tif not exists(track['mbid']):\n",
      "\t\tprint \"no mbid\""
     ],
     "language": "python",
     "metadata": {},
     "outputs": [
      {
       "ename": "NameError",
       "evalue": "name 'exists' is not defined",
       "output_type": "pyerr",
       "traceback": [
        "\u001b[0;31m---------------------------------------------------------------------------\u001b[0m\n\u001b[0;31mNameError\u001b[0m                                 Traceback (most recent call last)",
        "\u001b[0;32m<ipython-input-99-691b6dff8df6>\u001b[0m in \u001b[0;36m<module>\u001b[0;34m()\u001b[0m\n\u001b[1;32m      1\u001b[0m \u001b[0ml_similartracks_origArtist\u001b[0m \u001b[0;34m=\u001b[0m \u001b[0md_getSimilarTracks_origArtist\u001b[0m\u001b[0;34m[\u001b[0m\u001b[0;34m'similartracks'\u001b[0m\u001b[0;34m]\u001b[0m\u001b[0;34m[\u001b[0m\u001b[0;34m'track'\u001b[0m\u001b[0;34m]\u001b[0m\u001b[0;34m\u001b[0m\u001b[0m\n\u001b[1;32m      2\u001b[0m \u001b[0;32mfor\u001b[0m \u001b[0mtrack\u001b[0m \u001b[0;32min\u001b[0m \u001b[0ml_similartracks_origArtist\u001b[0m\u001b[0;34m:\u001b[0m\u001b[0;34m\u001b[0m\u001b[0m\n\u001b[0;32m----> 3\u001b[0;31m         \u001b[0;32mif\u001b[0m \u001b[0;32mnot\u001b[0m \u001b[0mexists\u001b[0m\u001b[0;34m(\u001b[0m\u001b[0mtrack\u001b[0m\u001b[0;34m[\u001b[0m\u001b[0;34m'mbid'\u001b[0m\u001b[0;34m]\u001b[0m\u001b[0;34m)\u001b[0m\u001b[0;34m:\u001b[0m\u001b[0;34m\u001b[0m\u001b[0m\n\u001b[0m\u001b[1;32m      4\u001b[0m                 \u001b[0;32mprint\u001b[0m \u001b[0;34m\"no mbid\"\u001b[0m\u001b[0;34m\u001b[0m\u001b[0m\n",
        "\u001b[0;31mNameError\u001b[0m: name 'exists' is not defined"
       ]
      }
     ],
     "prompt_number": 99
    },
    {
     "cell_type": "code",
     "collapsed": false,
     "input": [
      "track"
     ],
     "language": "python",
     "metadata": {},
     "outputs": [
      {
       "metadata": {},
       "output_type": "pyout",
       "prompt_number": 100,
       "text": [
        "{u'artist': {u'mbid': u'bfcc6d75-a6a5-4bc6-8282-47aec8531818',\n",
        "  u'name': u'Cher',\n",
        "  u'url': u'http://www.last.fm/music/Cher'},\n",
        " u'duration': u'239000',\n",
        " u'image': [{u'#text': u'http://userserve-ak.last.fm/serve/34s/71997588.png',\n",
        "   u'size': u'small'},\n",
        "  {u'#text': u'http://userserve-ak.last.fm/serve/64s/71997588.png',\n",
        "   u'size': u'medium'},\n",
        "  {u'#text': u'http://userserve-ak.last.fm/serve/126/71997588.png',\n",
        "   u'size': u'large'},\n",
        "  {u'#text': u'http://userserve-ak.last.fm/serve/300x300/71997588.png',\n",
        "   u'size': u'extralarge'}],\n",
        " u'match': u'1',\n",
        " u'mbid': u'2527625b-0752-48f3-95fd-c3f216686db8',\n",
        " u'name': u'Strong Enough',\n",
        " u'playcount': u'555617',\n",
        " u'streamable': {u'#text': u'0', u'fulltrack': u'0'},\n",
        " u'url': u'http://www.last.fm/music/Cher/_/Strong+Enough'}"
       ]
      }
     ],
     "prompt_number": 100
    },
    {
     "cell_type": "code",
     "collapsed": false,
     "input": [
      "track['mbid']"
     ],
     "language": "python",
     "metadata": {},
     "outputs": [
      {
       "metadata": {},
       "output_type": "pyout",
       "prompt_number": 101,
       "text": [
        "u'2527625b-0752-48f3-95fd-c3f216686db8'"
       ]
      }
     ],
     "prompt_number": 101
    },
    {
     "cell_type": "code",
     "collapsed": false,
     "input": [
      "'mbid' in track"
     ],
     "language": "python",
     "metadata": {},
     "outputs": [
      {
       "metadata": {},
       "output_type": "pyout",
       "prompt_number": 102,
       "text": [
        "True"
       ]
      }
     ],
     "prompt_number": 102
    },
    {
     "cell_type": "code",
     "collapsed": false,
     "input": [
      "#kick out any track where there is no mbid\n",
      "l_similartracks_origArtist = d_getSimilarTracks_origArtist['similartracks']['track']\n",
      "for track in l_similartracks_origArtist:\n",
      "\tif not 'mbid' in track: # if the track does NOT have an mbid\n",
      "\t\tprint \"no mbid\""
     ],
     "language": "python",
     "metadata": {},
     "outputs": [],
     "prompt_number": 103
    },
    {
     "cell_type": "code",
     "collapsed": false,
     "input": [
      "d_getSimilarTracks_origArtist = getSimilarTracks(ORIG_ARTIST_NAME, ORIG_SONG_NAME, API_KEY, mbid=None, autocorrect=None, limit=100)\n",
      "\n",
      "### parse the dictionary of similar tracks\n",
      "\n",
      "#kick out any track where there is no mbid\n",
      "l_similartracks_origArtist = d_getSimilarTracks_origArtist['similartracks']['track']\n",
      "for track in l_similartracks_origArtist:\n",
      "\tif not 'mbid' in track: # if the track does NOT have an mbid\n",
      "\t\tprint \"no mbid\""
     ],
     "language": "python",
     "metadata": {},
     "outputs": [],
     "prompt_number": 104
    },
    {
     "cell_type": "code",
     "collapsed": false,
     "input": [
      "len(l_similartracks_origArtist)"
     ],
     "language": "python",
     "metadata": {},
     "outputs": [
      {
       "metadata": {},
       "output_type": "pyout",
       "prompt_number": 105,
       "text": [
        "100"
       ]
      }
     ],
     "prompt_number": 105
    },
    {
     "cell_type": "code",
     "collapsed": false,
     "input": [
      "for track in l_similartracks_origArtist:\n",
      "\tif not 'mbid' in track: # if the track does NOT have an mbid\n",
      "\t\tprint \"no mbid\"\n",
      "\telse:\n",
      "\t\tprint track['mbid']"
     ],
     "language": "python",
     "metadata": {},
     "outputs": [
      {
       "output_type": "stream",
       "stream": "stdout",
       "text": [
        "2527625b-0752-48f3-95fd-c3f216686db8\n",
        "a88735e6-b35c-4379-8ef7-bbd2b793ccf4\n",
        "f7048ce4-6368-4087-9204-62d90480f708\n",
        "31a6b752-291c-456f-ade5-f4b85545e6df\n",
        "1111fd1f-7868-40a5-9dec-15dcd9b175a3\n",
        "4988f79d-2945-471d-b238-79f04949ed34\n",
        "d48db0f4-fab6-4d18-bc1f-aec43772af96\n",
        "bd59fce3-fdd1-4212-b26f-dbcfedd66c57\n",
        "5aa0d7aa-a9ed-4063-b978-18e089861d60\n",
        "35143c2f-0484-44e2-bf27-7baa7ca5e135\n",
        "080975b0-39b1-493c-ae64-5cb3292409bb\n",
        "7e6e701c-4fdb-4fdb-9b3d-3fd00005cf68\n",
        "17410183-d250-49c9-8be1-04d26fa4c71d\n",
        "030c5163-88d9-4e9f-babb-59aa3d9db620\n",
        "05b95428-108d-4ec9-a8cd-5b6a70c35cda\n",
        "4f90ae6c-e7d3-4778-88d0-aaea79718c3e\n",
        "7d9f69b7-81e7-4b42-ac24-ee58028740c8\n",
        "de9a5376-a45b-4255-8e82-031ce6728e87\n",
        "710f21dc-4237-4459-90fd-b117a71d347f\n",
        "bb9401f9-41b1-4a5d-9b8c-b2ae039c09fe\n",
        "60535489-7d75-4686-a578-a42ca0cd1e49\n",
        "c1fd17a9-2900-4f45-812c-4a90fcc0a61c\n",
        "1408a530-838c-40da-a2f5-94f96a94ca3a\n",
        "\n",
        "44e38b7b-11b1-4ada-82e2-6583c947aa34\n",
        "\n",
        "03659fc1-e2b6-407c-8f90-8854fbfe82c7\n",
        "8b2d135d-2f37-4a1c-8795-35ec075be68f\n",
        "3e5da524-7dc7-44b9-abbb-c1a0cad3a496\n",
        "2a924daa-b652-4296-8e37-c0353fc2c4f6\n",
        "00b0f9ec-6bff-449e-98ea-50ac5129f215\n",
        "3c848550-0f64-4c30-b50a-d750672a2217\n",
        "79ae7638-afcd-4b94-ac52-37eb33aeefc3\n",
        "02dea461-4c05-4568-97b9-213fb2f1001e\n",
        "ba9dbfff-f193-43b8-b1ab-7c5ad426ab14\n",
        "dc0cce76-0cec-4ffd-b02a-791042c87936\n",
        "e5755e48-0a36-4428-a6db-04b5ed100a83\n",
        "363eb084-5711-4615-a169-50fc3a80e296\n",
        "2ea5e2c3-b89c-49df-9173-0c4f36141d1a\n",
        "126e356b-5538-4b17-b599-3d95fedbf349\n",
        "e36f49e9-c215-41f3-8579-3f56481d91a6\n",
        "ced408d9-b686-4aac-89f4-1e778cab0b48\n",
        "31990f0e-a62b-4577-ae31-21af514a5da0\n",
        "ff9782e3-39da-45b0-b6ad-1e6b9dbc083a\n",
        "66e342f1-ca85-4576-807d-8e3857d4f142\n",
        "e787999f-46f5-4d97-9b46-11a3a9b0a2d5\n",
        "b4be7f77-bb4d-46ac-931a-1fe0f8b16a9e\n",
        "7ed638fe-111c-4648-8a9d-eeaa891269ca\n",
        "3a28489d-5c4d-42e3-a2a5-b938dc41f535\n",
        "4fb07e4c-8a52-40e6-9529-bfb0af1e0643\n",
        "a0842b4a-6b42-4a45-b309-48445b58333c\n",
        "0e3906b9-e1e5-4d6d-8f31-975ef3a22724\n",
        "10b9d8d4-2205-47b8-ad51-87bb214cff25\n",
        "559d6bc0-003c-4aea-bb41-33206279b7aa\n",
        "216b0d95-63eb-4b85-b229-386c81d2434c\n",
        "e9750236-774b-460d-bd4d-fdf05b3fc367\n",
        "0d2853b3-2dfc-4739-b5f1-1266b0e7084a\n",
        "\n",
        "8f2334a3-ead8-4a05-91e3-55ed83a13cab\n",
        "fb45caf5-3769-4666-affb-6e4d3a823e64\n",
        "0088e5ea-5540-4685-849e-1e40fa624c8c\n",
        "60f5d7d6-a1fc-4cfc-9dc7-aff012618af6\n",
        "9855f2d9-3720-4052-a3b0-181682666a7f\n",
        "092e42a4-c8f5-4837-9663-8a50405a3896\n",
        "7e742abc-2a23-4f0c-b638-4be8c299bf57\n",
        "071fa60b-652a-4d67-b7e4-58a63a1bbe6f\n",
        "fe872d20-f73b-47f0-9c26-cc080e994582\n",
        "64fb3897-d84d-46cf-8347-045565a67630\n",
        "60fe129c-4409-4069-9262-bb6f2277e299\n",
        "c7677cc2-9d61-4b8e-bfa4-43472f94acd5\n",
        "331a1f4a-025d-4bbf-9239-d29d0f65becb\n",
        "13d21923-f9da-4015-bb75-29839cd2b2a4\n",
        "66402dcb-9bda-41d4-a3ad-a5f6550b9db4\n",
        "120bab80-2c7d-410e-9bc7-8aa3e5e5665f\n",
        "24f0414a-fb48-41ba-a32d-f8a498c6bb59\n",
        "058a23e8-7631-4be7-980d-41133c499939\n",
        "208e92ab-42f0-44b3-8c03-5872944ce891\n",
        "69b29ef5-ac32-4302-a563-95b9ea7f24fa\n",
        "12994b02-ce90-409a-a819-9500d5d2b38e\n",
        "69538706-6845-42ea-88b8-c7e092bc3e3d\n",
        "828cdb5a-353a-404c-b059-cbf61829918a\n",
        "3805b6a9-291c-4315-bca0-0b96c01c7ef7\n",
        "6cd29451-b9fc-43b8-bc40-9b4c7812b8c0\n",
        "6e0eb323-251d-492c-8dd1-10c3b808266c\n",
        "e61ec431-92fa-4119-8ccc-86f228e5d9c4\n",
        "9705d5d9-d6c1-4cbe-bd3e-0c2601b3751a\n",
        "1f0580b7-3bd5-4207-b3b6-c4c269dedcd2\n",
        "b1abca18-f709-42d3-bfc7-b8fe07c583d3\n",
        "873ee083-8268-4cf4-8f04-cd2270c05d4f\n",
        "f62b6ad9-c0b1-42e5-bc8b-83be67d66789\n",
        "434df0b1-3461-4f36-b2b7-c78bb3b02af3\n",
        "91b5754c-2e9c-4b71-8a8d-3b1f51774b7e\n",
        "6a7e4552-ed19-4513-9586-e949c486ec9f\n",
        "15e40966-6cbb-473c-97fc-362de81f95d9\n",
        "59cd7586-f768-4ae1-9bed-c17bce2dea9d\n",
        "032658ec-a0cb-479b-af00-33bdf275b8e6\n",
        "6c4dc807-4073-4b0a-88e1-1cf6cb993413\n",
        "0398acc1-ffdd-40c5-9443-dacae38fc15f\n",
        "01b13dbc-416e-4c71-84e2-cfe2875c296a\n",
        "7e9749da-3c2f-42b3-a285-e66841924a79\n"
       ]
      }
     ],
     "prompt_number": 106
    },
    {
     "cell_type": "code",
     "collapsed": false,
     "input": [
      "for track in l_similartracks_origArtist:\n",
      "\tif not 'mbid' in track: # if the track does NOT have an mbid\n",
      "\t\tprint \"no mbid\"\n",
      "\telif track['mbid'] == None:\n",
      "\t\tprint \"no mbid -- empty field\"\n",
      "\telse:\n",
      "\t\tprint track['mbid']"
     ],
     "language": "python",
     "metadata": {},
     "outputs": [
      {
       "output_type": "stream",
       "stream": "stdout",
       "text": [
        "2527625b-0752-48f3-95fd-c3f216686db8\n",
        "a88735e6-b35c-4379-8ef7-bbd2b793ccf4\n",
        "f7048ce4-6368-4087-9204-62d90480f708\n",
        "31a6b752-291c-456f-ade5-f4b85545e6df\n",
        "1111fd1f-7868-40a5-9dec-15dcd9b175a3\n",
        "4988f79d-2945-471d-b238-79f04949ed34\n",
        "d48db0f4-fab6-4d18-bc1f-aec43772af96\n",
        "bd59fce3-fdd1-4212-b26f-dbcfedd66c57\n",
        "5aa0d7aa-a9ed-4063-b978-18e089861d60\n",
        "35143c2f-0484-44e2-bf27-7baa7ca5e135\n",
        "080975b0-39b1-493c-ae64-5cb3292409bb\n",
        "7e6e701c-4fdb-4fdb-9b3d-3fd00005cf68\n",
        "17410183-d250-49c9-8be1-04d26fa4c71d\n",
        "030c5163-88d9-4e9f-babb-59aa3d9db620\n",
        "05b95428-108d-4ec9-a8cd-5b6a70c35cda\n",
        "4f90ae6c-e7d3-4778-88d0-aaea79718c3e\n",
        "7d9f69b7-81e7-4b42-ac24-ee58028740c8\n",
        "de9a5376-a45b-4255-8e82-031ce6728e87\n",
        "710f21dc-4237-4459-90fd-b117a71d347f\n",
        "bb9401f9-41b1-4a5d-9b8c-b2ae039c09fe\n",
        "60535489-7d75-4686-a578-a42ca0cd1e49\n",
        "c1fd17a9-2900-4f45-812c-4a90fcc0a61c\n",
        "1408a530-838c-40da-a2f5-94f96a94ca3a\n",
        "\n",
        "44e38b7b-11b1-4ada-82e2-6583c947aa34\n",
        "\n",
        "03659fc1-e2b6-407c-8f90-8854fbfe82c7\n",
        "8b2d135d-2f37-4a1c-8795-35ec075be68f\n",
        "3e5da524-7dc7-44b9-abbb-c1a0cad3a496\n",
        "2a924daa-b652-4296-8e37-c0353fc2c4f6\n",
        "00b0f9ec-6bff-449e-98ea-50ac5129f215\n",
        "3c848550-0f64-4c30-b50a-d750672a2217\n",
        "79ae7638-afcd-4b94-ac52-37eb33aeefc3\n",
        "02dea461-4c05-4568-97b9-213fb2f1001e\n",
        "ba9dbfff-f193-43b8-b1ab-7c5ad426ab14\n",
        "dc0cce76-0cec-4ffd-b02a-791042c87936\n",
        "e5755e48-0a36-4428-a6db-04b5ed100a83\n",
        "363eb084-5711-4615-a169-50fc3a80e296\n",
        "2ea5e2c3-b89c-49df-9173-0c4f36141d1a\n",
        "126e356b-5538-4b17-b599-3d95fedbf349\n",
        "e36f49e9-c215-41f3-8579-3f56481d91a6\n",
        "ced408d9-b686-4aac-89f4-1e778cab0b48\n",
        "31990f0e-a62b-4577-ae31-21af514a5da0\n",
        "ff9782e3-39da-45b0-b6ad-1e6b9dbc083a\n",
        "66e342f1-ca85-4576-807d-8e3857d4f142\n",
        "e787999f-46f5-4d97-9b46-11a3a9b0a2d5\n",
        "b4be7f77-bb4d-46ac-931a-1fe0f8b16a9e\n",
        "7ed638fe-111c-4648-8a9d-eeaa891269ca\n",
        "3a28489d-5c4d-42e3-a2a5-b938dc41f535\n",
        "4fb07e4c-8a52-40e6-9529-bfb0af1e0643\n",
        "a0842b4a-6b42-4a45-b309-48445b58333c\n",
        "0e3906b9-e1e5-4d6d-8f31-975ef3a22724\n",
        "10b9d8d4-2205-47b8-ad51-87bb214cff25\n",
        "559d6bc0-003c-4aea-bb41-33206279b7aa\n",
        "216b0d95-63eb-4b85-b229-386c81d2434c\n",
        "e9750236-774b-460d-bd4d-fdf05b3fc367\n",
        "0d2853b3-2dfc-4739-b5f1-1266b0e7084a\n",
        "\n",
        "8f2334a3-ead8-4a05-91e3-55ed83a13cab\n",
        "fb45caf5-3769-4666-affb-6e4d3a823e64\n",
        "0088e5ea-5540-4685-849e-1e40fa624c8c\n",
        "60f5d7d6-a1fc-4cfc-9dc7-aff012618af6\n",
        "9855f2d9-3720-4052-a3b0-181682666a7f\n",
        "092e42a4-c8f5-4837-9663-8a50405a3896\n",
        "7e742abc-2a23-4f0c-b638-4be8c299bf57\n",
        "071fa60b-652a-4d67-b7e4-58a63a1bbe6f\n",
        "fe872d20-f73b-47f0-9c26-cc080e994582\n",
        "64fb3897-d84d-46cf-8347-045565a67630\n",
        "60fe129c-4409-4069-9262-bb6f2277e299\n",
        "c7677cc2-9d61-4b8e-bfa4-43472f94acd5\n",
        "331a1f4a-025d-4bbf-9239-d29d0f65becb\n",
        "13d21923-f9da-4015-bb75-29839cd2b2a4\n",
        "66402dcb-9bda-41d4-a3ad-a5f6550b9db4\n",
        "120bab80-2c7d-410e-9bc7-8aa3e5e5665f\n",
        "24f0414a-fb48-41ba-a32d-f8a498c6bb59\n",
        "058a23e8-7631-4be7-980d-41133c499939\n",
        "208e92ab-42f0-44b3-8c03-5872944ce891\n",
        "69b29ef5-ac32-4302-a563-95b9ea7f24fa\n",
        "12994b02-ce90-409a-a819-9500d5d2b38e\n",
        "69538706-6845-42ea-88b8-c7e092bc3e3d\n",
        "828cdb5a-353a-404c-b059-cbf61829918a\n",
        "3805b6a9-291c-4315-bca0-0b96c01c7ef7\n",
        "6cd29451-b9fc-43b8-bc40-9b4c7812b8c0\n",
        "6e0eb323-251d-492c-8dd1-10c3b808266c\n",
        "e61ec431-92fa-4119-8ccc-86f228e5d9c4\n",
        "9705d5d9-d6c1-4cbe-bd3e-0c2601b3751a\n",
        "1f0580b7-3bd5-4207-b3b6-c4c269dedcd2\n",
        "b1abca18-f709-42d3-bfc7-b8fe07c583d3\n",
        "873ee083-8268-4cf4-8f04-cd2270c05d4f\n",
        "f62b6ad9-c0b1-42e5-bc8b-83be67d66789\n",
        "434df0b1-3461-4f36-b2b7-c78bb3b02af3\n",
        "91b5754c-2e9c-4b71-8a8d-3b1f51774b7e\n",
        "6a7e4552-ed19-4513-9586-e949c486ec9f\n",
        "15e40966-6cbb-473c-97fc-362de81f95d9\n",
        "59cd7586-f768-4ae1-9bed-c17bce2dea9d\n",
        "032658ec-a0cb-479b-af00-33bdf275b8e6\n",
        "6c4dc807-4073-4b0a-88e1-1cf6cb993413\n",
        "0398acc1-ffdd-40c5-9443-dacae38fc15f\n",
        "01b13dbc-416e-4c71-84e2-cfe2875c296a\n",
        "7e9749da-3c2f-42b3-a285-e66841924a79\n"
       ]
      }
     ],
     "prompt_number": 107
    },
    {
     "cell_type": "code",
     "collapsed": false,
     "input": [
      "for track in l_similartracks_origArtist:\n",
      "\tif not 'mbid' in track: # if the track does NOT have an mbid\n",
      "\t\tprint \"no mbid\"\n",
      "\telif track['mbid'] == None:\n",
      "\t\tprint \"no mbid -- None\"\n",
      "\telif track['mbid'] == '':\n",
      "\t\tprint \"no mbid -- empty string\"\n",
      "\telse:\n",
      "\t\tprint track['mbid']"
     ],
     "language": "python",
     "metadata": {},
     "outputs": [
      {
       "output_type": "stream",
       "stream": "stdout",
       "text": [
        "2527625b-0752-48f3-95fd-c3f216686db8\n",
        "a88735e6-b35c-4379-8ef7-bbd2b793ccf4\n",
        "f7048ce4-6368-4087-9204-62d90480f708\n",
        "31a6b752-291c-456f-ade5-f4b85545e6df\n",
        "1111fd1f-7868-40a5-9dec-15dcd9b175a3\n",
        "4988f79d-2945-471d-b238-79f04949ed34\n",
        "d48db0f4-fab6-4d18-bc1f-aec43772af96\n",
        "bd59fce3-fdd1-4212-b26f-dbcfedd66c57\n",
        "5aa0d7aa-a9ed-4063-b978-18e089861d60\n",
        "35143c2f-0484-44e2-bf27-7baa7ca5e135\n",
        "080975b0-39b1-493c-ae64-5cb3292409bb\n",
        "7e6e701c-4fdb-4fdb-9b3d-3fd00005cf68\n",
        "17410183-d250-49c9-8be1-04d26fa4c71d\n",
        "030c5163-88d9-4e9f-babb-59aa3d9db620\n",
        "05b95428-108d-4ec9-a8cd-5b6a70c35cda\n",
        "4f90ae6c-e7d3-4778-88d0-aaea79718c3e\n",
        "7d9f69b7-81e7-4b42-ac24-ee58028740c8\n",
        "de9a5376-a45b-4255-8e82-031ce6728e87\n",
        "710f21dc-4237-4459-90fd-b117a71d347f\n",
        "bb9401f9-41b1-4a5d-9b8c-b2ae039c09fe\n",
        "60535489-7d75-4686-a578-a42ca0cd1e49\n",
        "c1fd17a9-2900-4f45-812c-4a90fcc0a61c\n",
        "1408a530-838c-40da-a2f5-94f96a94ca3a\n",
        "no mbid -- empty string\n",
        "44e38b7b-11b1-4ada-82e2-6583c947aa34\n",
        "no mbid -- empty string\n",
        "03659fc1-e2b6-407c-8f90-8854fbfe82c7\n",
        "8b2d135d-2f37-4a1c-8795-35ec075be68f\n",
        "3e5da524-7dc7-44b9-abbb-c1a0cad3a496\n",
        "2a924daa-b652-4296-8e37-c0353fc2c4f6\n",
        "00b0f9ec-6bff-449e-98ea-50ac5129f215\n",
        "3c848550-0f64-4c30-b50a-d750672a2217\n",
        "79ae7638-afcd-4b94-ac52-37eb33aeefc3\n",
        "02dea461-4c05-4568-97b9-213fb2f1001e\n",
        "ba9dbfff-f193-43b8-b1ab-7c5ad426ab14\n",
        "dc0cce76-0cec-4ffd-b02a-791042c87936\n",
        "e5755e48-0a36-4428-a6db-04b5ed100a83\n",
        "363eb084-5711-4615-a169-50fc3a80e296\n",
        "2ea5e2c3-b89c-49df-9173-0c4f36141d1a\n",
        "126e356b-5538-4b17-b599-3d95fedbf349\n",
        "e36f49e9-c215-41f3-8579-3f56481d91a6\n",
        "ced408d9-b686-4aac-89f4-1e778cab0b48\n",
        "31990f0e-a62b-4577-ae31-21af514a5da0\n",
        "ff9782e3-39da-45b0-b6ad-1e6b9dbc083a\n",
        "66e342f1-ca85-4576-807d-8e3857d4f142\n",
        "e787999f-46f5-4d97-9b46-11a3a9b0a2d5\n",
        "b4be7f77-bb4d-46ac-931a-1fe0f8b16a9e\n",
        "7ed638fe-111c-4648-8a9d-eeaa891269ca\n",
        "3a28489d-5c4d-42e3-a2a5-b938dc41f535\n",
        "4fb07e4c-8a52-40e6-9529-bfb0af1e0643\n",
        "a0842b4a-6b42-4a45-b309-48445b58333c\n",
        "0e3906b9-e1e5-4d6d-8f31-975ef3a22724\n",
        "10b9d8d4-2205-47b8-ad51-87bb214cff25\n",
        "559d6bc0-003c-4aea-bb41-33206279b7aa\n",
        "216b0d95-63eb-4b85-b229-386c81d2434c\n",
        "e9750236-774b-460d-bd4d-fdf05b3fc367\n",
        "0d2853b3-2dfc-4739-b5f1-1266b0e7084a\n",
        "no mbid -- empty string\n",
        "8f2334a3-ead8-4a05-91e3-55ed83a13cab\n",
        "fb45caf5-3769-4666-affb-6e4d3a823e64\n",
        "0088e5ea-5540-4685-849e-1e40fa624c8c\n",
        "60f5d7d6-a1fc-4cfc-9dc7-aff012618af6\n",
        "9855f2d9-3720-4052-a3b0-181682666a7f\n",
        "092e42a4-c8f5-4837-9663-8a50405a3896\n",
        "7e742abc-2a23-4f0c-b638-4be8c299bf57\n",
        "071fa60b-652a-4d67-b7e4-58a63a1bbe6f\n",
        "fe872d20-f73b-47f0-9c26-cc080e994582\n",
        "64fb3897-d84d-46cf-8347-045565a67630\n",
        "60fe129c-4409-4069-9262-bb6f2277e299\n",
        "c7677cc2-9d61-4b8e-bfa4-43472f94acd5\n",
        "331a1f4a-025d-4bbf-9239-d29d0f65becb\n",
        "13d21923-f9da-4015-bb75-29839cd2b2a4\n",
        "66402dcb-9bda-41d4-a3ad-a5f6550b9db4\n",
        "120bab80-2c7d-410e-9bc7-8aa3e5e5665f\n",
        "24f0414a-fb48-41ba-a32d-f8a498c6bb59\n",
        "058a23e8-7631-4be7-980d-41133c499939\n",
        "208e92ab-42f0-44b3-8c03-5872944ce891\n",
        "69b29ef5-ac32-4302-a563-95b9ea7f24fa\n",
        "12994b02-ce90-409a-a819-9500d5d2b38e\n",
        "69538706-6845-42ea-88b8-c7e092bc3e3d\n",
        "828cdb5a-353a-404c-b059-cbf61829918a\n",
        "3805b6a9-291c-4315-bca0-0b96c01c7ef7\n",
        "6cd29451-b9fc-43b8-bc40-9b4c7812b8c0\n",
        "6e0eb323-251d-492c-8dd1-10c3b808266c\n",
        "e61ec431-92fa-4119-8ccc-86f228e5d9c4\n",
        "9705d5d9-d6c1-4cbe-bd3e-0c2601b3751a\n",
        "1f0580b7-3bd5-4207-b3b6-c4c269dedcd2\n",
        "b1abca18-f709-42d3-bfc7-b8fe07c583d3\n",
        "873ee083-8268-4cf4-8f04-cd2270c05d4f\n",
        "f62b6ad9-c0b1-42e5-bc8b-83be67d66789\n",
        "434df0b1-3461-4f36-b2b7-c78bb3b02af3\n",
        "91b5754c-2e9c-4b71-8a8d-3b1f51774b7e\n",
        "6a7e4552-ed19-4513-9586-e949c486ec9f\n",
        "15e40966-6cbb-473c-97fc-362de81f95d9\n",
        "59cd7586-f768-4ae1-9bed-c17bce2dea9d\n",
        "032658ec-a0cb-479b-af00-33bdf275b8e6\n",
        "6c4dc807-4073-4b0a-88e1-1cf6cb993413\n",
        "0398acc1-ffdd-40c5-9443-dacae38fc15f\n",
        "01b13dbc-416e-4c71-84e2-cfe2875c296a\n",
        "7e9749da-3c2f-42b3-a285-e66841924a79\n"
       ]
      }
     ],
     "prompt_number": 108
    },
    {
     "cell_type": "code",
     "collapsed": false,
     "input": [
      "l_index_missing_mbid = []\n",
      "for i in range(len(l_similartracks_origArtist)):\n",
      "\tif not 'mbid' in track: # if the track does NOT have an mbid\n",
      "\t\tprint \"no mbid\"\n",
      "\t\tl_index_missing_mbid.append(i)\n",
      "\telif track['mbid'] == None:\n",
      "\t\tprint \"no mbid -- None\"\n",
      "\t\tl_index_missing_mbid.append(i)\n",
      "\telif track['mbid'] == '':\n",
      "\t\tprint \"no mbid -- empty string\"\n",
      "\t\tl_index_missing_mbid.append(i)"
     ],
     "language": "python",
     "metadata": {},
     "outputs": [],
     "prompt_number": 109
    },
    {
     "cell_type": "code",
     "collapsed": false,
     "input": [
      "l_index_missing_mbid"
     ],
     "language": "python",
     "metadata": {},
     "outputs": [
      {
       "metadata": {},
       "output_type": "pyout",
       "prompt_number": 110,
       "text": [
        "[]"
       ]
      }
     ],
     "prompt_number": 110
    },
    {
     "cell_type": "code",
     "collapsed": false,
     "input": [
      "l_index_missing_mbid = []\n",
      "for i in range(len(l_similartracks_origArtist)):\n",
      "\ttrack = l_similartracks_origArtist[i]\n",
      "\tif not 'mbid' in track: # if the track does NOT have an mbid\n",
      "\t\tprint \"no mbid\"\n",
      "\t\tl_index_missing_mbid.append(i)\n",
      "\telif track['mbid'] == None:\n",
      "\t\tprint \"no mbid -- None\"\n",
      "\t\tl_index_missing_mbid.append(i)\n",
      "\telif track['mbid'] == '':\n",
      "\t\tprint \"no mbid -- empty string\"\n",
      "\t\tl_index_missing_mbid.append(i)\n",
      "\n",
      "del l_similartracks_origArtist[l_index_missing_mbid]"
     ],
     "language": "python",
     "metadata": {},
     "outputs": [
      {
       "output_type": "stream",
       "stream": "stdout",
       "text": [
        "no mbid -- empty string\n",
        "no mbid -- empty string\n",
        "no mbid -- empty string\n"
       ]
      },
      {
       "ename": "TypeError",
       "evalue": "list indices must be integers, not list",
       "output_type": "pyerr",
       "traceback": [
        "\u001b[0;31m---------------------------------------------------------------------------\u001b[0m\n\u001b[0;31mTypeError\u001b[0m                                 Traceback (most recent call last)",
        "\u001b[0;32m<ipython-input-111-92cc4a8bd49d>\u001b[0m in \u001b[0;36m<module>\u001b[0;34m()\u001b[0m\n\u001b[1;32m     12\u001b[0m                 \u001b[0ml_index_missing_mbid\u001b[0m\u001b[0;34m.\u001b[0m\u001b[0mappend\u001b[0m\u001b[0;34m(\u001b[0m\u001b[0mi\u001b[0m\u001b[0;34m)\u001b[0m\u001b[0;34m\u001b[0m\u001b[0m\n\u001b[1;32m     13\u001b[0m \u001b[0;34m\u001b[0m\u001b[0m\n\u001b[0;32m---> 14\u001b[0;31m \u001b[0;32mdel\u001b[0m \u001b[0ml_similartracks_origArtist\u001b[0m\u001b[0;34m[\u001b[0m\u001b[0ml_index_missing_mbid\u001b[0m\u001b[0;34m]\u001b[0m\u001b[0;34m\u001b[0m\u001b[0m\n\u001b[0m",
        "\u001b[0;31mTypeError\u001b[0m: list indices must be integers, not list"
       ]
      }
     ],
     "prompt_number": 111
    },
    {
     "cell_type": "code",
     "collapsed": false,
     "input": [
      "l_similartracks_origArtist"
     ],
     "language": "python",
     "metadata": {},
     "outputs": [
      {
       "metadata": {},
       "output_type": "pyout",
       "prompt_number": 112,
       "text": [
        "[{u'artist': {u'mbid': u'bfcc6d75-a6a5-4bc6-8282-47aec8531818',\n",
        "   u'name': u'Cher',\n",
        "   u'url': u'http://www.last.fm/music/Cher'},\n",
        "  u'duration': u'239000',\n",
        "  u'image': [{u'#text': u'http://userserve-ak.last.fm/serve/34s/71997588.png',\n",
        "    u'size': u'small'},\n",
        "   {u'#text': u'http://userserve-ak.last.fm/serve/64s/71997588.png',\n",
        "    u'size': u'medium'},\n",
        "   {u'#text': u'http://userserve-ak.last.fm/serve/126/71997588.png',\n",
        "    u'size': u'large'},\n",
        "   {u'#text': u'http://userserve-ak.last.fm/serve/300x300/71997588.png',\n",
        "    u'size': u'extralarge'}],\n",
        "  u'match': u'1',\n",
        "  u'mbid': u'2527625b-0752-48f3-95fd-c3f216686db8',\n",
        "  u'name': u'Strong Enough',\n",
        "  u'playcount': u'555617',\n",
        "  u'streamable': {u'#text': u'0', u'fulltrack': u'0'},\n",
        "  u'url': u'http://www.last.fm/music/Cher/_/Strong+Enough'},\n",
        " {u'artist': {u'mbid': u'bfcc6d75-a6a5-4bc6-8282-47aec8531818',\n",
        "   u'name': u'Cher',\n",
        "   u'url': u'http://www.last.fm/music/Cher'},\n",
        "  u'duration': u'239000',\n",
        "  u'image': [{u'#text': u'http://userserve-ak.last.fm/serve/34s/71997588.png',\n",
        "    u'size': u'small'},\n",
        "   {u'#text': u'http://userserve-ak.last.fm/serve/64s/71997588.png',\n",
        "    u'size': u'medium'},\n",
        "   {u'#text': u'http://userserve-ak.last.fm/serve/126/71997588.png',\n",
        "    u'size': u'large'},\n",
        "   {u'#text': u'http://userserve-ak.last.fm/serve/300x300/71997588.png',\n",
        "    u'size': u'extralarge'}],\n",
        "  u'match': u'0.87856',\n",
        "  u'mbid': u'a88735e6-b35c-4379-8ef7-bbd2b793ccf4',\n",
        "  u'name': u'All or Nothing',\n",
        "  u'playcount': u'236522',\n",
        "  u'streamable': {u'#text': u'0', u'fulltrack': u'0'},\n",
        "  u'url': u'http://www.last.fm/music/Cher/_/All+or+Nothing'},\n",
        " {u'artist': {u'mbid': u'2fddb92d-24b2-46a5-bf28-3aed46f4684c',\n",
        "   u'name': u'Kylie Minogue',\n",
        "   u'url': u'http://www.last.fm/music/Kylie+Minogue'},\n",
        "  u'duration': u'239000',\n",
        "  u'image': [{u'#text': u'http://userserve-ak.last.fm/serve/34s/80337607.png',\n",
        "    u'size': u'small'},\n",
        "   {u'#text': u'http://userserve-ak.last.fm/serve/64s/80337607.png',\n",
        "    u'size': u'medium'},\n",
        "   {u'#text': u'http://userserve-ak.last.fm/serve/126/80337607.png',\n",
        "    u'size': u'large'},\n",
        "   {u'#text': u'http://userserve-ak.last.fm/serve/300x300/80337607.png',\n",
        "    u'size': u'extralarge'}],\n",
        "  u'match': u'0.273721',\n",
        "  u'mbid': u'f7048ce4-6368-4087-9204-62d90480f708',\n",
        "  u'name': u\"Can't Get You Out of My Head\",\n",
        "  u'playcount': u'2197786',\n",
        "  u'streamable': {u'#text': u'0', u'fulltrack': u'0'},\n",
        "  u'url': u'http://www.last.fm/music/Kylie+Minogue/_/Can%27t+Get+You+Out+of+My+Head'},\n",
        " {u'artist': {u'mbid': u'79239441-bfd5-4981-a70c-55c3f15c1287',\n",
        "   u'name': u'Madonna',\n",
        "   u'url': u'http://www.last.fm/music/Madonna'},\n",
        "  u'duration': u'239000',\n",
        "  u'image': [{u'#text': u'http://userserve-ak.last.fm/serve/34s/74051744.png',\n",
        "    u'size': u'small'},\n",
        "   {u'#text': u'http://userserve-ak.last.fm/serve/64s/74051744.png',\n",
        "    u'size': u'medium'},\n",
        "   {u'#text': u'http://userserve-ak.last.fm/serve/126/74051744.png',\n",
        "    u'size': u'large'},\n",
        "   {u'#text': u'http://userserve-ak.last.fm/serve/300x300/74051744.png',\n",
        "    u'size': u'extralarge'}],\n",
        "  u'match': u'0.270927',\n",
        "  u'mbid': u'31a6b752-291c-456f-ade5-f4b85545e6df',\n",
        "  u'name': u'Hung Up',\n",
        "  u'playcount': u'3559828',\n",
        "  u'streamable': {u'#text': u'0', u'fulltrack': u'0'},\n",
        "  u'url': u'http://www.last.fm/music/Madonna/_/Hung+Up'},\n",
        " {u'artist': {u'mbid': u'79239441-bfd5-4981-a70c-55c3f15c1287',\n",
        "   u'name': u'Madonna',\n",
        "   u'url': u'http://www.last.fm/music/Madonna'},\n",
        "  u'duration': u'239000',\n",
        "  u'image': [{u'#text': u'http://userserve-ak.last.fm/serve/34s/89014729.png',\n",
        "    u'size': u'small'},\n",
        "   {u'#text': u'http://userserve-ak.last.fm/serve/64s/89014729.png',\n",
        "    u'size': u'medium'},\n",
        "   {u'#text': u'http://userserve-ak.last.fm/serve/126/89014729.png',\n",
        "    u'size': u'large'},\n",
        "   {u'#text': u'http://userserve-ak.last.fm/serve/300x300/89014729.png',\n",
        "    u'size': u'extralarge'}],\n",
        "  u'match': u'0.266593',\n",
        "  u'mbid': u'1111fd1f-7868-40a5-9dec-15dcd9b175a3',\n",
        "  u'name': u'Vogue',\n",
        "  u'playcount': u'1891064',\n",
        "  u'streamable': {u'#text': u'0', u'fulltrack': u'0'},\n",
        "  u'url': u'http://www.last.fm/music/Madonna/_/Vogue'},\n",
        " {u'artist': {u'mbid': u'2fddb92d-24b2-46a5-bf28-3aed46f4684c',\n",
        "   u'name': u'Kylie Minogue',\n",
        "   u'url': u'http://www.last.fm/music/Kylie+Minogue'},\n",
        "  u'duration': u'239000',\n",
        "  u'image': [{u'#text': u'http://userserve-ak.last.fm/serve/34s/85578251.png',\n",
        "    u'size': u'small'},\n",
        "   {u'#text': u'http://userserve-ak.last.fm/serve/64s/85578251.png',\n",
        "    u'size': u'medium'},\n",
        "   {u'#text': u'http://userserve-ak.last.fm/serve/126/85578251.png',\n",
        "    u'size': u'large'},\n",
        "   {u'#text': u'http://userserve-ak.last.fm/serve/300x300/85578251.png',\n",
        "    u'size': u'extralarge'}],\n",
        "  u'match': u'0.239744',\n",
        "  u'mbid': u'4988f79d-2945-471d-b238-79f04949ed34',\n",
        "  u'name': u'Get Outta My Way',\n",
        "  u'playcount': u'2023223',\n",
        "  u'streamable': {u'#text': u'0', u'fulltrack': u'0'},\n",
        "  u'url': u'http://www.last.fm/music/Kylie+Minogue/_/Get+Outta+My+Way'},\n",
        " {u'artist': {u'mbid': u'3e518707-b079-4334-bb6e-bfde317ce4d3',\n",
        "   u'name': u'Jennifer Lopez',\n",
        "   u'url': u'http://www.last.fm/music/Jennifer+Lopez'},\n",
        "  u'duration': u'239000',\n",
        "  u'image': [{u'#text': u'http://userserve-ak.last.fm/serve/34s/44969241.png',\n",
        "    u'size': u'small'},\n",
        "   {u'#text': u'http://userserve-ak.last.fm/serve/64s/44969241.png',\n",
        "    u'size': u'medium'},\n",
        "   {u'#text': u'http://userserve-ak.last.fm/serve/126/44969241.png',\n",
        "    u'size': u'large'},\n",
        "   {u'#text': u'http://userserve-ak.last.fm/serve/300x300/44969241.png',\n",
        "    u'size': u'extralarge'}],\n",
        "  u'match': u'0.23366',\n",
        "  u'mbid': u'd48db0f4-fab6-4d18-bc1f-aec43772af96',\n",
        "  u'name': u'Waiting for Tonight',\n",
        "  u'playcount': u'828992',\n",
        "  u'streamable': {u'#text': u'0', u'fulltrack': u'0'},\n",
        "  u'url': u'http://www.last.fm/music/Jennifer+Lopez/_/Waiting+for+Tonight'},\n",
        " {u'artist': {u'mbid': u'650e7db6-b795-4eb5-a702-5ea2fc46c848',\n",
        "   u'name': u'Lady Gaga',\n",
        "   u'url': u'http://www.last.fm/music/Lady+Gaga'},\n",
        "  u'duration': u'239000',\n",
        "  u'image': [{u'#text': u'http://userserve-ak.last.fm/serve/34s/100112931.png',\n",
        "    u'size': u'small'},\n",
        "   {u'#text': u'http://userserve-ak.last.fm/serve/64s/100112931.png',\n",
        "    u'size': u'medium'},\n",
        "   {u'#text': u'http://userserve-ak.last.fm/serve/126/100112931.png',\n",
        "    u'size': u'large'},\n",
        "   {u'#text': u'http://userserve-ak.last.fm/serve/300x300/100112931.png',\n",
        "    u'size': u'extralarge'}],\n",
        "  u'match': u'0.212967',\n",
        "  u'mbid': u'bd59fce3-fdd1-4212-b26f-dbcfedd66c57',\n",
        "  u'name': u'Applause',\n",
        "  u'playcount': u'5145267',\n",
        "  u'streamable': {u'#text': u'0', u'fulltrack': u'0'},\n",
        "  u'url': u'http://www.last.fm/music/Lady+Gaga/_/Applause'},\n",
        " {u'artist': {u'mbid': u'60530915-9371-4b16-bc31-5c4456317ae0',\n",
        "   u'name': u'Natalie Imbruglia',\n",
        "   u'url': u'http://www.last.fm/music/Natalie+Imbruglia'},\n",
        "  u'duration': u'239000',\n",
        "  u'image': [{u'#text': u'http://userserve-ak.last.fm/serve/34s/72647014.png',\n",
        "    u'size': u'small'},\n",
        "   {u'#text': u'http://userserve-ak.last.fm/serve/64s/72647014.png',\n",
        "    u'size': u'medium'},\n",
        "   {u'#text': u'http://userserve-ak.last.fm/serve/126/72647014.png',\n",
        "    u'size': u'large'},\n",
        "   {u'#text': u'http://userserve-ak.last.fm/serve/300x300/72647014.png',\n",
        "    u'size': u'extralarge'}],\n",
        "  u'match': u'0.211241',\n",
        "  u'mbid': u'5aa0d7aa-a9ed-4063-b978-18e089861d60',\n",
        "  u'name': u'Torn',\n",
        "  u'playcount': u'3468719',\n",
        "  u'streamable': {u'#text': u'0', u'fulltrack': u'0'},\n",
        "  u'url': u'http://www.last.fm/music/Natalie+Imbruglia/_/Torn'},\n",
        " {u'artist': {u'mbid': u'122d63fc-8671-43e4-9752-34e846d62a9c',\n",
        "   u'name': u'Katy Perry',\n",
        "   u'url': u'http://www.last.fm/music/Katy+Perry'},\n",
        "  u'duration': u'239000',\n",
        "  u'image': [{u'#text': u'http://userserve-ak.last.fm/serve/34s/98230957.png',\n",
        "    u'size': u'small'},\n",
        "   {u'#text': u'http://userserve-ak.last.fm/serve/64s/98230957.png',\n",
        "    u'size': u'medium'},\n",
        "   {u'#text': u'http://userserve-ak.last.fm/serve/126/98230957.png',\n",
        "    u'size': u'large'},\n",
        "   {u'#text': u'http://userserve-ak.last.fm/serve/300x300/98230957.png',\n",
        "    u'size': u'extralarge'}],\n",
        "  u'match': u'0.209849',\n",
        "  u'mbid': u'35143c2f-0484-44e2-bf27-7baa7ca5e135',\n",
        "  u'name': u'Walking on Air',\n",
        "  u'playcount': u'1017098',\n",
        "  u'streamable': {u'#text': u'0', u'fulltrack': u'0'},\n",
        "  u'url': u'http://www.last.fm/music/Katy+Perry/_/Walking+on+Air'},\n",
        " {u'artist': {u'mbid': u'650e7db6-b795-4eb5-a702-5ea2fc46c848',\n",
        "   u'name': u'Lady Gaga',\n",
        "   u'url': u'http://www.last.fm/music/Lady+Gaga'},\n",
        "  u'duration': u'239000',\n",
        "  u'image': [{u'#text': u'http://userserve-ak.last.fm/serve/34s/95368471.png',\n",
        "    u'size': u'small'},\n",
        "   {u'#text': u'http://userserve-ak.last.fm/serve/64s/95368471.png',\n",
        "    u'size': u'medium'},\n",
        "   {u'#text': u'http://userserve-ak.last.fm/serve/126/95368471.png',\n",
        "    u'size': u'large'},\n",
        "   {u'#text': u'http://userserve-ak.last.fm/serve/300x300/95368471.png',\n",
        "    u'size': u'extralarge'}],\n",
        "  u'match': u'0.207984',\n",
        "  u'mbid': u'080975b0-39b1-493c-ae64-5cb3292409bb',\n",
        "  u'name': u'Poker Face',\n",
        "  u'playcount': u'12027515',\n",
        "  u'streamable': {u'#text': u'0', u'fulltrack': u'0'},\n",
        "  u'url': u'http://www.last.fm/music/Lady+Gaga/_/Poker+Face'},\n",
        " {u'artist': {u'mbid': u'5dce9408-9f39-450f-8146-8a60e88251f9',\n",
        "   u'name': u'Aqua',\n",
        "   u'url': u'http://www.last.fm/music/Aqua'},\n",
        "  u'duration': u'239000',\n",
        "  u'image': [{u'#text': u'http://userserve-ak.last.fm/serve/34s/92874747.png',\n",
        "    u'size': u'small'},\n",
        "   {u'#text': u'http://userserve-ak.last.fm/serve/64s/92874747.png',\n",
        "    u'size': u'medium'},\n",
        "   {u'#text': u'http://userserve-ak.last.fm/serve/126/92874747.png',\n",
        "    u'size': u'large'},\n",
        "   {u'#text': u'http://userserve-ak.last.fm/serve/300x300/92874747.png',\n",
        "    u'size': u'extralarge'}],\n",
        "  u'match': u'0.204113',\n",
        "  u'mbid': u'7e6e701c-4fdb-4fdb-9b3d-3fd00005cf68',\n",
        "  u'name': u'Barbie Girl',\n",
        "  u'playcount': u'1406345',\n",
        "  u'streamable': {u'#text': u'0', u'fulltrack': u'0'},\n",
        "  u'url': u'http://www.last.fm/music/Aqua/_/Barbie+Girl'},\n",
        " {u'artist': {u'mbid': u'b202beb7-99bd-47e7-8b72-195c8d72ebdd',\n",
        "   u'name': u'Christina Aguilera',\n",
        "   u'url': u'http://www.last.fm/music/Christina+Aguilera'},\n",
        "  u'duration': u'239000',\n",
        "  u'image': [{u'#text': u'http://userserve-ak.last.fm/serve/34s/94551291.png',\n",
        "    u'size': u'small'},\n",
        "   {u'#text': u'http://userserve-ak.last.fm/serve/64s/94551291.png',\n",
        "    u'size': u'medium'},\n",
        "   {u'#text': u'http://userserve-ak.last.fm/serve/126/94551291.png',\n",
        "    u'size': u'large'},\n",
        "   {u'#text': u'http://userserve-ak.last.fm/serve/300x300/94551291.png',\n",
        "    u'size': u'extralarge'}],\n",
        "  u'match': u'0.20277',\n",
        "  u'mbid': u'17410183-d250-49c9-8be1-04d26fa4c71d',\n",
        "  u'name': u'Let There Be Love',\n",
        "  u'playcount': u'1044810',\n",
        "  u'streamable': {u'#text': u'0', u'fulltrack': u'0'},\n",
        "  u'url': u'http://www.last.fm/music/Christina+Aguilera/_/Let+There+Be+Love'},\n",
        " {u'artist': {u'mbid': u'2f4f5d16-7102-4110-97fd-f5c365d6bb26',\n",
        "   u'name': u'Britney Spears',\n",
        "   u'url': u'http://www.last.fm/music/Britney+Spears'},\n",
        "  u'duration': u'239000',\n",
        "  u'image': [{u'#text': u'http://userserve-ak.last.fm/serve/34s/83238203.png',\n",
        "    u'size': u'small'},\n",
        "   {u'#text': u'http://userserve-ak.last.fm/serve/64s/83238203.png',\n",
        "    u'size': u'medium'},\n",
        "   {u'#text': u'http://userserve-ak.last.fm/serve/126/83238203.png',\n",
        "    u'size': u'large'},\n",
        "   {u'#text': u'http://userserve-ak.last.fm/serve/300x300/83238203.png',\n",
        "    u'size': u'extralarge'}],\n",
        "  u'match': u'0.183812',\n",
        "  u'mbid': u'030c5163-88d9-4e9f-babb-59aa3d9db620',\n",
        "  u'name': u'...Baby One More Time',\n",
        "  u'playcount': u'2435149',\n",
        "  u'streamable': {u'#text': u'0', u'fulltrack': u'0'},\n",
        "  u'url': u'http://www.last.fm/music/Britney+Spears/_/...Baby+One+More+Time'},\n",
        " {u'artist': {u'mbid': u'2f4f5d16-7102-4110-97fd-f5c365d6bb26',\n",
        "   u'name': u'Britney Spears',\n",
        "   u'url': u'http://www.last.fm/music/Britney+Spears'},\n",
        "  u'duration': u'239000',\n",
        "  u'image': [{u'#text': u'http://userserve-ak.last.fm/serve/34s/83238203.png',\n",
        "    u'size': u'small'},\n",
        "   {u'#text': u'http://userserve-ak.last.fm/serve/64s/83238203.png',\n",
        "    u'size': u'medium'},\n",
        "   {u'#text': u'http://userserve-ak.last.fm/serve/126/83238203.png',\n",
        "    u'size': u'large'},\n",
        "   {u'#text': u'http://userserve-ak.last.fm/serve/300x300/83238203.png',\n",
        "    u'size': u'extralarge'}],\n",
        "  u'match': u'0.18232',\n",
        "  u'mbid': u'05b95428-108d-4ec9-a8cd-5b6a70c35cda',\n",
        "  u'name': u'Toxic',\n",
        "  u'playcount': u'4622047',\n",
        "  u'streamable': {u'#text': u'0', u'fulltrack': u'0'},\n",
        "  u'url': u'http://www.last.fm/music/Britney+Spears/_/Toxic'},\n",
        " {u'artist': {u'mbid': u'bf0caafc-2b20-4e07-ab85-87e14ff430ce',\n",
        "   u'name': u'Spice Girls',\n",
        "   u'url': u'http://www.last.fm/music/Spice+Girls'},\n",
        "  u'duration': u'239000',\n",
        "  u'image': [{u'#text': u'http://userserve-ak.last.fm/serve/34s/82707231.jpg',\n",
        "    u'size': u'small'},\n",
        "   {u'#text': u'http://userserve-ak.last.fm/serve/64s/82707231.jpg',\n",
        "    u'size': u'medium'},\n",
        "   {u'#text': u'http://userserve-ak.last.fm/serve/126/82707231.jpg',\n",
        "    u'size': u'large'},\n",
        "   {u'#text': u'http://userserve-ak.last.fm/serve/300x300/82707231.jpg',\n",
        "    u'size': u'extralarge'}],\n",
        "  u'match': u'0.181841',\n",
        "  u'mbid': u'4f90ae6c-e7d3-4778-88d0-aaea79718c3e',\n",
        "  u'name': u'Wannabe',\n",
        "  u'playcount': u'1655311',\n",
        "  u'streamable': {u'#text': u'0', u'fulltrack': u'0'},\n",
        "  u'url': u'http://www.last.fm/music/Spice+Girls/_/Wannabe'},\n",
        " {u'artist': {u'mbid': u'b202beb7-99bd-47e7-8b72-195c8d72ebdd',\n",
        "   u'name': u'Christina Aguilera',\n",
        "   u'url': u'http://www.last.fm/music/Christina+Aguilera'},\n",
        "  u'duration': u'239000',\n",
        "  u'image': [{u'#text': u'http://userserve-ak.last.fm/serve/34s/62785023.png',\n",
        "    u'size': u'small'},\n",
        "   {u'#text': u'http://userserve-ak.last.fm/serve/64s/62785023.png',\n",
        "    u'size': u'medium'},\n",
        "   {u'#text': u'http://userserve-ak.last.fm/serve/126/62785023.png',\n",
        "    u'size': u'large'},\n",
        "   {u'#text': u'http://userserve-ak.last.fm/serve/300x300/62785023.png',\n",
        "    u'size': u'extralarge'}],\n",
        "  u'match': u'0.179123',\n",
        "  u'mbid': u'7d9f69b7-81e7-4b42-ac24-ee58028740c8',\n",
        "  u'name': u'Not Myself Tonight',\n",
        "  u'playcount': u'3543876',\n",
        "  u'streamable': {u'#text': u'0', u'fulltrack': u'0'},\n",
        "  u'url': u'http://www.last.fm/music/Christina+Aguilera/_/Not+Myself+Tonight'},\n",
        " {u'artist': {u'mbid': u'bf0caafc-2b20-4e07-ab85-87e14ff430ce',\n",
        "   u'name': u'Spice Girls',\n",
        "   u'url': u'http://www.last.fm/music/Spice+Girls'},\n",
        "  u'duration': u'239000',\n",
        "  u'image': [{u'#text': u'http://userserve-ak.last.fm/serve/34s/47356025.png',\n",
        "    u'size': u'small'},\n",
        "   {u'#text': u'http://userserve-ak.last.fm/serve/64s/47356025.png',\n",
        "    u'size': u'medium'},\n",
        "   {u'#text': u'http://userserve-ak.last.fm/serve/126/47356025.png',\n",
        "    u'size': u'large'},\n",
        "   {u'#text': u'http://userserve-ak.last.fm/serve/300x300/47356025.png',\n",
        "    u'size': u'extralarge'}],\n",
        "  u'match': u'0.17003',\n",
        "  u'mbid': u'de9a5376-a45b-4255-8e82-031ce6728e87',\n",
        "  u'name': u\"Say You'll Be There\",\n",
        "  u'playcount': u'607098',\n",
        "  u'streamable': {u'#text': u'0', u'fulltrack': u'0'},\n",
        "  u'url': u'http://www.last.fm/music/Spice+Girls/_/Say+You%27ll+Be+There'},\n",
        " {u'artist': {u'mbid': u'd4a1404d-e00c-4bac-b3ba-e3557f6468d6',\n",
        "   u'name': u'Ace of Base',\n",
        "   u'url': u'http://www.last.fm/music/Ace+of+Base'},\n",
        "  u'duration': u'239000',\n",
        "  u'image': [{u'#text': u'http://userserve-ak.last.fm/serve/34s/79146289.png',\n",
        "    u'size': u'small'},\n",
        "   {u'#text': u'http://userserve-ak.last.fm/serve/64s/79146289.png',\n",
        "    u'size': u'medium'},\n",
        "   {u'#text': u'http://userserve-ak.last.fm/serve/126/79146289.png',\n",
        "    u'size': u'large'},\n",
        "   {u'#text': u'http://userserve-ak.last.fm/serve/300x300/79146289.png',\n",
        "    u'size': u'extralarge'}],\n",
        "  u'match': u'0.168271',\n",
        "  u'mbid': u'710f21dc-4237-4459-90fd-b117a71d347f',\n",
        "  u'name': u'All That She Wants',\n",
        "  u'playcount': u'1676337',\n",
        "  u'streamable': {u'#text': u'0', u'fulltrack': u'0'},\n",
        "  u'url': u'http://www.last.fm/music/Ace+of+Base/_/All+That+She+Wants'},\n",
        " {u'artist': {u'mbid': u'3e518707-b079-4334-bb6e-bfde317ce4d3',\n",
        "   u'name': u'Jennifer Lopez',\n",
        "   u'url': u'http://www.last.fm/music/Jennifer+Lopez'},\n",
        "  u'duration': u'239000',\n",
        "  u'image': [{u'#text': u'http://userserve-ak.last.fm/serve/34s/44969241.png',\n",
        "    u'size': u'small'},\n",
        "   {u'#text': u'http://userserve-ak.last.fm/serve/64s/44969241.png',\n",
        "    u'size': u'medium'},\n",
        "   {u'#text': u'http://userserve-ak.last.fm/serve/126/44969241.png',\n",
        "    u'size': u'large'},\n",
        "   {u'#text': u'http://userserve-ak.last.fm/serve/300x300/44969241.png',\n",
        "    u'size': u'extralarge'}],\n",
        "  u'match': u'0.166199',\n",
        "  u'mbid': u'bb9401f9-41b1-4a5d-9b8c-b2ae039c09fe',\n",
        "  u'name': u'If You Had My Love',\n",
        "  u'playcount': u'854774',\n",
        "  u'streamable': {u'#text': u'0', u'fulltrack': u'0'},\n",
        "  u'url': u'http://www.last.fm/music/Jennifer+Lopez/_/If+You+Had+My+Love'},\n",
        " {u'artist': {u'mbid': u'd4a1404d-e00c-4bac-b3ba-e3557f6468d6',\n",
        "   u'name': u'Ace of Base',\n",
        "   u'url': u'http://www.last.fm/music/Ace+of+Base'},\n",
        "  u'duration': u'239000',\n",
        "  u'image': [{u'#text': u'http://userserve-ak.last.fm/serve/34s/40729473.png',\n",
        "    u'size': u'small'},\n",
        "   {u'#text': u'http://userserve-ak.last.fm/serve/64s/40729473.png',\n",
        "    u'size': u'medium'},\n",
        "   {u'#text': u'http://userserve-ak.last.fm/serve/126/40729473.png',\n",
        "    u'size': u'large'},\n",
        "   {u'#text': u'http://userserve-ak.last.fm/serve/300x300/40729473.png',\n",
        "    u'size': u'extralarge'}],\n",
        "  u'match': u'0.161353',\n",
        "  u'mbid': u'60535489-7d75-4686-a578-a42ca0cd1e49',\n",
        "  u'name': u'The Sign',\n",
        "  u'playcount': u'1086275',\n",
        "  u'streamable': {u'#text': u'0', u'fulltrack': u'0'},\n",
        "  u'url': u'http://www.last.fm/music/Ace+of+Base/_/The+Sign'},\n",
        " {u'artist': {u'mbid': u'69989475-2971-49aa-8c53-5d74af88b8be',\n",
        "   u'name': u'Rihanna',\n",
        "   u'url': u'http://www.last.fm/music/Rihanna'},\n",
        "  u'duration': u'239000',\n",
        "  u'image': [{u'#text': u'http://userserve-ak.last.fm/serve/34s/88146101.png',\n",
        "    u'size': u'small'},\n",
        "   {u'#text': u'http://userserve-ak.last.fm/serve/64s/88146101.png',\n",
        "    u'size': u'medium'},\n",
        "   {u'#text': u'http://userserve-ak.last.fm/serve/126/88146101.png',\n",
        "    u'size': u'large'},\n",
        "   {u'#text': u'http://userserve-ak.last.fm/serve/300x300/88146101.png',\n",
        "    u'size': u'extralarge'}],\n",
        "  u'match': u'0.16064',\n",
        "  u'mbid': u'c1fd17a9-2900-4f45-812c-4a90fcc0a61c',\n",
        "  u'name': u'Only Girl (In the World)',\n",
        "  u'playcount': u'5597424',\n",
        "  u'streamable': {u'#text': u'0', u'fulltrack': u'0'},\n",
        "  u'url': u'http://www.last.fm/music/Rihanna/_/Only+Girl+(In+the+World)'},\n",
        " {u'artist': {u'mbid': u'7bd9e20e-74b9-446a-a2ed-a223f82a36e7',\n",
        "   u'name': u'Cyndi Lauper',\n",
        "   u'url': u'http://www.last.fm/music/Cyndi+Lauper'},\n",
        "  u'duration': u'239000',\n",
        "  u'image': [{u'#text': u'http://userserve-ak.last.fm/serve/34s/86893581.png',\n",
        "    u'size': u'small'},\n",
        "   {u'#text': u'http://userserve-ak.last.fm/serve/64s/86893581.png',\n",
        "    u'size': u'medium'},\n",
        "   {u'#text': u'http://userserve-ak.last.fm/serve/126/86893581.png',\n",
        "    u'size': u'large'},\n",
        "   {u'#text': u'http://userserve-ak.last.fm/serve/300x300/86893581.png',\n",
        "    u'size': u'extralarge'}],\n",
        "  u'match': u'0.157981',\n",
        "  u'mbid': u'1408a530-838c-40da-a2f5-94f96a94ca3a',\n",
        "  u'name': u'Time After Time',\n",
        "  u'playcount': u'2402547',\n",
        "  u'streamable': {u'#text': u'0', u'fulltrack': u'0'},\n",
        "  u'url': u'http://www.last.fm/music/Cyndi+Lauper/_/Time+After+Time'},\n",
        " {u'artist': {u'mbid': u'c5f259d0-abd8-418e-81ee-3965fd4e4e9a',\n",
        "   u'name': u'Icona Pop',\n",
        "   u'url': u'http://www.last.fm/music/Icona+Pop'},\n",
        "  u'duration': u'239000',\n",
        "  u'match': u'0.155039',\n",
        "  u'mbid': u'',\n",
        "  u'name': u'I Love It (feat. Charli XCX)',\n",
        "  u'playcount': u'3296425',\n",
        "  u'streamable': {u'#text': u'0', u'fulltrack': u'0'},\n",
        "  u'url': u'http://www.last.fm/music/Icona+Pop/_/I+Love+It+(feat.+Charli+XCX)'},\n",
        " {u'artist': {u'mbid': u'83e6822d-668b-4d2c-b136-84130afac0dc',\n",
        "   u'name': u'Sophie Ellis-Bextor',\n",
        "   u'url': u'http://www.last.fm/music/Sophie+Ellis-Bextor'},\n",
        "  u'duration': u'239000',\n",
        "  u'image': [{u'#text': u'http://userserve-ak.last.fm/serve/34s/71980984.png',\n",
        "    u'size': u'small'},\n",
        "   {u'#text': u'http://userserve-ak.last.fm/serve/64s/71980984.png',\n",
        "    u'size': u'medium'},\n",
        "   {u'#text': u'http://userserve-ak.last.fm/serve/126/71980984.png',\n",
        "    u'size': u'large'},\n",
        "   {u'#text': u'http://userserve-ak.last.fm/serve/300x300/71980984.png',\n",
        "    u'size': u'extralarge'}],\n",
        "  u'match': u'0.153947',\n",
        "  u'mbid': u'44e38b7b-11b1-4ada-82e2-6583c947aa34',\n",
        "  u'name': u'Murder on the Dancefloor',\n",
        "  u'playcount': u'1269334',\n",
        "  u'streamable': {u'#text': u'0', u'fulltrack': u'0'},\n",
        "  u'url': u'http://www.last.fm/music/Sophie+Ellis-Bextor/_/Murder+on+the+Dancefloor'},\n",
        " {u'artist': {u'mbid': u'69989475-2971-49aa-8c53-5d74af88b8be',\n",
        "   u'name': u'Rihanna',\n",
        "   u'url': u'http://www.last.fm/music/Rihanna'},\n",
        "  u'duration': u'239000',\n",
        "  u'image': [{u'#text': u'http://userserve-ak.last.fm/serve/34s/88376087.png',\n",
        "    u'size': u'small'},\n",
        "   {u'#text': u'http://userserve-ak.last.fm/serve/64s/88376087.png',\n",
        "    u'size': u'medium'},\n",
        "   {u'#text': u'http://userserve-ak.last.fm/serve/126/88376087.png',\n",
        "    u'size': u'large'},\n",
        "   {u'#text': u'http://userserve-ak.last.fm/serve/300x300/88376087.png',\n",
        "    u'size': u'extralarge'}],\n",
        "  u'match': u'0.151339',\n",
        "  u'mbid': u'',\n",
        "  u'name': u'We Found Love (feat. Calvin Harris)',\n",
        "  u'playcount': u'6504552',\n",
        "  u'streamable': {u'#text': u'0', u'fulltrack': u'0'},\n",
        "  u'url': u'http://www.last.fm/music/Rihanna/_/We+Found+Love+(feat.+Calvin+Harris)'},\n",
        " {u'artist': {u'mbid': u'6be2828f-6c0d-4059-99d4-fa18acf1a296',\n",
        "   u'name': u'Janet Jackson',\n",
        "   u'url': u'http://www.last.fm/music/Janet+Jackson'},\n",
        "  u'duration': u'239000',\n",
        "  u'image': [{u'#text': u'http://userserve-ak.last.fm/serve/34s/97902951.png',\n",
        "    u'size': u'small'},\n",
        "   {u'#text': u'http://userserve-ak.last.fm/serve/64s/97902951.png',\n",
        "    u'size': u'medium'},\n",
        "   {u'#text': u'http://userserve-ak.last.fm/serve/126/97902951.png',\n",
        "    u'size': u'large'},\n",
        "   {u'#text': u'http://userserve-ak.last.fm/serve/300x300/97902951.png',\n",
        "    u'size': u'extralarge'}],\n",
        "  u'match': u'0.150904',\n",
        "  u'mbid': u'03659fc1-e2b6-407c-8f90-8854fbfe82c7',\n",
        "  u'name': u'Together Again',\n",
        "  u'playcount': u'566685',\n",
        "  u'streamable': {u'#text': u'0', u'fulltrack': u'0'},\n",
        "  u'url': u'http://www.last.fm/music/Janet+Jackson/_/Together+Again'},\n",
        " {u'artist': {u'mbid': u'122d63fc-8671-43e4-9752-34e846d62a9c',\n",
        "   u'name': u'Katy Perry',\n",
        "   u'url': u'http://www.last.fm/music/Katy+Perry'},\n",
        "  u'duration': u'239000',\n",
        "  u'image': [{u'#text': u'http://userserve-ak.last.fm/serve/34s/98230957.png',\n",
        "    u'size': u'small'},\n",
        "   {u'#text': u'http://userserve-ak.last.fm/serve/64s/98230957.png',\n",
        "    u'size': u'medium'},\n",
        "   {u'#text': u'http://userserve-ak.last.fm/serve/126/98230957.png',\n",
        "    u'size': u'large'},\n",
        "   {u'#text': u'http://userserve-ak.last.fm/serve/300x300/98230957.png',\n",
        "    u'size': u'extralarge'}],\n",
        "  u'match': u'0.148664',\n",
        "  u'mbid': u'8b2d135d-2f37-4a1c-8795-35ec075be68f',\n",
        "  u'name': u'Birthday',\n",
        "  u'playcount': u'1058843',\n",
        "  u'streamable': {u'#text': u'0', u'fulltrack': u'0'},\n",
        "  u'url': u'http://www.last.fm/music/Katy+Perry/_/Birthday'},\n",
        " {u'artist': {u'mbid': u'd24fb461-dee8-41fc-bb15-2f13bb2644a6',\n",
        "   u'name': u'Jessie J',\n",
        "   u'url': u'http://www.last.fm/music/Jessie+J'},\n",
        "  u'duration': u'239000',\n",
        "  u'image': [{u'#text': u'http://userserve-ak.last.fm/serve/34s/59989281.png',\n",
        "    u'size': u'small'},\n",
        "   {u'#text': u'http://userserve-ak.last.fm/serve/64s/59989281.png',\n",
        "    u'size': u'medium'},\n",
        "   {u'#text': u'http://userserve-ak.last.fm/serve/126/59989281.png',\n",
        "    u'size': u'large'},\n",
        "   {u'#text': u'http://userserve-ak.last.fm/serve/300x300/59989281.png',\n",
        "    u'size': u'extralarge'}],\n",
        "  u'match': u'0.145549',\n",
        "  u'mbid': u'3e5da524-7dc7-44b9-abbb-c1a0cad3a496',\n",
        "  u'name': u'Domino',\n",
        "  u'playcount': u'2305766',\n",
        "  u'streamable': {u'#text': u'0', u'fulltrack': u'0'},\n",
        "  u'url': u'http://www.last.fm/music/Jessie+J/_/Domino'},\n",
        " {u'artist': {u'mbid': u'd20c9b30-d59e-4426-b804-82a0e54dbe14',\n",
        "   u'name': u'Ke$ha',\n",
        "   u'url': u'http://www.last.fm/music/Ke$ha'},\n",
        "  u'duration': u'239000',\n",
        "  u'image': [{u'#text': u'http://userserve-ak.last.fm/serve/34s/82291883.png',\n",
        "    u'size': u'small'},\n",
        "   {u'#text': u'http://userserve-ak.last.fm/serve/64s/82291883.png',\n",
        "    u'size': u'medium'},\n",
        "   {u'#text': u'http://userserve-ak.last.fm/serve/126/82291883.png',\n",
        "    u'size': u'large'},\n",
        "   {u'#text': u'http://userserve-ak.last.fm/serve/300x300/82291883.png',\n",
        "    u'size': u'extralarge'}],\n",
        "  u'match': u'0.145304',\n",
        "  u'mbid': u'2a924daa-b652-4296-8e37-c0353fc2c4f6',\n",
        "  u'name': u'Die Young',\n",
        "  u'playcount': u'2907178',\n",
        "  u'streamable': {u'#text': u'0', u'fulltrack': u'0'},\n",
        "  u'url': u'http://www.last.fm/music/Ke$ha/_/Die+Young'},\n",
        " {u'artist': {u'mbid': u'2e41ae9c-afd2-4f20-8f1e-17281ce9b472',\n",
        "   u'name': u'Gwen Stefani',\n",
        "   u'url': u'http://www.last.fm/music/Gwen+Stefani'},\n",
        "  u'duration': u'239000',\n",
        "  u'image': [{u'#text': u'http://userserve-ak.last.fm/serve/34s/92961231.png',\n",
        "    u'size': u'small'},\n",
        "   {u'#text': u'http://userserve-ak.last.fm/serve/64s/92961231.png',\n",
        "    u'size': u'medium'},\n",
        "   {u'#text': u'http://userserve-ak.last.fm/serve/126/92961231.png',\n",
        "    u'size': u'large'},\n",
        "   {u'#text': u'http://userserve-ak.last.fm/serve/300x300/92961231.png',\n",
        "    u'size': u'extralarge'}],\n",
        "  u'match': u'0.143534',\n",
        "  u'mbid': u'00b0f9ec-6bff-449e-98ea-50ac5129f215',\n",
        "  u'name': u'What You Waiting For?',\n",
        "  u'playcount': u'1760556',\n",
        "  u'streamable': {u'#text': u'0', u'fulltrack': u'0'},\n",
        "  u'url': u'http://www.last.fm/music/Gwen+Stefani/_/What+You+Waiting+For%3F'},\n",
        " {u'artist': {u'mbid': u'd20c9b30-d59e-4426-b804-82a0e54dbe14',\n",
        "   u'name': u'Ke$ha',\n",
        "   u'url': u'http://www.last.fm/music/Ke$ha'},\n",
        "  u'duration': u'239000',\n",
        "  u'image': [{u'#text': u'http://userserve-ak.last.fm/serve/34s/98408283.png',\n",
        "    u'size': u'small'},\n",
        "   {u'#text': u'http://userserve-ak.last.fm/serve/64s/98408283.png',\n",
        "    u'size': u'medium'},\n",
        "   {u'#text': u'http://userserve-ak.last.fm/serve/126/98408283.png',\n",
        "    u'size': u'large'},\n",
        "   {u'#text': u'http://userserve-ak.last.fm/serve/300x300/98408283.png',\n",
        "    u'size': u'extralarge'}],\n",
        "  u'match': u'0.143186',\n",
        "  u'mbid': u'3c848550-0f64-4c30-b50a-d750672a2217',\n",
        "  u'name': u'Your Love Is My Drug',\n",
        "  u'playcount': u'3864405',\n",
        "  u'streamable': {u'#text': u'0', u'fulltrack': u'0'},\n",
        "  u'url': u'http://www.last.fm/music/Ke$ha/_/Your+Love+Is+My+Drug'},\n",
        " {u'artist': {u'mbid': u'5a8e07d5-d932-4484-a7f7-e700793a9c94',\n",
        "   u'name': u'Robyn',\n",
        "   u'url': u'http://www.last.fm/music/Robyn'},\n",
        "  u'duration': u'239000',\n",
        "  u'image': [{u'#text': u'http://userserve-ak.last.fm/serve/34s/55183065.png',\n",
        "    u'size': u'small'},\n",
        "   {u'#text': u'http://userserve-ak.last.fm/serve/64s/55183065.png',\n",
        "    u'size': u'medium'},\n",
        "   {u'#text': u'http://userserve-ak.last.fm/serve/126/55183065.png',\n",
        "    u'size': u'large'},\n",
        "   {u'#text': u'http://userserve-ak.last.fm/serve/300x300/55183065.png',\n",
        "    u'size': u'extralarge'}],\n",
        "  u'match': u'0.142928',\n",
        "  u'mbid': u'79ae7638-afcd-4b94-ac52-37eb33aeefc3',\n",
        "  u'name': u'Dancing on My Own',\n",
        "  u'playcount': u'2751726',\n",
        "  u'streamable': {u'#text': u'0', u'fulltrack': u'0'},\n",
        "  u'url': u'http://www.last.fm/music/Robyn/_/Dancing+on+My+Own'},\n",
        " {u'artist': {u'mbid': u'70ea63ea-70dc-4b63-951a-2c249d2b3b0a',\n",
        "   u'name': u'Ricky Martin',\n",
        "   u'url': u'http://www.last.fm/music/Ricky+Martin'},\n",
        "  u'duration': u'239000',\n",
        "  u'image': [{u'#text': u'http://userserve-ak.last.fm/serve/34s/71937120.png',\n",
        "    u'size': u'small'},\n",
        "   {u'#text': u'http://userserve-ak.last.fm/serve/64s/71937120.png',\n",
        "    u'size': u'medium'},\n",
        "   {u'#text': u'http://userserve-ak.last.fm/serve/126/71937120.png',\n",
        "    u'size': u'large'},\n",
        "   {u'#text': u'http://userserve-ak.last.fm/serve/300x300/71937120.png',\n",
        "    u'size': u'extralarge'}],\n",
        "  u'match': u'0.139624',\n",
        "  u'mbid': u'02dea461-4c05-4568-97b9-213fb2f1001e',\n",
        "  u'name': u\"Livin' La Vida Loca\",\n",
        "  u'playcount': u'782359',\n",
        "  u'streamable': {u'#text': u'0', u'fulltrack': u'0'},\n",
        "  u'url': u'http://www.last.fm/music/Ricky+Martin/_/Livin%27+La+Vida+Loca'},\n",
        " {u'artist': {u'mbid': u'23207c32-6743-4982-9f46-e297b2e4eb14',\n",
        "   u'name': u'Geri Halliwell',\n",
        "   u'url': u'http://www.last.fm/music/Geri+Halliwell'},\n",
        "  u'duration': u'239000',\n",
        "  u'image': [{u'#text': u'http://userserve-ak.last.fm/serve/34s/98087067.jpg',\n",
        "    u'size': u'small'},\n",
        "   {u'#text': u'http://userserve-ak.last.fm/serve/64s/98087067.jpg',\n",
        "    u'size': u'medium'},\n",
        "   {u'#text': u'http://userserve-ak.last.fm/serve/126/98087067.jpg',\n",
        "    u'size': u'large'},\n",
        "   {u'#text': u'http://userserve-ak.last.fm/serve/300x300/98087067.jpg',\n",
        "    u'size': u'extralarge'}],\n",
        "  u'match': u'0.139286',\n",
        "  u'mbid': u'ba9dbfff-f193-43b8-b1ab-7c5ad426ab14',\n",
        "  u'name': u\"It's Raining Men\",\n",
        "  u'playcount': u'392013',\n",
        "  u'streamable': {u'#text': u'0', u'fulltrack': u'0'},\n",
        "  u'url': u'http://www.last.fm/music/Geri+Halliwell/_/It%27s+Raining+Men'},\n",
        " {u'artist': {u'mbid': u'2e41ae9c-afd2-4f20-8f1e-17281ce9b472',\n",
        "   u'name': u'Gwen Stefani',\n",
        "   u'url': u'http://www.last.fm/music/Gwen+Stefani'},\n",
        "  u'duration': u'239000',\n",
        "  u'image': [{u'#text': u'http://userserve-ak.last.fm/serve/34s/92961231.png',\n",
        "    u'size': u'small'},\n",
        "   {u'#text': u'http://userserve-ak.last.fm/serve/64s/92961231.png',\n",
        "    u'size': u'medium'},\n",
        "   {u'#text': u'http://userserve-ak.last.fm/serve/126/92961231.png',\n",
        "    u'size': u'large'},\n",
        "   {u'#text': u'http://userserve-ak.last.fm/serve/300x300/92961231.png',\n",
        "    u'size': u'extralarge'}],\n",
        "  u'match': u'0.136613',\n",
        "  u'mbid': u'dc0cce76-0cec-4ffd-b02a-791042c87936',\n",
        "  u'name': u'Cool',\n",
        "  u'playcount': u'2293192',\n",
        "  u'streamable': {u'#text': u'0', u'fulltrack': u'0'},\n",
        "  u'url': u'http://www.last.fm/music/Gwen+Stefani/_/Cool'},\n",
        " {u'artist': {u'mbid': u'1036b808-f58c-4a3e-b461-a2c4492ecf1b',\n",
        "   u'name': u'Nicki Minaj',\n",
        "   u'url': u'http://www.last.fm/music/Nicki+Minaj'},\n",
        "  u'duration': u'239000',\n",
        "  u'image': [{u'#text': u'http://userserve-ak.last.fm/serve/34s/74443516.png',\n",
        "    u'size': u'small'},\n",
        "   {u'#text': u'http://userserve-ak.last.fm/serve/64s/74443516.png',\n",
        "    u'size': u'medium'},\n",
        "   {u'#text': u'http://userserve-ak.last.fm/serve/126/74443516.png',\n",
        "    u'size': u'large'},\n",
        "   {u'#text': u'http://userserve-ak.last.fm/serve/300x300/74443516.png',\n",
        "    u'size': u'extralarge'}],\n",
        "  u'match': u'0.135678',\n",
        "  u'mbid': u'e5755e48-0a36-4428-a6db-04b5ed100a83',\n",
        "  u'name': u'Starships',\n",
        "  u'playcount': u'3646200',\n",
        "  u'streamable': {u'#text': u'0', u'fulltrack': u'0'},\n",
        "  u'url': u'http://www.last.fm/music/Nicki+Minaj/_/Starships'},\n",
        " {u'artist': {u'mbid': u'0307edfc-437c-4b48-8700-80680e66a228',\n",
        "   u'name': u'Whitney Houston',\n",
        "   u'url': u'http://www.last.fm/music/Whitney+Houston'},\n",
        "  u'duration': u'239000',\n",
        "  u'image': [{u'#text': u'http://userserve-ak.last.fm/serve/34s/82830587.png',\n",
        "    u'size': u'small'},\n",
        "   {u'#text': u'http://userserve-ak.last.fm/serve/64s/82830587.png',\n",
        "    u'size': u'medium'},\n",
        "   {u'#text': u'http://userserve-ak.last.fm/serve/126/82830587.png',\n",
        "    u'size': u'large'},\n",
        "   {u'#text': u'http://userserve-ak.last.fm/serve/300x300/82830587.png',\n",
        "    u'size': u'extralarge'}],\n",
        "  u'match': u'0.133825',\n",
        "  u'mbid': u'363eb084-5711-4615-a169-50fc3a80e296',\n",
        "  u'name': u'I Wanna Dance with Somebody (Who Loves Me)',\n",
        "  u'playcount': u'404681',\n",
        "  u'streamable': {u'#text': u'0', u'fulltrack': u'0'},\n",
        "  u'url': u'http://www.last.fm/music/Whitney+Houston/_/I+Wanna+Dance+with+Somebody+(Who+Loves+Me)'},\n",
        " {u'artist': {u'mbid': u'494e8d09-f85b-4543-892f-a5096aed1cd4',\n",
        "   u'name': u'Mariah Carey',\n",
        "   u'url': u'http://www.last.fm/music/Mariah+Carey'},\n",
        "  u'duration': u'239000',\n",
        "  u'image': [{u'#text': u'http://userserve-ak.last.fm/serve/34s/98182487.png',\n",
        "    u'size': u'small'},\n",
        "   {u'#text': u'http://userserve-ak.last.fm/serve/64s/98182487.png',\n",
        "    u'size': u'medium'},\n",
        "   {u'#text': u'http://userserve-ak.last.fm/serve/126/98182487.png',\n",
        "    u'size': u'large'},\n",
        "   {u'#text': u'http://userserve-ak.last.fm/serve/300x300/98182487.png',\n",
        "    u'size': u'extralarge'}],\n",
        "  u'match': u'0.12588',\n",
        "  u'mbid': u'2ea5e2c3-b89c-49df-9173-0c4f36141d1a',\n",
        "  u'name': u'Hero',\n",
        "  u'playcount': u'1055303',\n",
        "  u'streamable': {u'#text': u'0', u'fulltrack': u'0'},\n",
        "  u'url': u'http://www.last.fm/music/Mariah+Carey/_/Hero'},\n",
        " {u'artist': {u'mbid': u'd3b2bec4-b70e-460e-b433-a865ceac2de8',\n",
        "   u'name': u'Anastacia',\n",
        "   u'url': u'http://www.last.fm/music/Anastacia'},\n",
        "  u'duration': u'239000',\n",
        "  u'image': [{u'#text': u'http://userserve-ak.last.fm/serve/34s/83762979.png',\n",
        "    u'size': u'small'},\n",
        "   {u'#text': u'http://userserve-ak.last.fm/serve/64s/83762979.png',\n",
        "    u'size': u'medium'},\n",
        "   {u'#text': u'http://userserve-ak.last.fm/serve/126/83762979.png',\n",
        "    u'size': u'large'},\n",
        "   {u'#text': u'http://userserve-ak.last.fm/serve/300x300/83762979.png',\n",
        "    u'size': u'extralarge'}],\n",
        "  u'match': u'0.125772',\n",
        "  u'mbid': u'126e356b-5538-4b17-b599-3d95fedbf349',\n",
        "  u'name': u'Left Outside Alone',\n",
        "  u'playcount': u'872083',\n",
        "  u'streamable': {u'#text': u'0', u'fulltrack': u'0'},\n",
        "  u'url': u'http://www.last.fm/music/Anastacia/_/Left+Outside+Alone'},\n",
        " {u'artist': {u'mbid': u'726cb350-d775-4e07-b006-898555f24b0d',\n",
        "   u'name': u'Shakira',\n",
        "   u'url': u'http://www.last.fm/music/Shakira'},\n",
        "  u'duration': u'239000',\n",
        "  u'image': [{u'#text': u'http://userserve-ak.last.fm/serve/34s/53035029.png',\n",
        "    u'size': u'small'},\n",
        "   {u'#text': u'http://userserve-ak.last.fm/serve/64s/53035029.png',\n",
        "    u'size': u'medium'},\n",
        "   {u'#text': u'http://userserve-ak.last.fm/serve/126/53035029.png',\n",
        "    u'size': u'large'},\n",
        "   {u'#text': u'http://userserve-ak.last.fm/serve/300x300/53035029.png',\n",
        "    u'size': u'extralarge'}],\n",
        "  u'match': u'0.125358',\n",
        "  u'mbid': u'e36f49e9-c215-41f3-8579-3f56481d91a6',\n",
        "  u'name': u'She Wolf',\n",
        "  u'playcount': u'2943420',\n",
        "  u'streamable': {u'#text': u'0', u'fulltrack': u'0'},\n",
        "  u'url': u'http://www.last.fm/music/Shakira/_/She+Wolf'},\n",
        " {u'artist': {u'mbid': u'494e8d09-f85b-4543-892f-a5096aed1cd4',\n",
        "   u'name': u'Mariah Carey',\n",
        "   u'url': u'http://www.last.fm/music/Mariah+Carey'},\n",
        "  u'duration': u'239000',\n",
        "  u'image': [{u'#text': u'http://userserve-ak.last.fm/serve/34s/98182467.png',\n",
        "    u'size': u'small'},\n",
        "   {u'#text': u'http://userserve-ak.last.fm/serve/64s/98182467.png',\n",
        "    u'size': u'medium'},\n",
        "   {u'#text': u'http://userserve-ak.last.fm/serve/126/98182467.png',\n",
        "    u'size': u'large'},\n",
        "   {u'#text': u'http://userserve-ak.last.fm/serve/300x300/98182467.png',\n",
        "    u'size': u'extralarge'}],\n",
        "  u'match': u'0.125033',\n",
        "  u'mbid': u'ced408d9-b686-4aac-89f4-1e778cab0b48',\n",
        "  u'name': u'Fantasy',\n",
        "  u'playcount': u'795669',\n",
        "  u'streamable': {u'#text': u'0', u'fulltrack': u'0'},\n",
        "  u'url': u'http://www.last.fm/music/Mariah+Carey/_/Fantasy'},\n",
        " {u'artist': {u'mbid': u'e4bc69e2-a064-4f93-ada1-f7f209cc1cc3',\n",
        "   u'name': u'Selena Gomez',\n",
        "   u'url': u'http://www.last.fm/music/Selena+Gomez'},\n",
        "  u'duration': u'239000',\n",
        "  u'image': [{u'#text': u'http://userserve-ak.last.fm/serve/34s/89488221.png',\n",
        "    u'size': u'small'},\n",
        "   {u'#text': u'http://userserve-ak.last.fm/serve/64s/89488221.png',\n",
        "    u'size': u'medium'},\n",
        "   {u'#text': u'http://userserve-ak.last.fm/serve/126/89488221.png',\n",
        "    u'size': u'large'},\n",
        "   {u'#text': u'http://userserve-ak.last.fm/serve/300x300/89488221.png',\n",
        "    u'size': u'extralarge'}],\n",
        "  u'match': u'0.124783',\n",
        "  u'mbid': u'31990f0e-a62b-4577-ae31-21af514a5da0',\n",
        "  u'name': u'Come & Get It',\n",
        "  u'playcount': u'1869314',\n",
        "  u'streamable': {u'#text': u'0', u'fulltrack': u'0'},\n",
        "  u'url': u'http://www.last.fm/music/Selena+Gomez/_/Come+&+Get+It'},\n",
        " {u'artist': {u'mbid': u'15257a48-d9f6-4fd1-b30e-323576b15aca',\n",
        "   u'name': u'RuPaul',\n",
        "   u'url': u'http://www.last.fm/music/RuPaul'},\n",
        "  u'duration': u'239000',\n",
        "  u'image': [{u'#text': u'http://images.amazon.com/images/P/B0000015IY.01._SCMZZZZZZZ_.jpg',\n",
        "    u'size': u'small'},\n",
        "   {u'#text': u'http://images.amazon.com/images/P/B0000015IY.01._SCMZZZZZZZ_.jpg',\n",
        "    u'size': u'medium'},\n",
        "   {u'#text': u'http://images.amazon.com/images/P/B0000015IY.01._SCMZZZZZZZ_.jpg',\n",
        "    u'size': u'large'},\n",
        "   {u'#text': u'http://images.amazon.com/images/P/B0000015IY.01._SCMZZZZZZZ_.jpg',\n",
        "    u'size': u'extralarge'}],\n",
        "  u'match': u'0.124773',\n",
        "  u'mbid': u'ff9782e3-39da-45b0-b6ad-1e6b9dbc083a',\n",
        "  u'name': u'Supermodel (You Better Work)',\n",
        "  u'playcount': u'61368',\n",
        "  u'streamable': {u'#text': u'0', u'fulltrack': u'0'},\n",
        "  u'url': u'http://www.last.fm/music/RuPaul/_/Supermodel+(You+Better+Work)'},\n",
        " {u'artist': {u'mbid': u'5a8e07d5-d932-4484-a7f7-e700793a9c94',\n",
        "   u'name': u'Robyn',\n",
        "   u'url': u'http://www.last.fm/music/Robyn'},\n",
        "  u'duration': u'239000',\n",
        "  u'image': [{u'#text': u'http://userserve-ak.last.fm/serve/34s/54236123.png',\n",
        "    u'size': u'small'},\n",
        "   {u'#text': u'http://userserve-ak.last.fm/serve/64s/54236123.png',\n",
        "    u'size': u'medium'},\n",
        "   {u'#text': u'http://userserve-ak.last.fm/serve/126/54236123.png',\n",
        "    u'size': u'large'},\n",
        "   {u'#text': u'http://userserve-ak.last.fm/serve/300x300/54236123.png',\n",
        "    u'size': u'extralarge'}],\n",
        "  u'match': u'0.123613',\n",
        "  u'mbid': u'66e342f1-ca85-4576-807d-8e3857d4f142',\n",
        "  u'name': u'Call Your Girlfriend',\n",
        "  u'playcount': u'1558334',\n",
        "  u'streamable': {u'#text': u'0', u'fulltrack': u'0'},\n",
        "  u'url': u'http://www.last.fm/music/Robyn/_/Call+Your+Girlfriend'},\n",
        " {u'artist': {u'mbid': u'13655113-cd16-4b43-9dca-cadbbf26ee05',\n",
        "   u'name': u'Nelly Furtado',\n",
        "   u'url': u'http://www.last.fm/music/Nelly+Furtado'},\n",
        "  u'duration': u'239000',\n",
        "  u'image': [{u'#text': u'http://userserve-ak.last.fm/serve/34s/100174867.png',\n",
        "    u'size': u'small'},\n",
        "   {u'#text': u'http://userserve-ak.last.fm/serve/64s/100174867.png',\n",
        "    u'size': u'medium'},\n",
        "   {u'#text': u'http://userserve-ak.last.fm/serve/126/100174867.png',\n",
        "    u'size': u'large'},\n",
        "   {u'#text': u'http://userserve-ak.last.fm/serve/300x300/100174867.png',\n",
        "    u'size': u'extralarge'}],\n",
        "  u'match': u'0.122928',\n",
        "  u'mbid': u'e787999f-46f5-4d97-9b46-11a3a9b0a2d5',\n",
        "  u'name': u'Say It Right',\n",
        "  u'playcount': u'5087776',\n",
        "  u'streamable': {u'#text': u'0', u'fulltrack': u'0'},\n",
        "  u'url': u'http://www.last.fm/music/Nelly+Furtado/_/Say+It+Right'},\n",
        " {u'artist': {u'mbid': u'a0b2f210-cd3a-453d-937d-e4f2658d17c7',\n",
        "   u'name': u'Girls Aloud',\n",
        "   u'url': u'http://www.last.fm/music/Girls+Aloud'},\n",
        "  u'duration': u'239000',\n",
        "  u'image': [{u'#text': u'http://userserve-ak.last.fm/serve/34s/94710683.png',\n",
        "    u'size': u'small'},\n",
        "   {u'#text': u'http://userserve-ak.last.fm/serve/64s/94710683.png',\n",
        "    u'size': u'medium'},\n",
        "   {u'#text': u'http://userserve-ak.last.fm/serve/126/94710683.png',\n",
        "    u'size': u'large'},\n",
        "   {u'#text': u'http://userserve-ak.last.fm/serve/300x300/94710683.png',\n",
        "    u'size': u'extralarge'}],\n",
        "  u'match': u'0.121956',\n",
        "  u'mbid': u'b4be7f77-bb4d-46ac-931a-1fe0f8b16a9e',\n",
        "  u'name': u'Something New',\n",
        "  u'playcount': u'636328',\n",
        "  u'streamable': {u'#text': u'0', u'fulltrack': u'0'},\n",
        "  u'url': u'http://www.last.fm/music/Girls+Aloud/_/Something+New'},\n",
        " {u'artist': {u'mbid': u'15257a48-d9f6-4fd1-b30e-323576b15aca',\n",
        "   u'name': u'RuPaul',\n",
        "   u'url': u'http://www.last.fm/music/RuPaul'},\n",
        "  u'duration': u'239000',\n",
        "  u'image': [{u'#text': u'http://userserve-ak.last.fm/serve/34s/98227633.png',\n",
        "    u'size': u'small'},\n",
        "   {u'#text': u'http://userserve-ak.last.fm/serve/64s/98227633.png',\n",
        "    u'size': u'medium'},\n",
        "   {u'#text': u'http://userserve-ak.last.fm/serve/126/98227633.png',\n",
        "    u'size': u'large'},\n",
        "   {u'#text': u'http://userserve-ak.last.fm/serve/300x300/98227633.png',\n",
        "    u'size': u'extralarge'}],\n",
        "  u'match': u'0.120636',\n",
        "  u'mbid': u'7ed638fe-111c-4648-8a9d-eeaa891269ca',\n",
        "  u'name': u'Jealous Of My Boogie',\n",
        "  u'playcount': u'119646',\n",
        "  u'streamable': {u'#text': u'0', u'fulltrack': u'0'},\n",
        "  u'url': u'http://www.last.fm/music/RuPaul/_/Jealous+Of+My+Boogie'},\n",
        " {u'artist': {u'mbid': u'4d2956d1-a3f7-44bb-9a41-67563e1a0c94',\n",
        "   u'name': u'Blondie',\n",
        "   u'url': u'http://www.last.fm/music/Blondie'},\n",
        "  u'duration': u'239000',\n",
        "  u'image': [{u'#text': u'http://userserve-ak.last.fm/serve/34s/100726675.png',\n",
        "    u'size': u'small'},\n",
        "   {u'#text': u'http://userserve-ak.last.fm/serve/64s/100726675.png',\n",
        "    u'size': u'medium'},\n",
        "   {u'#text': u'http://userserve-ak.last.fm/serve/126/100726675.png',\n",
        "    u'size': u'large'},\n",
        "   {u'#text': u'http://userserve-ak.last.fm/serve/300x300/100726675.png',\n",
        "    u'size': u'extralarge'}],\n",
        "  u'match': u'0.120365',\n",
        "  u'mbid': u'3a28489d-5c4d-42e3-a2a5-b938dc41f535',\n",
        "  u'name': u'Maria',\n",
        "  u'playcount': u'1315241',\n",
        "  u'streamable': {u'#text': u'0', u'fulltrack': u'0'},\n",
        "  u'url': u'http://www.last.fm/music/Blondie/_/Maria'},\n",
        " {u'artist': {u'mbid': u'726cb350-d775-4e07-b006-898555f24b0d',\n",
        "   u'name': u'Shakira',\n",
        "   u'url': u'http://www.last.fm/music/Shakira'},\n",
        "  u'duration': u'239000',\n",
        "  u'image': [{u'#text': u'http://userserve-ak.last.fm/serve/34s/97145547.png',\n",
        "    u'size': u'small'},\n",
        "   {u'#text': u'http://userserve-ak.last.fm/serve/64s/97145547.png',\n",
        "    u'size': u'medium'},\n",
        "   {u'#text': u'http://userserve-ak.last.fm/serve/126/97145547.png',\n",
        "    u'size': u'large'},\n",
        "   {u'#text': u'http://userserve-ak.last.fm/serve/300x300/97145547.png',\n",
        "    u'size': u'extralarge'}],\n",
        "  u'match': u'0.11968',\n",
        "  u'mbid': u'4fb07e4c-8a52-40e6-9529-bfb0af1e0643',\n",
        "  u'name': u'Empire',\n",
        "  u'playcount': u'474424',\n",
        "  u'streamable': {u'#text': u'0', u'fulltrack': u'0'},\n",
        "  u'url': u'http://www.last.fm/music/Shakira/_/Empire'},\n",
        " {u'artist': {u'mbid': u'0a390d85-5bb7-4161-a615-aad48962aabd',\n",
        "   u'name': u'Nicole Scherzinger',\n",
        "   u'url': u'http://www.last.fm/music/Nicole+Scherzinger'},\n",
        "  u'duration': u'239000',\n",
        "  u'image': [{u'#text': u'http://userserve-ak.last.fm/serve/34s/65762154.jpg',\n",
        "    u'size': u'small'},\n",
        "   {u'#text': u'http://userserve-ak.last.fm/serve/64s/65762154.jpg',\n",
        "    u'size': u'medium'},\n",
        "   {u'#text': u'http://userserve-ak.last.fm/serve/126/65762154.jpg',\n",
        "    u'size': u'large'},\n",
        "   {u'#text': u'http://userserve-ak.last.fm/serve/300x300/65762154.jpg',\n",
        "    u'size': u'extralarge'}],\n",
        "  u'match': u'0.119228',\n",
        "  u'mbid': u'a0842b4a-6b42-4a45-b309-48445b58333c',\n",
        "  u'name': u\"Don't Hold Your Breath\",\n",
        "  u'playcount': u'1190391',\n",
        "  u'streamable': {u'#text': u'0', u'fulltrack': u'0'},\n",
        "  u'url': u'http://www.last.fm/music/Nicole+Scherzinger/_/Don%27t+Hold+Your+Breath'},\n",
        " {u'artist': {u'mbid': u'f6f69dba-4c49-4f1b-a6bc-678c1154f32d',\n",
        "   u'name': u'M People',\n",
        "   u'url': u'http://www.last.fm/music/M+People'},\n",
        "  u'duration': u'239000',\n",
        "  u'image': [{u'#text': u'http://userserve-ak.last.fm/serve/34s/4576293.jpg',\n",
        "    u'size': u'small'},\n",
        "   {u'#text': u'http://userserve-ak.last.fm/serve/64s/4576293.jpg',\n",
        "    u'size': u'medium'},\n",
        "   {u'#text': u'http://userserve-ak.last.fm/serve/126/4576293.jpg',\n",
        "    u'size': u'large'},\n",
        "   {u'#text': u'http://userserve-ak.last.fm/serve/300x300/4576293.jpg',\n",
        "    u'size': u'extralarge'}],\n",
        "  u'match': u'0.117452',\n",
        "  u'mbid': u'0e3906b9-e1e5-4d6d-8f31-975ef3a22724',\n",
        "  u'name': u'Moving on Up',\n",
        "  u'playcount': u'215124',\n",
        "  u'streamable': {u'#text': u'0', u'fulltrack': u'0'},\n",
        "  u'url': u'http://www.last.fm/music/M+People/_/Moving+on+Up'},\n",
        " {u'artist': {u'mbid': u'd3b2bec4-b70e-460e-b433-a865ceac2de8',\n",
        "   u'name': u'Anastacia',\n",
        "   u'url': u'http://www.last.fm/music/Anastacia'},\n",
        "  u'duration': u'239000',\n",
        "  u'image': [{u'#text': u'http://userserve-ak.last.fm/serve/34s/86123697.png',\n",
        "    u'size': u'small'},\n",
        "   {u'#text': u'http://userserve-ak.last.fm/serve/64s/86123697.png',\n",
        "    u'size': u'medium'},\n",
        "   {u'#text': u'http://userserve-ak.last.fm/serve/126/86123697.png',\n",
        "    u'size': u'large'},\n",
        "   {u'#text': u'http://userserve-ak.last.fm/serve/300x300/86123697.png',\n",
        "    u'size': u'extralarge'}],\n",
        "  u'match': u'0.117186',\n",
        "  u'mbid': u'10b9d8d4-2205-47b8-ad51-87bb214cff25',\n",
        "  u'name': u\"I'm Outta Love\",\n",
        "  u'playcount': u'471934',\n",
        "  u'streamable': {u'#text': u'0', u'fulltrack': u'0'},\n",
        "  u'url': u'http://www.last.fm/music/Anastacia/_/I%27m+Outta+Love'},\n",
        " {u'artist': {u'mbid': u'1036b808-f58c-4a3e-b461-a2c4492ecf1b',\n",
        "   u'name': u'Nicki Minaj',\n",
        "   u'url': u'http://www.last.fm/music/Nicki+Minaj'},\n",
        "  u'duration': u'239000',\n",
        "  u'image': [{u'#text': u'http://userserve-ak.last.fm/serve/34s/90395587.png',\n",
        "    u'size': u'small'},\n",
        "   {u'#text': u'http://userserve-ak.last.fm/serve/64s/90395587.png',\n",
        "    u'size': u'medium'},\n",
        "   {u'#text': u'http://userserve-ak.last.fm/serve/126/90395587.png',\n",
        "    u'size': u'large'},\n",
        "   {u'#text': u'http://userserve-ak.last.fm/serve/300x300/90395587.png',\n",
        "    u'size': u'extralarge'}],\n",
        "  u'match': u'0.117037',\n",
        "  u'mbid': u'559d6bc0-003c-4aea-bb41-33206279b7aa',\n",
        "  u'name': u'Va Va Voom',\n",
        "  u'playcount': u'1116829',\n",
        "  u'streamable': {u'#text': u'0', u'fulltrack': u'0'},\n",
        "  u'url': u'http://www.last.fm/music/Nicki+Minaj/_/Va+Va+Voom'},\n",
        " {u'artist': {u'mbid': u'6be2828f-6c0d-4059-99d4-fa18acf1a296',\n",
        "   u'name': u'Janet Jackson',\n",
        "   u'url': u'http://www.last.fm/music/Janet+Jackson'},\n",
        "  u'duration': u'239000',\n",
        "  u'image': [{u'#text': u'http://userserve-ak.last.fm/serve/34s/45239385.png',\n",
        "    u'size': u'small'},\n",
        "   {u'#text': u'http://userserve-ak.last.fm/serve/64s/45239385.png',\n",
        "    u'size': u'medium'},\n",
        "   {u'#text': u'http://userserve-ak.last.fm/serve/126/45239385.png',\n",
        "    u'size': u'large'},\n",
        "   {u'#text': u'http://userserve-ak.last.fm/serve/300x300/45239385.png',\n",
        "    u'size': u'extralarge'}],\n",
        "  u'match': u'0.117022',\n",
        "  u'mbid': u'216b0d95-63eb-4b85-b229-386c81d2434c',\n",
        "  u'name': u'All for You',\n",
        "  u'playcount': u'553562',\n",
        "  u'streamable': {u'#text': u'0', u'fulltrack': u'0'},\n",
        "  u'url': u'http://www.last.fm/music/Janet+Jackson/_/All+for+You'},\n",
        " {u'artist': {u'mbid': u'13655113-cd16-4b43-9dca-cadbbf26ee05',\n",
        "   u'name': u'Nelly Furtado',\n",
        "   u'url': u'http://www.last.fm/music/Nelly+Furtado'},\n",
        "  u'duration': u'239000',\n",
        "  u'image': [{u'#text': u'http://userserve-ak.last.fm/serve/34s/80658667.png',\n",
        "    u'size': u'small'},\n",
        "   {u'#text': u'http://userserve-ak.last.fm/serve/64s/80658667.png',\n",
        "    u'size': u'medium'},\n",
        "   {u'#text': u'http://userserve-ak.last.fm/serve/126/80658667.png',\n",
        "    u'size': u'large'},\n",
        "   {u'#text': u'http://userserve-ak.last.fm/serve/300x300/80658667.png',\n",
        "    u'size': u'extralarge'}],\n",
        "  u'match': u'0.115598',\n",
        "  u'mbid': u'e9750236-774b-460d-bd4d-fdf05b3fc367',\n",
        "  u'name': u\"I'm Like a Bird\",\n",
        "  u'playcount': u'1517329',\n",
        "  u'streamable': {u'#text': u'0', u'fulltrack': u'0'},\n",
        "  u'url': u'http://www.last.fm/music/Nelly+Furtado/_/I%27m+Like+a+Bird'},\n",
        " {u'artist': {u'mbid': u'7bd9e20e-74b9-446a-a2ed-a223f82a36e7',\n",
        "   u'name': u'Cyndi Lauper',\n",
        "   u'url': u'http://www.last.fm/music/Cyndi+Lauper'},\n",
        "  u'duration': u'239000',\n",
        "  u'image': [{u'#text': u'http://userserve-ak.last.fm/serve/34s/78638582.png',\n",
        "    u'size': u'small'},\n",
        "   {u'#text': u'http://userserve-ak.last.fm/serve/64s/78638582.png',\n",
        "    u'size': u'medium'},\n",
        "   {u'#text': u'http://userserve-ak.last.fm/serve/126/78638582.png',\n",
        "    u'size': u'large'},\n",
        "   {u'#text': u'http://userserve-ak.last.fm/serve/300x300/78638582.png',\n",
        "    u'size': u'extralarge'}],\n",
        "  u'match': u'0.115263',\n",
        "  u'mbid': u'0d2853b3-2dfc-4739-b5f1-1266b0e7084a',\n",
        "  u'name': u'True Colors',\n",
        "  u'playcount': u'1091749',\n",
        "  u'streamable': {u'#text': u'0', u'fulltrack': u'0'},\n",
        "  u'url': u'http://www.last.fm/music/Cyndi+Lauper/_/True+Colors'},\n",
        " {u'artist': {u'mbid': u'6043a59f-e948-4421-b86b-2259cfd3926c',\n",
        "   u'name': u'LeAnn Rimes',\n",
        "   u'url': u'http://www.last.fm/music/LeAnn+Rimes'},\n",
        "  u'duration': u'239000',\n",
        "  u'image': [{u'#text': u'http://userserve-ak.last.fm/serve/34s/41950279.png',\n",
        "    u'size': u'small'},\n",
        "   {u'#text': u'http://userserve-ak.last.fm/serve/64s/41950279.png',\n",
        "    u'size': u'medium'},\n",
        "   {u'#text': u'http://userserve-ak.last.fm/serve/126/41950279.png',\n",
        "    u'size': u'large'},\n",
        "   {u'#text': u'http://userserve-ak.last.fm/serve/300x300/41950279.png',\n",
        "    u'size': u'extralarge'}],\n",
        "  u'match': u'0.110602',\n",
        "  u'mbid': u'',\n",
        "  u'name': u\"Can't Fight the Moonlight\",\n",
        "  u'playcount': u'831378',\n",
        "  u'streamable': {u'#text': u'0', u'fulltrack': u'0'},\n",
        "  u'url': u'http://www.last.fm/music/LeAnn+Rimes/_/Can%27t+Fight+the+Moonlight'},\n",
        " {u'artist': {u'mbid': u'0a390d85-5bb7-4161-a615-aad48962aabd',\n",
        "   u'name': u'Nicole Scherzinger',\n",
        "   u'url': u'http://www.last.fm/music/Nicole+Scherzinger'},\n",
        "  u'duration': u'239000',\n",
        "  u'image': [{u'#text': u'http://userserve-ak.last.fm/serve/34s/71123880.png',\n",
        "    u'size': u'small'},\n",
        "   {u'#text': u'http://userserve-ak.last.fm/serve/64s/71123880.png',\n",
        "    u'size': u'medium'},\n",
        "   {u'#text': u'http://userserve-ak.last.fm/serve/126/71123880.png',\n",
        "    u'size': u'large'},\n",
        "   {u'#text': u'http://userserve-ak.last.fm/serve/300x300/71123880.png',\n",
        "    u'size': u'extralarge'}],\n",
        "  u'match': u'0.110501',\n",
        "  u'mbid': u'8f2334a3-ead8-4a05-91e3-55ed83a13cab',\n",
        "  u'name': u'Poison',\n",
        "  u'playcount': u'759747',\n",
        "  u'streamable': {u'#text': u'0', u'fulltrack': u'0'},\n",
        "  u'url': u'http://www.last.fm/music/Nicole+Scherzinger/_/Poison'},\n",
        " {u'artist': {u'mbid': u'0e418756-bc62-40be-9dac-396ff77eaedb',\n",
        "   u'name': u'Cheryl Cole',\n",
        "   u'url': u'http://www.last.fm/music/Cheryl+Cole'},\n",
        "  u'duration': u'239000',\n",
        "  u'image': [{u'#text': u'http://userserve-ak.last.fm/serve/34s/81590731.png',\n",
        "    u'size': u'small'},\n",
        "   {u'#text': u'http://userserve-ak.last.fm/serve/64s/81590731.png',\n",
        "    u'size': u'medium'},\n",
        "   {u'#text': u'http://userserve-ak.last.fm/serve/126/81590731.png',\n",
        "    u'size': u'large'},\n",
        "   {u'#text': u'http://userserve-ak.last.fm/serve/300x300/81590731.png',\n",
        "    u'size': u'extralarge'}],\n",
        "  u'match': u'0.109335',\n",
        "  u'mbid': u'fb45caf5-3769-4666-affb-6e4d3a823e64',\n",
        "  u'name': u'Call My Name',\n",
        "  u'playcount': u'1017648',\n",
        "  u'streamable': {u'#text': u'0', u'fulltrack': u'0'},\n",
        "  u'url': u'http://www.last.fm/music/Cheryl+Cole/_/Call+My+Name'},\n",
        " {u'artist': {u'mbid': u'7e9bd05a-117f-4cce-87bc-e011527a8b18',\n",
        "   u'name': u'Miley Cyrus',\n",
        "   u'url': u'http://www.last.fm/music/Miley+Cyrus'},\n",
        "  u'duration': u'239000',\n",
        "  u'image': [{u'#text': u'http://userserve-ak.last.fm/serve/34s/92702859.png',\n",
        "    u'size': u'small'},\n",
        "   {u'#text': u'http://userserve-ak.last.fm/serve/64s/92702859.png',\n",
        "    u'size': u'medium'},\n",
        "   {u'#text': u'http://userserve-ak.last.fm/serve/126/92702859.png',\n",
        "    u'size': u'large'},\n",
        "   {u'#text': u'http://userserve-ak.last.fm/serve/300x300/92702859.png',\n",
        "    u'size': u'extralarge'}],\n",
        "  u'match': u'0.109077',\n",
        "  u'mbid': u'0088e5ea-5540-4685-849e-1e40fa624c8c',\n",
        "  u'name': u'Someone Else',\n",
        "  u'playcount': u'407844',\n",
        "  u'streamable': {u'#text': u'0', u'fulltrack': u'0'},\n",
        "  u'url': u'http://www.last.fm/music/Miley+Cyrus/_/Someone+Else'},\n",
        " {u'artist': {u'mbid': u'5bd7845b-4c56-44fe-8df3-047b1a26715a',\n",
        "   u'name': u'Laura Branigan',\n",
        "   u'url': u'http://www.last.fm/music/Laura+Branigan'},\n",
        "  u'duration': u'239000',\n",
        "  u'image': [{u'#text': u'http://userserve-ak.last.fm/serve/34s/96120283.png',\n",
        "    u'size': u'small'},\n",
        "   {u'#text': u'http://userserve-ak.last.fm/serve/64s/96120283.png',\n",
        "    u'size': u'medium'},\n",
        "   {u'#text': u'http://userserve-ak.last.fm/serve/126/96120283.png',\n",
        "    u'size': u'large'},\n",
        "   {u'#text': u'http://userserve-ak.last.fm/serve/300x300/96120283.png',\n",
        "    u'size': u'extralarge'}],\n",
        "  u'match': u'0.108466',\n",
        "  u'mbid': u'60f5d7d6-a1fc-4cfc-9dc7-aff012618af6',\n",
        "  u'name': u'Self Control',\n",
        "  u'playcount': u'928298',\n",
        "  u'streamable': {u'#text': u'0', u'fulltrack': u'0'},\n",
        "  u'url': u'http://www.last.fm/music/Laura+Branigan/_/Self+Control'},\n",
        " {u'artist': {u'mbid': u'275d1fca-22e8-46b9-85e6-c3523098a599',\n",
        "   u'name': u'Paula Abdul',\n",
        "   u'url': u'http://www.last.fm/music/Paula+Abdul'},\n",
        "  u'duration': u'239000',\n",
        "  u'image': [{u'#text': u'http://userserve-ak.last.fm/serve/34s/79773479.png',\n",
        "    u'size': u'small'},\n",
        "   {u'#text': u'http://userserve-ak.last.fm/serve/64s/79773479.png',\n",
        "    u'size': u'medium'},\n",
        "   {u'#text': u'http://userserve-ak.last.fm/serve/126/79773479.png',\n",
        "    u'size': u'large'},\n",
        "   {u'#text': u'http://userserve-ak.last.fm/serve/300x300/79773479.png',\n",
        "    u'size': u'extralarge'}],\n",
        "  u'match': u'0.106792',\n",
        "  u'mbid': u'9855f2d9-3720-4052-a3b0-181682666a7f',\n",
        "  u'name': u'Vibeology',\n",
        "  u'playcount': u'40123',\n",
        "  u'streamable': {u'#text': u'0', u'fulltrack': u'0'},\n",
        "  u'url': u'http://www.last.fm/music/Paula+Abdul/_/Vibeology'},\n",
        " {u'artist': {u'mbid': u'04af2581-6692-4f14-a7fe-151a36f20368',\n",
        "   u'name': u'Cascada',\n",
        "   u'url': u'http://www.last.fm/music/Cascada'},\n",
        "  u'duration': u'239000',\n",
        "  u'image': [{u'#text': u'http://userserve-ak.last.fm/serve/34s/57486563.png',\n",
        "    u'size': u'small'},\n",
        "   {u'#text': u'http://userserve-ak.last.fm/serve/64s/57486563.png',\n",
        "    u'size': u'medium'},\n",
        "   {u'#text': u'http://userserve-ak.last.fm/serve/126/57486563.png',\n",
        "    u'size': u'large'},\n",
        "   {u'#text': u'http://userserve-ak.last.fm/serve/300x300/57486563.png',\n",
        "    u'size': u'extralarge'}],\n",
        "  u'match': u'0.106239',\n",
        "  u'mbid': u'092e42a4-c8f5-4837-9663-8a50405a3896',\n",
        "  u'name': u'Everytime We Touch',\n",
        "  u'playcount': u'1817970',\n",
        "  u'streamable': {u'#text': u'0', u'fulltrack': u'0'},\n",
        "  u'url': u'http://www.last.fm/music/Cascada/_/Everytime+We+Touch'},\n",
        " {u'artist': {u'mbid': u'5dce9408-9f39-450f-8146-8a60e88251f9',\n",
        "   u'name': u'Aqua',\n",
        "   u'url': u'http://www.last.fm/music/Aqua'},\n",
        "  u'duration': u'239000',\n",
        "  u'image': [{u'#text': u'http://userserve-ak.last.fm/serve/34s/92874747.png',\n",
        "    u'size': u'small'},\n",
        "   {u'#text': u'http://userserve-ak.last.fm/serve/64s/92874747.png',\n",
        "    u'size': u'medium'},\n",
        "   {u'#text': u'http://userserve-ak.last.fm/serve/126/92874747.png',\n",
        "    u'size': u'large'},\n",
        "   {u'#text': u'http://userserve-ak.last.fm/serve/300x300/92874747.png',\n",
        "    u'size': u'extralarge'}],\n",
        "  u'match': u'0.102492',\n",
        "  u'mbid': u'7e742abc-2a23-4f0c-b638-4be8c299bf57',\n",
        "  u'name': u'Turn Back Time',\n",
        "  u'playcount': u'425355',\n",
        "  u'streamable': {u'#text': u'0', u'fulltrack': u'0'},\n",
        "  u'url': u'http://www.last.fm/music/Aqua/_/Turn+Back+Time'},\n",
        " {u'artist': {u'mbid': u'210769a3-4aca-4199-a2e1-676ef376e078',\n",
        "   u'name': u'Michael Jackson',\n",
        "   u'url': u'http://www.last.fm/music/Michael+Jackson'},\n",
        "  u'duration': u'239000',\n",
        "  u'image': [{u'#text': u'http://userserve-ak.last.fm/serve/34s/30645577.png',\n",
        "    u'size': u'small'},\n",
        "   {u'#text': u'http://userserve-ak.last.fm/serve/64s/30645577.png',\n",
        "    u'size': u'medium'},\n",
        "   {u'#text': u'http://userserve-ak.last.fm/serve/126/30645577.png',\n",
        "    u'size': u'large'},\n",
        "   {u'#text': u'http://userserve-ak.last.fm/serve/300x300/30645577.png',\n",
        "    u'size': u'extralarge'}],\n",
        "  u'match': u'0.101605',\n",
        "  u'mbid': u'071fa60b-652a-4d67-b7e4-58a63a1bbe6f',\n",
        "  u'name': u'Black or White',\n",
        "  u'playcount': u'3076569',\n",
        "  u'streamable': {u'#text': u'0', u'fulltrack': u'0'},\n",
        "  u'url': u'http://www.last.fm/music/Michael+Jackson/_/Black+or+White'},\n",
        " {u'artist': {u'mbid': u'7e9bd05a-117f-4cce-87bc-e011527a8b18',\n",
        "   u'name': u'Miley Cyrus',\n",
        "   u'url': u'http://www.last.fm/music/Miley+Cyrus'},\n",
        "  u'duration': u'239000',\n",
        "  u'image': [{u'#text': u'http://userserve-ak.last.fm/serve/34s/92702859.png',\n",
        "    u'size': u'small'},\n",
        "   {u'#text': u'http://userserve-ak.last.fm/serve/64s/92702859.png',\n",
        "    u'size': u'medium'},\n",
        "   {u'#text': u'http://userserve-ak.last.fm/serve/126/92702859.png',\n",
        "    u'size': u'large'},\n",
        "   {u'#text': u'http://userserve-ak.last.fm/serve/300x300/92702859.png',\n",
        "    u'size': u'extralarge'}],\n",
        "  u'match': u'0.101454',\n",
        "  u'mbid': u'fe872d20-f73b-47f0-9c26-cc080e994582',\n",
        "  u'name': u'#GETITRIGHT',\n",
        "  u'playcount': u'470419',\n",
        "  u'streamable': {u'#text': u'0', u'fulltrack': u'0'},\n",
        "  u'url': u'http://www.last.fm/music/Miley+Cyrus/_/%23GETITRIGHT'},\n",
        " {u'artist': {u'mbid': u'25b509ef-48ad-461b-a0bc-94cdddb8c919',\n",
        "   u'name': u'Melanie C',\n",
        "   u'url': u'http://www.last.fm/music/Melanie+C'},\n",
        "  u'duration': u'239000',\n",
        "  u'image': [{u'#text': u'http://userserve-ak.last.fm/serve/34s/52848625.jpg',\n",
        "    u'size': u'small'},\n",
        "   {u'#text': u'http://userserve-ak.last.fm/serve/64s/52848625.jpg',\n",
        "    u'size': u'medium'},\n",
        "   {u'#text': u'http://userserve-ak.last.fm/serve/126/52848625.jpg',\n",
        "    u'size': u'large'},\n",
        "   {u'#text': u'http://userserve-ak.last.fm/serve/300x300/52848625.jpg',\n",
        "    u'size': u'extralarge'}],\n",
        "  u'match': u'0.10036',\n",
        "  u'mbid': u'64fb3897-d84d-46cf-8347-045565a67630',\n",
        "  u'name': u'I Turn to You',\n",
        "  u'playcount': u'369869',\n",
        "  u'streamable': {u'#text': u'0', u'fulltrack': u'0'},\n",
        "  u'url': u'http://www.last.fm/music/Melanie+C/_/I+Turn+to+You'},\n",
        " {u'artist': {u'mbid': u'1fda852b-92e9-4562-82fa-c52820a77b23',\n",
        "   u'name': u'The Pussycat Dolls',\n",
        "   u'url': u'http://www.last.fm/music/The+Pussycat+Dolls'},\n",
        "  u'duration': u'239000',\n",
        "  u'image': [{u'#text': u'http://userserve-ak.last.fm/serve/34s/94710695.png',\n",
        "    u'size': u'small'},\n",
        "   {u'#text': u'http://userserve-ak.last.fm/serve/64s/94710695.png',\n",
        "    u'size': u'medium'},\n",
        "   {u'#text': u'http://userserve-ak.last.fm/serve/126/94710695.png',\n",
        "    u'size': u'large'},\n",
        "   {u'#text': u'http://userserve-ak.last.fm/serve/300x300/94710695.png',\n",
        "    u'size': u'extralarge'}],\n",
        "  u'match': u'0.0999329',\n",
        "  u'mbid': u'60fe129c-4409-4069-9262-bb6f2277e299',\n",
        "  u'name': u'When I Grow Up',\n",
        "  u'playcount': u'2524903',\n",
        "  u'streamable': {u'#text': u'0', u'fulltrack': u'0'},\n",
        "  u'url': u'http://www.last.fm/music/The+Pussycat+Dolls/_/When+I+Grow+Up'},\n",
        " {u'artist': {u'mbid': u'4cab12f3-af12-4a55-ade2-606bd9524425',\n",
        "   u'name': u'Dannii Minogue',\n",
        "   u'url': u'http://www.last.fm/music/Dannii+Minogue'},\n",
        "  u'duration': u'239000',\n",
        "  u'image': [{u'#text': u'http://userserve-ak.last.fm/serve/34s/96052193.png',\n",
        "    u'size': u'small'},\n",
        "   {u'#text': u'http://userserve-ak.last.fm/serve/64s/96052193.png',\n",
        "    u'size': u'medium'},\n",
        "   {u'#text': u'http://userserve-ak.last.fm/serve/126/96052193.png',\n",
        "    u'size': u'large'},\n",
        "   {u'#text': u'http://userserve-ak.last.fm/serve/300x300/96052193.png',\n",
        "    u'size': u'extralarge'}],\n",
        "  u'match': u'0.0997923',\n",
        "  u'mbid': u'c7677cc2-9d61-4b8e-bfa4-43472f94acd5',\n",
        "  u'name': u'I Begin To Wonder',\n",
        "  u'playcount': u'232671',\n",
        "  u'streamable': {u'#text': u'0', u'fulltrack': u'0'},\n",
        "  u'url': u'http://www.last.fm/music/Dannii+Minogue/_/I+Begin+To+Wonder'},\n",
        " {u'artist': {u'mbid': u'0d9ff9c7-394e-4228-93aa-c4afd4765324',\n",
        "   u'name': u'Paris Hilton',\n",
        "   u'url': u'http://www.last.fm/music/Paris+Hilton'},\n",
        "  u'duration': u'239000',\n",
        "  u'image': [{u'#text': u'http://userserve-ak.last.fm/serve/34s/51011875.png',\n",
        "    u'size': u'small'},\n",
        "   {u'#text': u'http://userserve-ak.last.fm/serve/64s/51011875.png',\n",
        "    u'size': u'medium'},\n",
        "   {u'#text': u'http://userserve-ak.last.fm/serve/126/51011875.png',\n",
        "    u'size': u'large'},\n",
        "   {u'#text': u'http://userserve-ak.last.fm/serve/300x300/51011875.png',\n",
        "    u'size': u'extralarge'}],\n",
        "  u'match': u'0.0996482',\n",
        "  u'mbid': u'331a1f4a-025d-4bbf-9239-d29d0f65becb',\n",
        "  u'name': u'Nothing in This World',\n",
        "  u'playcount': u'1021797',\n",
        "  u'streamable': {u'#text': u'0', u'fulltrack': u'0'},\n",
        "  u'url': u'http://www.last.fm/music/Paris+Hilton/_/Nothing+in+This+World'},\n",
        " {u'artist': {u'mbid': u'a371601f-c184-4683-806d-2eb35e88f0d7',\n",
        "   u'name': u'All Saints',\n",
        "   u'url': u'http://www.last.fm/music/All+Saints'},\n",
        "  u'duration': u'239000',\n",
        "  u'image': [{u'#text': u'http://userserve-ak.last.fm/serve/34s/77234706.png',\n",
        "    u'size': u'small'},\n",
        "   {u'#text': u'http://userserve-ak.last.fm/serve/64s/77234706.png',\n",
        "    u'size': u'medium'},\n",
        "   {u'#text': u'http://userserve-ak.last.fm/serve/126/77234706.png',\n",
        "    u'size': u'large'},\n",
        "   {u'#text': u'http://userserve-ak.last.fm/serve/300x300/77234706.png',\n",
        "    u'size': u'extralarge'}],\n",
        "  u'match': u'0.0995857',\n",
        "  u'mbid': u'13d21923-f9da-4015-bb75-29839cd2b2a4',\n",
        "  u'name': u'Never Ever',\n",
        "  u'playcount': u'690220',\n",
        "  u'streamable': {u'#text': u'0', u'fulltrack': u'0'},\n",
        "  u'url': u'http://www.last.fm/music/All+Saints/_/Never+Ever'},\n",
        " {u'artist': {u'mbid': u'1fda852b-92e9-4562-82fa-c52820a77b23',\n",
        "   u'name': u'The Pussycat Dolls',\n",
        "   u'url': u'http://www.last.fm/music/The+Pussycat+Dolls'},\n",
        "  u'duration': u'239000',\n",
        "  u'image': [{u'#text': u'http://userserve-ak.last.fm/serve/34s/100141745.png',\n",
        "    u'size': u'small'},\n",
        "   {u'#text': u'http://userserve-ak.last.fm/serve/64s/100141745.png',\n",
        "    u'size': u'medium'},\n",
        "   {u'#text': u'http://userserve-ak.last.fm/serve/126/100141745.png',\n",
        "    u'size': u'large'},\n",
        "   {u'#text': u'http://userserve-ak.last.fm/serve/300x300/100141745.png',\n",
        "    u'size': u'extralarge'}],\n",
        "  u'match': u'0.0988711',\n",
        "  u'mbid': u'66402dcb-9bda-41d4-a3ad-a5f6550b9db4',\n",
        "  u'name': u'Buttons',\n",
        "  u'playcount': u'2430391',\n",
        "  u'streamable': {u'#text': u'0', u'fulltrack': u'0'},\n",
        "  u'url': u'http://www.last.fm/music/The+Pussycat+Dolls/_/Buttons'},\n",
        " {u'artist': {u'mbid': u'0307edfc-437c-4b48-8700-80680e66a228',\n",
        "   u'name': u'Whitney Houston',\n",
        "   u'url': u'http://www.last.fm/music/Whitney+Houston'},\n",
        "  u'duration': u'239000',\n",
        "  u'image': [{u'#text': u'http://userserve-ak.last.fm/serve/34s/88084285.png',\n",
        "    u'size': u'small'},\n",
        "   {u'#text': u'http://userserve-ak.last.fm/serve/64s/88084285.png',\n",
        "    u'size': u'medium'},\n",
        "   {u'#text': u'http://userserve-ak.last.fm/serve/126/88084285.png',\n",
        "    u'size': u'large'},\n",
        "   {u'#text': u'http://userserve-ak.last.fm/serve/300x300/88084285.png',\n",
        "    u'size': u'extralarge'}],\n",
        "  u'match': u'0.0960003',\n",
        "  u'mbid': u'120bab80-2c7d-410e-9bc7-8aa3e5e5665f',\n",
        "  u'name': u'I Wanna Dance with Somebody',\n",
        "  u'playcount': u'776105',\n",
        "  u'streamable': {u'#text': u'0', u'fulltrack': u'0'},\n",
        "  u'url': u'http://www.last.fm/music/Whitney+Houston/_/I+Wanna+Dance+with+Somebody'},\n",
        " {u'artist': {u'mbid': u'83e6822d-668b-4d2c-b136-84130afac0dc',\n",
        "   u'name': u'Sophie Ellis-Bextor',\n",
        "   u'url': u'http://www.last.fm/music/Sophie+Ellis-Bextor'},\n",
        "  u'duration': u'239000',\n",
        "  u'image': [{u'#text': u'http://userserve-ak.last.fm/serve/34s/71980984.png',\n",
        "    u'size': u'small'},\n",
        "   {u'#text': u'http://userserve-ak.last.fm/serve/64s/71980984.png',\n",
        "    u'size': u'medium'},\n",
        "   {u'#text': u'http://userserve-ak.last.fm/serve/126/71980984.png',\n",
        "    u'size': u'large'},\n",
        "   {u'#text': u'http://userserve-ak.last.fm/serve/300x300/71980984.png',\n",
        "    u'size': u'extralarge'}],\n",
        "  u'match': u'0.0954165',\n",
        "  u'mbid': u'24f0414a-fb48-41ba-a32d-f8a498c6bb59',\n",
        "  u'name': u'Get Over You',\n",
        "  u'playcount': u'417137',\n",
        "  u'streamable': {u'#text': u'0', u'fulltrack': u'0'},\n",
        "  u'url': u'http://www.last.fm/music/Sophie+Ellis-Bextor/_/Get+Over+You'},\n",
        " {u'artist': {u'mbid': u'16a72d59-8aae-42be-be6b-00229d44621f',\n",
        "   u'name': u'P!nk',\n",
        "   u'url': u'http://www.last.fm/music/P!nk'},\n",
        "  u'duration': u'239000',\n",
        "  u'image': [{u'#text': u'http://userserve-ak.last.fm/serve/34s/83474569.png',\n",
        "    u'size': u'small'},\n",
        "   {u'#text': u'http://userserve-ak.last.fm/serve/64s/83474569.png',\n",
        "    u'size': u'medium'},\n",
        "   {u'#text': u'http://userserve-ak.last.fm/serve/126/83474569.png',\n",
        "    u'size': u'large'},\n",
        "   {u'#text': u'http://userserve-ak.last.fm/serve/300x300/83474569.png',\n",
        "    u'size': u'extralarge'}],\n",
        "  u'match': u'0.0949735',\n",
        "  u'mbid': u'058a23e8-7631-4be7-980d-41133c499939',\n",
        "  u'name': u'Get the Party Started',\n",
        "  u'playcount': u'1329093',\n",
        "  u'streamable': {u'#text': u'0', u'fulltrack': u'0'},\n",
        "  u'url': u'http://www.last.fm/music/P!nk/_/Get+the+Party+Started'},\n",
        " {u'artist': {u'mbid': u'518531b7-cb73-4307-b13e-c716471539a8',\n",
        "   u'name': u'Dido',\n",
        "   u'url': u'http://www.last.fm/music/Dido'},\n",
        "  u'duration': u'239000',\n",
        "  u'image': [{u'#text': u'http://userserve-ak.last.fm/serve/34s/57897315.png',\n",
        "    u'size': u'small'},\n",
        "   {u'#text': u'http://userserve-ak.last.fm/serve/64s/57897315.png',\n",
        "    u'size': u'medium'},\n",
        "   {u'#text': u'http://userserve-ak.last.fm/serve/126/57897315.png',\n",
        "    u'size': u'large'},\n",
        "   {u'#text': u'http://userserve-ak.last.fm/serve/300x300/57897315.png',\n",
        "    u'size': u'extralarge'}],\n",
        "  u'match': u'0.0910676',\n",
        "  u'mbid': u'208e92ab-42f0-44b3-8c03-5872944ce891',\n",
        "  u'name': u'Thank You',\n",
        "  u'playcount': u'2742408',\n",
        "  u'streamable': {u'#text': u'0', u'fulltrack': u'0'},\n",
        "  u'url': u'http://www.last.fm/music/Dido/_/Thank+You'},\n",
        " {u'artist': {u'mbid': u'be540c02-7898-4b79-9acc-c8122c7d9e83',\n",
        "   u'name': u'Pet Shop Boys',\n",
        "   u'url': u'http://www.last.fm/music/Pet+Shop+Boys'},\n",
        "  u'duration': u'239000',\n",
        "  u'image': [{u'#text': u'http://userserve-ak.last.fm/serve/34s/75817364.png',\n",
        "    u'size': u'small'},\n",
        "   {u'#text': u'http://userserve-ak.last.fm/serve/64s/75817364.png',\n",
        "    u'size': u'medium'},\n",
        "   {u'#text': u'http://userserve-ak.last.fm/serve/126/75817364.png',\n",
        "    u'size': u'large'},\n",
        "   {u'#text': u'http://userserve-ak.last.fm/serve/300x300/75817364.png',\n",
        "    u'size': u'extralarge'}],\n",
        "  u'match': u'0.0907138',\n",
        "  u'mbid': u'69b29ef5-ac32-4302-a563-95b9ea7f24fa',\n",
        "  u'name': u'New York City Boy',\n",
        "  u'playcount': u'291648',\n",
        "  u'streamable': {u'#text': u'0', u'fulltrack': u'0'},\n",
        "  u'url': u'http://www.last.fm/music/Pet+Shop+Boys/_/New+York+City+Boy'},\n",
        " {u'artist': {u'mbid': u'35f866dc-c061-48ba-8157-cf2e0eac4857',\n",
        "   u'name': u'Enrique Iglesias',\n",
        "   u'url': u'http://www.last.fm/music/Enrique+Iglesias'},\n",
        "  u'duration': u'239000',\n",
        "  u'image': [{u'#text': u'http://images.amazon.com/images/P/B00003L4CI.01._SCMZZZZZZZ_.jpg',\n",
        "    u'size': u'small'},\n",
        "   {u'#text': u'http://images.amazon.com/images/P/B00003L4CI.01._SCMZZZZZZZ_.jpg',\n",
        "    u'size': u'medium'},\n",
        "   {u'#text': u'http://images.amazon.com/images/P/B00003L4CI.01._SCMZZZZZZZ_.jpg',\n",
        "    u'size': u'large'},\n",
        "   {u'#text': u'http://images.amazon.com/images/P/B00003L4CI.01._SCMZZZZZZZ_.jpg',\n",
        "    u'size': u'extralarge'}],\n",
        "  u'match': u'0.0902005',\n",
        "  u'mbid': u'12994b02-ce90-409a-a819-9500d5d2b38e',\n",
        "  u'name': u'Bailamos',\n",
        "  u'playcount': u'701601',\n",
        "  u'streamable': {u'#text': u'0', u'fulltrack': u'0'},\n",
        "  u'url': u'http://www.last.fm/music/Enrique+Iglesias/_/Bailamos'},\n",
        " {u'artist': {u'mbid': u'bc2ed01e-bca4-410c-a081-e12cf1f0b567',\n",
        "   u'name': u'Natalia Kills',\n",
        "   u'url': u'http://www.last.fm/music/Natalia+Kills'},\n",
        "  u'duration': u'239000',\n",
        "  u'image': [{u'#text': u'http://userserve-ak.last.fm/serve/34s/60051555.png',\n",
        "    u'size': u'small'},\n",
        "   {u'#text': u'http://userserve-ak.last.fm/serve/64s/60051555.png',\n",
        "    u'size': u'medium'},\n",
        "   {u'#text': u'http://userserve-ak.last.fm/serve/126/60051555.png',\n",
        "    u'size': u'large'},\n",
        "   {u'#text': u'http://userserve-ak.last.fm/serve/300x300/60051555.png',\n",
        "    u'size': u'extralarge'}],\n",
        "  u'match': u'0.0898928',\n",
        "  u'mbid': u'69538706-6845-42ea-88b8-c7e092bc3e3d',\n",
        "  u'name': u'Mirrors',\n",
        "  u'playcount': u'1478536',\n",
        "  u'streamable': {u'#text': u'0', u'fulltrack': u'0'},\n",
        "  u'url': u'http://www.last.fm/music/Natalia+Kills/_/Mirrors'},\n",
        " {u'artist': {u'mbid': u'3e30aebd-0557-4cfd-8fb9-3945afa5d72b',\n",
        "   u'name': u'Annie Lennox',\n",
        "   u'url': u'http://www.last.fm/music/Annie+Lennox'},\n",
        "  u'duration': u'239000',\n",
        "  u'image': [{u'#text': u'http://userserve-ak.last.fm/serve/34s/72817820.png',\n",
        "    u'size': u'small'},\n",
        "   {u'#text': u'http://userserve-ak.last.fm/serve/64s/72817820.png',\n",
        "    u'size': u'medium'},\n",
        "   {u'#text': u'http://userserve-ak.last.fm/serve/126/72817820.png',\n",
        "    u'size': u'large'},\n",
        "   {u'#text': u'http://userserve-ak.last.fm/serve/300x300/72817820.png',\n",
        "    u'size': u'extralarge'}],\n",
        "  u'match': u'0.088968',\n",
        "  u'mbid': u'828cdb5a-353a-404c-b059-cbf61829918a',\n",
        "  u'name': u'Why',\n",
        "  u'playcount': u'761199',\n",
        "  u'streamable': {u'#text': u'0', u'fulltrack': u'0'},\n",
        "  u'url': u'http://www.last.fm/music/Annie+Lennox/_/Why'},\n",
        " {u'artist': {u'mbid': u'e4bc69e2-a064-4f93-ada1-f7f209cc1cc3',\n",
        "   u'name': u'Selena Gomez',\n",
        "   u'url': u'http://www.last.fm/music/Selena+Gomez'},\n",
        "  u'duration': u'239000',\n",
        "  u'image': [{u'#text': u'http://userserve-ak.last.fm/serve/34s/98230997.png',\n",
        "    u'size': u'small'},\n",
        "   {u'#text': u'http://userserve-ak.last.fm/serve/64s/98230997.png',\n",
        "    u'size': u'medium'},\n",
        "   {u'#text': u'http://userserve-ak.last.fm/serve/126/98230997.png',\n",
        "    u'size': u'large'},\n",
        "   {u'#text': u'http://userserve-ak.last.fm/serve/300x300/98230997.png',\n",
        "    u'size': u'extralarge'}],\n",
        "  u'match': u'0.0888274',\n",
        "  u'mbid': u'3805b6a9-291c-4315-bca0-0b96c01c7ef7',\n",
        "  u'name': u'Undercover',\n",
        "  u'playcount': u'394056',\n",
        "  u'streamable': {u'#text': u'0', u'fulltrack': u'0'},\n",
        "  u'url': u'http://www.last.fm/music/Selena+Gomez/_/Undercover'},\n",
        " {u'artist': {u'mbid': u'275d1fca-22e8-46b9-85e6-c3523098a599',\n",
        "   u'name': u'Paula Abdul',\n",
        "   u'url': u'http://www.last.fm/music/Paula+Abdul'},\n",
        "  u'duration': u'239000',\n",
        "  u'image': [{u'#text': u'http://userserve-ak.last.fm/serve/34s/89022531.png',\n",
        "    u'size': u'small'},\n",
        "   {u'#text': u'http://userserve-ak.last.fm/serve/64s/89022531.png',\n",
        "    u'size': u'medium'},\n",
        "   {u'#text': u'http://userserve-ak.last.fm/serve/126/89022531.png',\n",
        "    u'size': u'large'},\n",
        "   {u'#text': u'http://userserve-ak.last.fm/serve/300x300/89022531.png',\n",
        "    u'size': u'extralarge'}],\n",
        "  u'match': u'0.0886402',\n",
        "  u'mbid': u'6cd29451-b9fc-43b8-bc40-9b4c7812b8c0',\n",
        "  u'name': u'Straight Up',\n",
        "  u'playcount': u'605059',\n",
        "  u'streamable': {u'#text': u'0', u'fulltrack': u'0'},\n",
        "  u'url': u'http://www.last.fm/music/Paula+Abdul/_/Straight+Up'},\n",
        " {u'artist': {u'mbid': u'a371601f-c184-4683-806d-2eb35e88f0d7',\n",
        "   u'name': u'All Saints',\n",
        "   u'url': u'http://www.last.fm/music/All+Saints'},\n",
        "  u'duration': u'239000',\n",
        "  u'image': [{u'#text': u'http://userserve-ak.last.fm/serve/34s/50239479.png',\n",
        "    u'size': u'small'},\n",
        "   {u'#text': u'http://userserve-ak.last.fm/serve/64s/50239479.png',\n",
        "    u'size': u'medium'},\n",
        "   {u'#text': u'http://userserve-ak.last.fm/serve/126/50239479.png',\n",
        "    u'size': u'large'},\n",
        "   {u'#text': u'http://userserve-ak.last.fm/serve/300x300/50239479.png',\n",
        "    u'size': u'extralarge'}],\n",
        "  u'match': u'0.0884404',\n",
        "  u'mbid': u'6e0eb323-251d-492c-8dd1-10c3b808266c',\n",
        "  u'name': u'Pure Shores',\n",
        "  u'playcount': u'1190387',\n",
        "  u'streamable': {u'#text': u'0', u'fulltrack': u'0'},\n",
        "  u'url': u'http://www.last.fm/music/All+Saints/_/Pure+Shores'},\n",
        " {u'artist': {u'mbid': u'84d06499-0643-46b8-9e1f-45f743a53f5e',\n",
        "   u'name': u'Bananarama',\n",
        "   u'url': u'http://www.last.fm/music/Bananarama'},\n",
        "  u'duration': u'239000',\n",
        "  u'image': [{u'#text': u'http://userserve-ak.last.fm/serve/34s/88538633.jpg',\n",
        "    u'size': u'small'},\n",
        "   {u'#text': u'http://userserve-ak.last.fm/serve/64s/88538633.jpg',\n",
        "    u'size': u'medium'},\n",
        "   {u'#text': u'http://userserve-ak.last.fm/serve/126/88538633.jpg',\n",
        "    u'size': u'large'},\n",
        "   {u'#text': u'http://userserve-ak.last.fm/serve/300x300/88538633.jpg',\n",
        "    u'size': u'extralarge'}],\n",
        "  u'match': u'0.0876251',\n",
        "  u'mbid': u'e61ec431-92fa-4119-8ccc-86f228e5d9c4',\n",
        "  u'name': u'Venus',\n",
        "  u'playcount': u'732624',\n",
        "  u'streamable': {u'#text': u'0', u'fulltrack': u'0'},\n",
        "  u'url': u'http://www.last.fm/music/Bananarama/_/Venus'},\n",
        " {u'artist': {u'mbid': u'25b509ef-48ad-461b-a0bc-94cdddb8c919',\n",
        "   u'name': u'Melanie C',\n",
        "   u'url': u'http://www.last.fm/music/Melanie+C'},\n",
        "  u'duration': u'239000',\n",
        "  u'image': [{u'#text': u'http://userserve-ak.last.fm/serve/34s/80711087.png',\n",
        "    u'size': u'small'},\n",
        "   {u'#text': u'http://userserve-ak.last.fm/serve/64s/80711087.png',\n",
        "    u'size': u'medium'},\n",
        "   {u'#text': u'http://userserve-ak.last.fm/serve/126/80711087.png',\n",
        "    u'size': u'large'},\n",
        "   {u'#text': u'http://userserve-ak.last.fm/serve/300x300/80711087.png',\n",
        "    u'size': u'extralarge'}],\n",
        "  u'match': u'0.0872523',\n",
        "  u'mbid': u'9705d5d9-d6c1-4cbe-bd3e-0c2601b3751a',\n",
        "  u'name': u'Never Be the Same Again',\n",
        "  u'playcount': u'468298',\n",
        "  u'streamable': {u'#text': u'0', u'fulltrack': u'0'},\n",
        "  u'url': u'http://www.last.fm/music/Melanie+C/_/Never+Be+the+Same+Again'},\n",
        " {u'artist': {u'mbid': u'54e93235-2034-478d-b47b-a985828193b7',\n",
        "   u'name': u'Agnes',\n",
        "   u'url': u'http://www.last.fm/music/Agnes'},\n",
        "  u'duration': u'239000',\n",
        "  u'image': [{u'#text': u'http://userserve-ak.last.fm/serve/34s/91044567.jpg',\n",
        "    u'size': u'small'},\n",
        "   {u'#text': u'http://userserve-ak.last.fm/serve/64s/91044567.jpg',\n",
        "    u'size': u'medium'},\n",
        "   {u'#text': u'http://userserve-ak.last.fm/serve/126/91044567.jpg',\n",
        "    u'size': u'large'},\n",
        "   {u'#text': u'http://userserve-ak.last.fm/serve/300x300/91044567.jpg',\n",
        "    u'size': u'extralarge'}],\n",
        "  u'match': u'0.0860058',\n",
        "  u'mbid': u'1f0580b7-3bd5-4207-b3b6-c4c269dedcd2',\n",
        "  u'name': u'Release Me',\n",
        "  u'playcount': u'911779',\n",
        "  u'streamable': {u'#text': u'0', u'fulltrack': u'0'},\n",
        "  u'url': u'http://www.last.fm/music/Agnes/_/Release+Me'},\n",
        " {u'artist': {u'mbid': u'c5f259d0-abd8-418e-81ee-3965fd4e4e9a',\n",
        "   u'name': u'Icona Pop',\n",
        "   u'url': u'http://www.last.fm/music/Icona+Pop'},\n",
        "  u'duration': u'239000',\n",
        "  u'image': [{u'#text': u'http://userserve-ak.last.fm/serve/34s/91898885.png',\n",
        "    u'size': u'small'},\n",
        "   {u'#text': u'http://userserve-ak.last.fm/serve/64s/91898885.png',\n",
        "    u'size': u'medium'},\n",
        "   {u'#text': u'http://userserve-ak.last.fm/serve/126/91898885.png',\n",
        "    u'size': u'large'},\n",
        "   {u'#text': u'http://userserve-ak.last.fm/serve/300x300/91898885.png',\n",
        "    u'size': u'extralarge'}],\n",
        "  u'match': u'0.0853096',\n",
        "  u'mbid': u'b1abca18-f709-42d3-bfc7-b8fe07c583d3',\n",
        "  u'name': u'All Night',\n",
        "  u'playcount': u'665251',\n",
        "  u'streamable': {u'#text': u'0', u'fulltrack': u'0'},\n",
        "  u'url': u'http://www.last.fm/music/Icona+Pop/_/All+Night'},\n",
        " {u'artist': {u'mbid': u'04af2581-6692-4f14-a7fe-151a36f20368',\n",
        "   u'name': u'Cascada',\n",
        "   u'url': u'http://www.last.fm/music/Cascada'},\n",
        "  u'duration': u'239000',\n",
        "  u'image': [{u'#text': u'http://userserve-ak.last.fm/serve/34s/57977967.png',\n",
        "    u'size': u'small'},\n",
        "   {u'#text': u'http://userserve-ak.last.fm/serve/64s/57977967.png',\n",
        "    u'size': u'medium'},\n",
        "   {u'#text': u'http://userserve-ak.last.fm/serve/126/57977967.png',\n",
        "    u'size': u'large'},\n",
        "   {u'#text': u'http://userserve-ak.last.fm/serve/300x300/57977967.png',\n",
        "    u'size': u'extralarge'}],\n",
        "  u'match': u'0.0848134',\n",
        "  u'mbid': u'873ee083-8268-4cf4-8f04-cd2270c05d4f',\n",
        "  u'name': u'Evacuate the Dancefloor',\n",
        "  u'playcount': u'1533491',\n",
        "  u'streamable': {u'#text': u'0', u'fulltrack': u'0'},\n",
        "  u'url': u'http://www.last.fm/music/Cascada/_/Evacuate+the+Dancefloor'},\n",
        " {u'artist': {u'mbid': u'23207c32-6743-4982-9f46-e297b2e4eb14',\n",
        "   u'name': u'Geri Halliwell',\n",
        "   u'url': u'http://www.last.fm/music/Geri+Halliwell'},\n",
        "  u'duration': u'239000',\n",
        "  u'image': [{u'#text': u'http://userserve-ak.last.fm/serve/34s/63463029.png',\n",
        "    u'size': u'small'},\n",
        "   {u'#text': u'http://userserve-ak.last.fm/serve/64s/63463029.png',\n",
        "    u'size': u'medium'},\n",
        "   {u'#text': u'http://userserve-ak.last.fm/serve/126/63463029.png',\n",
        "    u'size': u'large'},\n",
        "   {u'#text': u'http://userserve-ak.last.fm/serve/300x300/63463029.png',\n",
        "    u'size': u'extralarge'}],\n",
        "  u'match': u'0.0844714',\n",
        "  u'mbid': u'f62b6ad9-c0b1-42e5-bc8b-83be67d66789',\n",
        "  u'name': u'Look at Me',\n",
        "  u'playcount': u'147823',\n",
        "  u'streamable': {u'#text': u'0', u'fulltrack': u'0'},\n",
        "  u'url': u'http://www.last.fm/music/Geri+Halliwell/_/Look+at+Me'},\n",
        " {u'artist': {u'mbid': u'1239d1bc-cc09-43e0-bcd0-374f60346138',\n",
        "   u'name': u'Kelis',\n",
        "   u'url': u'http://www.last.fm/music/Kelis'},\n",
        "  u'duration': u'239000',\n",
        "  u'image': [{u'#text': u'http://userserve-ak.last.fm/serve/34s/87953059.png',\n",
        "    u'size': u'small'},\n",
        "   {u'#text': u'http://userserve-ak.last.fm/serve/64s/87953059.png',\n",
        "    u'size': u'medium'},\n",
        "   {u'#text': u'http://userserve-ak.last.fm/serve/126/87953059.png',\n",
        "    u'size': u'large'},\n",
        "   {u'#text': u'http://userserve-ak.last.fm/serve/300x300/87953059.png',\n",
        "    u'size': u'extralarge'}],\n",
        "  u'match': u'0.0843637',\n",
        "  u'mbid': u'434df0b1-3461-4f36-b2b7-c78bb3b02af3',\n",
        "  u'name': u'Acapella',\n",
        "  u'playcount': u'848762',\n",
        "  u'streamable': {u'#text': u'0', u'fulltrack': u'0'},\n",
        "  u'url': u'http://www.last.fm/music/Kelis/_/Acapella'},\n",
        " {u'artist': {u'mbid': u'63b43c69-b822-4268-bdad-bcde12531f50',\n",
        "   u'name': u'Lindsay Lohan',\n",
        "   u'url': u'http://www.last.fm/music/Lindsay+Lohan'},\n",
        "  u'duration': u'239000',\n",
        "  u'image': [{u'#text': u'http://userserve-ak.last.fm/serve/34s/93220137.png',\n",
        "    u'size': u'small'},\n",
        "   {u'#text': u'http://userserve-ak.last.fm/serve/64s/93220137.png',\n",
        "    u'size': u'medium'},\n",
        "   {u'#text': u'http://userserve-ak.last.fm/serve/126/93220137.png',\n",
        "    u'size': u'large'},\n",
        "   {u'#text': u'http://userserve-ak.last.fm/serve/300x300/93220137.png',\n",
        "    u'size': u'extralarge'}],\n",
        "  u'match': u'0.0839529',\n",
        "  u'mbid': u'91b5754c-2e9c-4b71-8a8d-3b1f51774b7e',\n",
        "  u'name': u'Rumors',\n",
        "  u'playcount': u'756176',\n",
        "  u'streamable': {u'#text': u'0', u'fulltrack': u'0'},\n",
        "  u'url': u'http://www.last.fm/music/Lindsay+Lohan/_/Rumors'},\n",
        " {u'artist': {u'mbid': u'8b477559-946e-4ef2-9fe1-446cff8fdd79',\n",
        "   u'name': u'Natasha Bedingfield',\n",
        "   u'url': u'http://www.last.fm/music/Natasha+Bedingfield'},\n",
        "  u'duration': u'239000',\n",
        "  u'image': [{u'#text': u'http://userserve-ak.last.fm/serve/34s/58490701.png',\n",
        "    u'size': u'small'},\n",
        "   {u'#text': u'http://userserve-ak.last.fm/serve/64s/58490701.png',\n",
        "    u'size': u'medium'},\n",
        "   {u'#text': u'http://userserve-ak.last.fm/serve/126/58490701.png',\n",
        "    u'size': u'large'},\n",
        "   {u'#text': u'http://userserve-ak.last.fm/serve/300x300/58490701.png',\n",
        "    u'size': u'extralarge'}],\n",
        "  u'match': u'0.0831645',\n",
        "  u'mbid': u'6a7e4552-ed19-4513-9586-e949c486ec9f',\n",
        "  u'name': u'Unwritten',\n",
        "  u'playcount': u'2275821',\n",
        "  u'streamable': {u'#text': u'0', u'fulltrack': u'0'},\n",
        "  u'url': u'http://www.last.fm/music/Natasha+Bedingfield/_/Unwritten'},\n",
        " {u'artist': {u'mbid': u'18ad3647-af71-4860-b712-efe8e41410eb',\n",
        "   u'name': u'September',\n",
        "   u'url': u'http://www.last.fm/music/September'},\n",
        "  u'duration': u'239000',\n",
        "  u'image': [{u'#text': u'http://userserve-ak.last.fm/serve/34s/30762397.png',\n",
        "    u'size': u'small'},\n",
        "   {u'#text': u'http://userserve-ak.last.fm/serve/64s/30762397.png',\n",
        "    u'size': u'medium'},\n",
        "   {u'#text': u'http://userserve-ak.last.fm/serve/126/30762397.png',\n",
        "    u'size': u'large'},\n",
        "   {u'#text': u'http://userserve-ak.last.fm/serve/300x300/30762397.png',\n",
        "    u'size': u'extralarge'}],\n",
        "  u'match': u'0.0828414',\n",
        "  u'mbid': u'15e40966-6cbb-473c-97fc-362de81f95d9',\n",
        "  u'name': u'Cry For You',\n",
        "  u'playcount': u'1358669',\n",
        "  u'streamable': {u'#text': u'0', u'fulltrack': u'0'},\n",
        "  u'url': u'http://www.last.fm/music/September/_/Cry+For+You'},\n",
        " {u'artist': {u'mbid': u'210769a3-4aca-4199-a2e1-676ef376e078',\n",
        "   u'name': u'Michael Jackson',\n",
        "   u'url': u'http://www.last.fm/music/Michael+Jackson'},\n",
        "  u'duration': u'239000',\n",
        "  u'image': [{u'#text': u'http://userserve-ak.last.fm/serve/34s/97936843.png',\n",
        "    u'size': u'small'},\n",
        "   {u'#text': u'http://userserve-ak.last.fm/serve/64s/97936843.png',\n",
        "    u'size': u'medium'},\n",
        "   {u'#text': u'http://userserve-ak.last.fm/serve/126/97936843.png',\n",
        "    u'size': u'large'},\n",
        "   {u'#text': u'http://userserve-ak.last.fm/serve/300x300/97936843.png',\n",
        "    u'size': u'extralarge'}],\n",
        "  u'match': u'0.0826403',\n",
        "  u'mbid': u'59cd7586-f768-4ae1-9bed-c17bce2dea9d',\n",
        "  u'name': u'Slave to the Rhythm',\n",
        "  u'playcount': u'184373',\n",
        "  u'streamable': {u'#text': u'0', u'fulltrack': u'0'},\n",
        "  u'url': u'http://www.last.fm/music/Michael+Jackson/_/Slave+to+the+Rhythm'},\n",
        " {u'artist': {u'mbid': u'847e8a0c-cc20-4213-9e16-975515c2a926',\n",
        "   u'name': u'C\\xe9line Dion',\n",
        "   u'url': u'http://www.last.fm/music/C%C3%A9line+Dion'},\n",
        "  u'duration': u'239000',\n",
        "  u'image': [{u'#text': u'http://userserve-ak.last.fm/serve/34s/68779636.png',\n",
        "    u'size': u'small'},\n",
        "   {u'#text': u'http://userserve-ak.last.fm/serve/64s/68779636.png',\n",
        "    u'size': u'medium'},\n",
        "   {u'#text': u'http://userserve-ak.last.fm/serve/126/68779636.png',\n",
        "    u'size': u'large'},\n",
        "   {u'#text': u'http://userserve-ak.last.fm/serve/300x300/68779636.png',\n",
        "    u'size': u'extralarge'}],\n",
        "  u'match': u'0.0820376',\n",
        "  u'mbid': u'032658ec-a0cb-479b-af00-33bdf275b8e6',\n",
        "  u'name': u\"It's All Coming Back to Me Now\",\n",
        "  u'playcount': u'604995',\n",
        "  u'streamable': {u'#text': u'0', u'fulltrack': u'0'},\n",
        "  u'url': u'http://www.last.fm/music/C%C3%A9line+Dion/_/It%27s+All+Coming+Back+to+Me+Now'},\n",
        " {u'artist': {u'mbid': u'a0b2f210-cd3a-453d-937d-e4f2658d17c7',\n",
        "   u'name': u'Girls Aloud',\n",
        "   u'url': u'http://www.last.fm/music/Girls+Aloud'},\n",
        "  u'duration': u'239000',\n",
        "  u'image': [{u'#text': u'http://userserve-ak.last.fm/serve/34s/94710683.png',\n",
        "    u'size': u'small'},\n",
        "   {u'#text': u'http://userserve-ak.last.fm/serve/64s/94710683.png',\n",
        "    u'size': u'medium'},\n",
        "   {u'#text': u'http://userserve-ak.last.fm/serve/126/94710683.png',\n",
        "    u'size': u'large'},\n",
        "   {u'#text': u'http://userserve-ak.last.fm/serve/300x300/94710683.png',\n",
        "    u'size': u'extralarge'}],\n",
        "  u'match': u'0.0799398',\n",
        "  u'mbid': u'6c4dc807-4073-4b0a-88e1-1cf6cb993413',\n",
        "  u'name': u'On the Metro',\n",
        "  u'playcount': u'223552',\n",
        "  u'streamable': {u'#text': u'0', u'fulltrack': u'0'},\n",
        "  u'url': u'http://www.last.fm/music/Girls+Aloud/_/On+the+Metro'},\n",
        " {u'artist': {u'mbid': u'10ccb5d8-f9d5-4954-9441-3419b522a214',\n",
        "   u'name': u'Olivia Newton-John',\n",
        "   u'url': u'http://www.last.fm/music/Olivia+Newton-John'},\n",
        "  u'duration': u'239000',\n",
        "  u'image': [{u'#text': u'http://userserve-ak.last.fm/serve/34s/89002257.png',\n",
        "    u'size': u'small'},\n",
        "   {u'#text': u'http://userserve-ak.last.fm/serve/64s/89002257.png',\n",
        "    u'size': u'medium'},\n",
        "   {u'#text': u'http://userserve-ak.last.fm/serve/126/89002257.png',\n",
        "    u'size': u'large'},\n",
        "   {u'#text': u'http://userserve-ak.last.fm/serve/300x300/89002257.png',\n",
        "    u'size': u'extralarge'}],\n",
        "  u'match': u'0.079829',\n",
        "  u'mbid': u'0398acc1-ffdd-40c5-9443-dacae38fc15f',\n",
        "  u'name': u'Physical',\n",
        "  u'playcount': u'304852',\n",
        "  u'streamable': {u'#text': u'0', u'fulltrack': u'0'},\n",
        "  u'url': u'http://www.last.fm/music/Olivia+Newton-John/_/Physical'},\n",
        " {u'artist': {u'mbid': u'518531b7-cb73-4307-b13e-c716471539a8',\n",
        "   u'name': u'Dido',\n",
        "   u'url': u'http://www.last.fm/music/Dido'},\n",
        "  u'duration': u'239000',\n",
        "  u'image': [{u'#text': u'http://userserve-ak.last.fm/serve/34s/57897315.png',\n",
        "    u'size': u'small'},\n",
        "   {u'#text': u'http://userserve-ak.last.fm/serve/64s/57897315.png',\n",
        "    u'size': u'medium'},\n",
        "   {u'#text': u'http://userserve-ak.last.fm/serve/126/57897315.png',\n",
        "    u'size': u'large'},\n",
        "   {u'#text': u'http://userserve-ak.last.fm/serve/300x300/57897315.png',\n",
        "    u'size': u'extralarge'}],\n",
        "  u'match': u'0.0784312',\n",
        "  u'mbid': u'01b13dbc-416e-4c71-84e2-cfe2875c296a',\n",
        "  u'name': u'Here with Me',\n",
        "  u'playcount': u'2930433',\n",
        "  u'streamable': {u'#text': u'0', u'fulltrack': u'0'},\n",
        "  u'url': u'http://www.last.fm/music/Dido/_/Here+with+Me'},\n",
        " {u'artist': {u'mbid': u'183105b5-3e68-4748-9086-2c1c11bf7a3d',\n",
        "   u'name': u'Beyonc\\xe9',\n",
        "   u'url': u'http://www.last.fm/music/Beyonc%C3%A9'},\n",
        "  u'duration': u'239000',\n",
        "  u'image': [{u'#text': u'http://userserve-ak.last.fm/serve/34s/98570479.png',\n",
        "    u'size': u'small'},\n",
        "   {u'#text': u'http://userserve-ak.last.fm/serve/64s/98570479.png',\n",
        "    u'size': u'medium'},\n",
        "   {u'#text': u'http://userserve-ak.last.fm/serve/126/98570479.png',\n",
        "    u'size': u'large'},\n",
        "   {u'#text': u'http://userserve-ak.last.fm/serve/300x300/98570479.png',\n",
        "    u'size': u'extralarge'}],\n",
        "  u'match': u'0.0784295',\n",
        "  u'mbid': u'7e9749da-3c2f-42b3-a285-e66841924a79',\n",
        "  u'name': u'Grown Woman',\n",
        "  u'playcount': u'414466',\n",
        "  u'streamable': {u'#text': u'0', u'fulltrack': u'0'},\n",
        "  u'url': u'http://www.last.fm/music/Beyonc%C3%A9/_/Grown+Woman'}]"
       ]
      }
     ],
     "prompt_number": 112
    },
    {
     "cell_type": "code",
     "collapsed": false,
     "input": [
      "import numpy as np\n",
      "np.array(l_similartracks_origArtist)"
     ],
     "language": "python",
     "metadata": {},
     "outputs": [
      {
       "metadata": {},
       "output_type": "pyout",
       "prompt_number": 113,
       "text": [
        "array([ {u'streamable': {u'#text': u'0', u'fulltrack': u'0'}, u'name': u'Strong Enough', u'artist': {u'url': u'http://www.last.fm/music/Cher', u'mbid': u'bfcc6d75-a6a5-4bc6-8282-47aec8531818', u'name': u'Cher'}, u'url': u'http://www.last.fm/music/Cher/_/Strong+Enough', u'image': [{u'#text': u'http://userserve-ak.last.fm/serve/34s/71997588.png', u'size': u'small'}, {u'#text': u'http://userserve-ak.last.fm/serve/64s/71997588.png', u'size': u'medium'}, {u'#text': u'http://userserve-ak.last.fm/serve/126/71997588.png', u'size': u'large'}, {u'#text': u'http://userserve-ak.last.fm/serve/300x300/71997588.png', u'size': u'extralarge'}], u'mbid': u'2527625b-0752-48f3-95fd-c3f216686db8', u'duration': u'239000', u'playcount': u'555617', u'match': u'1'},\n",
        "       {u'streamable': {u'#text': u'0', u'fulltrack': u'0'}, u'name': u'All or Nothing', u'artist': {u'url': u'http://www.last.fm/music/Cher', u'mbid': u'bfcc6d75-a6a5-4bc6-8282-47aec8531818', u'name': u'Cher'}, u'url': u'http://www.last.fm/music/Cher/_/All+or+Nothing', u'image': [{u'#text': u'http://userserve-ak.last.fm/serve/34s/71997588.png', u'size': u'small'}, {u'#text': u'http://userserve-ak.last.fm/serve/64s/71997588.png', u'size': u'medium'}, {u'#text': u'http://userserve-ak.last.fm/serve/126/71997588.png', u'size': u'large'}, {u'#text': u'http://userserve-ak.last.fm/serve/300x300/71997588.png', u'size': u'extralarge'}], u'mbid': u'a88735e6-b35c-4379-8ef7-bbd2b793ccf4', u'duration': u'239000', u'playcount': u'236522', u'match': u'0.87856'},\n",
        "       {u'streamable': {u'#text': u'0', u'fulltrack': u'0'}, u'name': u\"Can't Get You Out of My Head\", u'artist': {u'url': u'http://www.last.fm/music/Kylie+Minogue', u'mbid': u'2fddb92d-24b2-46a5-bf28-3aed46f4684c', u'name': u'Kylie Minogue'}, u'url': u'http://www.last.fm/music/Kylie+Minogue/_/Can%27t+Get+You+Out+of+My+Head', u'image': [{u'#text': u'http://userserve-ak.last.fm/serve/34s/80337607.png', u'size': u'small'}, {u'#text': u'http://userserve-ak.last.fm/serve/64s/80337607.png', u'size': u'medium'}, {u'#text': u'http://userserve-ak.last.fm/serve/126/80337607.png', u'size': u'large'}, {u'#text': u'http://userserve-ak.last.fm/serve/300x300/80337607.png', u'size': u'extralarge'}], u'mbid': u'f7048ce4-6368-4087-9204-62d90480f708', u'duration': u'239000', u'playcount': u'2197786', u'match': u'0.273721'},\n",
        "       {u'streamable': {u'#text': u'0', u'fulltrack': u'0'}, u'name': u'Hung Up', u'artist': {u'url': u'http://www.last.fm/music/Madonna', u'mbid': u'79239441-bfd5-4981-a70c-55c3f15c1287', u'name': u'Madonna'}, u'url': u'http://www.last.fm/music/Madonna/_/Hung+Up', u'image': [{u'#text': u'http://userserve-ak.last.fm/serve/34s/74051744.png', u'size': u'small'}, {u'#text': u'http://userserve-ak.last.fm/serve/64s/74051744.png', u'size': u'medium'}, {u'#text': u'http://userserve-ak.last.fm/serve/126/74051744.png', u'size': u'large'}, {u'#text': u'http://userserve-ak.last.fm/serve/300x300/74051744.png', u'size': u'extralarge'}], u'mbid': u'31a6b752-291c-456f-ade5-f4b85545e6df', u'duration': u'239000', u'playcount': u'3559828', u'match': u'0.270927'},\n",
        "       {u'streamable': {u'#text': u'0', u'fulltrack': u'0'}, u'name': u'Vogue', u'artist': {u'url': u'http://www.last.fm/music/Madonna', u'mbid': u'79239441-bfd5-4981-a70c-55c3f15c1287', u'name': u'Madonna'}, u'url': u'http://www.last.fm/music/Madonna/_/Vogue', u'image': [{u'#text': u'http://userserve-ak.last.fm/serve/34s/89014729.png', u'size': u'small'}, {u'#text': u'http://userserve-ak.last.fm/serve/64s/89014729.png', u'size': u'medium'}, {u'#text': u'http://userserve-ak.last.fm/serve/126/89014729.png', u'size': u'large'}, {u'#text': u'http://userserve-ak.last.fm/serve/300x300/89014729.png', u'size': u'extralarge'}], u'mbid': u'1111fd1f-7868-40a5-9dec-15dcd9b175a3', u'duration': u'239000', u'playcount': u'1891064', u'match': u'0.266593'},\n",
        "       {u'streamable': {u'#text': u'0', u'fulltrack': u'0'}, u'name': u'Get Outta My Way', u'artist': {u'url': u'http://www.last.fm/music/Kylie+Minogue', u'mbid': u'2fddb92d-24b2-46a5-bf28-3aed46f4684c', u'name': u'Kylie Minogue'}, u'url': u'http://www.last.fm/music/Kylie+Minogue/_/Get+Outta+My+Way', u'image': [{u'#text': u'http://userserve-ak.last.fm/serve/34s/85578251.png', u'size': u'small'}, {u'#text': u'http://userserve-ak.last.fm/serve/64s/85578251.png', u'size': u'medium'}, {u'#text': u'http://userserve-ak.last.fm/serve/126/85578251.png', u'size': u'large'}, {u'#text': u'http://userserve-ak.last.fm/serve/300x300/85578251.png', u'size': u'extralarge'}], u'mbid': u'4988f79d-2945-471d-b238-79f04949ed34', u'duration': u'239000', u'playcount': u'2023223', u'match': u'0.239744'},\n",
        "       {u'streamable': {u'#text': u'0', u'fulltrack': u'0'}, u'name': u'Waiting for Tonight', u'artist': {u'url': u'http://www.last.fm/music/Jennifer+Lopez', u'mbid': u'3e518707-b079-4334-bb6e-bfde317ce4d3', u'name': u'Jennifer Lopez'}, u'url': u'http://www.last.fm/music/Jennifer+Lopez/_/Waiting+for+Tonight', u'image': [{u'#text': u'http://userserve-ak.last.fm/serve/34s/44969241.png', u'size': u'small'}, {u'#text': u'http://userserve-ak.last.fm/serve/64s/44969241.png', u'size': u'medium'}, {u'#text': u'http://userserve-ak.last.fm/serve/126/44969241.png', u'size': u'large'}, {u'#text': u'http://userserve-ak.last.fm/serve/300x300/44969241.png', u'size': u'extralarge'}], u'mbid': u'd48db0f4-fab6-4d18-bc1f-aec43772af96', u'duration': u'239000', u'playcount': u'828992', u'match': u'0.23366'},\n",
        "       {u'streamable': {u'#text': u'0', u'fulltrack': u'0'}, u'name': u'Applause', u'artist': {u'url': u'http://www.last.fm/music/Lady+Gaga', u'mbid': u'650e7db6-b795-4eb5-a702-5ea2fc46c848', u'name': u'Lady Gaga'}, u'url': u'http://www.last.fm/music/Lady+Gaga/_/Applause', u'image': [{u'#text': u'http://userserve-ak.last.fm/serve/34s/100112931.png', u'size': u'small'}, {u'#text': u'http://userserve-ak.last.fm/serve/64s/100112931.png', u'size': u'medium'}, {u'#text': u'http://userserve-ak.last.fm/serve/126/100112931.png', u'size': u'large'}, {u'#text': u'http://userserve-ak.last.fm/serve/300x300/100112931.png', u'size': u'extralarge'}], u'mbid': u'bd59fce3-fdd1-4212-b26f-dbcfedd66c57', u'duration': u'239000', u'playcount': u'5145267', u'match': u'0.212967'},\n",
        "       {u'streamable': {u'#text': u'0', u'fulltrack': u'0'}, u'name': u'Torn', u'artist': {u'url': u'http://www.last.fm/music/Natalie+Imbruglia', u'mbid': u'60530915-9371-4b16-bc31-5c4456317ae0', u'name': u'Natalie Imbruglia'}, u'url': u'http://www.last.fm/music/Natalie+Imbruglia/_/Torn', u'image': [{u'#text': u'http://userserve-ak.last.fm/serve/34s/72647014.png', u'size': u'small'}, {u'#text': u'http://userserve-ak.last.fm/serve/64s/72647014.png', u'size': u'medium'}, {u'#text': u'http://userserve-ak.last.fm/serve/126/72647014.png', u'size': u'large'}, {u'#text': u'http://userserve-ak.last.fm/serve/300x300/72647014.png', u'size': u'extralarge'}], u'mbid': u'5aa0d7aa-a9ed-4063-b978-18e089861d60', u'duration': u'239000', u'playcount': u'3468719', u'match': u'0.211241'},\n",
        "       {u'streamable': {u'#text': u'0', u'fulltrack': u'0'}, u'name': u'Walking on Air', u'artist': {u'url': u'http://www.last.fm/music/Katy+Perry', u'mbid': u'122d63fc-8671-43e4-9752-34e846d62a9c', u'name': u'Katy Perry'}, u'url': u'http://www.last.fm/music/Katy+Perry/_/Walking+on+Air', u'image': [{u'#text': u'http://userserve-ak.last.fm/serve/34s/98230957.png', u'size': u'small'}, {u'#text': u'http://userserve-ak.last.fm/serve/64s/98230957.png', u'size': u'medium'}, {u'#text': u'http://userserve-ak.last.fm/serve/126/98230957.png', u'size': u'large'}, {u'#text': u'http://userserve-ak.last.fm/serve/300x300/98230957.png', u'size': u'extralarge'}], u'mbid': u'35143c2f-0484-44e2-bf27-7baa7ca5e135', u'duration': u'239000', u'playcount': u'1017098', u'match': u'0.209849'},\n",
        "       {u'streamable': {u'#text': u'0', u'fulltrack': u'0'}, u'name': u'Poker Face', u'artist': {u'url': u'http://www.last.fm/music/Lady+Gaga', u'mbid': u'650e7db6-b795-4eb5-a702-5ea2fc46c848', u'name': u'Lady Gaga'}, u'url': u'http://www.last.fm/music/Lady+Gaga/_/Poker+Face', u'image': [{u'#text': u'http://userserve-ak.last.fm/serve/34s/95368471.png', u'size': u'small'}, {u'#text': u'http://userserve-ak.last.fm/serve/64s/95368471.png', u'size': u'medium'}, {u'#text': u'http://userserve-ak.last.fm/serve/126/95368471.png', u'size': u'large'}, {u'#text': u'http://userserve-ak.last.fm/serve/300x300/95368471.png', u'size': u'extralarge'}], u'mbid': u'080975b0-39b1-493c-ae64-5cb3292409bb', u'duration': u'239000', u'playcount': u'12027515', u'match': u'0.207984'},\n",
        "       {u'streamable': {u'#text': u'0', u'fulltrack': u'0'}, u'name': u'Barbie Girl', u'artist': {u'url': u'http://www.last.fm/music/Aqua', u'mbid': u'5dce9408-9f39-450f-8146-8a60e88251f9', u'name': u'Aqua'}, u'url': u'http://www.last.fm/music/Aqua/_/Barbie+Girl', u'image': [{u'#text': u'http://userserve-ak.last.fm/serve/34s/92874747.png', u'size': u'small'}, {u'#text': u'http://userserve-ak.last.fm/serve/64s/92874747.png', u'size': u'medium'}, {u'#text': u'http://userserve-ak.last.fm/serve/126/92874747.png', u'size': u'large'}, {u'#text': u'http://userserve-ak.last.fm/serve/300x300/92874747.png', u'size': u'extralarge'}], u'mbid': u'7e6e701c-4fdb-4fdb-9b3d-3fd00005cf68', u'duration': u'239000', u'playcount': u'1406345', u'match': u'0.204113'},\n",
        "       {u'streamable': {u'#text': u'0', u'fulltrack': u'0'}, u'name': u'Let There Be Love', u'artist': {u'url': u'http://www.last.fm/music/Christina+Aguilera', u'mbid': u'b202beb7-99bd-47e7-8b72-195c8d72ebdd', u'name': u'Christina Aguilera'}, u'url': u'http://www.last.fm/music/Christina+Aguilera/_/Let+There+Be+Love', u'image': [{u'#text': u'http://userserve-ak.last.fm/serve/34s/94551291.png', u'size': u'small'}, {u'#text': u'http://userserve-ak.last.fm/serve/64s/94551291.png', u'size': u'medium'}, {u'#text': u'http://userserve-ak.last.fm/serve/126/94551291.png', u'size': u'large'}, {u'#text': u'http://userserve-ak.last.fm/serve/300x300/94551291.png', u'size': u'extralarge'}], u'mbid': u'17410183-d250-49c9-8be1-04d26fa4c71d', u'duration': u'239000', u'playcount': u'1044810', u'match': u'0.20277'},\n",
        "       {u'streamable': {u'#text': u'0', u'fulltrack': u'0'}, u'name': u'...Baby One More Time', u'artist': {u'url': u'http://www.last.fm/music/Britney+Spears', u'mbid': u'2f4f5d16-7102-4110-97fd-f5c365d6bb26', u'name': u'Britney Spears'}, u'url': u'http://www.last.fm/music/Britney+Spears/_/...Baby+One+More+Time', u'image': [{u'#text': u'http://userserve-ak.last.fm/serve/34s/83238203.png', u'size': u'small'}, {u'#text': u'http://userserve-ak.last.fm/serve/64s/83238203.png', u'size': u'medium'}, {u'#text': u'http://userserve-ak.last.fm/serve/126/83238203.png', u'size': u'large'}, {u'#text': u'http://userserve-ak.last.fm/serve/300x300/83238203.png', u'size': u'extralarge'}], u'mbid': u'030c5163-88d9-4e9f-babb-59aa3d9db620', u'duration': u'239000', u'playcount': u'2435149', u'match': u'0.183812'},\n",
        "       {u'streamable': {u'#text': u'0', u'fulltrack': u'0'}, u'name': u'Toxic', u'artist': {u'url': u'http://www.last.fm/music/Britney+Spears', u'mbid': u'2f4f5d16-7102-4110-97fd-f5c365d6bb26', u'name': u'Britney Spears'}, u'url': u'http://www.last.fm/music/Britney+Spears/_/Toxic', u'image': [{u'#text': u'http://userserve-ak.last.fm/serve/34s/83238203.png', u'size': u'small'}, {u'#text': u'http://userserve-ak.last.fm/serve/64s/83238203.png', u'size': u'medium'}, {u'#text': u'http://userserve-ak.last.fm/serve/126/83238203.png', u'size': u'large'}, {u'#text': u'http://userserve-ak.last.fm/serve/300x300/83238203.png', u'size': u'extralarge'}], u'mbid': u'05b95428-108d-4ec9-a8cd-5b6a70c35cda', u'duration': u'239000', u'playcount': u'4622047', u'match': u'0.18232'},\n",
        "       {u'streamable': {u'#text': u'0', u'fulltrack': u'0'}, u'name': u'Wannabe', u'artist': {u'url': u'http://www.last.fm/music/Spice+Girls', u'mbid': u'bf0caafc-2b20-4e07-ab85-87e14ff430ce', u'name': u'Spice Girls'}, u'url': u'http://www.last.fm/music/Spice+Girls/_/Wannabe', u'image': [{u'#text': u'http://userserve-ak.last.fm/serve/34s/82707231.jpg', u'size': u'small'}, {u'#text': u'http://userserve-ak.last.fm/serve/64s/82707231.jpg', u'size': u'medium'}, {u'#text': u'http://userserve-ak.last.fm/serve/126/82707231.jpg', u'size': u'large'}, {u'#text': u'http://userserve-ak.last.fm/serve/300x300/82707231.jpg', u'size': u'extralarge'}], u'mbid': u'4f90ae6c-e7d3-4778-88d0-aaea79718c3e', u'duration': u'239000', u'playcount': u'1655311', u'match': u'0.181841'},\n",
        "       {u'streamable': {u'#text': u'0', u'fulltrack': u'0'}, u'name': u'Not Myself Tonight', u'artist': {u'url': u'http://www.last.fm/music/Christina+Aguilera', u'mbid': u'b202beb7-99bd-47e7-8b72-195c8d72ebdd', u'name': u'Christina Aguilera'}, u'url': u'http://www.last.fm/music/Christina+Aguilera/_/Not+Myself+Tonight', u'image': [{u'#text': u'http://userserve-ak.last.fm/serve/34s/62785023.png', u'size': u'small'}, {u'#text': u'http://userserve-ak.last.fm/serve/64s/62785023.png', u'size': u'medium'}, {u'#text': u'http://userserve-ak.last.fm/serve/126/62785023.png', u'size': u'large'}, {u'#text': u'http://userserve-ak.last.fm/serve/300x300/62785023.png', u'size': u'extralarge'}], u'mbid': u'7d9f69b7-81e7-4b42-ac24-ee58028740c8', u'duration': u'239000', u'playcount': u'3543876', u'match': u'0.179123'},\n",
        "       {u'streamable': {u'#text': u'0', u'fulltrack': u'0'}, u'name': u\"Say You'll Be There\", u'artist': {u'url': u'http://www.last.fm/music/Spice+Girls', u'mbid': u'bf0caafc-2b20-4e07-ab85-87e14ff430ce', u'name': u'Spice Girls'}, u'url': u'http://www.last.fm/music/Spice+Girls/_/Say+You%27ll+Be+There', u'image': [{u'#text': u'http://userserve-ak.last.fm/serve/34s/47356025.png', u'size': u'small'}, {u'#text': u'http://userserve-ak.last.fm/serve/64s/47356025.png', u'size': u'medium'}, {u'#text': u'http://userserve-ak.last.fm/serve/126/47356025.png', u'size': u'large'}, {u'#text': u'http://userserve-ak.last.fm/serve/300x300/47356025.png', u'size': u'extralarge'}], u'mbid': u'de9a5376-a45b-4255-8e82-031ce6728e87', u'duration': u'239000', u'playcount': u'607098', u'match': u'0.17003'},\n",
        "       {u'streamable': {u'#text': u'0', u'fulltrack': u'0'}, u'name': u'All That She Wants', u'artist': {u'url': u'http://www.last.fm/music/Ace+of+Base', u'mbid': u'd4a1404d-e00c-4bac-b3ba-e3557f6468d6', u'name': u'Ace of Base'}, u'url': u'http://www.last.fm/music/Ace+of+Base/_/All+That+She+Wants', u'image': [{u'#text': u'http://userserve-ak.last.fm/serve/34s/79146289.png', u'size': u'small'}, {u'#text': u'http://userserve-ak.last.fm/serve/64s/79146289.png', u'size': u'medium'}, {u'#text': u'http://userserve-ak.last.fm/serve/126/79146289.png', u'size': u'large'}, {u'#text': u'http://userserve-ak.last.fm/serve/300x300/79146289.png', u'size': u'extralarge'}], u'mbid': u'710f21dc-4237-4459-90fd-b117a71d347f', u'duration': u'239000', u'playcount': u'1676337', u'match': u'0.168271'},\n",
        "       {u'streamable': {u'#text': u'0', u'fulltrack': u'0'}, u'name': u'If You Had My Love', u'artist': {u'url': u'http://www.last.fm/music/Jennifer+Lopez', u'mbid': u'3e518707-b079-4334-bb6e-bfde317ce4d3', u'name': u'Jennifer Lopez'}, u'url': u'http://www.last.fm/music/Jennifer+Lopez/_/If+You+Had+My+Love', u'image': [{u'#text': u'http://userserve-ak.last.fm/serve/34s/44969241.png', u'size': u'small'}, {u'#text': u'http://userserve-ak.last.fm/serve/64s/44969241.png', u'size': u'medium'}, {u'#text': u'http://userserve-ak.last.fm/serve/126/44969241.png', u'size': u'large'}, {u'#text': u'http://userserve-ak.last.fm/serve/300x300/44969241.png', u'size': u'extralarge'}], u'mbid': u'bb9401f9-41b1-4a5d-9b8c-b2ae039c09fe', u'duration': u'239000', u'playcount': u'854774', u'match': u'0.166199'},\n",
        "       {u'streamable': {u'#text': u'0', u'fulltrack': u'0'}, u'name': u'The Sign', u'artist': {u'url': u'http://www.last.fm/music/Ace+of+Base', u'mbid': u'd4a1404d-e00c-4bac-b3ba-e3557f6468d6', u'name': u'Ace of Base'}, u'url': u'http://www.last.fm/music/Ace+of+Base/_/The+Sign', u'image': [{u'#text': u'http://userserve-ak.last.fm/serve/34s/40729473.png', u'size': u'small'}, {u'#text': u'http://userserve-ak.last.fm/serve/64s/40729473.png', u'size': u'medium'}, {u'#text': u'http://userserve-ak.last.fm/serve/126/40729473.png', u'size': u'large'}, {u'#text': u'http://userserve-ak.last.fm/serve/300x300/40729473.png', u'size': u'extralarge'}], u'mbid': u'60535489-7d75-4686-a578-a42ca0cd1e49', u'duration': u'239000', u'playcount': u'1086275', u'match': u'0.161353'},\n",
        "       {u'streamable': {u'#text': u'0', u'fulltrack': u'0'}, u'name': u'Only Girl (In the World)', u'artist': {u'url': u'http://www.last.fm/music/Rihanna', u'mbid': u'69989475-2971-49aa-8c53-5d74af88b8be', u'name': u'Rihanna'}, u'url': u'http://www.last.fm/music/Rihanna/_/Only+Girl+(In+the+World)', u'image': [{u'#text': u'http://userserve-ak.last.fm/serve/34s/88146101.png', u'size': u'small'}, {u'#text': u'http://userserve-ak.last.fm/serve/64s/88146101.png', u'size': u'medium'}, {u'#text': u'http://userserve-ak.last.fm/serve/126/88146101.png', u'size': u'large'}, {u'#text': u'http://userserve-ak.last.fm/serve/300x300/88146101.png', u'size': u'extralarge'}], u'mbid': u'c1fd17a9-2900-4f45-812c-4a90fcc0a61c', u'duration': u'239000', u'playcount': u'5597424', u'match': u'0.16064'},\n",
        "       {u'streamable': {u'#text': u'0', u'fulltrack': u'0'}, u'name': u'Time After Time', u'artist': {u'url': u'http://www.last.fm/music/Cyndi+Lauper', u'mbid': u'7bd9e20e-74b9-446a-a2ed-a223f82a36e7', u'name': u'Cyndi Lauper'}, u'url': u'http://www.last.fm/music/Cyndi+Lauper/_/Time+After+Time', u'image': [{u'#text': u'http://userserve-ak.last.fm/serve/34s/86893581.png', u'size': u'small'}, {u'#text': u'http://userserve-ak.last.fm/serve/64s/86893581.png', u'size': u'medium'}, {u'#text': u'http://userserve-ak.last.fm/serve/126/86893581.png', u'size': u'large'}, {u'#text': u'http://userserve-ak.last.fm/serve/300x300/86893581.png', u'size': u'extralarge'}], u'mbid': u'1408a530-838c-40da-a2f5-94f96a94ca3a', u'duration': u'239000', u'playcount': u'2402547', u'match': u'0.157981'},\n",
        "       {u'streamable': {u'#text': u'0', u'fulltrack': u'0'}, u'name': u'I Love It (feat. Charli XCX)', u'artist': {u'url': u'http://www.last.fm/music/Icona+Pop', u'mbid': u'c5f259d0-abd8-418e-81ee-3965fd4e4e9a', u'name': u'Icona Pop'}, u'url': u'http://www.last.fm/music/Icona+Pop/_/I+Love+It+(feat.+Charli+XCX)', u'mbid': u'', u'duration': u'239000', u'playcount': u'3296425', u'match': u'0.155039'},\n",
        "       {u'streamable': {u'#text': u'0', u'fulltrack': u'0'}, u'name': u'Murder on the Dancefloor', u'artist': {u'url': u'http://www.last.fm/music/Sophie+Ellis-Bextor', u'mbid': u'83e6822d-668b-4d2c-b136-84130afac0dc', u'name': u'Sophie Ellis-Bextor'}, u'url': u'http://www.last.fm/music/Sophie+Ellis-Bextor/_/Murder+on+the+Dancefloor', u'image': [{u'#text': u'http://userserve-ak.last.fm/serve/34s/71980984.png', u'size': u'small'}, {u'#text': u'http://userserve-ak.last.fm/serve/64s/71980984.png', u'size': u'medium'}, {u'#text': u'http://userserve-ak.last.fm/serve/126/71980984.png', u'size': u'large'}, {u'#text': u'http://userserve-ak.last.fm/serve/300x300/71980984.png', u'size': u'extralarge'}], u'mbid': u'44e38b7b-11b1-4ada-82e2-6583c947aa34', u'duration': u'239000', u'playcount': u'1269334', u'match': u'0.153947'},\n",
        "       {u'streamable': {u'#text': u'0', u'fulltrack': u'0'}, u'name': u'We Found Love (feat. Calvin Harris)', u'artist': {u'url': u'http://www.last.fm/music/Rihanna', u'mbid': u'69989475-2971-49aa-8c53-5d74af88b8be', u'name': u'Rihanna'}, u'url': u'http://www.last.fm/music/Rihanna/_/We+Found+Love+(feat.+Calvin+Harris)', u'image': [{u'#text': u'http://userserve-ak.last.fm/serve/34s/88376087.png', u'size': u'small'}, {u'#text': u'http://userserve-ak.last.fm/serve/64s/88376087.png', u'size': u'medium'}, {u'#text': u'http://userserve-ak.last.fm/serve/126/88376087.png', u'size': u'large'}, {u'#text': u'http://userserve-ak.last.fm/serve/300x300/88376087.png', u'size': u'extralarge'}], u'mbid': u'', u'duration': u'239000', u'playcount': u'6504552', u'match': u'0.151339'},\n",
        "       {u'streamable': {u'#text': u'0', u'fulltrack': u'0'}, u'name': u'Together Again', u'artist': {u'url': u'http://www.last.fm/music/Janet+Jackson', u'mbid': u'6be2828f-6c0d-4059-99d4-fa18acf1a296', u'name': u'Janet Jackson'}, u'url': u'http://www.last.fm/music/Janet+Jackson/_/Together+Again', u'image': [{u'#text': u'http://userserve-ak.last.fm/serve/34s/97902951.png', u'size': u'small'}, {u'#text': u'http://userserve-ak.last.fm/serve/64s/97902951.png', u'size': u'medium'}, {u'#text': u'http://userserve-ak.last.fm/serve/126/97902951.png', u'size': u'large'}, {u'#text': u'http://userserve-ak.last.fm/serve/300x300/97902951.png', u'size': u'extralarge'}], u'mbid': u'03659fc1-e2b6-407c-8f90-8854fbfe82c7', u'duration': u'239000', u'playcount': u'566685', u'match': u'0.150904'},\n",
        "       {u'streamable': {u'#text': u'0', u'fulltrack': u'0'}, u'name': u'Birthday', u'artist': {u'url': u'http://www.last.fm/music/Katy+Perry', u'mbid': u'122d63fc-8671-43e4-9752-34e846d62a9c', u'name': u'Katy Perry'}, u'url': u'http://www.last.fm/music/Katy+Perry/_/Birthday', u'image': [{u'#text': u'http://userserve-ak.last.fm/serve/34s/98230957.png', u'size': u'small'}, {u'#text': u'http://userserve-ak.last.fm/serve/64s/98230957.png', u'size': u'medium'}, {u'#text': u'http://userserve-ak.last.fm/serve/126/98230957.png', u'size': u'large'}, {u'#text': u'http://userserve-ak.last.fm/serve/300x300/98230957.png', u'size': u'extralarge'}], u'mbid': u'8b2d135d-2f37-4a1c-8795-35ec075be68f', u'duration': u'239000', u'playcount': u'1058843', u'match': u'0.148664'},\n",
        "       {u'streamable': {u'#text': u'0', u'fulltrack': u'0'}, u'name': u'Domino', u'artist': {u'url': u'http://www.last.fm/music/Jessie+J', u'mbid': u'd24fb461-dee8-41fc-bb15-2f13bb2644a6', u'name': u'Jessie J'}, u'url': u'http://www.last.fm/music/Jessie+J/_/Domino', u'image': [{u'#text': u'http://userserve-ak.last.fm/serve/34s/59989281.png', u'size': u'small'}, {u'#text': u'http://userserve-ak.last.fm/serve/64s/59989281.png', u'size': u'medium'}, {u'#text': u'http://userserve-ak.last.fm/serve/126/59989281.png', u'size': u'large'}, {u'#text': u'http://userserve-ak.last.fm/serve/300x300/59989281.png', u'size': u'extralarge'}], u'mbid': u'3e5da524-7dc7-44b9-abbb-c1a0cad3a496', u'duration': u'239000', u'playcount': u'2305766', u'match': u'0.145549'},\n",
        "       {u'streamable': {u'#text': u'0', u'fulltrack': u'0'}, u'name': u'Die Young', u'artist': {u'url': u'http://www.last.fm/music/Ke$ha', u'mbid': u'd20c9b30-d59e-4426-b804-82a0e54dbe14', u'name': u'Ke$ha'}, u'url': u'http://www.last.fm/music/Ke$ha/_/Die+Young', u'image': [{u'#text': u'http://userserve-ak.last.fm/serve/34s/82291883.png', u'size': u'small'}, {u'#text': u'http://userserve-ak.last.fm/serve/64s/82291883.png', u'size': u'medium'}, {u'#text': u'http://userserve-ak.last.fm/serve/126/82291883.png', u'size': u'large'}, {u'#text': u'http://userserve-ak.last.fm/serve/300x300/82291883.png', u'size': u'extralarge'}], u'mbid': u'2a924daa-b652-4296-8e37-c0353fc2c4f6', u'duration': u'239000', u'playcount': u'2907178', u'match': u'0.145304'},\n",
        "       {u'streamable': {u'#text': u'0', u'fulltrack': u'0'}, u'name': u'What You Waiting For?', u'artist': {u'url': u'http://www.last.fm/music/Gwen+Stefani', u'mbid': u'2e41ae9c-afd2-4f20-8f1e-17281ce9b472', u'name': u'Gwen Stefani'}, u'url': u'http://www.last.fm/music/Gwen+Stefani/_/What+You+Waiting+For%3F', u'image': [{u'#text': u'http://userserve-ak.last.fm/serve/34s/92961231.png', u'size': u'small'}, {u'#text': u'http://userserve-ak.last.fm/serve/64s/92961231.png', u'size': u'medium'}, {u'#text': u'http://userserve-ak.last.fm/serve/126/92961231.png', u'size': u'large'}, {u'#text': u'http://userserve-ak.last.fm/serve/300x300/92961231.png', u'size': u'extralarge'}], u'mbid': u'00b0f9ec-6bff-449e-98ea-50ac5129f215', u'duration': u'239000', u'playcount': u'1760556', u'match': u'0.143534'},\n",
        "       {u'streamable': {u'#text': u'0', u'fulltrack': u'0'}, u'name': u'Your Love Is My Drug', u'artist': {u'url': u'http://www.last.fm/music/Ke$ha', u'mbid': u'd20c9b30-d59e-4426-b804-82a0e54dbe14', u'name': u'Ke$ha'}, u'url': u'http://www.last.fm/music/Ke$ha/_/Your+Love+Is+My+Drug', u'image': [{u'#text': u'http://userserve-ak.last.fm/serve/34s/98408283.png', u'size': u'small'}, {u'#text': u'http://userserve-ak.last.fm/serve/64s/98408283.png', u'size': u'medium'}, {u'#text': u'http://userserve-ak.last.fm/serve/126/98408283.png', u'size': u'large'}, {u'#text': u'http://userserve-ak.last.fm/serve/300x300/98408283.png', u'size': u'extralarge'}], u'mbid': u'3c848550-0f64-4c30-b50a-d750672a2217', u'duration': u'239000', u'playcount': u'3864405', u'match': u'0.143186'},\n",
        "       {u'streamable': {u'#text': u'0', u'fulltrack': u'0'}, u'name': u'Dancing on My Own', u'artist': {u'url': u'http://www.last.fm/music/Robyn', u'mbid': u'5a8e07d5-d932-4484-a7f7-e700793a9c94', u'name': u'Robyn'}, u'url': u'http://www.last.fm/music/Robyn/_/Dancing+on+My+Own', u'image': [{u'#text': u'http://userserve-ak.last.fm/serve/34s/55183065.png', u'size': u'small'}, {u'#text': u'http://userserve-ak.last.fm/serve/64s/55183065.png', u'size': u'medium'}, {u'#text': u'http://userserve-ak.last.fm/serve/126/55183065.png', u'size': u'large'}, {u'#text': u'http://userserve-ak.last.fm/serve/300x300/55183065.png', u'size': u'extralarge'}], u'mbid': u'79ae7638-afcd-4b94-ac52-37eb33aeefc3', u'duration': u'239000', u'playcount': u'2751726', u'match': u'0.142928'},\n",
        "       {u'streamable': {u'#text': u'0', u'fulltrack': u'0'}, u'name': u\"Livin' La Vida Loca\", u'artist': {u'url': u'http://www.last.fm/music/Ricky+Martin', u'mbid': u'70ea63ea-70dc-4b63-951a-2c249d2b3b0a', u'name': u'Ricky Martin'}, u'url': u'http://www.last.fm/music/Ricky+Martin/_/Livin%27+La+Vida+Loca', u'image': [{u'#text': u'http://userserve-ak.last.fm/serve/34s/71937120.png', u'size': u'small'}, {u'#text': u'http://userserve-ak.last.fm/serve/64s/71937120.png', u'size': u'medium'}, {u'#text': u'http://userserve-ak.last.fm/serve/126/71937120.png', u'size': u'large'}, {u'#text': u'http://userserve-ak.last.fm/serve/300x300/71937120.png', u'size': u'extralarge'}], u'mbid': u'02dea461-4c05-4568-97b9-213fb2f1001e', u'duration': u'239000', u'playcount': u'782359', u'match': u'0.139624'},\n",
        "       {u'streamable': {u'#text': u'0', u'fulltrack': u'0'}, u'name': u\"It's Raining Men\", u'artist': {u'url': u'http://www.last.fm/music/Geri+Halliwell', u'mbid': u'23207c32-6743-4982-9f46-e297b2e4eb14', u'name': u'Geri Halliwell'}, u'url': u'http://www.last.fm/music/Geri+Halliwell/_/It%27s+Raining+Men', u'image': [{u'#text': u'http://userserve-ak.last.fm/serve/34s/98087067.jpg', u'size': u'small'}, {u'#text': u'http://userserve-ak.last.fm/serve/64s/98087067.jpg', u'size': u'medium'}, {u'#text': u'http://userserve-ak.last.fm/serve/126/98087067.jpg', u'size': u'large'}, {u'#text': u'http://userserve-ak.last.fm/serve/300x300/98087067.jpg', u'size': u'extralarge'}], u'mbid': u'ba9dbfff-f193-43b8-b1ab-7c5ad426ab14', u'duration': u'239000', u'playcount': u'392013', u'match': u'0.139286'},\n",
        "       {u'streamable': {u'#text': u'0', u'fulltrack': u'0'}, u'name': u'Cool', u'artist': {u'url': u'http://www.last.fm/music/Gwen+Stefani', u'mbid': u'2e41ae9c-afd2-4f20-8f1e-17281ce9b472', u'name': u'Gwen Stefani'}, u'url': u'http://www.last.fm/music/Gwen+Stefani/_/Cool', u'image': [{u'#text': u'http://userserve-ak.last.fm/serve/34s/92961231.png', u'size': u'small'}, {u'#text': u'http://userserve-ak.last.fm/serve/64s/92961231.png', u'size': u'medium'}, {u'#text': u'http://userserve-ak.last.fm/serve/126/92961231.png', u'size': u'large'}, {u'#text': u'http://userserve-ak.last.fm/serve/300x300/92961231.png', u'size': u'extralarge'}], u'mbid': u'dc0cce76-0cec-4ffd-b02a-791042c87936', u'duration': u'239000', u'playcount': u'2293192', u'match': u'0.136613'},\n",
        "       {u'streamable': {u'#text': u'0', u'fulltrack': u'0'}, u'name': u'Starships', u'artist': {u'url': u'http://www.last.fm/music/Nicki+Minaj', u'mbid': u'1036b808-f58c-4a3e-b461-a2c4492ecf1b', u'name': u'Nicki Minaj'}, u'url': u'http://www.last.fm/music/Nicki+Minaj/_/Starships', u'image': [{u'#text': u'http://userserve-ak.last.fm/serve/34s/74443516.png', u'size': u'small'}, {u'#text': u'http://userserve-ak.last.fm/serve/64s/74443516.png', u'size': u'medium'}, {u'#text': u'http://userserve-ak.last.fm/serve/126/74443516.png', u'size': u'large'}, {u'#text': u'http://userserve-ak.last.fm/serve/300x300/74443516.png', u'size': u'extralarge'}], u'mbid': u'e5755e48-0a36-4428-a6db-04b5ed100a83', u'duration': u'239000', u'playcount': u'3646200', u'match': u'0.135678'},\n",
        "       {u'streamable': {u'#text': u'0', u'fulltrack': u'0'}, u'name': u'I Wanna Dance with Somebody (Who Loves Me)', u'artist': {u'url': u'http://www.last.fm/music/Whitney+Houston', u'mbid': u'0307edfc-437c-4b48-8700-80680e66a228', u'name': u'Whitney Houston'}, u'url': u'http://www.last.fm/music/Whitney+Houston/_/I+Wanna+Dance+with+Somebody+(Who+Loves+Me)', u'image': [{u'#text': u'http://userserve-ak.last.fm/serve/34s/82830587.png', u'size': u'small'}, {u'#text': u'http://userserve-ak.last.fm/serve/64s/82830587.png', u'size': u'medium'}, {u'#text': u'http://userserve-ak.last.fm/serve/126/82830587.png', u'size': u'large'}, {u'#text': u'http://userserve-ak.last.fm/serve/300x300/82830587.png', u'size': u'extralarge'}], u'mbid': u'363eb084-5711-4615-a169-50fc3a80e296', u'duration': u'239000', u'playcount': u'404681', u'match': u'0.133825'},\n",
        "       {u'streamable': {u'#text': u'0', u'fulltrack': u'0'}, u'name': u'Hero', u'artist': {u'url': u'http://www.last.fm/music/Mariah+Carey', u'mbid': u'494e8d09-f85b-4543-892f-a5096aed1cd4', u'name': u'Mariah Carey'}, u'url': u'http://www.last.fm/music/Mariah+Carey/_/Hero', u'image': [{u'#text': u'http://userserve-ak.last.fm/serve/34s/98182487.png', u'size': u'small'}, {u'#text': u'http://userserve-ak.last.fm/serve/64s/98182487.png', u'size': u'medium'}, {u'#text': u'http://userserve-ak.last.fm/serve/126/98182487.png', u'size': u'large'}, {u'#text': u'http://userserve-ak.last.fm/serve/300x300/98182487.png', u'size': u'extralarge'}], u'mbid': u'2ea5e2c3-b89c-49df-9173-0c4f36141d1a', u'duration': u'239000', u'playcount': u'1055303', u'match': u'0.12588'},\n",
        "       {u'streamable': {u'#text': u'0', u'fulltrack': u'0'}, u'name': u'Left Outside Alone', u'artist': {u'url': u'http://www.last.fm/music/Anastacia', u'mbid': u'd3b2bec4-b70e-460e-b433-a865ceac2de8', u'name': u'Anastacia'}, u'url': u'http://www.last.fm/music/Anastacia/_/Left+Outside+Alone', u'image': [{u'#text': u'http://userserve-ak.last.fm/serve/34s/83762979.png', u'size': u'small'}, {u'#text': u'http://userserve-ak.last.fm/serve/64s/83762979.png', u'size': u'medium'}, {u'#text': u'http://userserve-ak.last.fm/serve/126/83762979.png', u'size': u'large'}, {u'#text': u'http://userserve-ak.last.fm/serve/300x300/83762979.png', u'size': u'extralarge'}], u'mbid': u'126e356b-5538-4b17-b599-3d95fedbf349', u'duration': u'239000', u'playcount': u'872083', u'match': u'0.125772'},\n",
        "       {u'streamable': {u'#text': u'0', u'fulltrack': u'0'}, u'name': u'She Wolf', u'artist': {u'url': u'http://www.last.fm/music/Shakira', u'mbid': u'726cb350-d775-4e07-b006-898555f24b0d', u'name': u'Shakira'}, u'url': u'http://www.last.fm/music/Shakira/_/She+Wolf', u'image': [{u'#text': u'http://userserve-ak.last.fm/serve/34s/53035029.png', u'size': u'small'}, {u'#text': u'http://userserve-ak.last.fm/serve/64s/53035029.png', u'size': u'medium'}, {u'#text': u'http://userserve-ak.last.fm/serve/126/53035029.png', u'size': u'large'}, {u'#text': u'http://userserve-ak.last.fm/serve/300x300/53035029.png', u'size': u'extralarge'}], u'mbid': u'e36f49e9-c215-41f3-8579-3f56481d91a6', u'duration': u'239000', u'playcount': u'2943420', u'match': u'0.125358'},\n",
        "       {u'streamable': {u'#text': u'0', u'fulltrack': u'0'}, u'name': u'Fantasy', u'artist': {u'url': u'http://www.last.fm/music/Mariah+Carey', u'mbid': u'494e8d09-f85b-4543-892f-a5096aed1cd4', u'name': u'Mariah Carey'}, u'url': u'http://www.last.fm/music/Mariah+Carey/_/Fantasy', u'image': [{u'#text': u'http://userserve-ak.last.fm/serve/34s/98182467.png', u'size': u'small'}, {u'#text': u'http://userserve-ak.last.fm/serve/64s/98182467.png', u'size': u'medium'}, {u'#text': u'http://userserve-ak.last.fm/serve/126/98182467.png', u'size': u'large'}, {u'#text': u'http://userserve-ak.last.fm/serve/300x300/98182467.png', u'size': u'extralarge'}], u'mbid': u'ced408d9-b686-4aac-89f4-1e778cab0b48', u'duration': u'239000', u'playcount': u'795669', u'match': u'0.125033'},\n",
        "       {u'streamable': {u'#text': u'0', u'fulltrack': u'0'}, u'name': u'Come & Get It', u'artist': {u'url': u'http://www.last.fm/music/Selena+Gomez', u'mbid': u'e4bc69e2-a064-4f93-ada1-f7f209cc1cc3', u'name': u'Selena Gomez'}, u'url': u'http://www.last.fm/music/Selena+Gomez/_/Come+&+Get+It', u'image': [{u'#text': u'http://userserve-ak.last.fm/serve/34s/89488221.png', u'size': u'small'}, {u'#text': u'http://userserve-ak.last.fm/serve/64s/89488221.png', u'size': u'medium'}, {u'#text': u'http://userserve-ak.last.fm/serve/126/89488221.png', u'size': u'large'}, {u'#text': u'http://userserve-ak.last.fm/serve/300x300/89488221.png', u'size': u'extralarge'}], u'mbid': u'31990f0e-a62b-4577-ae31-21af514a5da0', u'duration': u'239000', u'playcount': u'1869314', u'match': u'0.124783'},\n",
        "       {u'streamable': {u'#text': u'0', u'fulltrack': u'0'}, u'name': u'Supermodel (You Better Work)', u'artist': {u'url': u'http://www.last.fm/music/RuPaul', u'mbid': u'15257a48-d9f6-4fd1-b30e-323576b15aca', u'name': u'RuPaul'}, u'url': u'http://www.last.fm/music/RuPaul/_/Supermodel+(You+Better+Work)', u'image': [{u'#text': u'http://images.amazon.com/images/P/B0000015IY.01._SCMZZZZZZZ_.jpg', u'size': u'small'}, {u'#text': u'http://images.amazon.com/images/P/B0000015IY.01._SCMZZZZZZZ_.jpg', u'size': u'medium'}, {u'#text': u'http://images.amazon.com/images/P/B0000015IY.01._SCMZZZZZZZ_.jpg', u'size': u'large'}, {u'#text': u'http://images.amazon.com/images/P/B0000015IY.01._SCMZZZZZZZ_.jpg', u'size': u'extralarge'}], u'mbid': u'ff9782e3-39da-45b0-b6ad-1e6b9dbc083a', u'duration': u'239000', u'playcount': u'61368', u'match': u'0.124773'},\n",
        "       {u'streamable': {u'#text': u'0', u'fulltrack': u'0'}, u'name': u'Call Your Girlfriend', u'artist': {u'url': u'http://www.last.fm/music/Robyn', u'mbid': u'5a8e07d5-d932-4484-a7f7-e700793a9c94', u'name': u'Robyn'}, u'url': u'http://www.last.fm/music/Robyn/_/Call+Your+Girlfriend', u'image': [{u'#text': u'http://userserve-ak.last.fm/serve/34s/54236123.png', u'size': u'small'}, {u'#text': u'http://userserve-ak.last.fm/serve/64s/54236123.png', u'size': u'medium'}, {u'#text': u'http://userserve-ak.last.fm/serve/126/54236123.png', u'size': u'large'}, {u'#text': u'http://userserve-ak.last.fm/serve/300x300/54236123.png', u'size': u'extralarge'}], u'mbid': u'66e342f1-ca85-4576-807d-8e3857d4f142', u'duration': u'239000', u'playcount': u'1558334', u'match': u'0.123613'},\n",
        "       {u'streamable': {u'#text': u'0', u'fulltrack': u'0'}, u'name': u'Say It Right', u'artist': {u'url': u'http://www.last.fm/music/Nelly+Furtado', u'mbid': u'13655113-cd16-4b43-9dca-cadbbf26ee05', u'name': u'Nelly Furtado'}, u'url': u'http://www.last.fm/music/Nelly+Furtado/_/Say+It+Right', u'image': [{u'#text': u'http://userserve-ak.last.fm/serve/34s/100174867.png', u'size': u'small'}, {u'#text': u'http://userserve-ak.last.fm/serve/64s/100174867.png', u'size': u'medium'}, {u'#text': u'http://userserve-ak.last.fm/serve/126/100174867.png', u'size': u'large'}, {u'#text': u'http://userserve-ak.last.fm/serve/300x300/100174867.png', u'size': u'extralarge'}], u'mbid': u'e787999f-46f5-4d97-9b46-11a3a9b0a2d5', u'duration': u'239000', u'playcount': u'5087776', u'match': u'0.122928'},\n",
        "       {u'streamable': {u'#text': u'0', u'fulltrack': u'0'}, u'name': u'Something New', u'artist': {u'url': u'http://www.last.fm/music/Girls+Aloud', u'mbid': u'a0b2f210-cd3a-453d-937d-e4f2658d17c7', u'name': u'Girls Aloud'}, u'url': u'http://www.last.fm/music/Girls+Aloud/_/Something+New', u'image': [{u'#text': u'http://userserve-ak.last.fm/serve/34s/94710683.png', u'size': u'small'}, {u'#text': u'http://userserve-ak.last.fm/serve/64s/94710683.png', u'size': u'medium'}, {u'#text': u'http://userserve-ak.last.fm/serve/126/94710683.png', u'size': u'large'}, {u'#text': u'http://userserve-ak.last.fm/serve/300x300/94710683.png', u'size': u'extralarge'}], u'mbid': u'b4be7f77-bb4d-46ac-931a-1fe0f8b16a9e', u'duration': u'239000', u'playcount': u'636328', u'match': u'0.121956'},\n",
        "       {u'streamable': {u'#text': u'0', u'fulltrack': u'0'}, u'name': u'Jealous Of My Boogie', u'artist': {u'url': u'http://www.last.fm/music/RuPaul', u'mbid': u'15257a48-d9f6-4fd1-b30e-323576b15aca', u'name': u'RuPaul'}, u'url': u'http://www.last.fm/music/RuPaul/_/Jealous+Of+My+Boogie', u'image': [{u'#text': u'http://userserve-ak.last.fm/serve/34s/98227633.png', u'size': u'small'}, {u'#text': u'http://userserve-ak.last.fm/serve/64s/98227633.png', u'size': u'medium'}, {u'#text': u'http://userserve-ak.last.fm/serve/126/98227633.png', u'size': u'large'}, {u'#text': u'http://userserve-ak.last.fm/serve/300x300/98227633.png', u'size': u'extralarge'}], u'mbid': u'7ed638fe-111c-4648-8a9d-eeaa891269ca', u'duration': u'239000', u'playcount': u'119646', u'match': u'0.120636'},\n",
        "       {u'streamable': {u'#text': u'0', u'fulltrack': u'0'}, u'name': u'Maria', u'artist': {u'url': u'http://www.last.fm/music/Blondie', u'mbid': u'4d2956d1-a3f7-44bb-9a41-67563e1a0c94', u'name': u'Blondie'}, u'url': u'http://www.last.fm/music/Blondie/_/Maria', u'image': [{u'#text': u'http://userserve-ak.last.fm/serve/34s/100726675.png', u'size': u'small'}, {u'#text': u'http://userserve-ak.last.fm/serve/64s/100726675.png', u'size': u'medium'}, {u'#text': u'http://userserve-ak.last.fm/serve/126/100726675.png', u'size': u'large'}, {u'#text': u'http://userserve-ak.last.fm/serve/300x300/100726675.png', u'size': u'extralarge'}], u'mbid': u'3a28489d-5c4d-42e3-a2a5-b938dc41f535', u'duration': u'239000', u'playcount': u'1315241', u'match': u'0.120365'},\n",
        "       {u'streamable': {u'#text': u'0', u'fulltrack': u'0'}, u'name': u'Empire', u'artist': {u'url': u'http://www.last.fm/music/Shakira', u'mbid': u'726cb350-d775-4e07-b006-898555f24b0d', u'name': u'Shakira'}, u'url': u'http://www.last.fm/music/Shakira/_/Empire', u'image': [{u'#text': u'http://userserve-ak.last.fm/serve/34s/97145547.png', u'size': u'small'}, {u'#text': u'http://userserve-ak.last.fm/serve/64s/97145547.png', u'size': u'medium'}, {u'#text': u'http://userserve-ak.last.fm/serve/126/97145547.png', u'size': u'large'}, {u'#text': u'http://userserve-ak.last.fm/serve/300x300/97145547.png', u'size': u'extralarge'}], u'mbid': u'4fb07e4c-8a52-40e6-9529-bfb0af1e0643', u'duration': u'239000', u'playcount': u'474424', u'match': u'0.11968'},\n",
        "       {u'streamable': {u'#text': u'0', u'fulltrack': u'0'}, u'name': u\"Don't Hold Your Breath\", u'artist': {u'url': u'http://www.last.fm/music/Nicole+Scherzinger', u'mbid': u'0a390d85-5bb7-4161-a615-aad48962aabd', u'name': u'Nicole Scherzinger'}, u'url': u'http://www.last.fm/music/Nicole+Scherzinger/_/Don%27t+Hold+Your+Breath', u'image': [{u'#text': u'http://userserve-ak.last.fm/serve/34s/65762154.jpg', u'size': u'small'}, {u'#text': u'http://userserve-ak.last.fm/serve/64s/65762154.jpg', u'size': u'medium'}, {u'#text': u'http://userserve-ak.last.fm/serve/126/65762154.jpg', u'size': u'large'}, {u'#text': u'http://userserve-ak.last.fm/serve/300x300/65762154.jpg', u'size': u'extralarge'}], u'mbid': u'a0842b4a-6b42-4a45-b309-48445b58333c', u'duration': u'239000', u'playcount': u'1190391', u'match': u'0.119228'},\n",
        "       {u'streamable': {u'#text': u'0', u'fulltrack': u'0'}, u'name': u'Moving on Up', u'artist': {u'url': u'http://www.last.fm/music/M+People', u'mbid': u'f6f69dba-4c49-4f1b-a6bc-678c1154f32d', u'name': u'M People'}, u'url': u'http://www.last.fm/music/M+People/_/Moving+on+Up', u'image': [{u'#text': u'http://userserve-ak.last.fm/serve/34s/4576293.jpg', u'size': u'small'}, {u'#text': u'http://userserve-ak.last.fm/serve/64s/4576293.jpg', u'size': u'medium'}, {u'#text': u'http://userserve-ak.last.fm/serve/126/4576293.jpg', u'size': u'large'}, {u'#text': u'http://userserve-ak.last.fm/serve/300x300/4576293.jpg', u'size': u'extralarge'}], u'mbid': u'0e3906b9-e1e5-4d6d-8f31-975ef3a22724', u'duration': u'239000', u'playcount': u'215124', u'match': u'0.117452'},\n",
        "       {u'streamable': {u'#text': u'0', u'fulltrack': u'0'}, u'name': u\"I'm Outta Love\", u'artist': {u'url': u'http://www.last.fm/music/Anastacia', u'mbid': u'd3b2bec4-b70e-460e-b433-a865ceac2de8', u'name': u'Anastacia'}, u'url': u'http://www.last.fm/music/Anastacia/_/I%27m+Outta+Love', u'image': [{u'#text': u'http://userserve-ak.last.fm/serve/34s/86123697.png', u'size': u'small'}, {u'#text': u'http://userserve-ak.last.fm/serve/64s/86123697.png', u'size': u'medium'}, {u'#text': u'http://userserve-ak.last.fm/serve/126/86123697.png', u'size': u'large'}, {u'#text': u'http://userserve-ak.last.fm/serve/300x300/86123697.png', u'size': u'extralarge'}], u'mbid': u'10b9d8d4-2205-47b8-ad51-87bb214cff25', u'duration': u'239000', u'playcount': u'471934', u'match': u'0.117186'},\n",
        "       {u'streamable': {u'#text': u'0', u'fulltrack': u'0'}, u'name': u'Va Va Voom', u'artist': {u'url': u'http://www.last.fm/music/Nicki+Minaj', u'mbid': u'1036b808-f58c-4a3e-b461-a2c4492ecf1b', u'name': u'Nicki Minaj'}, u'url': u'http://www.last.fm/music/Nicki+Minaj/_/Va+Va+Voom', u'image': [{u'#text': u'http://userserve-ak.last.fm/serve/34s/90395587.png', u'size': u'small'}, {u'#text': u'http://userserve-ak.last.fm/serve/64s/90395587.png', u'size': u'medium'}, {u'#text': u'http://userserve-ak.last.fm/serve/126/90395587.png', u'size': u'large'}, {u'#text': u'http://userserve-ak.last.fm/serve/300x300/90395587.png', u'size': u'extralarge'}], u'mbid': u'559d6bc0-003c-4aea-bb41-33206279b7aa', u'duration': u'239000', u'playcount': u'1116829', u'match': u'0.117037'},\n",
        "       {u'streamable': {u'#text': u'0', u'fulltrack': u'0'}, u'name': u'All for You', u'artist': {u'url': u'http://www.last.fm/music/Janet+Jackson', u'mbid': u'6be2828f-6c0d-4059-99d4-fa18acf1a296', u'name': u'Janet Jackson'}, u'url': u'http://www.last.fm/music/Janet+Jackson/_/All+for+You', u'image': [{u'#text': u'http://userserve-ak.last.fm/serve/34s/45239385.png', u'size': u'small'}, {u'#text': u'http://userserve-ak.last.fm/serve/64s/45239385.png', u'size': u'medium'}, {u'#text': u'http://userserve-ak.last.fm/serve/126/45239385.png', u'size': u'large'}, {u'#text': u'http://userserve-ak.last.fm/serve/300x300/45239385.png', u'size': u'extralarge'}], u'mbid': u'216b0d95-63eb-4b85-b229-386c81d2434c', u'duration': u'239000', u'playcount': u'553562', u'match': u'0.117022'},\n",
        "       {u'streamable': {u'#text': u'0', u'fulltrack': u'0'}, u'name': u\"I'm Like a Bird\", u'artist': {u'url': u'http://www.last.fm/music/Nelly+Furtado', u'mbid': u'13655113-cd16-4b43-9dca-cadbbf26ee05', u'name': u'Nelly Furtado'}, u'url': u'http://www.last.fm/music/Nelly+Furtado/_/I%27m+Like+a+Bird', u'image': [{u'#text': u'http://userserve-ak.last.fm/serve/34s/80658667.png', u'size': u'small'}, {u'#text': u'http://userserve-ak.last.fm/serve/64s/80658667.png', u'size': u'medium'}, {u'#text': u'http://userserve-ak.last.fm/serve/126/80658667.png', u'size': u'large'}, {u'#text': u'http://userserve-ak.last.fm/serve/300x300/80658667.png', u'size': u'extralarge'}], u'mbid': u'e9750236-774b-460d-bd4d-fdf05b3fc367', u'duration': u'239000', u'playcount': u'1517329', u'match': u'0.115598'},\n",
        "       {u'streamable': {u'#text': u'0', u'fulltrack': u'0'}, u'name': u'True Colors', u'artist': {u'url': u'http://www.last.fm/music/Cyndi+Lauper', u'mbid': u'7bd9e20e-74b9-446a-a2ed-a223f82a36e7', u'name': u'Cyndi Lauper'}, u'url': u'http://www.last.fm/music/Cyndi+Lauper/_/True+Colors', u'image': [{u'#text': u'http://userserve-ak.last.fm/serve/34s/78638582.png', u'size': u'small'}, {u'#text': u'http://userserve-ak.last.fm/serve/64s/78638582.png', u'size': u'medium'}, {u'#text': u'http://userserve-ak.last.fm/serve/126/78638582.png', u'size': u'large'}, {u'#text': u'http://userserve-ak.last.fm/serve/300x300/78638582.png', u'size': u'extralarge'}], u'mbid': u'0d2853b3-2dfc-4739-b5f1-1266b0e7084a', u'duration': u'239000', u'playcount': u'1091749', u'match': u'0.115263'},\n",
        "       {u'streamable': {u'#text': u'0', u'fulltrack': u'0'}, u'name': u\"Can't Fight the Moonlight\", u'artist': {u'url': u'http://www.last.fm/music/LeAnn+Rimes', u'mbid': u'6043a59f-e948-4421-b86b-2259cfd3926c', u'name': u'LeAnn Rimes'}, u'url': u'http://www.last.fm/music/LeAnn+Rimes/_/Can%27t+Fight+the+Moonlight', u'image': [{u'#text': u'http://userserve-ak.last.fm/serve/34s/41950279.png', u'size': u'small'}, {u'#text': u'http://userserve-ak.last.fm/serve/64s/41950279.png', u'size': u'medium'}, {u'#text': u'http://userserve-ak.last.fm/serve/126/41950279.png', u'size': u'large'}, {u'#text': u'http://userserve-ak.last.fm/serve/300x300/41950279.png', u'size': u'extralarge'}], u'mbid': u'', u'duration': u'239000', u'playcount': u'831378', u'match': u'0.110602'},\n",
        "       {u'streamable': {u'#text': u'0', u'fulltrack': u'0'}, u'name': u'Poison', u'artist': {u'url': u'http://www.last.fm/music/Nicole+Scherzinger', u'mbid': u'0a390d85-5bb7-4161-a615-aad48962aabd', u'name': u'Nicole Scherzinger'}, u'url': u'http://www.last.fm/music/Nicole+Scherzinger/_/Poison', u'image': [{u'#text': u'http://userserve-ak.last.fm/serve/34s/71123880.png', u'size': u'small'}, {u'#text': u'http://userserve-ak.last.fm/serve/64s/71123880.png', u'size': u'medium'}, {u'#text': u'http://userserve-ak.last.fm/serve/126/71123880.png', u'size': u'large'}, {u'#text': u'http://userserve-ak.last.fm/serve/300x300/71123880.png', u'size': u'extralarge'}], u'mbid': u'8f2334a3-ead8-4a05-91e3-55ed83a13cab', u'duration': u'239000', u'playcount': u'759747', u'match': u'0.110501'},\n",
        "       {u'streamable': {u'#text': u'0', u'fulltrack': u'0'}, u'name': u'Call My Name', u'artist': {u'url': u'http://www.last.fm/music/Cheryl+Cole', u'mbid': u'0e418756-bc62-40be-9dac-396ff77eaedb', u'name': u'Cheryl Cole'}, u'url': u'http://www.last.fm/music/Cheryl+Cole/_/Call+My+Name', u'image': [{u'#text': u'http://userserve-ak.last.fm/serve/34s/81590731.png', u'size': u'small'}, {u'#text': u'http://userserve-ak.last.fm/serve/64s/81590731.png', u'size': u'medium'}, {u'#text': u'http://userserve-ak.last.fm/serve/126/81590731.png', u'size': u'large'}, {u'#text': u'http://userserve-ak.last.fm/serve/300x300/81590731.png', u'size': u'extralarge'}], u'mbid': u'fb45caf5-3769-4666-affb-6e4d3a823e64', u'duration': u'239000', u'playcount': u'1017648', u'match': u'0.109335'},\n",
        "       {u'streamable': {u'#text': u'0', u'fulltrack': u'0'}, u'name': u'Someone Else', u'artist': {u'url': u'http://www.last.fm/music/Miley+Cyrus', u'mbid': u'7e9bd05a-117f-4cce-87bc-e011527a8b18', u'name': u'Miley Cyrus'}, u'url': u'http://www.last.fm/music/Miley+Cyrus/_/Someone+Else', u'image': [{u'#text': u'http://userserve-ak.last.fm/serve/34s/92702859.png', u'size': u'small'}, {u'#text': u'http://userserve-ak.last.fm/serve/64s/92702859.png', u'size': u'medium'}, {u'#text': u'http://userserve-ak.last.fm/serve/126/92702859.png', u'size': u'large'}, {u'#text': u'http://userserve-ak.last.fm/serve/300x300/92702859.png', u'size': u'extralarge'}], u'mbid': u'0088e5ea-5540-4685-849e-1e40fa624c8c', u'duration': u'239000', u'playcount': u'407844', u'match': u'0.109077'},\n",
        "       {u'streamable': {u'#text': u'0', u'fulltrack': u'0'}, u'name': u'Self Control', u'artist': {u'url': u'http://www.last.fm/music/Laura+Branigan', u'mbid': u'5bd7845b-4c56-44fe-8df3-047b1a26715a', u'name': u'Laura Branigan'}, u'url': u'http://www.last.fm/music/Laura+Branigan/_/Self+Control', u'image': [{u'#text': u'http://userserve-ak.last.fm/serve/34s/96120283.png', u'size': u'small'}, {u'#text': u'http://userserve-ak.last.fm/serve/64s/96120283.png', u'size': u'medium'}, {u'#text': u'http://userserve-ak.last.fm/serve/126/96120283.png', u'size': u'large'}, {u'#text': u'http://userserve-ak.last.fm/serve/300x300/96120283.png', u'size': u'extralarge'}], u'mbid': u'60f5d7d6-a1fc-4cfc-9dc7-aff012618af6', u'duration': u'239000', u'playcount': u'928298', u'match': u'0.108466'},\n",
        "       {u'streamable': {u'#text': u'0', u'fulltrack': u'0'}, u'name': u'Vibeology', u'artist': {u'url': u'http://www.last.fm/music/Paula+Abdul', u'mbid': u'275d1fca-22e8-46b9-85e6-c3523098a599', u'name': u'Paula Abdul'}, u'url': u'http://www.last.fm/music/Paula+Abdul/_/Vibeology', u'image': [{u'#text': u'http://userserve-ak.last.fm/serve/34s/79773479.png', u'size': u'small'}, {u'#text': u'http://userserve-ak.last.fm/serve/64s/79773479.png', u'size': u'medium'}, {u'#text': u'http://userserve-ak.last.fm/serve/126/79773479.png', u'size': u'large'}, {u'#text': u'http://userserve-ak.last.fm/serve/300x300/79773479.png', u'size': u'extralarge'}], u'mbid': u'9855f2d9-3720-4052-a3b0-181682666a7f', u'duration': u'239000', u'playcount': u'40123', u'match': u'0.106792'},\n",
        "       {u'streamable': {u'#text': u'0', u'fulltrack': u'0'}, u'name': u'Everytime We Touch', u'artist': {u'url': u'http://www.last.fm/music/Cascada', u'mbid': u'04af2581-6692-4f14-a7fe-151a36f20368', u'name': u'Cascada'}, u'url': u'http://www.last.fm/music/Cascada/_/Everytime+We+Touch', u'image': [{u'#text': u'http://userserve-ak.last.fm/serve/34s/57486563.png', u'size': u'small'}, {u'#text': u'http://userserve-ak.last.fm/serve/64s/57486563.png', u'size': u'medium'}, {u'#text': u'http://userserve-ak.last.fm/serve/126/57486563.png', u'size': u'large'}, {u'#text': u'http://userserve-ak.last.fm/serve/300x300/57486563.png', u'size': u'extralarge'}], u'mbid': u'092e42a4-c8f5-4837-9663-8a50405a3896', u'duration': u'239000', u'playcount': u'1817970', u'match': u'0.106239'},\n",
        "       {u'streamable': {u'#text': u'0', u'fulltrack': u'0'}, u'name': u'Turn Back Time', u'artist': {u'url': u'http://www.last.fm/music/Aqua', u'mbid': u'5dce9408-9f39-450f-8146-8a60e88251f9', u'name': u'Aqua'}, u'url': u'http://www.last.fm/music/Aqua/_/Turn+Back+Time', u'image': [{u'#text': u'http://userserve-ak.last.fm/serve/34s/92874747.png', u'size': u'small'}, {u'#text': u'http://userserve-ak.last.fm/serve/64s/92874747.png', u'size': u'medium'}, {u'#text': u'http://userserve-ak.last.fm/serve/126/92874747.png', u'size': u'large'}, {u'#text': u'http://userserve-ak.last.fm/serve/300x300/92874747.png', u'size': u'extralarge'}], u'mbid': u'7e742abc-2a23-4f0c-b638-4be8c299bf57', u'duration': u'239000', u'playcount': u'425355', u'match': u'0.102492'},\n",
        "       {u'streamable': {u'#text': u'0', u'fulltrack': u'0'}, u'name': u'Black or White', u'artist': {u'url': u'http://www.last.fm/music/Michael+Jackson', u'mbid': u'210769a3-4aca-4199-a2e1-676ef376e078', u'name': u'Michael Jackson'}, u'url': u'http://www.last.fm/music/Michael+Jackson/_/Black+or+White', u'image': [{u'#text': u'http://userserve-ak.last.fm/serve/34s/30645577.png', u'size': u'small'}, {u'#text': u'http://userserve-ak.last.fm/serve/64s/30645577.png', u'size': u'medium'}, {u'#text': u'http://userserve-ak.last.fm/serve/126/30645577.png', u'size': u'large'}, {u'#text': u'http://userserve-ak.last.fm/serve/300x300/30645577.png', u'size': u'extralarge'}], u'mbid': u'071fa60b-652a-4d67-b7e4-58a63a1bbe6f', u'duration': u'239000', u'playcount': u'3076569', u'match': u'0.101605'},\n",
        "       {u'streamable': {u'#text': u'0', u'fulltrack': u'0'}, u'name': u'#GETITRIGHT', u'artist': {u'url': u'http://www.last.fm/music/Miley+Cyrus', u'mbid': u'7e9bd05a-117f-4cce-87bc-e011527a8b18', u'name': u'Miley Cyrus'}, u'url': u'http://www.last.fm/music/Miley+Cyrus/_/%23GETITRIGHT', u'image': [{u'#text': u'http://userserve-ak.last.fm/serve/34s/92702859.png', u'size': u'small'}, {u'#text': u'http://userserve-ak.last.fm/serve/64s/92702859.png', u'size': u'medium'}, {u'#text': u'http://userserve-ak.last.fm/serve/126/92702859.png', u'size': u'large'}, {u'#text': u'http://userserve-ak.last.fm/serve/300x300/92702859.png', u'size': u'extralarge'}], u'mbid': u'fe872d20-f73b-47f0-9c26-cc080e994582', u'duration': u'239000', u'playcount': u'470419', u'match': u'0.101454'},\n",
        "       {u'streamable': {u'#text': u'0', u'fulltrack': u'0'}, u'name': u'I Turn to You', u'artist': {u'url': u'http://www.last.fm/music/Melanie+C', u'mbid': u'25b509ef-48ad-461b-a0bc-94cdddb8c919', u'name': u'Melanie C'}, u'url': u'http://www.last.fm/music/Melanie+C/_/I+Turn+to+You', u'image': [{u'#text': u'http://userserve-ak.last.fm/serve/34s/52848625.jpg', u'size': u'small'}, {u'#text': u'http://userserve-ak.last.fm/serve/64s/52848625.jpg', u'size': u'medium'}, {u'#text': u'http://userserve-ak.last.fm/serve/126/52848625.jpg', u'size': u'large'}, {u'#text': u'http://userserve-ak.last.fm/serve/300x300/52848625.jpg', u'size': u'extralarge'}], u'mbid': u'64fb3897-d84d-46cf-8347-045565a67630', u'duration': u'239000', u'playcount': u'369869', u'match': u'0.10036'},\n",
        "       {u'streamable': {u'#text': u'0', u'fulltrack': u'0'}, u'name': u'When I Grow Up', u'artist': {u'url': u'http://www.last.fm/music/The+Pussycat+Dolls', u'mbid': u'1fda852b-92e9-4562-82fa-c52820a77b23', u'name': u'The Pussycat Dolls'}, u'url': u'http://www.last.fm/music/The+Pussycat+Dolls/_/When+I+Grow+Up', u'image': [{u'#text': u'http://userserve-ak.last.fm/serve/34s/94710695.png', u'size': u'small'}, {u'#text': u'http://userserve-ak.last.fm/serve/64s/94710695.png', u'size': u'medium'}, {u'#text': u'http://userserve-ak.last.fm/serve/126/94710695.png', u'size': u'large'}, {u'#text': u'http://userserve-ak.last.fm/serve/300x300/94710695.png', u'size': u'extralarge'}], u'mbid': u'60fe129c-4409-4069-9262-bb6f2277e299', u'duration': u'239000', u'playcount': u'2524903', u'match': u'0.0999329'},\n",
        "       {u'streamable': {u'#text': u'0', u'fulltrack': u'0'}, u'name': u'I Begin To Wonder', u'artist': {u'url': u'http://www.last.fm/music/Dannii+Minogue', u'mbid': u'4cab12f3-af12-4a55-ade2-606bd9524425', u'name': u'Dannii Minogue'}, u'url': u'http://www.last.fm/music/Dannii+Minogue/_/I+Begin+To+Wonder', u'image': [{u'#text': u'http://userserve-ak.last.fm/serve/34s/96052193.png', u'size': u'small'}, {u'#text': u'http://userserve-ak.last.fm/serve/64s/96052193.png', u'size': u'medium'}, {u'#text': u'http://userserve-ak.last.fm/serve/126/96052193.png', u'size': u'large'}, {u'#text': u'http://userserve-ak.last.fm/serve/300x300/96052193.png', u'size': u'extralarge'}], u'mbid': u'c7677cc2-9d61-4b8e-bfa4-43472f94acd5', u'duration': u'239000', u'playcount': u'232671', u'match': u'0.0997923'},\n",
        "       {u'streamable': {u'#text': u'0', u'fulltrack': u'0'}, u'name': u'Nothing in This World', u'artist': {u'url': u'http://www.last.fm/music/Paris+Hilton', u'mbid': u'0d9ff9c7-394e-4228-93aa-c4afd4765324', u'name': u'Paris Hilton'}, u'url': u'http://www.last.fm/music/Paris+Hilton/_/Nothing+in+This+World', u'image': [{u'#text': u'http://userserve-ak.last.fm/serve/34s/51011875.png', u'size': u'small'}, {u'#text': u'http://userserve-ak.last.fm/serve/64s/51011875.png', u'size': u'medium'}, {u'#text': u'http://userserve-ak.last.fm/serve/126/51011875.png', u'size': u'large'}, {u'#text': u'http://userserve-ak.last.fm/serve/300x300/51011875.png', u'size': u'extralarge'}], u'mbid': u'331a1f4a-025d-4bbf-9239-d29d0f65becb', u'duration': u'239000', u'playcount': u'1021797', u'match': u'0.0996482'},\n",
        "       {u'streamable': {u'#text': u'0', u'fulltrack': u'0'}, u'name': u'Never Ever', u'artist': {u'url': u'http://www.last.fm/music/All+Saints', u'mbid': u'a371601f-c184-4683-806d-2eb35e88f0d7', u'name': u'All Saints'}, u'url': u'http://www.last.fm/music/All+Saints/_/Never+Ever', u'image': [{u'#text': u'http://userserve-ak.last.fm/serve/34s/77234706.png', u'size': u'small'}, {u'#text': u'http://userserve-ak.last.fm/serve/64s/77234706.png', u'size': u'medium'}, {u'#text': u'http://userserve-ak.last.fm/serve/126/77234706.png', u'size': u'large'}, {u'#text': u'http://userserve-ak.last.fm/serve/300x300/77234706.png', u'size': u'extralarge'}], u'mbid': u'13d21923-f9da-4015-bb75-29839cd2b2a4', u'duration': u'239000', u'playcount': u'690220', u'match': u'0.0995857'},\n",
        "       {u'streamable': {u'#text': u'0', u'fulltrack': u'0'}, u'name': u'Buttons', u'artist': {u'url': u'http://www.last.fm/music/The+Pussycat+Dolls', u'mbid': u'1fda852b-92e9-4562-82fa-c52820a77b23', u'name': u'The Pussycat Dolls'}, u'url': u'http://www.last.fm/music/The+Pussycat+Dolls/_/Buttons', u'image': [{u'#text': u'http://userserve-ak.last.fm/serve/34s/100141745.png', u'size': u'small'}, {u'#text': u'http://userserve-ak.last.fm/serve/64s/100141745.png', u'size': u'medium'}, {u'#text': u'http://userserve-ak.last.fm/serve/126/100141745.png', u'size': u'large'}, {u'#text': u'http://userserve-ak.last.fm/serve/300x300/100141745.png', u'size': u'extralarge'}], u'mbid': u'66402dcb-9bda-41d4-a3ad-a5f6550b9db4', u'duration': u'239000', u'playcount': u'2430391', u'match': u'0.0988711'},\n",
        "       {u'streamable': {u'#text': u'0', u'fulltrack': u'0'}, u'name': u'I Wanna Dance with Somebody', u'artist': {u'url': u'http://www.last.fm/music/Whitney+Houston', u'mbid': u'0307edfc-437c-4b48-8700-80680e66a228', u'name': u'Whitney Houston'}, u'url': u'http://www.last.fm/music/Whitney+Houston/_/I+Wanna+Dance+with+Somebody', u'image': [{u'#text': u'http://userserve-ak.last.fm/serve/34s/88084285.png', u'size': u'small'}, {u'#text': u'http://userserve-ak.last.fm/serve/64s/88084285.png', u'size': u'medium'}, {u'#text': u'http://userserve-ak.last.fm/serve/126/88084285.png', u'size': u'large'}, {u'#text': u'http://userserve-ak.last.fm/serve/300x300/88084285.png', u'size': u'extralarge'}], u'mbid': u'120bab80-2c7d-410e-9bc7-8aa3e5e5665f', u'duration': u'239000', u'playcount': u'776105', u'match': u'0.0960003'},\n",
        "       {u'streamable': {u'#text': u'0', u'fulltrack': u'0'}, u'name': u'Get Over You', u'artist': {u'url': u'http://www.last.fm/music/Sophie+Ellis-Bextor', u'mbid': u'83e6822d-668b-4d2c-b136-84130afac0dc', u'name': u'Sophie Ellis-Bextor'}, u'url': u'http://www.last.fm/music/Sophie+Ellis-Bextor/_/Get+Over+You', u'image': [{u'#text': u'http://userserve-ak.last.fm/serve/34s/71980984.png', u'size': u'small'}, {u'#text': u'http://userserve-ak.last.fm/serve/64s/71980984.png', u'size': u'medium'}, {u'#text': u'http://userserve-ak.last.fm/serve/126/71980984.png', u'size': u'large'}, {u'#text': u'http://userserve-ak.last.fm/serve/300x300/71980984.png', u'size': u'extralarge'}], u'mbid': u'24f0414a-fb48-41ba-a32d-f8a498c6bb59', u'duration': u'239000', u'playcount': u'417137', u'match': u'0.0954165'},\n",
        "       {u'streamable': {u'#text': u'0', u'fulltrack': u'0'}, u'name': u'Get the Party Started', u'artist': {u'url': u'http://www.last.fm/music/P!nk', u'mbid': u'16a72d59-8aae-42be-be6b-00229d44621f', u'name': u'P!nk'}, u'url': u'http://www.last.fm/music/P!nk/_/Get+the+Party+Started', u'image': [{u'#text': u'http://userserve-ak.last.fm/serve/34s/83474569.png', u'size': u'small'}, {u'#text': u'http://userserve-ak.last.fm/serve/64s/83474569.png', u'size': u'medium'}, {u'#text': u'http://userserve-ak.last.fm/serve/126/83474569.png', u'size': u'large'}, {u'#text': u'http://userserve-ak.last.fm/serve/300x300/83474569.png', u'size': u'extralarge'}], u'mbid': u'058a23e8-7631-4be7-980d-41133c499939', u'duration': u'239000', u'playcount': u'1329093', u'match': u'0.0949735'},\n",
        "       {u'streamable': {u'#text': u'0', u'fulltrack': u'0'}, u'name': u'Thank You', u'artist': {u'url': u'http://www.last.fm/music/Dido', u'mbid': u'518531b7-cb73-4307-b13e-c716471539a8', u'name': u'Dido'}, u'url': u'http://www.last.fm/music/Dido/_/Thank+You', u'image': [{u'#text': u'http://userserve-ak.last.fm/serve/34s/57897315.png', u'size': u'small'}, {u'#text': u'http://userserve-ak.last.fm/serve/64s/57897315.png', u'size': u'medium'}, {u'#text': u'http://userserve-ak.last.fm/serve/126/57897315.png', u'size': u'large'}, {u'#text': u'http://userserve-ak.last.fm/serve/300x300/57897315.png', u'size': u'extralarge'}], u'mbid': u'208e92ab-42f0-44b3-8c03-5872944ce891', u'duration': u'239000', u'playcount': u'2742408', u'match': u'0.0910676'},\n",
        "       {u'streamable': {u'#text': u'0', u'fulltrack': u'0'}, u'name': u'New York City Boy', u'artist': {u'url': u'http://www.last.fm/music/Pet+Shop+Boys', u'mbid': u'be540c02-7898-4b79-9acc-c8122c7d9e83', u'name': u'Pet Shop Boys'}, u'url': u'http://www.last.fm/music/Pet+Shop+Boys/_/New+York+City+Boy', u'image': [{u'#text': u'http://userserve-ak.last.fm/serve/34s/75817364.png', u'size': u'small'}, {u'#text': u'http://userserve-ak.last.fm/serve/64s/75817364.png', u'size': u'medium'}, {u'#text': u'http://userserve-ak.last.fm/serve/126/75817364.png', u'size': u'large'}, {u'#text': u'http://userserve-ak.last.fm/serve/300x300/75817364.png', u'size': u'extralarge'}], u'mbid': u'69b29ef5-ac32-4302-a563-95b9ea7f24fa', u'duration': u'239000', u'playcount': u'291648', u'match': u'0.0907138'},\n",
        "       {u'streamable': {u'#text': u'0', u'fulltrack': u'0'}, u'name': u'Bailamos', u'artist': {u'url': u'http://www.last.fm/music/Enrique+Iglesias', u'mbid': u'35f866dc-c061-48ba-8157-cf2e0eac4857', u'name': u'Enrique Iglesias'}, u'url': u'http://www.last.fm/music/Enrique+Iglesias/_/Bailamos', u'image': [{u'#text': u'http://images.amazon.com/images/P/B00003L4CI.01._SCMZZZZZZZ_.jpg', u'size': u'small'}, {u'#text': u'http://images.amazon.com/images/P/B00003L4CI.01._SCMZZZZZZZ_.jpg', u'size': u'medium'}, {u'#text': u'http://images.amazon.com/images/P/B00003L4CI.01._SCMZZZZZZZ_.jpg', u'size': u'large'}, {u'#text': u'http://images.amazon.com/images/P/B00003L4CI.01._SCMZZZZZZZ_.jpg', u'size': u'extralarge'}], u'mbid': u'12994b02-ce90-409a-a819-9500d5d2b38e', u'duration': u'239000', u'playcount': u'701601', u'match': u'0.0902005'},\n",
        "       {u'streamable': {u'#text': u'0', u'fulltrack': u'0'}, u'name': u'Mirrors', u'artist': {u'url': u'http://www.last.fm/music/Natalia+Kills', u'mbid': u'bc2ed01e-bca4-410c-a081-e12cf1f0b567', u'name': u'Natalia Kills'}, u'url': u'http://www.last.fm/music/Natalia+Kills/_/Mirrors', u'image': [{u'#text': u'http://userserve-ak.last.fm/serve/34s/60051555.png', u'size': u'small'}, {u'#text': u'http://userserve-ak.last.fm/serve/64s/60051555.png', u'size': u'medium'}, {u'#text': u'http://userserve-ak.last.fm/serve/126/60051555.png', u'size': u'large'}, {u'#text': u'http://userserve-ak.last.fm/serve/300x300/60051555.png', u'size': u'extralarge'}], u'mbid': u'69538706-6845-42ea-88b8-c7e092bc3e3d', u'duration': u'239000', u'playcount': u'1478536', u'match': u'0.0898928'},\n",
        "       {u'streamable': {u'#text': u'0', u'fulltrack': u'0'}, u'name': u'Why', u'artist': {u'url': u'http://www.last.fm/music/Annie+Lennox', u'mbid': u'3e30aebd-0557-4cfd-8fb9-3945afa5d72b', u'name': u'Annie Lennox'}, u'url': u'http://www.last.fm/music/Annie+Lennox/_/Why', u'image': [{u'#text': u'http://userserve-ak.last.fm/serve/34s/72817820.png', u'size': u'small'}, {u'#text': u'http://userserve-ak.last.fm/serve/64s/72817820.png', u'size': u'medium'}, {u'#text': u'http://userserve-ak.last.fm/serve/126/72817820.png', u'size': u'large'}, {u'#text': u'http://userserve-ak.last.fm/serve/300x300/72817820.png', u'size': u'extralarge'}], u'mbid': u'828cdb5a-353a-404c-b059-cbf61829918a', u'duration': u'239000', u'playcount': u'761199', u'match': u'0.088968'},\n",
        "       {u'streamable': {u'#text': u'0', u'fulltrack': u'0'}, u'name': u'Undercover', u'artist': {u'url': u'http://www.last.fm/music/Selena+Gomez', u'mbid': u'e4bc69e2-a064-4f93-ada1-f7f209cc1cc3', u'name': u'Selena Gomez'}, u'url': u'http://www.last.fm/music/Selena+Gomez/_/Undercover', u'image': [{u'#text': u'http://userserve-ak.last.fm/serve/34s/98230997.png', u'size': u'small'}, {u'#text': u'http://userserve-ak.last.fm/serve/64s/98230997.png', u'size': u'medium'}, {u'#text': u'http://userserve-ak.last.fm/serve/126/98230997.png', u'size': u'large'}, {u'#text': u'http://userserve-ak.last.fm/serve/300x300/98230997.png', u'size': u'extralarge'}], u'mbid': u'3805b6a9-291c-4315-bca0-0b96c01c7ef7', u'duration': u'239000', u'playcount': u'394056', u'match': u'0.0888274'},\n",
        "       {u'streamable': {u'#text': u'0', u'fulltrack': u'0'}, u'name': u'Straight Up', u'artist': {u'url': u'http://www.last.fm/music/Paula+Abdul', u'mbid': u'275d1fca-22e8-46b9-85e6-c3523098a599', u'name': u'Paula Abdul'}, u'url': u'http://www.last.fm/music/Paula+Abdul/_/Straight+Up', u'image': [{u'#text': u'http://userserve-ak.last.fm/serve/34s/89022531.png', u'size': u'small'}, {u'#text': u'http://userserve-ak.last.fm/serve/64s/89022531.png', u'size': u'medium'}, {u'#text': u'http://userserve-ak.last.fm/serve/126/89022531.png', u'size': u'large'}, {u'#text': u'http://userserve-ak.last.fm/serve/300x300/89022531.png', u'size': u'extralarge'}], u'mbid': u'6cd29451-b9fc-43b8-bc40-9b4c7812b8c0', u'duration': u'239000', u'playcount': u'605059', u'match': u'0.0886402'},\n",
        "       {u'streamable': {u'#text': u'0', u'fulltrack': u'0'}, u'name': u'Pure Shores', u'artist': {u'url': u'http://www.last.fm/music/All+Saints', u'mbid': u'a371601f-c184-4683-806d-2eb35e88f0d7', u'name': u'All Saints'}, u'url': u'http://www.last.fm/music/All+Saints/_/Pure+Shores', u'image': [{u'#text': u'http://userserve-ak.last.fm/serve/34s/50239479.png', u'size': u'small'}, {u'#text': u'http://userserve-ak.last.fm/serve/64s/50239479.png', u'size': u'medium'}, {u'#text': u'http://userserve-ak.last.fm/serve/126/50239479.png', u'size': u'large'}, {u'#text': u'http://userserve-ak.last.fm/serve/300x300/50239479.png', u'size': u'extralarge'}], u'mbid': u'6e0eb323-251d-492c-8dd1-10c3b808266c', u'duration': u'239000', u'playcount': u'1190387', u'match': u'0.0884404'},\n",
        "       {u'streamable': {u'#text': u'0', u'fulltrack': u'0'}, u'name': u'Venus', u'artist': {u'url': u'http://www.last.fm/music/Bananarama', u'mbid': u'84d06499-0643-46b8-9e1f-45f743a53f5e', u'name': u'Bananarama'}, u'url': u'http://www.last.fm/music/Bananarama/_/Venus', u'image': [{u'#text': u'http://userserve-ak.last.fm/serve/34s/88538633.jpg', u'size': u'small'}, {u'#text': u'http://userserve-ak.last.fm/serve/64s/88538633.jpg', u'size': u'medium'}, {u'#text': u'http://userserve-ak.last.fm/serve/126/88538633.jpg', u'size': u'large'}, {u'#text': u'http://userserve-ak.last.fm/serve/300x300/88538633.jpg', u'size': u'extralarge'}], u'mbid': u'e61ec431-92fa-4119-8ccc-86f228e5d9c4', u'duration': u'239000', u'playcount': u'732624', u'match': u'0.0876251'},\n",
        "       {u'streamable': {u'#text': u'0', u'fulltrack': u'0'}, u'name': u'Never Be the Same Again', u'artist': {u'url': u'http://www.last.fm/music/Melanie+C', u'mbid': u'25b509ef-48ad-461b-a0bc-94cdddb8c919', u'name': u'Melanie C'}, u'url': u'http://www.last.fm/music/Melanie+C/_/Never+Be+the+Same+Again', u'image': [{u'#text': u'http://userserve-ak.last.fm/serve/34s/80711087.png', u'size': u'small'}, {u'#text': u'http://userserve-ak.last.fm/serve/64s/80711087.png', u'size': u'medium'}, {u'#text': u'http://userserve-ak.last.fm/serve/126/80711087.png', u'size': u'large'}, {u'#text': u'http://userserve-ak.last.fm/serve/300x300/80711087.png', u'size': u'extralarge'}], u'mbid': u'9705d5d9-d6c1-4cbe-bd3e-0c2601b3751a', u'duration': u'239000', u'playcount': u'468298', u'match': u'0.0872523'},\n",
        "       {u'streamable': {u'#text': u'0', u'fulltrack': u'0'}, u'name': u'Release Me', u'artist': {u'url': u'http://www.last.fm/music/Agnes', u'mbid': u'54e93235-2034-478d-b47b-a985828193b7', u'name': u'Agnes'}, u'url': u'http://www.last.fm/music/Agnes/_/Release+Me', u'image': [{u'#text': u'http://userserve-ak.last.fm/serve/34s/91044567.jpg', u'size': u'small'}, {u'#text': u'http://userserve-ak.last.fm/serve/64s/91044567.jpg', u'size': u'medium'}, {u'#text': u'http://userserve-ak.last.fm/serve/126/91044567.jpg', u'size': u'large'}, {u'#text': u'http://userserve-ak.last.fm/serve/300x300/91044567.jpg', u'size': u'extralarge'}], u'mbid': u'1f0580b7-3bd5-4207-b3b6-c4c269dedcd2', u'duration': u'239000', u'playcount': u'911779', u'match': u'0.0860058'},\n",
        "       {u'streamable': {u'#text': u'0', u'fulltrack': u'0'}, u'name': u'All Night', u'artist': {u'url': u'http://www.last.fm/music/Icona+Pop', u'mbid': u'c5f259d0-abd8-418e-81ee-3965fd4e4e9a', u'name': u'Icona Pop'}, u'url': u'http://www.last.fm/music/Icona+Pop/_/All+Night', u'image': [{u'#text': u'http://userserve-ak.last.fm/serve/34s/91898885.png', u'size': u'small'}, {u'#text': u'http://userserve-ak.last.fm/serve/64s/91898885.png', u'size': u'medium'}, {u'#text': u'http://userserve-ak.last.fm/serve/126/91898885.png', u'size': u'large'}, {u'#text': u'http://userserve-ak.last.fm/serve/300x300/91898885.png', u'size': u'extralarge'}], u'mbid': u'b1abca18-f709-42d3-bfc7-b8fe07c583d3', u'duration': u'239000', u'playcount': u'665251', u'match': u'0.0853096'},\n",
        "       {u'streamable': {u'#text': u'0', u'fulltrack': u'0'}, u'name': u'Evacuate the Dancefloor', u'artist': {u'url': u'http://www.last.fm/music/Cascada', u'mbid': u'04af2581-6692-4f14-a7fe-151a36f20368', u'name': u'Cascada'}, u'url': u'http://www.last.fm/music/Cascada/_/Evacuate+the+Dancefloor', u'image': [{u'#text': u'http://userserve-ak.last.fm/serve/34s/57977967.png', u'size': u'small'}, {u'#text': u'http://userserve-ak.last.fm/serve/64s/57977967.png', u'size': u'medium'}, {u'#text': u'http://userserve-ak.last.fm/serve/126/57977967.png', u'size': u'large'}, {u'#text': u'http://userserve-ak.last.fm/serve/300x300/57977967.png', u'size': u'extralarge'}], u'mbid': u'873ee083-8268-4cf4-8f04-cd2270c05d4f', u'duration': u'239000', u'playcount': u'1533491', u'match': u'0.0848134'},\n",
        "       {u'streamable': {u'#text': u'0', u'fulltrack': u'0'}, u'name': u'Look at Me', u'artist': {u'url': u'http://www.last.fm/music/Geri+Halliwell', u'mbid': u'23207c32-6743-4982-9f46-e297b2e4eb14', u'name': u'Geri Halliwell'}, u'url': u'http://www.last.fm/music/Geri+Halliwell/_/Look+at+Me', u'image': [{u'#text': u'http://userserve-ak.last.fm/serve/34s/63463029.png', u'size': u'small'}, {u'#text': u'http://userserve-ak.last.fm/serve/64s/63463029.png', u'size': u'medium'}, {u'#text': u'http://userserve-ak.last.fm/serve/126/63463029.png', u'size': u'large'}, {u'#text': u'http://userserve-ak.last.fm/serve/300x300/63463029.png', u'size': u'extralarge'}], u'mbid': u'f62b6ad9-c0b1-42e5-bc8b-83be67d66789', u'duration': u'239000', u'playcount': u'147823', u'match': u'0.0844714'},\n",
        "       {u'streamable': {u'#text': u'0', u'fulltrack': u'0'}, u'name': u'Acapella', u'artist': {u'url': u'http://www.last.fm/music/Kelis', u'mbid': u'1239d1bc-cc09-43e0-bcd0-374f60346138', u'name': u'Kelis'}, u'url': u'http://www.last.fm/music/Kelis/_/Acapella', u'image': [{u'#text': u'http://userserve-ak.last.fm/serve/34s/87953059.png', u'size': u'small'}, {u'#text': u'http://userserve-ak.last.fm/serve/64s/87953059.png', u'size': u'medium'}, {u'#text': u'http://userserve-ak.last.fm/serve/126/87953059.png', u'size': u'large'}, {u'#text': u'http://userserve-ak.last.fm/serve/300x300/87953059.png', u'size': u'extralarge'}], u'mbid': u'434df0b1-3461-4f36-b2b7-c78bb3b02af3', u'duration': u'239000', u'playcount': u'848762', u'match': u'0.0843637'},\n",
        "       {u'streamable': {u'#text': u'0', u'fulltrack': u'0'}, u'name': u'Rumors', u'artist': {u'url': u'http://www.last.fm/music/Lindsay+Lohan', u'mbid': u'63b43c69-b822-4268-bdad-bcde12531f50', u'name': u'Lindsay Lohan'}, u'url': u'http://www.last.fm/music/Lindsay+Lohan/_/Rumors', u'image': [{u'#text': u'http://userserve-ak.last.fm/serve/34s/93220137.png', u'size': u'small'}, {u'#text': u'http://userserve-ak.last.fm/serve/64s/93220137.png', u'size': u'medium'}, {u'#text': u'http://userserve-ak.last.fm/serve/126/93220137.png', u'size': u'large'}, {u'#text': u'http://userserve-ak.last.fm/serve/300x300/93220137.png', u'size': u'extralarge'}], u'mbid': u'91b5754c-2e9c-4b71-8a8d-3b1f51774b7e', u'duration': u'239000', u'playcount': u'756176', u'match': u'0.0839529'},\n",
        "       {u'streamable': {u'#text': u'0', u'fulltrack': u'0'}, u'name': u'Unwritten', u'artist': {u'url': u'http://www.last.fm/music/Natasha+Bedingfield', u'mbid': u'8b477559-946e-4ef2-9fe1-446cff8fdd79', u'name': u'Natasha Bedingfield'}, u'url': u'http://www.last.fm/music/Natasha+Bedingfield/_/Unwritten', u'image': [{u'#text': u'http://userserve-ak.last.fm/serve/34s/58490701.png', u'size': u'small'}, {u'#text': u'http://userserve-ak.last.fm/serve/64s/58490701.png', u'size': u'medium'}, {u'#text': u'http://userserve-ak.last.fm/serve/126/58490701.png', u'size': u'large'}, {u'#text': u'http://userserve-ak.last.fm/serve/300x300/58490701.png', u'size': u'extralarge'}], u'mbid': u'6a7e4552-ed19-4513-9586-e949c486ec9f', u'duration': u'239000', u'playcount': u'2275821', u'match': u'0.0831645'},\n",
        "       {u'streamable': {u'#text': u'0', u'fulltrack': u'0'}, u'name': u'Cry For You', u'artist': {u'url': u'http://www.last.fm/music/September', u'mbid': u'18ad3647-af71-4860-b712-efe8e41410eb', u'name': u'September'}, u'url': u'http://www.last.fm/music/September/_/Cry+For+You', u'image': [{u'#text': u'http://userserve-ak.last.fm/serve/34s/30762397.png', u'size': u'small'}, {u'#text': u'http://userserve-ak.last.fm/serve/64s/30762397.png', u'size': u'medium'}, {u'#text': u'http://userserve-ak.last.fm/serve/126/30762397.png', u'size': u'large'}, {u'#text': u'http://userserve-ak.last.fm/serve/300x300/30762397.png', u'size': u'extralarge'}], u'mbid': u'15e40966-6cbb-473c-97fc-362de81f95d9', u'duration': u'239000', u'playcount': u'1358669', u'match': u'0.0828414'},\n",
        "       {u'streamable': {u'#text': u'0', u'fulltrack': u'0'}, u'name': u'Slave to the Rhythm', u'artist': {u'url': u'http://www.last.fm/music/Michael+Jackson', u'mbid': u'210769a3-4aca-4199-a2e1-676ef376e078', u'name': u'Michael Jackson'}, u'url': u'http://www.last.fm/music/Michael+Jackson/_/Slave+to+the+Rhythm', u'image': [{u'#text': u'http://userserve-ak.last.fm/serve/34s/97936843.png', u'size': u'small'}, {u'#text': u'http://userserve-ak.last.fm/serve/64s/97936843.png', u'size': u'medium'}, {u'#text': u'http://userserve-ak.last.fm/serve/126/97936843.png', u'size': u'large'}, {u'#text': u'http://userserve-ak.last.fm/serve/300x300/97936843.png', u'size': u'extralarge'}], u'mbid': u'59cd7586-f768-4ae1-9bed-c17bce2dea9d', u'duration': u'239000', u'playcount': u'184373', u'match': u'0.0826403'},\n",
        "       {u'streamable': {u'#text': u'0', u'fulltrack': u'0'}, u'name': u\"It's All Coming Back to Me Now\", u'artist': {u'url': u'http://www.last.fm/music/C%C3%A9line+Dion', u'mbid': u'847e8a0c-cc20-4213-9e16-975515c2a926', u'name': u'C\\xe9line Dion'}, u'url': u'http://www.last.fm/music/C%C3%A9line+Dion/_/It%27s+All+Coming+Back+to+Me+Now', u'image': [{u'#text': u'http://userserve-ak.last.fm/serve/34s/68779636.png', u'size': u'small'}, {u'#text': u'http://userserve-ak.last.fm/serve/64s/68779636.png', u'size': u'medium'}, {u'#text': u'http://userserve-ak.last.fm/serve/126/68779636.png', u'size': u'large'}, {u'#text': u'http://userserve-ak.last.fm/serve/300x300/68779636.png', u'size': u'extralarge'}], u'mbid': u'032658ec-a0cb-479b-af00-33bdf275b8e6', u'duration': u'239000', u'playcount': u'604995', u'match': u'0.0820376'},\n",
        "       {u'streamable': {u'#text': u'0', u'fulltrack': u'0'}, u'name': u'On the Metro', u'artist': {u'url': u'http://www.last.fm/music/Girls+Aloud', u'mbid': u'a0b2f210-cd3a-453d-937d-e4f2658d17c7', u'name': u'Girls Aloud'}, u'url': u'http://www.last.fm/music/Girls+Aloud/_/On+the+Metro', u'image': [{u'#text': u'http://userserve-ak.last.fm/serve/34s/94710683.png', u'size': u'small'}, {u'#text': u'http://userserve-ak.last.fm/serve/64s/94710683.png', u'size': u'medium'}, {u'#text': u'http://userserve-ak.last.fm/serve/126/94710683.png', u'size': u'large'}, {u'#text': u'http://userserve-ak.last.fm/serve/300x300/94710683.png', u'size': u'extralarge'}], u'mbid': u'6c4dc807-4073-4b0a-88e1-1cf6cb993413', u'duration': u'239000', u'playcount': u'223552', u'match': u'0.0799398'},\n",
        "       {u'streamable': {u'#text': u'0', u'fulltrack': u'0'}, u'name': u'Physical', u'artist': {u'url': u'http://www.last.fm/music/Olivia+Newton-John', u'mbid': u'10ccb5d8-f9d5-4954-9441-3419b522a214', u'name': u'Olivia Newton-John'}, u'url': u'http://www.last.fm/music/Olivia+Newton-John/_/Physical', u'image': [{u'#text': u'http://userserve-ak.last.fm/serve/34s/89002257.png', u'size': u'small'}, {u'#text': u'http://userserve-ak.last.fm/serve/64s/89002257.png', u'size': u'medium'}, {u'#text': u'http://userserve-ak.last.fm/serve/126/89002257.png', u'size': u'large'}, {u'#text': u'http://userserve-ak.last.fm/serve/300x300/89002257.png', u'size': u'extralarge'}], u'mbid': u'0398acc1-ffdd-40c5-9443-dacae38fc15f', u'duration': u'239000', u'playcount': u'304852', u'match': u'0.079829'},\n",
        "       {u'streamable': {u'#text': u'0', u'fulltrack': u'0'}, u'name': u'Here with Me', u'artist': {u'url': u'http://www.last.fm/music/Dido', u'mbid': u'518531b7-cb73-4307-b13e-c716471539a8', u'name': u'Dido'}, u'url': u'http://www.last.fm/music/Dido/_/Here+with+Me', u'image': [{u'#text': u'http://userserve-ak.last.fm/serve/34s/57897315.png', u'size': u'small'}, {u'#text': u'http://userserve-ak.last.fm/serve/64s/57897315.png', u'size': u'medium'}, {u'#text': u'http://userserve-ak.last.fm/serve/126/57897315.png', u'size': u'large'}, {u'#text': u'http://userserve-ak.last.fm/serve/300x300/57897315.png', u'size': u'extralarge'}], u'mbid': u'01b13dbc-416e-4c71-84e2-cfe2875c296a', u'duration': u'239000', u'playcount': u'2930433', u'match': u'0.0784312'},\n",
        "       {u'streamable': {u'#text': u'0', u'fulltrack': u'0'}, u'name': u'Grown Woman', u'artist': {u'url': u'http://www.last.fm/music/Beyonc%C3%A9', u'mbid': u'183105b5-3e68-4748-9086-2c1c11bf7a3d', u'name': u'Beyonc\\xe9'}, u'url': u'http://www.last.fm/music/Beyonc%C3%A9/_/Grown+Woman', u'image': [{u'#text': u'http://userserve-ak.last.fm/serve/34s/98570479.png', u'size': u'small'}, {u'#text': u'http://userserve-ak.last.fm/serve/64s/98570479.png', u'size': u'medium'}, {u'#text': u'http://userserve-ak.last.fm/serve/126/98570479.png', u'size': u'large'}, {u'#text': u'http://userserve-ak.last.fm/serve/300x300/98570479.png', u'size': u'extralarge'}], u'mbid': u'7e9749da-3c2f-42b3-a285-e66841924a79', u'duration': u'239000', u'playcount': u'414466', u'match': u'0.0784295'}], dtype=object)"
       ]
      }
     ],
     "prompt_number": 113
    },
    {
     "cell_type": "code",
     "collapsed": false,
     "input": [
      "g = (1,2,3)\n",
      "type(g)"
     ],
     "language": "python",
     "metadata": {},
     "outputs": [
      {
       "metadata": {},
       "output_type": "pyout",
       "prompt_number": 114,
       "text": [
        "tuple"
       ]
      }
     ],
     "prompt_number": 114
    },
    {
     "cell_type": "code",
     "collapsed": false,
     "input": [
      "g = ()"
     ],
     "language": "python",
     "metadata": {},
     "outputs": [],
     "prompt_number": 115
    },
    {
     "cell_type": "code",
     "collapsed": false,
     "input": [
      "g"
     ],
     "language": "python",
     "metadata": {},
     "outputs": [
      {
       "metadata": {},
       "output_type": "pyout",
       "prompt_number": 116,
       "text": [
        "()"
       ]
      }
     ],
     "prompt_number": 116
    },
    {
     "cell_type": "code",
     "collapsed": false,
     "input": [
      "type(g)"
     ],
     "language": "python",
     "metadata": {},
     "outputs": [
      {
       "metadata": {},
       "output_type": "pyout",
       "prompt_number": 117,
       "text": [
        "tuple"
       ]
      }
     ],
     "prompt_number": 117
    },
    {
     "cell_type": "code",
     "collapsed": false,
     "input": [
      "nparr_similartracks_origArtist = np.array(d_getSimilarTracks_origArtist['similartracks']['track'])\n",
      "\n",
      "l_index_missing_mbid = []\n",
      "for i in range(len(nparr_similartracks_origArtist)):\n",
      "\ttrack = nparr_similartracks_origArtist[i]\n",
      "\tif not 'mbid' in track: # if the track does NOT have an mbid\n",
      "\t\tprint \"no mbid\"\n",
      "\t\tl_index_missing_mbid.append(i)\n",
      "\telif track['mbid'] == None:\n",
      "\t\tprint \"no mbid -- None\"\n",
      "\t\tl_index_missing_mbid.append(i)\n",
      "\telif track['mbid'] == '':\n",
      "\t\tprint \"no mbid -- empty string\"\n",
      "\t\tl_index_missing_mbid.append(i)\n",
      "\n",
      "del nparr_similartracks_origArtist[l_index_missing_mbid]"
     ],
     "language": "python",
     "metadata": {},
     "outputs": [
      {
       "output_type": "stream",
       "stream": "stdout",
       "text": [
        "no mbid -- empty string\n",
        "no mbid -- empty string\n",
        "no mbid -- empty string\n"
       ]
      },
      {
       "ename": "ValueError",
       "evalue": "cannot delete array elements",
       "output_type": "pyerr",
       "traceback": [
        "\u001b[0;31m---------------------------------------------------------------------------\u001b[0m\n\u001b[0;31mValueError\u001b[0m                                Traceback (most recent call last)",
        "\u001b[0;32m<ipython-input-118-be7f26db6625>\u001b[0m in \u001b[0;36m<module>\u001b[0;34m()\u001b[0m\n\u001b[1;32m     14\u001b[0m                 \u001b[0ml_index_missing_mbid\u001b[0m\u001b[0;34m.\u001b[0m\u001b[0mappend\u001b[0m\u001b[0;34m(\u001b[0m\u001b[0mi\u001b[0m\u001b[0;34m)\u001b[0m\u001b[0;34m\u001b[0m\u001b[0m\n\u001b[1;32m     15\u001b[0m \u001b[0;34m\u001b[0m\u001b[0m\n\u001b[0;32m---> 16\u001b[0;31m \u001b[0;32mdel\u001b[0m \u001b[0mnparr_similartracks_origArtist\u001b[0m\u001b[0;34m[\u001b[0m\u001b[0ml_index_missing_mbid\u001b[0m\u001b[0;34m]\u001b[0m\u001b[0;34m\u001b[0m\u001b[0m\n\u001b[0m",
        "\u001b[0;31mValueError\u001b[0m: cannot delete array elements"
       ]
      }
     ],
     "prompt_number": 118
    },
    {
     "cell_type": "code",
     "collapsed": false,
     "input": [
      "l_index_missing_mbid"
     ],
     "language": "python",
     "metadata": {},
     "outputs": [
      {
       "metadata": {},
       "output_type": "pyout",
       "prompt_number": 119,
       "text": [
        "[23, 25, 57]"
       ]
      }
     ],
     "prompt_number": 119
    },
    {
     "cell_type": "code",
     "collapsed": false,
     "input": [
      "tuple(l_index_missing_mbid)"
     ],
     "language": "python",
     "metadata": {},
     "outputs": [
      {
       "metadata": {},
       "output_type": "pyout",
       "prompt_number": 120,
       "text": [
        "(23, 25, 57)"
       ]
      }
     ],
     "prompt_number": 120
    },
    {
     "cell_type": "code",
     "collapsed": false,
     "input": [
      "nparr_similartracks_origArtist[tuple(l_index_missing_mbid)]"
     ],
     "language": "python",
     "metadata": {},
     "outputs": [
      {
       "ename": "IndexError",
       "evalue": "too many indices",
       "output_type": "pyerr",
       "traceback": [
        "\u001b[0;31m---------------------------------------------------------------------------\u001b[0m\n\u001b[0;31mIndexError\u001b[0m                                Traceback (most recent call last)",
        "\u001b[0;32m<ipython-input-121-3fad3f839346>\u001b[0m in \u001b[0;36m<module>\u001b[0;34m()\u001b[0m\n\u001b[0;32m----> 1\u001b[0;31m \u001b[0mnparr_similartracks_origArtist\u001b[0m\u001b[0;34m[\u001b[0m\u001b[0mtuple\u001b[0m\u001b[0;34m(\u001b[0m\u001b[0ml_index_missing_mbid\u001b[0m\u001b[0;34m)\u001b[0m\u001b[0;34m]\u001b[0m\u001b[0;34m\u001b[0m\u001b[0m\n\u001b[0m",
        "\u001b[0;31mIndexError\u001b[0m: too many indices"
       ]
      }
     ],
     "prompt_number": 121
    },
    {
     "cell_type": "code",
     "collapsed": false,
     "input": [
      "len(np.delete(nparr_similartracks_origArtist, tuple(l_index_missing_mbid)))\n"
     ],
     "language": "python",
     "metadata": {},
     "outputs": [
      {
       "metadata": {},
       "output_type": "pyout",
       "prompt_number": 124,
       "text": [
        "97"
       ]
      }
     ],
     "prompt_number": 124
    },
    {
     "cell_type": "code",
     "collapsed": false,
     "input": [
      "len(nparr_similartracks_origArtist)"
     ],
     "language": "python",
     "metadata": {},
     "outputs": [
      {
       "metadata": {},
       "output_type": "pyout",
       "prompt_number": 123,
       "text": [
        "100"
       ]
      }
     ],
     "prompt_number": 123
    },
    {
     "cell_type": "code",
     "collapsed": false,
     "input": [
      "nparr_similartracks_origArtist = np.delete(nparr_similartracks_origArtist, tuple(l_index_missing_mbid))\n"
     ],
     "language": "python",
     "metadata": {},
     "outputs": [],
     "prompt_number": 125
    },
    {
     "cell_type": "code",
     "collapsed": false,
     "input": [
      "len(nparr_similartracks_origArtist)"
     ],
     "language": "python",
     "metadata": {},
     "outputs": [
      {
       "metadata": {},
       "output_type": "pyout",
       "prompt_number": 127,
       "text": [
        "97"
       ]
      }
     ],
     "prompt_number": 127
    },
    {
     "cell_type": "code",
     "collapsed": false,
     "input": [
      "### create the output files\n",
      "l_mbid = []\n",
      "l_track_name = []\n",
      "l_artist = []\n",
      "\n",
      "for track in nparr_similartracks_origArtist:\n",
      "\tl_mbid.append(track['mbid'])\n",
      "\tl_track_name.append(track['name'])\n",
      "\tl_artist.append(track['artist']['name'])"
     ],
     "language": "python",
     "metadata": {},
     "outputs": [],
     "prompt_number": 128
    },
    {
     "cell_type": "code",
     "collapsed": false,
     "input": [
      "l_track_name\n"
     ],
     "language": "python",
     "metadata": {},
     "outputs": [
      {
       "metadata": {},
       "output_type": "pyout",
       "prompt_number": 130,
       "text": [
        "[u'Strong Enough',\n",
        " u'All or Nothing',\n",
        " u\"Can't Get You Out of My Head\",\n",
        " u'Hung Up',\n",
        " u'Vogue',\n",
        " u'Get Outta My Way',\n",
        " u'Waiting for Tonight',\n",
        " u'Applause',\n",
        " u'Torn',\n",
        " u'Walking on Air',\n",
        " u'Poker Face',\n",
        " u'Barbie Girl',\n",
        " u'Let There Be Love',\n",
        " u'...Baby One More Time',\n",
        " u'Toxic',\n",
        " u'Wannabe',\n",
        " u'Not Myself Tonight',\n",
        " u\"Say You'll Be There\",\n",
        " u'All That She Wants',\n",
        " u'If You Had My Love',\n",
        " u'The Sign',\n",
        " u'Only Girl (In the World)',\n",
        " u'Time After Time',\n",
        " u'Murder on the Dancefloor',\n",
        " u'Together Again',\n",
        " u'Birthday',\n",
        " u'Domino',\n",
        " u'Die Young',\n",
        " u'What You Waiting For?',\n",
        " u'Your Love Is My Drug',\n",
        " u'Dancing on My Own',\n",
        " u\"Livin' La Vida Loca\",\n",
        " u\"It's Raining Men\",\n",
        " u'Cool',\n",
        " u'Starships',\n",
        " u'I Wanna Dance with Somebody (Who Loves Me)',\n",
        " u'Hero',\n",
        " u'Left Outside Alone',\n",
        " u'She Wolf',\n",
        " u'Fantasy',\n",
        " u'Come & Get It',\n",
        " u'Supermodel (You Better Work)',\n",
        " u'Call Your Girlfriend',\n",
        " u'Say It Right',\n",
        " u'Something New',\n",
        " u'Jealous Of My Boogie',\n",
        " u'Maria',\n",
        " u'Empire',\n",
        " u\"Don't Hold Your Breath\",\n",
        " u'Moving on Up',\n",
        " u\"I'm Outta Love\",\n",
        " u'Va Va Voom',\n",
        " u'All for You',\n",
        " u\"I'm Like a Bird\",\n",
        " u'True Colors',\n",
        " u'Poison',\n",
        " u'Call My Name',\n",
        " u'Someone Else',\n",
        " u'Self Control',\n",
        " u'Vibeology',\n",
        " u'Everytime We Touch',\n",
        " u'Turn Back Time',\n",
        " u'Black or White',\n",
        " u'#GETITRIGHT',\n",
        " u'I Turn to You',\n",
        " u'When I Grow Up',\n",
        " u'I Begin To Wonder',\n",
        " u'Nothing in This World',\n",
        " u'Never Ever',\n",
        " u'Buttons',\n",
        " u'I Wanna Dance with Somebody',\n",
        " u'Get Over You',\n",
        " u'Get the Party Started',\n",
        " u'Thank You',\n",
        " u'New York City Boy',\n",
        " u'Bailamos',\n",
        " u'Mirrors',\n",
        " u'Why',\n",
        " u'Undercover',\n",
        " u'Straight Up',\n",
        " u'Pure Shores',\n",
        " u'Venus',\n",
        " u'Never Be the Same Again',\n",
        " u'Release Me',\n",
        " u'All Night',\n",
        " u'Evacuate the Dancefloor',\n",
        " u'Look at Me',\n",
        " u'Acapella',\n",
        " u'Rumors',\n",
        " u'Unwritten',\n",
        " u'Cry For You',\n",
        " u'Slave to the Rhythm',\n",
        " u\"It's All Coming Back to Me Now\",\n",
        " u'On the Metro',\n",
        " u'Physical',\n",
        " u'Here with Me',\n",
        " u'Grown Woman']"
       ]
      }
     ],
     "prompt_number": 130
    },
    {
     "cell_type": "code",
     "collapsed": false,
     "input": [
      "import pandas as pd"
     ],
     "language": "python",
     "metadata": {},
     "outputs": [
      {
       "output_type": "stream",
       "stream": "stderr",
       "text": [
        "/Users/localadmin/Library/Enthought/Canopy_64bit/User/lib/python2.7/site-packages/pandas/io/excel.py:626: UserWarning: Installed openpyxl is not supported at this time. Use >=1.6.1 and <2.0.0.\n",
        "  .format(openpyxl_compat.start_ver, openpyxl_compat.stop_ver))\n"
       ]
      }
     ],
     "prompt_number": 131
    },
    {
     "cell_type": "code",
     "collapsed": false,
     "input": [
      "od_tracks_parsed = collections.OrderedDict((('id', l_mbid), ('track_name', l_track_name), ('artist',l_artist)))"
     ],
     "language": "python",
     "metadata": {},
     "outputs": [],
     "prompt_number": 143
    },
    {
     "cell_type": "code",
     "collapsed": false,
     "input": [
      "od_tracks_parsed"
     ],
     "language": "python",
     "metadata": {},
     "outputs": [
      {
       "metadata": {},
       "output_type": "pyout",
       "prompt_number": 140,
       "text": [
        "OrderedDict([('track_name', [u'Strong Enough', u'All or Nothing', u\"Can't Get You Out of My Head\", u'Hung Up', u'Vogue', u'Get Outta My Way', u'Waiting for Tonight', u'Applause', u'Torn', u'Walking on Air', u'Poker Face', u'Barbie Girl', u'Let There Be Love', u'...Baby One More Time', u'Toxic', u'Wannabe', u'Not Myself Tonight', u\"Say You'll Be There\", u'All That She Wants', u'If You Had My Love', u'The Sign', u'Only Girl (In the World)', u'Time After Time', u'Murder on the Dancefloor', u'Together Again', u'Birthday', u'Domino', u'Die Young', u'What You Waiting For?', u'Your Love Is My Drug', u'Dancing on My Own', u\"Livin' La Vida Loca\", u\"It's Raining Men\", u'Cool', u'Starships', u'I Wanna Dance with Somebody (Who Loves Me)', u'Hero', u'Left Outside Alone', u'She Wolf', u'Fantasy', u'Come & Get It', u'Supermodel (You Better Work)', u'Call Your Girlfriend', u'Say It Right', u'Something New', u'Jealous Of My Boogie', u'Maria', u'Empire', u\"Don't Hold Your Breath\", u'Moving on Up', u\"I'm Outta Love\", u'Va Va Voom', u'All for You', u\"I'm Like a Bird\", u'True Colors', u'Poison', u'Call My Name', u'Someone Else', u'Self Control', u'Vibeology', u'Everytime We Touch', u'Turn Back Time', u'Black or White', u'#GETITRIGHT', u'I Turn to You', u'When I Grow Up', u'I Begin To Wonder', u'Nothing in This World', u'Never Ever', u'Buttons', u'I Wanna Dance with Somebody', u'Get Over You', u'Get the Party Started', u'Thank You', u'New York City Boy', u'Bailamos', u'Mirrors', u'Why', u'Undercover', u'Straight Up', u'Pure Shores', u'Venus', u'Never Be the Same Again', u'Release Me', u'All Night', u'Evacuate the Dancefloor', u'Look at Me', u'Acapella', u'Rumors', u'Unwritten', u'Cry For You', u'Slave to the Rhythm', u\"It's All Coming Back to Me Now\", u'On the Metro', u'Physical', u'Here with Me', u'Grown Woman']), ('id', [u'2527625b-0752-48f3-95fd-c3f216686db8', u'a88735e6-b35c-4379-8ef7-bbd2b793ccf4', u'f7048ce4-6368-4087-9204-62d90480f708', u'31a6b752-291c-456f-ade5-f4b85545e6df', u'1111fd1f-7868-40a5-9dec-15dcd9b175a3', u'4988f79d-2945-471d-b238-79f04949ed34', u'd48db0f4-fab6-4d18-bc1f-aec43772af96', u'bd59fce3-fdd1-4212-b26f-dbcfedd66c57', u'5aa0d7aa-a9ed-4063-b978-18e089861d60', u'35143c2f-0484-44e2-bf27-7baa7ca5e135', u'080975b0-39b1-493c-ae64-5cb3292409bb', u'7e6e701c-4fdb-4fdb-9b3d-3fd00005cf68', u'17410183-d250-49c9-8be1-04d26fa4c71d', u'030c5163-88d9-4e9f-babb-59aa3d9db620', u'05b95428-108d-4ec9-a8cd-5b6a70c35cda', u'4f90ae6c-e7d3-4778-88d0-aaea79718c3e', u'7d9f69b7-81e7-4b42-ac24-ee58028740c8', u'de9a5376-a45b-4255-8e82-031ce6728e87', u'710f21dc-4237-4459-90fd-b117a71d347f', u'bb9401f9-41b1-4a5d-9b8c-b2ae039c09fe', u'60535489-7d75-4686-a578-a42ca0cd1e49', u'c1fd17a9-2900-4f45-812c-4a90fcc0a61c', u'1408a530-838c-40da-a2f5-94f96a94ca3a', u'44e38b7b-11b1-4ada-82e2-6583c947aa34', u'03659fc1-e2b6-407c-8f90-8854fbfe82c7', u'8b2d135d-2f37-4a1c-8795-35ec075be68f', u'3e5da524-7dc7-44b9-abbb-c1a0cad3a496', u'2a924daa-b652-4296-8e37-c0353fc2c4f6', u'00b0f9ec-6bff-449e-98ea-50ac5129f215', u'3c848550-0f64-4c30-b50a-d750672a2217', u'79ae7638-afcd-4b94-ac52-37eb33aeefc3', u'02dea461-4c05-4568-97b9-213fb2f1001e', u'ba9dbfff-f193-43b8-b1ab-7c5ad426ab14', u'dc0cce76-0cec-4ffd-b02a-791042c87936', u'e5755e48-0a36-4428-a6db-04b5ed100a83', u'363eb084-5711-4615-a169-50fc3a80e296', u'2ea5e2c3-b89c-49df-9173-0c4f36141d1a', u'126e356b-5538-4b17-b599-3d95fedbf349', u'e36f49e9-c215-41f3-8579-3f56481d91a6', u'ced408d9-b686-4aac-89f4-1e778cab0b48', u'31990f0e-a62b-4577-ae31-21af514a5da0', u'ff9782e3-39da-45b0-b6ad-1e6b9dbc083a', u'66e342f1-ca85-4576-807d-8e3857d4f142', u'e787999f-46f5-4d97-9b46-11a3a9b0a2d5', u'b4be7f77-bb4d-46ac-931a-1fe0f8b16a9e', u'7ed638fe-111c-4648-8a9d-eeaa891269ca', u'3a28489d-5c4d-42e3-a2a5-b938dc41f535', u'4fb07e4c-8a52-40e6-9529-bfb0af1e0643', u'a0842b4a-6b42-4a45-b309-48445b58333c', u'0e3906b9-e1e5-4d6d-8f31-975ef3a22724', u'10b9d8d4-2205-47b8-ad51-87bb214cff25', u'559d6bc0-003c-4aea-bb41-33206279b7aa', u'216b0d95-63eb-4b85-b229-386c81d2434c', u'e9750236-774b-460d-bd4d-fdf05b3fc367', u'0d2853b3-2dfc-4739-b5f1-1266b0e7084a', u'8f2334a3-ead8-4a05-91e3-55ed83a13cab', u'fb45caf5-3769-4666-affb-6e4d3a823e64', u'0088e5ea-5540-4685-849e-1e40fa624c8c', u'60f5d7d6-a1fc-4cfc-9dc7-aff012618af6', u'9855f2d9-3720-4052-a3b0-181682666a7f', u'092e42a4-c8f5-4837-9663-8a50405a3896', u'7e742abc-2a23-4f0c-b638-4be8c299bf57', u'071fa60b-652a-4d67-b7e4-58a63a1bbe6f', u'fe872d20-f73b-47f0-9c26-cc080e994582', u'64fb3897-d84d-46cf-8347-045565a67630', u'60fe129c-4409-4069-9262-bb6f2277e299', u'c7677cc2-9d61-4b8e-bfa4-43472f94acd5', u'331a1f4a-025d-4bbf-9239-d29d0f65becb', u'13d21923-f9da-4015-bb75-29839cd2b2a4', u'66402dcb-9bda-41d4-a3ad-a5f6550b9db4', u'120bab80-2c7d-410e-9bc7-8aa3e5e5665f', u'24f0414a-fb48-41ba-a32d-f8a498c6bb59', u'058a23e8-7631-4be7-980d-41133c499939', u'208e92ab-42f0-44b3-8c03-5872944ce891', u'69b29ef5-ac32-4302-a563-95b9ea7f24fa', u'12994b02-ce90-409a-a819-9500d5d2b38e', u'69538706-6845-42ea-88b8-c7e092bc3e3d', u'828cdb5a-353a-404c-b059-cbf61829918a', u'3805b6a9-291c-4315-bca0-0b96c01c7ef7', u'6cd29451-b9fc-43b8-bc40-9b4c7812b8c0', u'6e0eb323-251d-492c-8dd1-10c3b808266c', u'e61ec431-92fa-4119-8ccc-86f228e5d9c4', u'9705d5d9-d6c1-4cbe-bd3e-0c2601b3751a', u'1f0580b7-3bd5-4207-b3b6-c4c269dedcd2', u'b1abca18-f709-42d3-bfc7-b8fe07c583d3', u'873ee083-8268-4cf4-8f04-cd2270c05d4f', u'f62b6ad9-c0b1-42e5-bc8b-83be67d66789', u'434df0b1-3461-4f36-b2b7-c78bb3b02af3', u'91b5754c-2e9c-4b71-8a8d-3b1f51774b7e', u'6a7e4552-ed19-4513-9586-e949c486ec9f', u'15e40966-6cbb-473c-97fc-362de81f95d9', u'59cd7586-f768-4ae1-9bed-c17bce2dea9d', u'032658ec-a0cb-479b-af00-33bdf275b8e6', u'6c4dc807-4073-4b0a-88e1-1cf6cb993413', u'0398acc1-ffdd-40c5-9443-dacae38fc15f', u'01b13dbc-416e-4c71-84e2-cfe2875c296a', u'7e9749da-3c2f-42b3-a285-e66841924a79']), ('artist', [u'Cher', u'Cher', u'Kylie Minogue', u'Madonna', u'Madonna', u'Kylie Minogue', u'Jennifer Lopez', u'Lady Gaga', u'Natalie Imbruglia', u'Katy Perry', u'Lady Gaga', u'Aqua', u'Christina Aguilera', u'Britney Spears', u'Britney Spears', u'Spice Girls', u'Christina Aguilera', u'Spice Girls', u'Ace of Base', u'Jennifer Lopez', u'Ace of Base', u'Rihanna', u'Cyndi Lauper', u'Sophie Ellis-Bextor', u'Janet Jackson', u'Katy Perry', u'Jessie J', u'Ke$ha', u'Gwen Stefani', u'Ke$ha', u'Robyn', u'Ricky Martin', u'Geri Halliwell', u'Gwen Stefani', u'Nicki Minaj', u'Whitney Houston', u'Mariah Carey', u'Anastacia', u'Shakira', u'Mariah Carey', u'Selena Gomez', u'RuPaul', u'Robyn', u'Nelly Furtado', u'Girls Aloud', u'RuPaul', u'Blondie', u'Shakira', u'Nicole Scherzinger', u'M People', u'Anastacia', u'Nicki Minaj', u'Janet Jackson', u'Nelly Furtado', u'Cyndi Lauper', u'Nicole Scherzinger', u'Cheryl Cole', u'Miley Cyrus', u'Laura Branigan', u'Paula Abdul', u'Cascada', u'Aqua', u'Michael Jackson', u'Miley Cyrus', u'Melanie C', u'The Pussycat Dolls', u'Dannii Minogue', u'Paris Hilton', u'All Saints', u'The Pussycat Dolls', u'Whitney Houston', u'Sophie Ellis-Bextor', u'P!nk', u'Dido', u'Pet Shop Boys', u'Enrique Iglesias', u'Natalia Kills', u'Annie Lennox', u'Selena Gomez', u'Paula Abdul', u'All Saints', u'Bananarama', u'Melanie C', u'Agnes', u'Icona Pop', u'Cascada', u'Geri Halliwell', u'Kelis', u'Lindsay Lohan', u'Natasha Bedingfield', u'September', u'Michael Jackson', u'C\\xe9line Dion', u'Girls Aloud', u'Olivia Newton-John', u'Dido', u'Beyonc\\xe9'])])"
       ]
      }
     ],
     "prompt_number": 140
    },
    {
     "cell_type": "code",
     "collapsed": false,
     "input": [
      "df_tracks_parsed = pd.DataFrame.from_dict(od_tracks_parsed)"
     ],
     "language": "python",
     "metadata": {},
     "outputs": [],
     "prompt_number": 144
    },
    {
     "cell_type": "code",
     "collapsed": false,
     "input": [
      "df_tracks_parsed.head()"
     ],
     "language": "python",
     "metadata": {},
     "outputs": [
      {
       "html": [
        "<div style=\"max-height:1000px;max-width:1500px;overflow:auto;\">\n",
        "<table border=\"1\" class=\"dataframe\">\n",
        "  <thead>\n",
        "    <tr style=\"text-align: right;\">\n",
        "      <th></th>\n",
        "      <th>id</th>\n",
        "      <th>track_name</th>\n",
        "      <th>artist</th>\n",
        "    </tr>\n",
        "  </thead>\n",
        "  <tbody>\n",
        "    <tr>\n",
        "      <th>0</th>\n",
        "      <td> 2527625b-0752-48f3-95fd-c3f216686db8</td>\n",
        "      <td>                Strong Enough</td>\n",
        "      <td>          Cher</td>\n",
        "    </tr>\n",
        "    <tr>\n",
        "      <th>1</th>\n",
        "      <td> a88735e6-b35c-4379-8ef7-bbd2b793ccf4</td>\n",
        "      <td>               All or Nothing</td>\n",
        "      <td>          Cher</td>\n",
        "    </tr>\n",
        "    <tr>\n",
        "      <th>2</th>\n",
        "      <td> f7048ce4-6368-4087-9204-62d90480f708</td>\n",
        "      <td> Can't Get You Out of My Head</td>\n",
        "      <td> Kylie Minogue</td>\n",
        "    </tr>\n",
        "    <tr>\n",
        "      <th>3</th>\n",
        "      <td> 31a6b752-291c-456f-ade5-f4b85545e6df</td>\n",
        "      <td>                      Hung Up</td>\n",
        "      <td>       Madonna</td>\n",
        "    </tr>\n",
        "    <tr>\n",
        "      <th>4</th>\n",
        "      <td> 1111fd1f-7868-40a5-9dec-15dcd9b175a3</td>\n",
        "      <td>                        Vogue</td>\n",
        "      <td>       Madonna</td>\n",
        "    </tr>\n",
        "  </tbody>\n",
        "</table>\n",
        "</div>"
       ],
       "metadata": {},
       "output_type": "pyout",
       "prompt_number": 145,
       "text": [
        "                                     id                    track_name  \\\n",
        "0  2527625b-0752-48f3-95fd-c3f216686db8                 Strong Enough   \n",
        "1  a88735e6-b35c-4379-8ef7-bbd2b793ccf4                All or Nothing   \n",
        "2  f7048ce4-6368-4087-9204-62d90480f708  Can't Get You Out of My Head   \n",
        "3  31a6b752-291c-456f-ade5-f4b85545e6df                       Hung Up   \n",
        "4  1111fd1f-7868-40a5-9dec-15dcd9b175a3                         Vogue   \n",
        "\n",
        "          artist  \n",
        "0           Cher  \n",
        "1           Cher  \n",
        "2  Kylie Minogue  \n",
        "3        Madonna  \n",
        "4        Madonna  "
       ]
      }
     ],
     "prompt_number": 145
    },
    {
     "cell_type": "code",
     "collapsed": false,
     "input": [
      "OrderedDict"
     ],
     "language": "python",
     "metadata": {},
     "outputs": [
      {
       "ename": "NameError",
       "evalue": "name 'OrderedDict' is not defined",
       "output_type": "pyerr",
       "traceback": [
        "\u001b[0;31m---------------------------------------------------------------------------\u001b[0m\n\u001b[0;31mNameError\u001b[0m                                 Traceback (most recent call last)",
        "\u001b[0;32m<ipython-input-136-638c2f87c310>\u001b[0m in \u001b[0;36m<module>\u001b[0;34m()\u001b[0m\n\u001b[0;32m----> 1\u001b[0;31m \u001b[0mOrderedDict\u001b[0m\u001b[0;34m\u001b[0m\u001b[0m\n\u001b[0m",
        "\u001b[0;31mNameError\u001b[0m: name 'OrderedDict' is not defined"
       ]
      }
     ],
     "prompt_number": 136
    },
    {
     "cell_type": "code",
     "collapsed": false,
     "input": [
      "import collections"
     ],
     "language": "python",
     "metadata": {},
     "outputs": [],
     "prompt_number": 138
    },
    {
     "cell_type": "code",
     "collapsed": false,
     "input": [
      "### create the output files\n",
      "l_mbid = []\n",
      "l_track_name = []\n",
      "l_artist = []\n",
      "\n",
      "for track in nparr_similartracks_origArtist:\n",
      "\tl_mbid.append(track['mbid'])\n",
      "\tl_track_name.append(track['name'])\n",
      "\tl_artist.append(track['artist']['name'])\n",
      "od_tracks_parsed = collections.OrderedDict((('id', l_mbid), ('track_name', l_track_name), ('artist',l_artist)))\n",
      "\n",
      "df_tracks_parsed = pd.DataFrame.from_dict(od_tracks_parsed)"
     ],
     "language": "python",
     "metadata": {},
     "outputs": [],
     "prompt_number": 146
    },
    {
     "cell_type": "code",
     "collapsed": false,
     "input": [
      "df_tracks_parsed"
     ],
     "language": "python",
     "metadata": {},
     "outputs": [
      {
       "html": [
        "<div style=\"max-height:1000px;max-width:1500px;overflow:auto;\">\n",
        "<table border=\"1\" class=\"dataframe\">\n",
        "  <thead>\n",
        "    <tr style=\"text-align: right;\">\n",
        "      <th></th>\n",
        "      <th>id</th>\n",
        "      <th>track_name</th>\n",
        "      <th>artist</th>\n",
        "    </tr>\n",
        "  </thead>\n",
        "  <tbody>\n",
        "    <tr>\n",
        "      <th>0 </th>\n",
        "      <td> 2527625b-0752-48f3-95fd-c3f216686db8</td>\n",
        "      <td>                  Strong Enough</td>\n",
        "      <td>                Cher</td>\n",
        "    </tr>\n",
        "    <tr>\n",
        "      <th>1 </th>\n",
        "      <td> a88735e6-b35c-4379-8ef7-bbd2b793ccf4</td>\n",
        "      <td>                 All or Nothing</td>\n",
        "      <td>                Cher</td>\n",
        "    </tr>\n",
        "    <tr>\n",
        "      <th>2 </th>\n",
        "      <td> f7048ce4-6368-4087-9204-62d90480f708</td>\n",
        "      <td>   Can't Get You Out of My Head</td>\n",
        "      <td>       Kylie Minogue</td>\n",
        "    </tr>\n",
        "    <tr>\n",
        "      <th>3 </th>\n",
        "      <td> 31a6b752-291c-456f-ade5-f4b85545e6df</td>\n",
        "      <td>                        Hung Up</td>\n",
        "      <td>             Madonna</td>\n",
        "    </tr>\n",
        "    <tr>\n",
        "      <th>4 </th>\n",
        "      <td> 1111fd1f-7868-40a5-9dec-15dcd9b175a3</td>\n",
        "      <td>                          Vogue</td>\n",
        "      <td>             Madonna</td>\n",
        "    </tr>\n",
        "    <tr>\n",
        "      <th>5 </th>\n",
        "      <td> 4988f79d-2945-471d-b238-79f04949ed34</td>\n",
        "      <td>               Get Outta My Way</td>\n",
        "      <td>       Kylie Minogue</td>\n",
        "    </tr>\n",
        "    <tr>\n",
        "      <th>6 </th>\n",
        "      <td> d48db0f4-fab6-4d18-bc1f-aec43772af96</td>\n",
        "      <td>            Waiting for Tonight</td>\n",
        "      <td>      Jennifer Lopez</td>\n",
        "    </tr>\n",
        "    <tr>\n",
        "      <th>7 </th>\n",
        "      <td> bd59fce3-fdd1-4212-b26f-dbcfedd66c57</td>\n",
        "      <td>                       Applause</td>\n",
        "      <td>           Lady Gaga</td>\n",
        "    </tr>\n",
        "    <tr>\n",
        "      <th>8 </th>\n",
        "      <td> 5aa0d7aa-a9ed-4063-b978-18e089861d60</td>\n",
        "      <td>                           Torn</td>\n",
        "      <td>   Natalie Imbruglia</td>\n",
        "    </tr>\n",
        "    <tr>\n",
        "      <th>9 </th>\n",
        "      <td> 35143c2f-0484-44e2-bf27-7baa7ca5e135</td>\n",
        "      <td>                 Walking on Air</td>\n",
        "      <td>          Katy Perry</td>\n",
        "    </tr>\n",
        "    <tr>\n",
        "      <th>10</th>\n",
        "      <td> 080975b0-39b1-493c-ae64-5cb3292409bb</td>\n",
        "      <td>                     Poker Face</td>\n",
        "      <td>           Lady Gaga</td>\n",
        "    </tr>\n",
        "    <tr>\n",
        "      <th>11</th>\n",
        "      <td> 7e6e701c-4fdb-4fdb-9b3d-3fd00005cf68</td>\n",
        "      <td>                    Barbie Girl</td>\n",
        "      <td>                Aqua</td>\n",
        "    </tr>\n",
        "    <tr>\n",
        "      <th>12</th>\n",
        "      <td> 17410183-d250-49c9-8be1-04d26fa4c71d</td>\n",
        "      <td>              Let There Be Love</td>\n",
        "      <td>  Christina Aguilera</td>\n",
        "    </tr>\n",
        "    <tr>\n",
        "      <th>13</th>\n",
        "      <td> 030c5163-88d9-4e9f-babb-59aa3d9db620</td>\n",
        "      <td>          ...Baby One More Time</td>\n",
        "      <td>      Britney Spears</td>\n",
        "    </tr>\n",
        "    <tr>\n",
        "      <th>14</th>\n",
        "      <td> 05b95428-108d-4ec9-a8cd-5b6a70c35cda</td>\n",
        "      <td>                          Toxic</td>\n",
        "      <td>      Britney Spears</td>\n",
        "    </tr>\n",
        "    <tr>\n",
        "      <th>15</th>\n",
        "      <td> 4f90ae6c-e7d3-4778-88d0-aaea79718c3e</td>\n",
        "      <td>                        Wannabe</td>\n",
        "      <td>         Spice Girls</td>\n",
        "    </tr>\n",
        "    <tr>\n",
        "      <th>16</th>\n",
        "      <td> 7d9f69b7-81e7-4b42-ac24-ee58028740c8</td>\n",
        "      <td>             Not Myself Tonight</td>\n",
        "      <td>  Christina Aguilera</td>\n",
        "    </tr>\n",
        "    <tr>\n",
        "      <th>17</th>\n",
        "      <td> de9a5376-a45b-4255-8e82-031ce6728e87</td>\n",
        "      <td>            Say You'll Be There</td>\n",
        "      <td>         Spice Girls</td>\n",
        "    </tr>\n",
        "    <tr>\n",
        "      <th>18</th>\n",
        "      <td> 710f21dc-4237-4459-90fd-b117a71d347f</td>\n",
        "      <td>             All That She Wants</td>\n",
        "      <td>         Ace of Base</td>\n",
        "    </tr>\n",
        "    <tr>\n",
        "      <th>19</th>\n",
        "      <td> bb9401f9-41b1-4a5d-9b8c-b2ae039c09fe</td>\n",
        "      <td>             If You Had My Love</td>\n",
        "      <td>      Jennifer Lopez</td>\n",
        "    </tr>\n",
        "    <tr>\n",
        "      <th>20</th>\n",
        "      <td> 60535489-7d75-4686-a578-a42ca0cd1e49</td>\n",
        "      <td>                       The Sign</td>\n",
        "      <td>         Ace of Base</td>\n",
        "    </tr>\n",
        "    <tr>\n",
        "      <th>21</th>\n",
        "      <td> c1fd17a9-2900-4f45-812c-4a90fcc0a61c</td>\n",
        "      <td>       Only Girl (In the World)</td>\n",
        "      <td>             Rihanna</td>\n",
        "    </tr>\n",
        "    <tr>\n",
        "      <th>22</th>\n",
        "      <td> 1408a530-838c-40da-a2f5-94f96a94ca3a</td>\n",
        "      <td>                Time After Time</td>\n",
        "      <td>        Cyndi Lauper</td>\n",
        "    </tr>\n",
        "    <tr>\n",
        "      <th>23</th>\n",
        "      <td> 44e38b7b-11b1-4ada-82e2-6583c947aa34</td>\n",
        "      <td>       Murder on the Dancefloor</td>\n",
        "      <td> Sophie Ellis-Bextor</td>\n",
        "    </tr>\n",
        "    <tr>\n",
        "      <th>24</th>\n",
        "      <td> 03659fc1-e2b6-407c-8f90-8854fbfe82c7</td>\n",
        "      <td>                 Together Again</td>\n",
        "      <td>       Janet Jackson</td>\n",
        "    </tr>\n",
        "    <tr>\n",
        "      <th>25</th>\n",
        "      <td> 8b2d135d-2f37-4a1c-8795-35ec075be68f</td>\n",
        "      <td>                       Birthday</td>\n",
        "      <td>          Katy Perry</td>\n",
        "    </tr>\n",
        "    <tr>\n",
        "      <th>26</th>\n",
        "      <td> 3e5da524-7dc7-44b9-abbb-c1a0cad3a496</td>\n",
        "      <td>                         Domino</td>\n",
        "      <td>            Jessie J</td>\n",
        "    </tr>\n",
        "    <tr>\n",
        "      <th>27</th>\n",
        "      <td> 2a924daa-b652-4296-8e37-c0353fc2c4f6</td>\n",
        "      <td>                      Die Young</td>\n",
        "      <td>               Ke$ha</td>\n",
        "    </tr>\n",
        "    <tr>\n",
        "      <th>28</th>\n",
        "      <td> 00b0f9ec-6bff-449e-98ea-50ac5129f215</td>\n",
        "      <td>          What You Waiting For?</td>\n",
        "      <td>        Gwen Stefani</td>\n",
        "    </tr>\n",
        "    <tr>\n",
        "      <th>29</th>\n",
        "      <td> 3c848550-0f64-4c30-b50a-d750672a2217</td>\n",
        "      <td>           Your Love Is My Drug</td>\n",
        "      <td>               Ke$ha</td>\n",
        "    </tr>\n",
        "    <tr>\n",
        "      <th>...</th>\n",
        "      <td>...</td>\n",
        "      <td>...</td>\n",
        "      <td>...</td>\n",
        "    </tr>\n",
        "    <tr>\n",
        "      <th>67</th>\n",
        "      <td> 331a1f4a-025d-4bbf-9239-d29d0f65becb</td>\n",
        "      <td>          Nothing in This World</td>\n",
        "      <td>        Paris Hilton</td>\n",
        "    </tr>\n",
        "    <tr>\n",
        "      <th>68</th>\n",
        "      <td> 13d21923-f9da-4015-bb75-29839cd2b2a4</td>\n",
        "      <td>                     Never Ever</td>\n",
        "      <td>          All Saints</td>\n",
        "    </tr>\n",
        "    <tr>\n",
        "      <th>69</th>\n",
        "      <td> 66402dcb-9bda-41d4-a3ad-a5f6550b9db4</td>\n",
        "      <td>                        Buttons</td>\n",
        "      <td>  The Pussycat Dolls</td>\n",
        "    </tr>\n",
        "    <tr>\n",
        "      <th>70</th>\n",
        "      <td> 120bab80-2c7d-410e-9bc7-8aa3e5e5665f</td>\n",
        "      <td>    I Wanna Dance with Somebody</td>\n",
        "      <td>     Whitney Houston</td>\n",
        "    </tr>\n",
        "    <tr>\n",
        "      <th>71</th>\n",
        "      <td> 24f0414a-fb48-41ba-a32d-f8a498c6bb59</td>\n",
        "      <td>                   Get Over You</td>\n",
        "      <td> Sophie Ellis-Bextor</td>\n",
        "    </tr>\n",
        "    <tr>\n",
        "      <th>72</th>\n",
        "      <td> 058a23e8-7631-4be7-980d-41133c499939</td>\n",
        "      <td>          Get the Party Started</td>\n",
        "      <td>                P!nk</td>\n",
        "    </tr>\n",
        "    <tr>\n",
        "      <th>73</th>\n",
        "      <td> 208e92ab-42f0-44b3-8c03-5872944ce891</td>\n",
        "      <td>                      Thank You</td>\n",
        "      <td>                Dido</td>\n",
        "    </tr>\n",
        "    <tr>\n",
        "      <th>74</th>\n",
        "      <td> 69b29ef5-ac32-4302-a563-95b9ea7f24fa</td>\n",
        "      <td>              New York City Boy</td>\n",
        "      <td>       Pet Shop Boys</td>\n",
        "    </tr>\n",
        "    <tr>\n",
        "      <th>75</th>\n",
        "      <td> 12994b02-ce90-409a-a819-9500d5d2b38e</td>\n",
        "      <td>                       Bailamos</td>\n",
        "      <td>    Enrique Iglesias</td>\n",
        "    </tr>\n",
        "    <tr>\n",
        "      <th>76</th>\n",
        "      <td> 69538706-6845-42ea-88b8-c7e092bc3e3d</td>\n",
        "      <td>                        Mirrors</td>\n",
        "      <td>       Natalia Kills</td>\n",
        "    </tr>\n",
        "    <tr>\n",
        "      <th>77</th>\n",
        "      <td> 828cdb5a-353a-404c-b059-cbf61829918a</td>\n",
        "      <td>                            Why</td>\n",
        "      <td>        Annie Lennox</td>\n",
        "    </tr>\n",
        "    <tr>\n",
        "      <th>78</th>\n",
        "      <td> 3805b6a9-291c-4315-bca0-0b96c01c7ef7</td>\n",
        "      <td>                     Undercover</td>\n",
        "      <td>        Selena Gomez</td>\n",
        "    </tr>\n",
        "    <tr>\n",
        "      <th>79</th>\n",
        "      <td> 6cd29451-b9fc-43b8-bc40-9b4c7812b8c0</td>\n",
        "      <td>                    Straight Up</td>\n",
        "      <td>         Paula Abdul</td>\n",
        "    </tr>\n",
        "    <tr>\n",
        "      <th>80</th>\n",
        "      <td> 6e0eb323-251d-492c-8dd1-10c3b808266c</td>\n",
        "      <td>                    Pure Shores</td>\n",
        "      <td>          All Saints</td>\n",
        "    </tr>\n",
        "    <tr>\n",
        "      <th>81</th>\n",
        "      <td> e61ec431-92fa-4119-8ccc-86f228e5d9c4</td>\n",
        "      <td>                          Venus</td>\n",
        "      <td>          Bananarama</td>\n",
        "    </tr>\n",
        "    <tr>\n",
        "      <th>82</th>\n",
        "      <td> 9705d5d9-d6c1-4cbe-bd3e-0c2601b3751a</td>\n",
        "      <td>        Never Be the Same Again</td>\n",
        "      <td>           Melanie C</td>\n",
        "    </tr>\n",
        "    <tr>\n",
        "      <th>83</th>\n",
        "      <td> 1f0580b7-3bd5-4207-b3b6-c4c269dedcd2</td>\n",
        "      <td>                     Release Me</td>\n",
        "      <td>               Agnes</td>\n",
        "    </tr>\n",
        "    <tr>\n",
        "      <th>84</th>\n",
        "      <td> b1abca18-f709-42d3-bfc7-b8fe07c583d3</td>\n",
        "      <td>                      All Night</td>\n",
        "      <td>           Icona Pop</td>\n",
        "    </tr>\n",
        "    <tr>\n",
        "      <th>85</th>\n",
        "      <td> 873ee083-8268-4cf4-8f04-cd2270c05d4f</td>\n",
        "      <td>        Evacuate the Dancefloor</td>\n",
        "      <td>             Cascada</td>\n",
        "    </tr>\n",
        "    <tr>\n",
        "      <th>86</th>\n",
        "      <td> f62b6ad9-c0b1-42e5-bc8b-83be67d66789</td>\n",
        "      <td>                     Look at Me</td>\n",
        "      <td>      Geri Halliwell</td>\n",
        "    </tr>\n",
        "    <tr>\n",
        "      <th>87</th>\n",
        "      <td> 434df0b1-3461-4f36-b2b7-c78bb3b02af3</td>\n",
        "      <td>                       Acapella</td>\n",
        "      <td>               Kelis</td>\n",
        "    </tr>\n",
        "    <tr>\n",
        "      <th>88</th>\n",
        "      <td> 91b5754c-2e9c-4b71-8a8d-3b1f51774b7e</td>\n",
        "      <td>                         Rumors</td>\n",
        "      <td>       Lindsay Lohan</td>\n",
        "    </tr>\n",
        "    <tr>\n",
        "      <th>89</th>\n",
        "      <td> 6a7e4552-ed19-4513-9586-e949c486ec9f</td>\n",
        "      <td>                      Unwritten</td>\n",
        "      <td> Natasha Bedingfield</td>\n",
        "    </tr>\n",
        "    <tr>\n",
        "      <th>90</th>\n",
        "      <td> 15e40966-6cbb-473c-97fc-362de81f95d9</td>\n",
        "      <td>                    Cry For You</td>\n",
        "      <td>           September</td>\n",
        "    </tr>\n",
        "    <tr>\n",
        "      <th>91</th>\n",
        "      <td> 59cd7586-f768-4ae1-9bed-c17bce2dea9d</td>\n",
        "      <td>            Slave to the Rhythm</td>\n",
        "      <td>     Michael Jackson</td>\n",
        "    </tr>\n",
        "    <tr>\n",
        "      <th>92</th>\n",
        "      <td> 032658ec-a0cb-479b-af00-33bdf275b8e6</td>\n",
        "      <td> It's All Coming Back to Me Now</td>\n",
        "      <td>         C\u00e9line Dion</td>\n",
        "    </tr>\n",
        "    <tr>\n",
        "      <th>93</th>\n",
        "      <td> 6c4dc807-4073-4b0a-88e1-1cf6cb993413</td>\n",
        "      <td>                   On the Metro</td>\n",
        "      <td>         Girls Aloud</td>\n",
        "    </tr>\n",
        "    <tr>\n",
        "      <th>94</th>\n",
        "      <td> 0398acc1-ffdd-40c5-9443-dacae38fc15f</td>\n",
        "      <td>                       Physical</td>\n",
        "      <td>  Olivia Newton-John</td>\n",
        "    </tr>\n",
        "    <tr>\n",
        "      <th>95</th>\n",
        "      <td> 01b13dbc-416e-4c71-84e2-cfe2875c296a</td>\n",
        "      <td>                   Here with Me</td>\n",
        "      <td>                Dido</td>\n",
        "    </tr>\n",
        "    <tr>\n",
        "      <th>96</th>\n",
        "      <td> 7e9749da-3c2f-42b3-a285-e66841924a79</td>\n",
        "      <td>                    Grown Woman</td>\n",
        "      <td>             Beyonc\u00e9</td>\n",
        "    </tr>\n",
        "  </tbody>\n",
        "</table>\n",
        "<p>97 rows \u00d7 3 columns</p>\n",
        "</div>"
       ],
       "metadata": {},
       "output_type": "pyout",
       "prompt_number": 147,
       "text": [
        "                                      id                      track_name  \\\n",
        "0   2527625b-0752-48f3-95fd-c3f216686db8                   Strong Enough   \n",
        "1   a88735e6-b35c-4379-8ef7-bbd2b793ccf4                  All or Nothing   \n",
        "2   f7048ce4-6368-4087-9204-62d90480f708    Can't Get You Out of My Head   \n",
        "3   31a6b752-291c-456f-ade5-f4b85545e6df                         Hung Up   \n",
        "4   1111fd1f-7868-40a5-9dec-15dcd9b175a3                           Vogue   \n",
        "5   4988f79d-2945-471d-b238-79f04949ed34                Get Outta My Way   \n",
        "6   d48db0f4-fab6-4d18-bc1f-aec43772af96             Waiting for Tonight   \n",
        "7   bd59fce3-fdd1-4212-b26f-dbcfedd66c57                        Applause   \n",
        "8   5aa0d7aa-a9ed-4063-b978-18e089861d60                            Torn   \n",
        "9   35143c2f-0484-44e2-bf27-7baa7ca5e135                  Walking on Air   \n",
        "10  080975b0-39b1-493c-ae64-5cb3292409bb                      Poker Face   \n",
        "11  7e6e701c-4fdb-4fdb-9b3d-3fd00005cf68                     Barbie Girl   \n",
        "12  17410183-d250-49c9-8be1-04d26fa4c71d               Let There Be Love   \n",
        "13  030c5163-88d9-4e9f-babb-59aa3d9db620           ...Baby One More Time   \n",
        "14  05b95428-108d-4ec9-a8cd-5b6a70c35cda                           Toxic   \n",
        "15  4f90ae6c-e7d3-4778-88d0-aaea79718c3e                         Wannabe   \n",
        "16  7d9f69b7-81e7-4b42-ac24-ee58028740c8              Not Myself Tonight   \n",
        "17  de9a5376-a45b-4255-8e82-031ce6728e87             Say You'll Be There   \n",
        "18  710f21dc-4237-4459-90fd-b117a71d347f              All That She Wants   \n",
        "19  bb9401f9-41b1-4a5d-9b8c-b2ae039c09fe              If You Had My Love   \n",
        "20  60535489-7d75-4686-a578-a42ca0cd1e49                        The Sign   \n",
        "21  c1fd17a9-2900-4f45-812c-4a90fcc0a61c        Only Girl (In the World)   \n",
        "22  1408a530-838c-40da-a2f5-94f96a94ca3a                 Time After Time   \n",
        "23  44e38b7b-11b1-4ada-82e2-6583c947aa34        Murder on the Dancefloor   \n",
        "24  03659fc1-e2b6-407c-8f90-8854fbfe82c7                  Together Again   \n",
        "25  8b2d135d-2f37-4a1c-8795-35ec075be68f                        Birthday   \n",
        "26  3e5da524-7dc7-44b9-abbb-c1a0cad3a496                          Domino   \n",
        "27  2a924daa-b652-4296-8e37-c0353fc2c4f6                       Die Young   \n",
        "28  00b0f9ec-6bff-449e-98ea-50ac5129f215           What You Waiting For?   \n",
        "29  3c848550-0f64-4c30-b50a-d750672a2217            Your Love Is My Drug   \n",
        "..                                   ...                             ...   \n",
        "67  331a1f4a-025d-4bbf-9239-d29d0f65becb           Nothing in This World   \n",
        "68  13d21923-f9da-4015-bb75-29839cd2b2a4                      Never Ever   \n",
        "69  66402dcb-9bda-41d4-a3ad-a5f6550b9db4                         Buttons   \n",
        "70  120bab80-2c7d-410e-9bc7-8aa3e5e5665f     I Wanna Dance with Somebody   \n",
        "71  24f0414a-fb48-41ba-a32d-f8a498c6bb59                    Get Over You   \n",
        "72  058a23e8-7631-4be7-980d-41133c499939           Get the Party Started   \n",
        "73  208e92ab-42f0-44b3-8c03-5872944ce891                       Thank You   \n",
        "74  69b29ef5-ac32-4302-a563-95b9ea7f24fa               New York City Boy   \n",
        "75  12994b02-ce90-409a-a819-9500d5d2b38e                        Bailamos   \n",
        "76  69538706-6845-42ea-88b8-c7e092bc3e3d                         Mirrors   \n",
        "77  828cdb5a-353a-404c-b059-cbf61829918a                             Why   \n",
        "78  3805b6a9-291c-4315-bca0-0b96c01c7ef7                      Undercover   \n",
        "79  6cd29451-b9fc-43b8-bc40-9b4c7812b8c0                     Straight Up   \n",
        "80  6e0eb323-251d-492c-8dd1-10c3b808266c                     Pure Shores   \n",
        "81  e61ec431-92fa-4119-8ccc-86f228e5d9c4                           Venus   \n",
        "82  9705d5d9-d6c1-4cbe-bd3e-0c2601b3751a         Never Be the Same Again   \n",
        "83  1f0580b7-3bd5-4207-b3b6-c4c269dedcd2                      Release Me   \n",
        "84  b1abca18-f709-42d3-bfc7-b8fe07c583d3                       All Night   \n",
        "85  873ee083-8268-4cf4-8f04-cd2270c05d4f         Evacuate the Dancefloor   \n",
        "86  f62b6ad9-c0b1-42e5-bc8b-83be67d66789                      Look at Me   \n",
        "87  434df0b1-3461-4f36-b2b7-c78bb3b02af3                        Acapella   \n",
        "88  91b5754c-2e9c-4b71-8a8d-3b1f51774b7e                          Rumors   \n",
        "89  6a7e4552-ed19-4513-9586-e949c486ec9f                       Unwritten   \n",
        "90  15e40966-6cbb-473c-97fc-362de81f95d9                     Cry For You   \n",
        "91  59cd7586-f768-4ae1-9bed-c17bce2dea9d             Slave to the Rhythm   \n",
        "92  032658ec-a0cb-479b-af00-33bdf275b8e6  It's All Coming Back to Me Now   \n",
        "93  6c4dc807-4073-4b0a-88e1-1cf6cb993413                    On the Metro   \n",
        "94  0398acc1-ffdd-40c5-9443-dacae38fc15f                        Physical   \n",
        "95  01b13dbc-416e-4c71-84e2-cfe2875c296a                    Here with Me   \n",
        "96  7e9749da-3c2f-42b3-a285-e66841924a79                     Grown Woman   \n",
        "\n",
        "                 artist  \n",
        "0                  Cher  \n",
        "1                  Cher  \n",
        "2         Kylie Minogue  \n",
        "3               Madonna  \n",
        "4               Madonna  \n",
        "5         Kylie Minogue  \n",
        "6        Jennifer Lopez  \n",
        "7             Lady Gaga  \n",
        "8     Natalie Imbruglia  \n",
        "9            Katy Perry  \n",
        "10            Lady Gaga  \n",
        "11                 Aqua  \n",
        "12   Christina Aguilera  \n",
        "13       Britney Spears  \n",
        "14       Britney Spears  \n",
        "15          Spice Girls  \n",
        "16   Christina Aguilera  \n",
        "17          Spice Girls  \n",
        "18          Ace of Base  \n",
        "19       Jennifer Lopez  \n",
        "20          Ace of Base  \n",
        "21              Rihanna  \n",
        "22         Cyndi Lauper  \n",
        "23  Sophie Ellis-Bextor  \n",
        "24        Janet Jackson  \n",
        "25           Katy Perry  \n",
        "26             Jessie J  \n",
        "27                Ke$ha  \n",
        "28         Gwen Stefani  \n",
        "29                Ke$ha  \n",
        "..                  ...  \n",
        "67         Paris Hilton  \n",
        "68           All Saints  \n",
        "69   The Pussycat Dolls  \n",
        "70      Whitney Houston  \n",
        "71  Sophie Ellis-Bextor  \n",
        "72                 P!nk  \n",
        "73                 Dido  \n",
        "74        Pet Shop Boys  \n",
        "75     Enrique Iglesias  \n",
        "76        Natalia Kills  \n",
        "77         Annie Lennox  \n",
        "78         Selena Gomez  \n",
        "79          Paula Abdul  \n",
        "80           All Saints  \n",
        "81           Bananarama  \n",
        "82            Melanie C  \n",
        "83                Agnes  \n",
        "84            Icona Pop  \n",
        "85              Cascada  \n",
        "86       Geri Halliwell  \n",
        "87                Kelis  \n",
        "88        Lindsay Lohan  \n",
        "89  Natasha Bedingfield  \n",
        "90            September  \n",
        "91      Michael Jackson  \n",
        "92          C\u00e9line Dion  \n",
        "93          Girls Aloud  \n",
        "94   Olivia Newton-John  \n",
        "95                 Dido  \n",
        "96              Beyonc\u00e9  \n",
        "\n",
        "[97 rows x 3 columns]"
       ]
      }
     ],
     "prompt_number": 147
    },
    {
     "cell_type": "code",
     "collapsed": false,
     "input": [
      "df_tracks_parsed.to_csv(\"tracks.csv\",encoding='utf-8', index = False)"
     ],
     "language": "python",
     "metadata": {},
     "outputs": [],
     "prompt_number": 150
    },
    {
     "cell_type": "code",
     "collapsed": false,
     "input": [
      "tt = ()\n",
      "tt.append((9,9))"
     ],
     "language": "python",
     "metadata": {},
     "outputs": [
      {
       "ename": "AttributeError",
       "evalue": "'tuple' object has no attribute 'append'",
       "output_type": "pyerr",
       "traceback": [
        "\u001b[0;31m---------------------------------------------------------------------------\u001b[0m\n\u001b[0;31mAttributeError\u001b[0m                            Traceback (most recent call last)",
        "\u001b[0;32m<ipython-input-151-061b0a780a1f>\u001b[0m in \u001b[0;36m<module>\u001b[0;34m()\u001b[0m\n\u001b[1;32m      1\u001b[0m \u001b[0mtt\u001b[0m \u001b[0;34m=\u001b[0m \u001b[0;34m(\u001b[0m\u001b[0;34m)\u001b[0m\u001b[0;34m\u001b[0m\u001b[0m\n\u001b[0;32m----> 2\u001b[0;31m \u001b[0mtt\u001b[0m\u001b[0;34m.\u001b[0m\u001b[0mappend\u001b[0m\u001b[0;34m(\u001b[0m\u001b[0;34m(\u001b[0m\u001b[0;36m9\u001b[0m\u001b[0;34m,\u001b[0m\u001b[0;36m9\u001b[0m\u001b[0;34m)\u001b[0m\u001b[0;34m)\u001b[0m\u001b[0;34m\u001b[0m\u001b[0m\n\u001b[0m",
        "\u001b[0;31mAttributeError\u001b[0m: 'tuple' object has no attribute 'append'"
       ]
      }
     ],
     "prompt_number": 151
    },
    {
     "cell_type": "code",
     "collapsed": false,
     "input": [
      "tt"
     ],
     "language": "python",
     "metadata": {},
     "outputs": [
      {
       "metadata": {},
       "output_type": "pyout",
       "prompt_number": 152,
       "text": [
        "()"
       ]
      }
     ],
     "prompt_number": 152
    },
    {
     "cell_type": "code",
     "collapsed": false,
     "input": [
      "def removeTracksWithMissingMbid(nparr_tracks):\n",
      "\t'''\n",
      "\tinput: nparr_tracks: np array of tracks (dict form)\n",
      "\t'''\n",
      "\tl_index_missing_mbid = []\n",
      "\tfor i in range(len(nparr_tracks)):\n",
      "\t\ttrack = nparr_tracks[i]\n",
      "\t\tif not 'mbid' in track: # if the track does NOT have an mbid\n",
      "\t\t\tprint \"no mbid\"\n",
      "\t\t\tl_index_missing_mbid.append(i)\n",
      "\t\telif track['mbid'] == None:\n",
      "\t\t\tprint \"no mbid -- None\"\n",
      "\t\t\tl_index_missing_mbid.append(i)\n",
      "\t\telif track['mbid'] == '':\n",
      "\t\t\tprint \"no mbid -- empty string\"\n",
      "\t\t\tl_index_missing_mbid.append(i)\n",
      "\t#now, delete the entries where there is no mbid\n",
      "\tnparr_tracks_parsed = np.delete(nparr_tracks, tuple(l_index_missing_mbid))\t\n",
      "\treturn nparr_tracks_parsed"
     ],
     "language": "python",
     "metadata": {},
     "outputs": [],
     "prompt_number": 153
    },
    {
     "cell_type": "code",
     "collapsed": false,
     "input": [
      "nparr_similartracks_origArtist = removeTracksWithMissingMbid(nparr_similartracks_origArtist)\n"
     ],
     "language": "python",
     "metadata": {},
     "outputs": [],
     "prompt_number": 154
    },
    {
     "cell_type": "code",
     "collapsed": false,
     "input": [
      "len(nparr_similartracks_origArtist)"
     ],
     "language": "python",
     "metadata": {},
     "outputs": [
      {
       "metadata": {},
       "output_type": "pyout",
       "prompt_number": 155,
       "text": [
        "97"
       ]
      }
     ],
     "prompt_number": 155
    },
    {
     "cell_type": "code",
     "collapsed": false,
     "input": [
      "#now, loop through each track and find the 10 most similar tracks\n",
      "t_10mostSimilarTracks_toOriginalSimilars = ()\n",
      "for track in nparr_similartracks_origArtist:\n",
      "\tthis_artist = track['artist']['name']\n",
      "\tthis_track_name = track['name']\n",
      "\tthis_mbid = track['mbid']\n",
      "\td_getSimilarTracks_thisTrack = getSimilarTracks(this_artist,this_track_name, API_KEY, limit=10) #use API to get similar tracks to this track\n",
      "\tnparr_similarTracks_thisTrack = np.array(d_getSimilarTracks_thisTrack['similartracks']['track'])\n",
      "\tnparr_similarTracks_thisTrack = removeTracksWithMissingMbid(nparr_similarTracks_thisTrack)\n",
      "\t#make list of mbid for similar tracks to this track\n",
      "\tl_mbid_similarTracks_thisTrack = []\n",
      "\tfor t in nparr_similarTracks_thisTrack:\n",
      "\t\tl_mbid_similarTracks_thisTrack.append(t['mbid'])\n",
      "\tt_10mostSimilarTracks_toOriginalSimilars = t_10mostSimilarTracks_toOriginalSimilars + ((this_mbid,l_mbid_similarTracks_thisTrack),)# append tuple (this_mbid,l_mbid_similarTracks_thisTrack) to the tuple t_10mostSimilarTracks_toOriginalSimilars\n"
     ],
     "language": "python",
     "metadata": {},
     "outputs": [
      {
       "ename": "BadStatusLine",
       "evalue": "''",
       "output_type": "pyerr",
       "traceback": [
        "\u001b[0;31m---------------------------------------------------------------------------\u001b[0m\n\u001b[0;31mBadStatusLine\u001b[0m                             Traceback (most recent call last)",
        "\u001b[0;32m<ipython-input-156-dcf32446416b>\u001b[0m in \u001b[0;36m<module>\u001b[0;34m()\u001b[0m\n\u001b[1;32m      5\u001b[0m         \u001b[0mthis_track_name\u001b[0m \u001b[0;34m=\u001b[0m \u001b[0mtrack\u001b[0m\u001b[0;34m[\u001b[0m\u001b[0;34m'name'\u001b[0m\u001b[0;34m]\u001b[0m\u001b[0;34m\u001b[0m\u001b[0m\n\u001b[1;32m      6\u001b[0m         \u001b[0mthis_mbid\u001b[0m \u001b[0;34m=\u001b[0m \u001b[0mtrack\u001b[0m\u001b[0;34m[\u001b[0m\u001b[0;34m'mbid'\u001b[0m\u001b[0;34m]\u001b[0m\u001b[0;34m\u001b[0m\u001b[0m\n\u001b[0;32m----> 7\u001b[0;31m         \u001b[0md_getSimilarTracks_thisTrack\u001b[0m \u001b[0;34m=\u001b[0m \u001b[0mgetSimilarTracks\u001b[0m\u001b[0;34m(\u001b[0m\u001b[0mthis_artist\u001b[0m\u001b[0;34m,\u001b[0m\u001b[0mthis_track_name\u001b[0m\u001b[0;34m,\u001b[0m \u001b[0mAPI_KEY\u001b[0m\u001b[0;34m,\u001b[0m \u001b[0mlimit\u001b[0m\u001b[0;34m=\u001b[0m\u001b[0;36m10\u001b[0m\u001b[0;34m)\u001b[0m \u001b[0;31m#use API to get similar tracks to this track\u001b[0m\u001b[0;34m\u001b[0m\u001b[0m\n\u001b[0m\u001b[1;32m      8\u001b[0m         \u001b[0mnparr_similarTracks_thisTrack\u001b[0m \u001b[0;34m=\u001b[0m \u001b[0mnp\u001b[0m\u001b[0;34m.\u001b[0m\u001b[0marray\u001b[0m\u001b[0;34m(\u001b[0m\u001b[0md_getSimilarTracks_thisTrack\u001b[0m\u001b[0;34m[\u001b[0m\u001b[0;34m'similartracks'\u001b[0m\u001b[0;34m]\u001b[0m\u001b[0;34m[\u001b[0m\u001b[0;34m'track'\u001b[0m\u001b[0;34m]\u001b[0m\u001b[0;34m)\u001b[0m\u001b[0;34m\u001b[0m\u001b[0m\n\u001b[1;32m      9\u001b[0m         \u001b[0mnparr_similarTracks_thisTrack\u001b[0m \u001b[0;34m=\u001b[0m \u001b[0mremoveTracksWithMissingMbid\u001b[0m\u001b[0;34m(\u001b[0m\u001b[0mnparr_similarTracks_thisTrack\u001b[0m\u001b[0;34m)\u001b[0m\u001b[0;34m\u001b[0m\u001b[0m\n",
        "\u001b[0;32m<ipython-input-83-151f9e5ca35a>\u001b[0m in \u001b[0;36mgetSimilarTracks\u001b[0;34m(artist, songtitle, api_key, mbid, autocorrect, limit)\u001b[0m\n\u001b[1;32m     17\u001b[0m                 \u001b[0mrequest_url\u001b[0m \u001b[0;34m=\u001b[0m \u001b[0mrequest_url\u001b[0m \u001b[0;34m+\u001b[0m \u001b[0;34m\"&limit=\"\u001b[0m \u001b[0;34m+\u001b[0m \u001b[0mstr\u001b[0m\u001b[0;34m(\u001b[0m\u001b[0mlimit\u001b[0m\u001b[0;34m)\u001b[0m\u001b[0;34m\u001b[0m\u001b[0m\n\u001b[1;32m     18\u001b[0m \u001b[0;34m\u001b[0m\u001b[0m\n\u001b[0;32m---> 19\u001b[0;31m         \u001b[0mresponse\u001b[0m \u001b[0;34m=\u001b[0m \u001b[0murllib2\u001b[0m\u001b[0;34m.\u001b[0m\u001b[0murlopen\u001b[0m\u001b[0;34m(\u001b[0m\u001b[0mrequest_url\u001b[0m\u001b[0;34m,\u001b[0m \u001b[0mtimeout\u001b[0m\u001b[0;34m=\u001b[0m\u001b[0;36m200\u001b[0m\u001b[0;34m)\u001b[0m\u001b[0;34m\u001b[0m\u001b[0m\n\u001b[0m\u001b[1;32m     20\u001b[0m         \u001b[0mresponse_json\u001b[0m \u001b[0;34m=\u001b[0m \u001b[0mresponse\u001b[0m\u001b[0;34m.\u001b[0m\u001b[0mread\u001b[0m\u001b[0;34m(\u001b[0m\u001b[0;34m)\u001b[0m\u001b[0;34m\u001b[0m\u001b[0m\n\u001b[1;32m     21\u001b[0m         \u001b[0mresponse_dict\u001b[0m \u001b[0;34m=\u001b[0m \u001b[0mjson\u001b[0m\u001b[0;34m.\u001b[0m\u001b[0mloads\u001b[0m\u001b[0;34m(\u001b[0m\u001b[0mresponse_json\u001b[0m\u001b[0;34m)\u001b[0m\u001b[0;34m\u001b[0m\u001b[0m\n",
        "\u001b[0;32m/Applications/Canopy.app/appdata/canopy-1.4.1.1975.macosx-x86_64/Canopy.app/Contents/lib/python2.7/urllib2.pyc\u001b[0m in \u001b[0;36murlopen\u001b[0;34m(url, data, timeout)\u001b[0m\n\u001b[1;32m    125\u001b[0m     \u001b[0;32mif\u001b[0m \u001b[0m_opener\u001b[0m \u001b[0;32mis\u001b[0m \u001b[0mNone\u001b[0m\u001b[0;34m:\u001b[0m\u001b[0;34m\u001b[0m\u001b[0m\n\u001b[1;32m    126\u001b[0m         \u001b[0m_opener\u001b[0m \u001b[0;34m=\u001b[0m \u001b[0mbuild_opener\u001b[0m\u001b[0;34m(\u001b[0m\u001b[0;34m)\u001b[0m\u001b[0;34m\u001b[0m\u001b[0m\n\u001b[0;32m--> 127\u001b[0;31m     \u001b[0;32mreturn\u001b[0m \u001b[0m_opener\u001b[0m\u001b[0;34m.\u001b[0m\u001b[0mopen\u001b[0m\u001b[0;34m(\u001b[0m\u001b[0murl\u001b[0m\u001b[0;34m,\u001b[0m \u001b[0mdata\u001b[0m\u001b[0;34m,\u001b[0m \u001b[0mtimeout\u001b[0m\u001b[0;34m)\u001b[0m\u001b[0;34m\u001b[0m\u001b[0m\n\u001b[0m\u001b[1;32m    128\u001b[0m \u001b[0;34m\u001b[0m\u001b[0m\n\u001b[1;32m    129\u001b[0m \u001b[0;32mdef\u001b[0m \u001b[0minstall_opener\u001b[0m\u001b[0;34m(\u001b[0m\u001b[0mopener\u001b[0m\u001b[0;34m)\u001b[0m\u001b[0;34m:\u001b[0m\u001b[0;34m\u001b[0m\u001b[0m\n",
        "\u001b[0;32m/Applications/Canopy.app/appdata/canopy-1.4.1.1975.macosx-x86_64/Canopy.app/Contents/lib/python2.7/urllib2.pyc\u001b[0m in \u001b[0;36mopen\u001b[0;34m(self, fullurl, data, timeout)\u001b[0m\n\u001b[1;32m    402\u001b[0m             \u001b[0mreq\u001b[0m \u001b[0;34m=\u001b[0m \u001b[0mmeth\u001b[0m\u001b[0;34m(\u001b[0m\u001b[0mreq\u001b[0m\u001b[0;34m)\u001b[0m\u001b[0;34m\u001b[0m\u001b[0m\n\u001b[1;32m    403\u001b[0m \u001b[0;34m\u001b[0m\u001b[0m\n\u001b[0;32m--> 404\u001b[0;31m         \u001b[0mresponse\u001b[0m \u001b[0;34m=\u001b[0m \u001b[0mself\u001b[0m\u001b[0;34m.\u001b[0m\u001b[0m_open\u001b[0m\u001b[0;34m(\u001b[0m\u001b[0mreq\u001b[0m\u001b[0;34m,\u001b[0m \u001b[0mdata\u001b[0m\u001b[0;34m)\u001b[0m\u001b[0;34m\u001b[0m\u001b[0m\n\u001b[0m\u001b[1;32m    405\u001b[0m \u001b[0;34m\u001b[0m\u001b[0m\n\u001b[1;32m    406\u001b[0m         \u001b[0;31m# post-process response\u001b[0m\u001b[0;34m\u001b[0m\u001b[0;34m\u001b[0m\u001b[0m\n",
        "\u001b[0;32m/Applications/Canopy.app/appdata/canopy-1.4.1.1975.macosx-x86_64/Canopy.app/Contents/lib/python2.7/urllib2.pyc\u001b[0m in \u001b[0;36m_open\u001b[0;34m(self, req, data)\u001b[0m\n\u001b[1;32m    420\u001b[0m         \u001b[0mprotocol\u001b[0m \u001b[0;34m=\u001b[0m \u001b[0mreq\u001b[0m\u001b[0;34m.\u001b[0m\u001b[0mget_type\u001b[0m\u001b[0;34m(\u001b[0m\u001b[0;34m)\u001b[0m\u001b[0;34m\u001b[0m\u001b[0m\n\u001b[1;32m    421\u001b[0m         result = self._call_chain(self.handle_open, protocol, protocol +\n\u001b[0;32m--> 422\u001b[0;31m                                   '_open', req)\n\u001b[0m\u001b[1;32m    423\u001b[0m         \u001b[0;32mif\u001b[0m \u001b[0mresult\u001b[0m\u001b[0;34m:\u001b[0m\u001b[0;34m\u001b[0m\u001b[0m\n\u001b[1;32m    424\u001b[0m             \u001b[0;32mreturn\u001b[0m \u001b[0mresult\u001b[0m\u001b[0;34m\u001b[0m\u001b[0m\n",
        "\u001b[0;32m/Applications/Canopy.app/appdata/canopy-1.4.1.1975.macosx-x86_64/Canopy.app/Contents/lib/python2.7/urllib2.pyc\u001b[0m in \u001b[0;36m_call_chain\u001b[0;34m(self, chain, kind, meth_name, *args)\u001b[0m\n\u001b[1;32m    380\u001b[0m             \u001b[0mfunc\u001b[0m \u001b[0;34m=\u001b[0m \u001b[0mgetattr\u001b[0m\u001b[0;34m(\u001b[0m\u001b[0mhandler\u001b[0m\u001b[0;34m,\u001b[0m \u001b[0mmeth_name\u001b[0m\u001b[0;34m)\u001b[0m\u001b[0;34m\u001b[0m\u001b[0m\n\u001b[1;32m    381\u001b[0m \u001b[0;34m\u001b[0m\u001b[0m\n\u001b[0;32m--> 382\u001b[0;31m             \u001b[0mresult\u001b[0m \u001b[0;34m=\u001b[0m \u001b[0mfunc\u001b[0m\u001b[0;34m(\u001b[0m\u001b[0;34m*\u001b[0m\u001b[0margs\u001b[0m\u001b[0;34m)\u001b[0m\u001b[0;34m\u001b[0m\u001b[0m\n\u001b[0m\u001b[1;32m    383\u001b[0m             \u001b[0;32mif\u001b[0m \u001b[0mresult\u001b[0m \u001b[0;32mis\u001b[0m \u001b[0;32mnot\u001b[0m \u001b[0mNone\u001b[0m\u001b[0;34m:\u001b[0m\u001b[0;34m\u001b[0m\u001b[0m\n\u001b[1;32m    384\u001b[0m                 \u001b[0;32mreturn\u001b[0m \u001b[0mresult\u001b[0m\u001b[0;34m\u001b[0m\u001b[0m\n",
        "\u001b[0;32m/Applications/Canopy.app/appdata/canopy-1.4.1.1975.macosx-x86_64/Canopy.app/Contents/lib/python2.7/urllib2.pyc\u001b[0m in \u001b[0;36mhttp_open\u001b[0;34m(self, req)\u001b[0m\n\u001b[1;32m   1212\u001b[0m \u001b[0;34m\u001b[0m\u001b[0m\n\u001b[1;32m   1213\u001b[0m     \u001b[0;32mdef\u001b[0m \u001b[0mhttp_open\u001b[0m\u001b[0;34m(\u001b[0m\u001b[0mself\u001b[0m\u001b[0;34m,\u001b[0m \u001b[0mreq\u001b[0m\u001b[0;34m)\u001b[0m\u001b[0;34m:\u001b[0m\u001b[0;34m\u001b[0m\u001b[0m\n\u001b[0;32m-> 1214\u001b[0;31m         \u001b[0;32mreturn\u001b[0m \u001b[0mself\u001b[0m\u001b[0;34m.\u001b[0m\u001b[0mdo_open\u001b[0m\u001b[0;34m(\u001b[0m\u001b[0mhttplib\u001b[0m\u001b[0;34m.\u001b[0m\u001b[0mHTTPConnection\u001b[0m\u001b[0;34m,\u001b[0m \u001b[0mreq\u001b[0m\u001b[0;34m)\u001b[0m\u001b[0;34m\u001b[0m\u001b[0m\n\u001b[0m\u001b[1;32m   1215\u001b[0m \u001b[0;34m\u001b[0m\u001b[0m\n\u001b[1;32m   1216\u001b[0m     \u001b[0mhttp_request\u001b[0m \u001b[0;34m=\u001b[0m \u001b[0mAbstractHTTPHandler\u001b[0m\u001b[0;34m.\u001b[0m\u001b[0mdo_request_\u001b[0m\u001b[0;34m\u001b[0m\u001b[0m\n",
        "\u001b[0;32m/Applications/Canopy.app/appdata/canopy-1.4.1.1975.macosx-x86_64/Canopy.app/Contents/lib/python2.7/urllib2.pyc\u001b[0m in \u001b[0;36mdo_open\u001b[0;34m(self, http_class, req)\u001b[0m\n\u001b[1;32m   1185\u001b[0m         \u001b[0;32melse\u001b[0m\u001b[0;34m:\u001b[0m\u001b[0;34m\u001b[0m\u001b[0m\n\u001b[1;32m   1186\u001b[0m             \u001b[0;32mtry\u001b[0m\u001b[0;34m:\u001b[0m\u001b[0;34m\u001b[0m\u001b[0m\n\u001b[0;32m-> 1187\u001b[0;31m                 \u001b[0mr\u001b[0m \u001b[0;34m=\u001b[0m \u001b[0mh\u001b[0m\u001b[0;34m.\u001b[0m\u001b[0mgetresponse\u001b[0m\u001b[0;34m(\u001b[0m\u001b[0mbuffering\u001b[0m\u001b[0;34m=\u001b[0m\u001b[0mTrue\u001b[0m\u001b[0;34m)\u001b[0m\u001b[0;34m\u001b[0m\u001b[0m\n\u001b[0m\u001b[1;32m   1188\u001b[0m             \u001b[0;32mexcept\u001b[0m \u001b[0mTypeError\u001b[0m\u001b[0;34m:\u001b[0m \u001b[0;31m# buffering kw not supported\u001b[0m\u001b[0;34m\u001b[0m\u001b[0m\n\u001b[1;32m   1189\u001b[0m                 \u001b[0mr\u001b[0m \u001b[0;34m=\u001b[0m \u001b[0mh\u001b[0m\u001b[0;34m.\u001b[0m\u001b[0mgetresponse\u001b[0m\u001b[0;34m(\u001b[0m\u001b[0;34m)\u001b[0m\u001b[0;34m\u001b[0m\u001b[0m\n",
        "\u001b[0;32m/Applications/Canopy.app/appdata/canopy-1.4.1.1975.macosx-x86_64/Canopy.app/Contents/lib/python2.7/httplib.pyc\u001b[0m in \u001b[0;36mgetresponse\u001b[0;34m(self, buffering)\u001b[0m\n\u001b[1;32m   1043\u001b[0m         \u001b[0mresponse\u001b[0m \u001b[0;34m=\u001b[0m \u001b[0mself\u001b[0m\u001b[0;34m.\u001b[0m\u001b[0mresponse_class\u001b[0m\u001b[0;34m(\u001b[0m\u001b[0;34m*\u001b[0m\u001b[0margs\u001b[0m\u001b[0;34m,\u001b[0m \u001b[0;34m**\u001b[0m\u001b[0mkwds\u001b[0m\u001b[0;34m)\u001b[0m\u001b[0;34m\u001b[0m\u001b[0m\n\u001b[1;32m   1044\u001b[0m \u001b[0;34m\u001b[0m\u001b[0m\n\u001b[0;32m-> 1045\u001b[0;31m         \u001b[0mresponse\u001b[0m\u001b[0;34m.\u001b[0m\u001b[0mbegin\u001b[0m\u001b[0;34m(\u001b[0m\u001b[0;34m)\u001b[0m\u001b[0;34m\u001b[0m\u001b[0m\n\u001b[0m\u001b[1;32m   1046\u001b[0m         \u001b[0;32massert\u001b[0m \u001b[0mresponse\u001b[0m\u001b[0;34m.\u001b[0m\u001b[0mwill_close\u001b[0m \u001b[0;34m!=\u001b[0m \u001b[0m_UNKNOWN\u001b[0m\u001b[0;34m\u001b[0m\u001b[0m\n\u001b[1;32m   1047\u001b[0m         \u001b[0mself\u001b[0m\u001b[0;34m.\u001b[0m\u001b[0m__state\u001b[0m \u001b[0;34m=\u001b[0m \u001b[0m_CS_IDLE\u001b[0m\u001b[0;34m\u001b[0m\u001b[0m\n",
        "\u001b[0;32m/Applications/Canopy.app/appdata/canopy-1.4.1.1975.macosx-x86_64/Canopy.app/Contents/lib/python2.7/httplib.pyc\u001b[0m in \u001b[0;36mbegin\u001b[0;34m(self)\u001b[0m\n\u001b[1;32m    407\u001b[0m         \u001b[0;31m# read until we get a non-100 response\u001b[0m\u001b[0;34m\u001b[0m\u001b[0;34m\u001b[0m\u001b[0m\n\u001b[1;32m    408\u001b[0m         \u001b[0;32mwhile\u001b[0m \u001b[0mTrue\u001b[0m\u001b[0;34m:\u001b[0m\u001b[0;34m\u001b[0m\u001b[0m\n\u001b[0;32m--> 409\u001b[0;31m             \u001b[0mversion\u001b[0m\u001b[0;34m,\u001b[0m \u001b[0mstatus\u001b[0m\u001b[0;34m,\u001b[0m \u001b[0mreason\u001b[0m \u001b[0;34m=\u001b[0m \u001b[0mself\u001b[0m\u001b[0;34m.\u001b[0m\u001b[0m_read_status\u001b[0m\u001b[0;34m(\u001b[0m\u001b[0;34m)\u001b[0m\u001b[0;34m\u001b[0m\u001b[0m\n\u001b[0m\u001b[1;32m    410\u001b[0m             \u001b[0;32mif\u001b[0m \u001b[0mstatus\u001b[0m \u001b[0;34m!=\u001b[0m \u001b[0mCONTINUE\u001b[0m\u001b[0;34m:\u001b[0m\u001b[0;34m\u001b[0m\u001b[0m\n\u001b[1;32m    411\u001b[0m                 \u001b[0;32mbreak\u001b[0m\u001b[0;34m\u001b[0m\u001b[0m\n",
        "\u001b[0;32m/Applications/Canopy.app/appdata/canopy-1.4.1.1975.macosx-x86_64/Canopy.app/Contents/lib/python2.7/httplib.pyc\u001b[0m in \u001b[0;36m_read_status\u001b[0;34m(self)\u001b[0m\n\u001b[1;32m    371\u001b[0m             \u001b[0;31m# Presumably, the server closed the connection before\u001b[0m\u001b[0;34m\u001b[0m\u001b[0;34m\u001b[0m\u001b[0m\n\u001b[1;32m    372\u001b[0m             \u001b[0;31m# sending a valid response.\u001b[0m\u001b[0;34m\u001b[0m\u001b[0;34m\u001b[0m\u001b[0m\n\u001b[0;32m--> 373\u001b[0;31m             \u001b[0;32mraise\u001b[0m \u001b[0mBadStatusLine\u001b[0m\u001b[0;34m(\u001b[0m\u001b[0mline\u001b[0m\u001b[0;34m)\u001b[0m\u001b[0;34m\u001b[0m\u001b[0m\n\u001b[0m\u001b[1;32m    374\u001b[0m         \u001b[0;32mtry\u001b[0m\u001b[0;34m:\u001b[0m\u001b[0;34m\u001b[0m\u001b[0m\n\u001b[1;32m    375\u001b[0m             \u001b[0;34m[\u001b[0m\u001b[0mversion\u001b[0m\u001b[0;34m,\u001b[0m \u001b[0mstatus\u001b[0m\u001b[0;34m,\u001b[0m \u001b[0mreason\u001b[0m\u001b[0;34m]\u001b[0m \u001b[0;34m=\u001b[0m \u001b[0mline\u001b[0m\u001b[0;34m.\u001b[0m\u001b[0msplit\u001b[0m\u001b[0;34m(\u001b[0m\u001b[0mNone\u001b[0m\u001b[0;34m,\u001b[0m \u001b[0;36m2\u001b[0m\u001b[0;34m)\u001b[0m\u001b[0;34m\u001b[0m\u001b[0m\n",
        "\u001b[0;31mBadStatusLine\u001b[0m: ''"
       ]
      }
     ],
     "prompt_number": 156
    },
    {
     "cell_type": "code",
     "collapsed": false,
     "input": [
      "this_mbid\n"
     ],
     "language": "python",
     "metadata": {},
     "outputs": [
      {
       "metadata": {},
       "output_type": "pyout",
       "prompt_number": 157,
       "text": [
        "u'2527625b-0752-48f3-95fd-c3f216686db8'"
       ]
      }
     ],
     "prompt_number": 157
    },
    {
     "cell_type": "code",
     "collapsed": false,
     "input": [
      "this_artist"
     ],
     "language": "python",
     "metadata": {},
     "outputs": [
      {
       "metadata": {},
       "output_type": "pyout",
       "prompt_number": 158,
       "text": [
        "u'Cher'"
       ]
      }
     ],
     "prompt_number": 158
    },
    {
     "cell_type": "code",
     "collapsed": false,
     "input": [
      "this_track_name"
     ],
     "language": "python",
     "metadata": {},
     "outputs": [
      {
       "metadata": {},
       "output_type": "pyout",
       "prompt_number": 159,
       "text": [
        "u'Strong Enough'"
       ]
      }
     ],
     "prompt_number": 159
    },
    {
     "cell_type": "code",
     "collapsed": false,
     "input": [
      "API_KEY"
     ],
     "language": "python",
     "metadata": {},
     "outputs": [
      {
       "metadata": {},
       "output_type": "pyout",
       "prompt_number": 160,
       "text": [
        "'27caacb0c5a55b33e72f02fabfb6ebf7'"
       ]
      }
     ],
     "prompt_number": 160
    },
    {
     "cell_type": "code",
     "collapsed": false,
     "input": [
      "getSimilarTracks(this_artist,this_track_name, API_KEY, limit=10)"
     ],
     "language": "python",
     "metadata": {},
     "outputs": [
      {
       "ename": "BadStatusLine",
       "evalue": "''",
       "output_type": "pyerr",
       "traceback": [
        "\u001b[0;31m---------------------------------------------------------------------------\u001b[0m\n\u001b[0;31mBadStatusLine\u001b[0m                             Traceback (most recent call last)",
        "\u001b[0;32m<ipython-input-161-14263f1ed80b>\u001b[0m in \u001b[0;36m<module>\u001b[0;34m()\u001b[0m\n\u001b[0;32m----> 1\u001b[0;31m \u001b[0mgetSimilarTracks\u001b[0m\u001b[0;34m(\u001b[0m\u001b[0mthis_artist\u001b[0m\u001b[0;34m,\u001b[0m\u001b[0mthis_track_name\u001b[0m\u001b[0;34m,\u001b[0m \u001b[0mAPI_KEY\u001b[0m\u001b[0;34m,\u001b[0m \u001b[0mlimit\u001b[0m\u001b[0;34m=\u001b[0m\u001b[0;36m10\u001b[0m\u001b[0;34m)\u001b[0m\u001b[0;34m\u001b[0m\u001b[0m\n\u001b[0m",
        "\u001b[0;32m<ipython-input-83-151f9e5ca35a>\u001b[0m in \u001b[0;36mgetSimilarTracks\u001b[0;34m(artist, songtitle, api_key, mbid, autocorrect, limit)\u001b[0m\n\u001b[1;32m     17\u001b[0m                 \u001b[0mrequest_url\u001b[0m \u001b[0;34m=\u001b[0m \u001b[0mrequest_url\u001b[0m \u001b[0;34m+\u001b[0m \u001b[0;34m\"&limit=\"\u001b[0m \u001b[0;34m+\u001b[0m \u001b[0mstr\u001b[0m\u001b[0;34m(\u001b[0m\u001b[0mlimit\u001b[0m\u001b[0;34m)\u001b[0m\u001b[0;34m\u001b[0m\u001b[0m\n\u001b[1;32m     18\u001b[0m \u001b[0;34m\u001b[0m\u001b[0m\n\u001b[0;32m---> 19\u001b[0;31m         \u001b[0mresponse\u001b[0m \u001b[0;34m=\u001b[0m \u001b[0murllib2\u001b[0m\u001b[0;34m.\u001b[0m\u001b[0murlopen\u001b[0m\u001b[0;34m(\u001b[0m\u001b[0mrequest_url\u001b[0m\u001b[0;34m,\u001b[0m \u001b[0mtimeout\u001b[0m\u001b[0;34m=\u001b[0m\u001b[0;36m200\u001b[0m\u001b[0;34m)\u001b[0m\u001b[0;34m\u001b[0m\u001b[0m\n\u001b[0m\u001b[1;32m     20\u001b[0m         \u001b[0mresponse_json\u001b[0m \u001b[0;34m=\u001b[0m \u001b[0mresponse\u001b[0m\u001b[0;34m.\u001b[0m\u001b[0mread\u001b[0m\u001b[0;34m(\u001b[0m\u001b[0;34m)\u001b[0m\u001b[0;34m\u001b[0m\u001b[0m\n\u001b[1;32m     21\u001b[0m         \u001b[0mresponse_dict\u001b[0m \u001b[0;34m=\u001b[0m \u001b[0mjson\u001b[0m\u001b[0;34m.\u001b[0m\u001b[0mloads\u001b[0m\u001b[0;34m(\u001b[0m\u001b[0mresponse_json\u001b[0m\u001b[0;34m)\u001b[0m\u001b[0;34m\u001b[0m\u001b[0m\n",
        "\u001b[0;32m/Applications/Canopy.app/appdata/canopy-1.4.1.1975.macosx-x86_64/Canopy.app/Contents/lib/python2.7/urllib2.pyc\u001b[0m in \u001b[0;36murlopen\u001b[0;34m(url, data, timeout)\u001b[0m\n\u001b[1;32m    125\u001b[0m     \u001b[0;32mif\u001b[0m \u001b[0m_opener\u001b[0m \u001b[0;32mis\u001b[0m \u001b[0mNone\u001b[0m\u001b[0;34m:\u001b[0m\u001b[0;34m\u001b[0m\u001b[0m\n\u001b[1;32m    126\u001b[0m         \u001b[0m_opener\u001b[0m \u001b[0;34m=\u001b[0m \u001b[0mbuild_opener\u001b[0m\u001b[0;34m(\u001b[0m\u001b[0;34m)\u001b[0m\u001b[0;34m\u001b[0m\u001b[0m\n\u001b[0;32m--> 127\u001b[0;31m     \u001b[0;32mreturn\u001b[0m \u001b[0m_opener\u001b[0m\u001b[0;34m.\u001b[0m\u001b[0mopen\u001b[0m\u001b[0;34m(\u001b[0m\u001b[0murl\u001b[0m\u001b[0;34m,\u001b[0m \u001b[0mdata\u001b[0m\u001b[0;34m,\u001b[0m \u001b[0mtimeout\u001b[0m\u001b[0;34m)\u001b[0m\u001b[0;34m\u001b[0m\u001b[0m\n\u001b[0m\u001b[1;32m    128\u001b[0m \u001b[0;34m\u001b[0m\u001b[0m\n\u001b[1;32m    129\u001b[0m \u001b[0;32mdef\u001b[0m \u001b[0minstall_opener\u001b[0m\u001b[0;34m(\u001b[0m\u001b[0mopener\u001b[0m\u001b[0;34m)\u001b[0m\u001b[0;34m:\u001b[0m\u001b[0;34m\u001b[0m\u001b[0m\n",
        "\u001b[0;32m/Applications/Canopy.app/appdata/canopy-1.4.1.1975.macosx-x86_64/Canopy.app/Contents/lib/python2.7/urllib2.pyc\u001b[0m in \u001b[0;36mopen\u001b[0;34m(self, fullurl, data, timeout)\u001b[0m\n\u001b[1;32m    402\u001b[0m             \u001b[0mreq\u001b[0m \u001b[0;34m=\u001b[0m \u001b[0mmeth\u001b[0m\u001b[0;34m(\u001b[0m\u001b[0mreq\u001b[0m\u001b[0;34m)\u001b[0m\u001b[0;34m\u001b[0m\u001b[0m\n\u001b[1;32m    403\u001b[0m \u001b[0;34m\u001b[0m\u001b[0m\n\u001b[0;32m--> 404\u001b[0;31m         \u001b[0mresponse\u001b[0m \u001b[0;34m=\u001b[0m \u001b[0mself\u001b[0m\u001b[0;34m.\u001b[0m\u001b[0m_open\u001b[0m\u001b[0;34m(\u001b[0m\u001b[0mreq\u001b[0m\u001b[0;34m,\u001b[0m \u001b[0mdata\u001b[0m\u001b[0;34m)\u001b[0m\u001b[0;34m\u001b[0m\u001b[0m\n\u001b[0m\u001b[1;32m    405\u001b[0m \u001b[0;34m\u001b[0m\u001b[0m\n\u001b[1;32m    406\u001b[0m         \u001b[0;31m# post-process response\u001b[0m\u001b[0;34m\u001b[0m\u001b[0;34m\u001b[0m\u001b[0m\n",
        "\u001b[0;32m/Applications/Canopy.app/appdata/canopy-1.4.1.1975.macosx-x86_64/Canopy.app/Contents/lib/python2.7/urllib2.pyc\u001b[0m in \u001b[0;36m_open\u001b[0;34m(self, req, data)\u001b[0m\n\u001b[1;32m    420\u001b[0m         \u001b[0mprotocol\u001b[0m \u001b[0;34m=\u001b[0m \u001b[0mreq\u001b[0m\u001b[0;34m.\u001b[0m\u001b[0mget_type\u001b[0m\u001b[0;34m(\u001b[0m\u001b[0;34m)\u001b[0m\u001b[0;34m\u001b[0m\u001b[0m\n\u001b[1;32m    421\u001b[0m         result = self._call_chain(self.handle_open, protocol, protocol +\n\u001b[0;32m--> 422\u001b[0;31m                                   '_open', req)\n\u001b[0m\u001b[1;32m    423\u001b[0m         \u001b[0;32mif\u001b[0m \u001b[0mresult\u001b[0m\u001b[0;34m:\u001b[0m\u001b[0;34m\u001b[0m\u001b[0m\n\u001b[1;32m    424\u001b[0m             \u001b[0;32mreturn\u001b[0m \u001b[0mresult\u001b[0m\u001b[0;34m\u001b[0m\u001b[0m\n",
        "\u001b[0;32m/Applications/Canopy.app/appdata/canopy-1.4.1.1975.macosx-x86_64/Canopy.app/Contents/lib/python2.7/urllib2.pyc\u001b[0m in \u001b[0;36m_call_chain\u001b[0;34m(self, chain, kind, meth_name, *args)\u001b[0m\n\u001b[1;32m    380\u001b[0m             \u001b[0mfunc\u001b[0m \u001b[0;34m=\u001b[0m \u001b[0mgetattr\u001b[0m\u001b[0;34m(\u001b[0m\u001b[0mhandler\u001b[0m\u001b[0;34m,\u001b[0m \u001b[0mmeth_name\u001b[0m\u001b[0;34m)\u001b[0m\u001b[0;34m\u001b[0m\u001b[0m\n\u001b[1;32m    381\u001b[0m \u001b[0;34m\u001b[0m\u001b[0m\n\u001b[0;32m--> 382\u001b[0;31m             \u001b[0mresult\u001b[0m \u001b[0;34m=\u001b[0m \u001b[0mfunc\u001b[0m\u001b[0;34m(\u001b[0m\u001b[0;34m*\u001b[0m\u001b[0margs\u001b[0m\u001b[0;34m)\u001b[0m\u001b[0;34m\u001b[0m\u001b[0m\n\u001b[0m\u001b[1;32m    383\u001b[0m             \u001b[0;32mif\u001b[0m \u001b[0mresult\u001b[0m \u001b[0;32mis\u001b[0m \u001b[0;32mnot\u001b[0m \u001b[0mNone\u001b[0m\u001b[0;34m:\u001b[0m\u001b[0;34m\u001b[0m\u001b[0m\n\u001b[1;32m    384\u001b[0m                 \u001b[0;32mreturn\u001b[0m \u001b[0mresult\u001b[0m\u001b[0;34m\u001b[0m\u001b[0m\n",
        "\u001b[0;32m/Applications/Canopy.app/appdata/canopy-1.4.1.1975.macosx-x86_64/Canopy.app/Contents/lib/python2.7/urllib2.pyc\u001b[0m in \u001b[0;36mhttp_open\u001b[0;34m(self, req)\u001b[0m\n\u001b[1;32m   1212\u001b[0m \u001b[0;34m\u001b[0m\u001b[0m\n\u001b[1;32m   1213\u001b[0m     \u001b[0;32mdef\u001b[0m \u001b[0mhttp_open\u001b[0m\u001b[0;34m(\u001b[0m\u001b[0mself\u001b[0m\u001b[0;34m,\u001b[0m \u001b[0mreq\u001b[0m\u001b[0;34m)\u001b[0m\u001b[0;34m:\u001b[0m\u001b[0;34m\u001b[0m\u001b[0m\n\u001b[0;32m-> 1214\u001b[0;31m         \u001b[0;32mreturn\u001b[0m \u001b[0mself\u001b[0m\u001b[0;34m.\u001b[0m\u001b[0mdo_open\u001b[0m\u001b[0;34m(\u001b[0m\u001b[0mhttplib\u001b[0m\u001b[0;34m.\u001b[0m\u001b[0mHTTPConnection\u001b[0m\u001b[0;34m,\u001b[0m \u001b[0mreq\u001b[0m\u001b[0;34m)\u001b[0m\u001b[0;34m\u001b[0m\u001b[0m\n\u001b[0m\u001b[1;32m   1215\u001b[0m \u001b[0;34m\u001b[0m\u001b[0m\n\u001b[1;32m   1216\u001b[0m     \u001b[0mhttp_request\u001b[0m \u001b[0;34m=\u001b[0m \u001b[0mAbstractHTTPHandler\u001b[0m\u001b[0;34m.\u001b[0m\u001b[0mdo_request_\u001b[0m\u001b[0;34m\u001b[0m\u001b[0m\n",
        "\u001b[0;32m/Applications/Canopy.app/appdata/canopy-1.4.1.1975.macosx-x86_64/Canopy.app/Contents/lib/python2.7/urllib2.pyc\u001b[0m in \u001b[0;36mdo_open\u001b[0;34m(self, http_class, req)\u001b[0m\n\u001b[1;32m   1185\u001b[0m         \u001b[0;32melse\u001b[0m\u001b[0;34m:\u001b[0m\u001b[0;34m\u001b[0m\u001b[0m\n\u001b[1;32m   1186\u001b[0m             \u001b[0;32mtry\u001b[0m\u001b[0;34m:\u001b[0m\u001b[0;34m\u001b[0m\u001b[0m\n\u001b[0;32m-> 1187\u001b[0;31m                 \u001b[0mr\u001b[0m \u001b[0;34m=\u001b[0m \u001b[0mh\u001b[0m\u001b[0;34m.\u001b[0m\u001b[0mgetresponse\u001b[0m\u001b[0;34m(\u001b[0m\u001b[0mbuffering\u001b[0m\u001b[0;34m=\u001b[0m\u001b[0mTrue\u001b[0m\u001b[0;34m)\u001b[0m\u001b[0;34m\u001b[0m\u001b[0m\n\u001b[0m\u001b[1;32m   1188\u001b[0m             \u001b[0;32mexcept\u001b[0m \u001b[0mTypeError\u001b[0m\u001b[0;34m:\u001b[0m \u001b[0;31m# buffering kw not supported\u001b[0m\u001b[0;34m\u001b[0m\u001b[0m\n\u001b[1;32m   1189\u001b[0m                 \u001b[0mr\u001b[0m \u001b[0;34m=\u001b[0m \u001b[0mh\u001b[0m\u001b[0;34m.\u001b[0m\u001b[0mgetresponse\u001b[0m\u001b[0;34m(\u001b[0m\u001b[0;34m)\u001b[0m\u001b[0;34m\u001b[0m\u001b[0m\n",
        "\u001b[0;32m/Applications/Canopy.app/appdata/canopy-1.4.1.1975.macosx-x86_64/Canopy.app/Contents/lib/python2.7/httplib.pyc\u001b[0m in \u001b[0;36mgetresponse\u001b[0;34m(self, buffering)\u001b[0m\n\u001b[1;32m   1043\u001b[0m         \u001b[0mresponse\u001b[0m \u001b[0;34m=\u001b[0m \u001b[0mself\u001b[0m\u001b[0;34m.\u001b[0m\u001b[0mresponse_class\u001b[0m\u001b[0;34m(\u001b[0m\u001b[0;34m*\u001b[0m\u001b[0margs\u001b[0m\u001b[0;34m,\u001b[0m \u001b[0;34m**\u001b[0m\u001b[0mkwds\u001b[0m\u001b[0;34m)\u001b[0m\u001b[0;34m\u001b[0m\u001b[0m\n\u001b[1;32m   1044\u001b[0m \u001b[0;34m\u001b[0m\u001b[0m\n\u001b[0;32m-> 1045\u001b[0;31m         \u001b[0mresponse\u001b[0m\u001b[0;34m.\u001b[0m\u001b[0mbegin\u001b[0m\u001b[0;34m(\u001b[0m\u001b[0;34m)\u001b[0m\u001b[0;34m\u001b[0m\u001b[0m\n\u001b[0m\u001b[1;32m   1046\u001b[0m         \u001b[0;32massert\u001b[0m \u001b[0mresponse\u001b[0m\u001b[0;34m.\u001b[0m\u001b[0mwill_close\u001b[0m \u001b[0;34m!=\u001b[0m \u001b[0m_UNKNOWN\u001b[0m\u001b[0;34m\u001b[0m\u001b[0m\n\u001b[1;32m   1047\u001b[0m         \u001b[0mself\u001b[0m\u001b[0;34m.\u001b[0m\u001b[0m__state\u001b[0m \u001b[0;34m=\u001b[0m \u001b[0m_CS_IDLE\u001b[0m\u001b[0;34m\u001b[0m\u001b[0m\n",
        "\u001b[0;32m/Applications/Canopy.app/appdata/canopy-1.4.1.1975.macosx-x86_64/Canopy.app/Contents/lib/python2.7/httplib.pyc\u001b[0m in \u001b[0;36mbegin\u001b[0;34m(self)\u001b[0m\n\u001b[1;32m    407\u001b[0m         \u001b[0;31m# read until we get a non-100 response\u001b[0m\u001b[0;34m\u001b[0m\u001b[0;34m\u001b[0m\u001b[0m\n\u001b[1;32m    408\u001b[0m         \u001b[0;32mwhile\u001b[0m \u001b[0mTrue\u001b[0m\u001b[0;34m:\u001b[0m\u001b[0;34m\u001b[0m\u001b[0m\n\u001b[0;32m--> 409\u001b[0;31m             \u001b[0mversion\u001b[0m\u001b[0;34m,\u001b[0m \u001b[0mstatus\u001b[0m\u001b[0;34m,\u001b[0m \u001b[0mreason\u001b[0m \u001b[0;34m=\u001b[0m \u001b[0mself\u001b[0m\u001b[0;34m.\u001b[0m\u001b[0m_read_status\u001b[0m\u001b[0;34m(\u001b[0m\u001b[0;34m)\u001b[0m\u001b[0;34m\u001b[0m\u001b[0m\n\u001b[0m\u001b[1;32m    410\u001b[0m             \u001b[0;32mif\u001b[0m \u001b[0mstatus\u001b[0m \u001b[0;34m!=\u001b[0m \u001b[0mCONTINUE\u001b[0m\u001b[0;34m:\u001b[0m\u001b[0;34m\u001b[0m\u001b[0m\n\u001b[1;32m    411\u001b[0m                 \u001b[0;32mbreak\u001b[0m\u001b[0;34m\u001b[0m\u001b[0m\n",
        "\u001b[0;32m/Applications/Canopy.app/appdata/canopy-1.4.1.1975.macosx-x86_64/Canopy.app/Contents/lib/python2.7/httplib.pyc\u001b[0m in \u001b[0;36m_read_status\u001b[0;34m(self)\u001b[0m\n\u001b[1;32m    371\u001b[0m             \u001b[0;31m# Presumably, the server closed the connection before\u001b[0m\u001b[0;34m\u001b[0m\u001b[0;34m\u001b[0m\u001b[0m\n\u001b[1;32m    372\u001b[0m             \u001b[0;31m# sending a valid response.\u001b[0m\u001b[0;34m\u001b[0m\u001b[0;34m\u001b[0m\u001b[0m\n\u001b[0;32m--> 373\u001b[0;31m             \u001b[0;32mraise\u001b[0m \u001b[0mBadStatusLine\u001b[0m\u001b[0;34m(\u001b[0m\u001b[0mline\u001b[0m\u001b[0;34m)\u001b[0m\u001b[0;34m\u001b[0m\u001b[0m\n\u001b[0m\u001b[1;32m    374\u001b[0m         \u001b[0;32mtry\u001b[0m\u001b[0;34m:\u001b[0m\u001b[0;34m\u001b[0m\u001b[0m\n\u001b[1;32m    375\u001b[0m             \u001b[0;34m[\u001b[0m\u001b[0mversion\u001b[0m\u001b[0;34m,\u001b[0m \u001b[0mstatus\u001b[0m\u001b[0;34m,\u001b[0m \u001b[0mreason\u001b[0m\u001b[0;34m]\u001b[0m \u001b[0;34m=\u001b[0m \u001b[0mline\u001b[0m\u001b[0;34m.\u001b[0m\u001b[0msplit\u001b[0m\u001b[0;34m(\u001b[0m\u001b[0mNone\u001b[0m\u001b[0;34m,\u001b[0m \u001b[0;36m2\u001b[0m\u001b[0;34m)\u001b[0m\u001b[0;34m\u001b[0m\u001b[0m\n",
        "\u001b[0;31mBadStatusLine\u001b[0m: ''"
       ]
      }
     ],
     "prompt_number": 161
    },
    {
     "cell_type": "code",
     "collapsed": false,
     "input": [
      "\trequest_url = ''.join([API_ROOT_ADDRESS,\n",
      "\t\t\t\t\t\t  \"?method=\", \"track.getSimilar\", \n",
      "\t\t\t\t\t\t  \"&api_key=\", API_KEY,\n",
      "\t\t\t\t\t\t  \"&artist=\", this_artist,\n",
      "\t\t\t\t\t\t  \"&track=\", this_track_name,\n",
      "\t\t\t\t\t\t  \"&format=json\"\n",
      "\t\t\t\t\t\t  ])"
     ],
     "language": "python",
     "metadata": {},
     "outputs": [],
     "prompt_number": 163
    },
    {
     "cell_type": "code",
     "collapsed": false,
     "input": [
      "request_url"
     ],
     "language": "python",
     "metadata": {},
     "outputs": [
      {
       "metadata": {},
       "output_type": "pyout",
       "prompt_number": 164,
       "text": [
        "u'http://ws.audioscrobbler.com/2.0/?method=track.getSimilar&api_key=27caacb0c5a55b33e72f02fabfb6ebf7&artist=Cher&track=Strong Enough&format=json'"
       ]
      }
     ],
     "prompt_number": 164
    },
    {
     "cell_type": "code",
     "collapsed": false,
     "input": [
      "d_getSimilarTracks_thisTrack"
     ],
     "language": "python",
     "metadata": {},
     "outputs": [
      {
       "ename": "NameError",
       "evalue": "name 'd_getSimilarTracks_thisTrack' is not defined",
       "output_type": "pyerr",
       "traceback": [
        "\u001b[0;31m---------------------------------------------------------------------------\u001b[0m\n\u001b[0;31mNameError\u001b[0m                                 Traceback (most recent call last)",
        "\u001b[0;32m<ipython-input-165-a75525a7254e>\u001b[0m in \u001b[0;36m<module>\u001b[0;34m()\u001b[0m\n\u001b[0;32m----> 1\u001b[0;31m \u001b[0md_getSimilarTracks_thisTrack\u001b[0m\u001b[0;34m\u001b[0m\u001b[0m\n\u001b[0m",
        "\u001b[0;31mNameError\u001b[0m: name 'd_getSimilarTracks_thisTrack' is not defined"
       ]
      }
     ],
     "prompt_number": 165
    },
    {
     "cell_type": "code",
     "collapsed": false,
     "input": [
      "this_artist"
     ],
     "language": "python",
     "metadata": {},
     "outputs": [
      {
       "metadata": {},
       "output_type": "pyout",
       "prompt_number": 166,
       "text": [
        "u'Cher'"
       ]
      }
     ],
     "prompt_number": 166
    },
    {
     "cell_type": "code",
     "collapsed": false,
     "input": [
      "this_track_name"
     ],
     "language": "python",
     "metadata": {},
     "outputs": [
      {
       "metadata": {},
       "output_type": "pyout",
       "prompt_number": 167,
       "text": [
        "u'Strong Enough'"
       ]
      }
     ],
     "prompt_number": 167
    },
    {
     "cell_type": "code",
     "collapsed": false,
     "input": [
      "API_KEY"
     ],
     "language": "python",
     "metadata": {},
     "outputs": [
      {
       "metadata": {},
       "output_type": "pyout",
       "prompt_number": 168,
       "text": [
        "'27caacb0c5a55b33e72f02fabfb6ebf7'"
       ]
      }
     ],
     "prompt_number": 168
    },
    {
     "cell_type": "code",
     "collapsed": false,
     "input": [
      "getSimilarTracks(this_artist,this_track_name, API_KEY, limit=10)"
     ],
     "language": "python",
     "metadata": {},
     "outputs": [
      {
       "ename": "BadStatusLine",
       "evalue": "''",
       "output_type": "pyerr",
       "traceback": [
        "\u001b[0;31m---------------------------------------------------------------------------\u001b[0m\n\u001b[0;31mBadStatusLine\u001b[0m                             Traceback (most recent call last)",
        "\u001b[0;32m<ipython-input-169-14263f1ed80b>\u001b[0m in \u001b[0;36m<module>\u001b[0;34m()\u001b[0m\n\u001b[0;32m----> 1\u001b[0;31m \u001b[0mgetSimilarTracks\u001b[0m\u001b[0;34m(\u001b[0m\u001b[0mthis_artist\u001b[0m\u001b[0;34m,\u001b[0m\u001b[0mthis_track_name\u001b[0m\u001b[0;34m,\u001b[0m \u001b[0mAPI_KEY\u001b[0m\u001b[0;34m,\u001b[0m \u001b[0mlimit\u001b[0m\u001b[0;34m=\u001b[0m\u001b[0;36m10\u001b[0m\u001b[0;34m)\u001b[0m\u001b[0;34m\u001b[0m\u001b[0m\n\u001b[0m",
        "\u001b[0;32m<ipython-input-83-151f9e5ca35a>\u001b[0m in \u001b[0;36mgetSimilarTracks\u001b[0;34m(artist, songtitle, api_key, mbid, autocorrect, limit)\u001b[0m\n\u001b[1;32m     17\u001b[0m                 \u001b[0mrequest_url\u001b[0m \u001b[0;34m=\u001b[0m \u001b[0mrequest_url\u001b[0m \u001b[0;34m+\u001b[0m \u001b[0;34m\"&limit=\"\u001b[0m \u001b[0;34m+\u001b[0m \u001b[0mstr\u001b[0m\u001b[0;34m(\u001b[0m\u001b[0mlimit\u001b[0m\u001b[0;34m)\u001b[0m\u001b[0;34m\u001b[0m\u001b[0m\n\u001b[1;32m     18\u001b[0m \u001b[0;34m\u001b[0m\u001b[0m\n\u001b[0;32m---> 19\u001b[0;31m         \u001b[0mresponse\u001b[0m \u001b[0;34m=\u001b[0m \u001b[0murllib2\u001b[0m\u001b[0;34m.\u001b[0m\u001b[0murlopen\u001b[0m\u001b[0;34m(\u001b[0m\u001b[0mrequest_url\u001b[0m\u001b[0;34m,\u001b[0m \u001b[0mtimeout\u001b[0m\u001b[0;34m=\u001b[0m\u001b[0;36m200\u001b[0m\u001b[0;34m)\u001b[0m\u001b[0;34m\u001b[0m\u001b[0m\n\u001b[0m\u001b[1;32m     20\u001b[0m         \u001b[0mresponse_json\u001b[0m \u001b[0;34m=\u001b[0m \u001b[0mresponse\u001b[0m\u001b[0;34m.\u001b[0m\u001b[0mread\u001b[0m\u001b[0;34m(\u001b[0m\u001b[0;34m)\u001b[0m\u001b[0;34m\u001b[0m\u001b[0m\n\u001b[1;32m     21\u001b[0m         \u001b[0mresponse_dict\u001b[0m \u001b[0;34m=\u001b[0m \u001b[0mjson\u001b[0m\u001b[0;34m.\u001b[0m\u001b[0mloads\u001b[0m\u001b[0;34m(\u001b[0m\u001b[0mresponse_json\u001b[0m\u001b[0;34m)\u001b[0m\u001b[0;34m\u001b[0m\u001b[0m\n",
        "\u001b[0;32m/Applications/Canopy.app/appdata/canopy-1.4.1.1975.macosx-x86_64/Canopy.app/Contents/lib/python2.7/urllib2.pyc\u001b[0m in \u001b[0;36murlopen\u001b[0;34m(url, data, timeout)\u001b[0m\n\u001b[1;32m    125\u001b[0m     \u001b[0;32mif\u001b[0m \u001b[0m_opener\u001b[0m \u001b[0;32mis\u001b[0m \u001b[0mNone\u001b[0m\u001b[0;34m:\u001b[0m\u001b[0;34m\u001b[0m\u001b[0m\n\u001b[1;32m    126\u001b[0m         \u001b[0m_opener\u001b[0m \u001b[0;34m=\u001b[0m \u001b[0mbuild_opener\u001b[0m\u001b[0;34m(\u001b[0m\u001b[0;34m)\u001b[0m\u001b[0;34m\u001b[0m\u001b[0m\n\u001b[0;32m--> 127\u001b[0;31m     \u001b[0;32mreturn\u001b[0m \u001b[0m_opener\u001b[0m\u001b[0;34m.\u001b[0m\u001b[0mopen\u001b[0m\u001b[0;34m(\u001b[0m\u001b[0murl\u001b[0m\u001b[0;34m,\u001b[0m \u001b[0mdata\u001b[0m\u001b[0;34m,\u001b[0m \u001b[0mtimeout\u001b[0m\u001b[0;34m)\u001b[0m\u001b[0;34m\u001b[0m\u001b[0m\n\u001b[0m\u001b[1;32m    128\u001b[0m \u001b[0;34m\u001b[0m\u001b[0m\n\u001b[1;32m    129\u001b[0m \u001b[0;32mdef\u001b[0m \u001b[0minstall_opener\u001b[0m\u001b[0;34m(\u001b[0m\u001b[0mopener\u001b[0m\u001b[0;34m)\u001b[0m\u001b[0;34m:\u001b[0m\u001b[0;34m\u001b[0m\u001b[0m\n",
        "\u001b[0;32m/Applications/Canopy.app/appdata/canopy-1.4.1.1975.macosx-x86_64/Canopy.app/Contents/lib/python2.7/urllib2.pyc\u001b[0m in \u001b[0;36mopen\u001b[0;34m(self, fullurl, data, timeout)\u001b[0m\n\u001b[1;32m    402\u001b[0m             \u001b[0mreq\u001b[0m \u001b[0;34m=\u001b[0m \u001b[0mmeth\u001b[0m\u001b[0;34m(\u001b[0m\u001b[0mreq\u001b[0m\u001b[0;34m)\u001b[0m\u001b[0;34m\u001b[0m\u001b[0m\n\u001b[1;32m    403\u001b[0m \u001b[0;34m\u001b[0m\u001b[0m\n\u001b[0;32m--> 404\u001b[0;31m         \u001b[0mresponse\u001b[0m \u001b[0;34m=\u001b[0m \u001b[0mself\u001b[0m\u001b[0;34m.\u001b[0m\u001b[0m_open\u001b[0m\u001b[0;34m(\u001b[0m\u001b[0mreq\u001b[0m\u001b[0;34m,\u001b[0m \u001b[0mdata\u001b[0m\u001b[0;34m)\u001b[0m\u001b[0;34m\u001b[0m\u001b[0m\n\u001b[0m\u001b[1;32m    405\u001b[0m \u001b[0;34m\u001b[0m\u001b[0m\n\u001b[1;32m    406\u001b[0m         \u001b[0;31m# post-process response\u001b[0m\u001b[0;34m\u001b[0m\u001b[0;34m\u001b[0m\u001b[0m\n",
        "\u001b[0;32m/Applications/Canopy.app/appdata/canopy-1.4.1.1975.macosx-x86_64/Canopy.app/Contents/lib/python2.7/urllib2.pyc\u001b[0m in \u001b[0;36m_open\u001b[0;34m(self, req, data)\u001b[0m\n\u001b[1;32m    420\u001b[0m         \u001b[0mprotocol\u001b[0m \u001b[0;34m=\u001b[0m \u001b[0mreq\u001b[0m\u001b[0;34m.\u001b[0m\u001b[0mget_type\u001b[0m\u001b[0;34m(\u001b[0m\u001b[0;34m)\u001b[0m\u001b[0;34m\u001b[0m\u001b[0m\n\u001b[1;32m    421\u001b[0m         result = self._call_chain(self.handle_open, protocol, protocol +\n\u001b[0;32m--> 422\u001b[0;31m                                   '_open', req)\n\u001b[0m\u001b[1;32m    423\u001b[0m         \u001b[0;32mif\u001b[0m \u001b[0mresult\u001b[0m\u001b[0;34m:\u001b[0m\u001b[0;34m\u001b[0m\u001b[0m\n\u001b[1;32m    424\u001b[0m             \u001b[0;32mreturn\u001b[0m \u001b[0mresult\u001b[0m\u001b[0;34m\u001b[0m\u001b[0m\n",
        "\u001b[0;32m/Applications/Canopy.app/appdata/canopy-1.4.1.1975.macosx-x86_64/Canopy.app/Contents/lib/python2.7/urllib2.pyc\u001b[0m in \u001b[0;36m_call_chain\u001b[0;34m(self, chain, kind, meth_name, *args)\u001b[0m\n\u001b[1;32m    380\u001b[0m             \u001b[0mfunc\u001b[0m \u001b[0;34m=\u001b[0m \u001b[0mgetattr\u001b[0m\u001b[0;34m(\u001b[0m\u001b[0mhandler\u001b[0m\u001b[0;34m,\u001b[0m \u001b[0mmeth_name\u001b[0m\u001b[0;34m)\u001b[0m\u001b[0;34m\u001b[0m\u001b[0m\n\u001b[1;32m    381\u001b[0m \u001b[0;34m\u001b[0m\u001b[0m\n\u001b[0;32m--> 382\u001b[0;31m             \u001b[0mresult\u001b[0m \u001b[0;34m=\u001b[0m \u001b[0mfunc\u001b[0m\u001b[0;34m(\u001b[0m\u001b[0;34m*\u001b[0m\u001b[0margs\u001b[0m\u001b[0;34m)\u001b[0m\u001b[0;34m\u001b[0m\u001b[0m\n\u001b[0m\u001b[1;32m    383\u001b[0m             \u001b[0;32mif\u001b[0m \u001b[0mresult\u001b[0m \u001b[0;32mis\u001b[0m \u001b[0;32mnot\u001b[0m \u001b[0mNone\u001b[0m\u001b[0;34m:\u001b[0m\u001b[0;34m\u001b[0m\u001b[0m\n\u001b[1;32m    384\u001b[0m                 \u001b[0;32mreturn\u001b[0m \u001b[0mresult\u001b[0m\u001b[0;34m\u001b[0m\u001b[0m\n",
        "\u001b[0;32m/Applications/Canopy.app/appdata/canopy-1.4.1.1975.macosx-x86_64/Canopy.app/Contents/lib/python2.7/urllib2.pyc\u001b[0m in \u001b[0;36mhttp_open\u001b[0;34m(self, req)\u001b[0m\n\u001b[1;32m   1212\u001b[0m \u001b[0;34m\u001b[0m\u001b[0m\n\u001b[1;32m   1213\u001b[0m     \u001b[0;32mdef\u001b[0m \u001b[0mhttp_open\u001b[0m\u001b[0;34m(\u001b[0m\u001b[0mself\u001b[0m\u001b[0;34m,\u001b[0m \u001b[0mreq\u001b[0m\u001b[0;34m)\u001b[0m\u001b[0;34m:\u001b[0m\u001b[0;34m\u001b[0m\u001b[0m\n\u001b[0;32m-> 1214\u001b[0;31m         \u001b[0;32mreturn\u001b[0m \u001b[0mself\u001b[0m\u001b[0;34m.\u001b[0m\u001b[0mdo_open\u001b[0m\u001b[0;34m(\u001b[0m\u001b[0mhttplib\u001b[0m\u001b[0;34m.\u001b[0m\u001b[0mHTTPConnection\u001b[0m\u001b[0;34m,\u001b[0m \u001b[0mreq\u001b[0m\u001b[0;34m)\u001b[0m\u001b[0;34m\u001b[0m\u001b[0m\n\u001b[0m\u001b[1;32m   1215\u001b[0m \u001b[0;34m\u001b[0m\u001b[0m\n\u001b[1;32m   1216\u001b[0m     \u001b[0mhttp_request\u001b[0m \u001b[0;34m=\u001b[0m \u001b[0mAbstractHTTPHandler\u001b[0m\u001b[0;34m.\u001b[0m\u001b[0mdo_request_\u001b[0m\u001b[0;34m\u001b[0m\u001b[0m\n",
        "\u001b[0;32m/Applications/Canopy.app/appdata/canopy-1.4.1.1975.macosx-x86_64/Canopy.app/Contents/lib/python2.7/urllib2.pyc\u001b[0m in \u001b[0;36mdo_open\u001b[0;34m(self, http_class, req)\u001b[0m\n\u001b[1;32m   1185\u001b[0m         \u001b[0;32melse\u001b[0m\u001b[0;34m:\u001b[0m\u001b[0;34m\u001b[0m\u001b[0m\n\u001b[1;32m   1186\u001b[0m             \u001b[0;32mtry\u001b[0m\u001b[0;34m:\u001b[0m\u001b[0;34m\u001b[0m\u001b[0m\n\u001b[0;32m-> 1187\u001b[0;31m                 \u001b[0mr\u001b[0m \u001b[0;34m=\u001b[0m \u001b[0mh\u001b[0m\u001b[0;34m.\u001b[0m\u001b[0mgetresponse\u001b[0m\u001b[0;34m(\u001b[0m\u001b[0mbuffering\u001b[0m\u001b[0;34m=\u001b[0m\u001b[0mTrue\u001b[0m\u001b[0;34m)\u001b[0m\u001b[0;34m\u001b[0m\u001b[0m\n\u001b[0m\u001b[1;32m   1188\u001b[0m             \u001b[0;32mexcept\u001b[0m \u001b[0mTypeError\u001b[0m\u001b[0;34m:\u001b[0m \u001b[0;31m# buffering kw not supported\u001b[0m\u001b[0;34m\u001b[0m\u001b[0m\n\u001b[1;32m   1189\u001b[0m                 \u001b[0mr\u001b[0m \u001b[0;34m=\u001b[0m \u001b[0mh\u001b[0m\u001b[0;34m.\u001b[0m\u001b[0mgetresponse\u001b[0m\u001b[0;34m(\u001b[0m\u001b[0;34m)\u001b[0m\u001b[0;34m\u001b[0m\u001b[0m\n",
        "\u001b[0;32m/Applications/Canopy.app/appdata/canopy-1.4.1.1975.macosx-x86_64/Canopy.app/Contents/lib/python2.7/httplib.pyc\u001b[0m in \u001b[0;36mgetresponse\u001b[0;34m(self, buffering)\u001b[0m\n\u001b[1;32m   1043\u001b[0m         \u001b[0mresponse\u001b[0m \u001b[0;34m=\u001b[0m \u001b[0mself\u001b[0m\u001b[0;34m.\u001b[0m\u001b[0mresponse_class\u001b[0m\u001b[0;34m(\u001b[0m\u001b[0;34m*\u001b[0m\u001b[0margs\u001b[0m\u001b[0;34m,\u001b[0m \u001b[0;34m**\u001b[0m\u001b[0mkwds\u001b[0m\u001b[0;34m)\u001b[0m\u001b[0;34m\u001b[0m\u001b[0m\n\u001b[1;32m   1044\u001b[0m \u001b[0;34m\u001b[0m\u001b[0m\n\u001b[0;32m-> 1045\u001b[0;31m         \u001b[0mresponse\u001b[0m\u001b[0;34m.\u001b[0m\u001b[0mbegin\u001b[0m\u001b[0;34m(\u001b[0m\u001b[0;34m)\u001b[0m\u001b[0;34m\u001b[0m\u001b[0m\n\u001b[0m\u001b[1;32m   1046\u001b[0m         \u001b[0;32massert\u001b[0m \u001b[0mresponse\u001b[0m\u001b[0;34m.\u001b[0m\u001b[0mwill_close\u001b[0m \u001b[0;34m!=\u001b[0m \u001b[0m_UNKNOWN\u001b[0m\u001b[0;34m\u001b[0m\u001b[0m\n\u001b[1;32m   1047\u001b[0m         \u001b[0mself\u001b[0m\u001b[0;34m.\u001b[0m\u001b[0m__state\u001b[0m \u001b[0;34m=\u001b[0m \u001b[0m_CS_IDLE\u001b[0m\u001b[0;34m\u001b[0m\u001b[0m\n",
        "\u001b[0;32m/Applications/Canopy.app/appdata/canopy-1.4.1.1975.macosx-x86_64/Canopy.app/Contents/lib/python2.7/httplib.pyc\u001b[0m in \u001b[0;36mbegin\u001b[0;34m(self)\u001b[0m\n\u001b[1;32m    407\u001b[0m         \u001b[0;31m# read until we get a non-100 response\u001b[0m\u001b[0;34m\u001b[0m\u001b[0;34m\u001b[0m\u001b[0m\n\u001b[1;32m    408\u001b[0m         \u001b[0;32mwhile\u001b[0m \u001b[0mTrue\u001b[0m\u001b[0;34m:\u001b[0m\u001b[0;34m\u001b[0m\u001b[0m\n\u001b[0;32m--> 409\u001b[0;31m             \u001b[0mversion\u001b[0m\u001b[0;34m,\u001b[0m \u001b[0mstatus\u001b[0m\u001b[0;34m,\u001b[0m \u001b[0mreason\u001b[0m \u001b[0;34m=\u001b[0m \u001b[0mself\u001b[0m\u001b[0;34m.\u001b[0m\u001b[0m_read_status\u001b[0m\u001b[0;34m(\u001b[0m\u001b[0;34m)\u001b[0m\u001b[0;34m\u001b[0m\u001b[0m\n\u001b[0m\u001b[1;32m    410\u001b[0m             \u001b[0;32mif\u001b[0m \u001b[0mstatus\u001b[0m \u001b[0;34m!=\u001b[0m \u001b[0mCONTINUE\u001b[0m\u001b[0;34m:\u001b[0m\u001b[0;34m\u001b[0m\u001b[0m\n\u001b[1;32m    411\u001b[0m                 \u001b[0;32mbreak\u001b[0m\u001b[0;34m\u001b[0m\u001b[0m\n",
        "\u001b[0;32m/Applications/Canopy.app/appdata/canopy-1.4.1.1975.macosx-x86_64/Canopy.app/Contents/lib/python2.7/httplib.pyc\u001b[0m in \u001b[0;36m_read_status\u001b[0;34m(self)\u001b[0m\n\u001b[1;32m    371\u001b[0m             \u001b[0;31m# Presumably, the server closed the connection before\u001b[0m\u001b[0;34m\u001b[0m\u001b[0;34m\u001b[0m\u001b[0m\n\u001b[1;32m    372\u001b[0m             \u001b[0;31m# sending a valid response.\u001b[0m\u001b[0;34m\u001b[0m\u001b[0;34m\u001b[0m\u001b[0m\n\u001b[0;32m--> 373\u001b[0;31m             \u001b[0;32mraise\u001b[0m \u001b[0mBadStatusLine\u001b[0m\u001b[0;34m(\u001b[0m\u001b[0mline\u001b[0m\u001b[0;34m)\u001b[0m\u001b[0;34m\u001b[0m\u001b[0m\n\u001b[0m\u001b[1;32m    374\u001b[0m         \u001b[0;32mtry\u001b[0m\u001b[0;34m:\u001b[0m\u001b[0;34m\u001b[0m\u001b[0m\n\u001b[1;32m    375\u001b[0m             \u001b[0;34m[\u001b[0m\u001b[0mversion\u001b[0m\u001b[0;34m,\u001b[0m \u001b[0mstatus\u001b[0m\u001b[0;34m,\u001b[0m \u001b[0mreason\u001b[0m\u001b[0;34m]\u001b[0m \u001b[0;34m=\u001b[0m \u001b[0mline\u001b[0m\u001b[0;34m.\u001b[0m\u001b[0msplit\u001b[0m\u001b[0;34m(\u001b[0m\u001b[0mNone\u001b[0m\u001b[0;34m,\u001b[0m \u001b[0;36m2\u001b[0m\u001b[0;34m)\u001b[0m\u001b[0;34m\u001b[0m\u001b[0m\n",
        "\u001b[0;31mBadStatusLine\u001b[0m: ''"
       ]
      }
     ],
     "prompt_number": 169
    },
    {
     "cell_type": "code",
     "collapsed": false,
     "input": [
      "def getSimilarTracks(artist, songtitle, api_key, mbid=None, autocorrect=None, limit=None):\n",
      "\t'''\n",
      "\tget similar songs to the songe name \"songtitle\" by artiest \"artist\"\n",
      "\t'''\n",
      "\trequest_url = ''.join([API_ROOT_ADDRESS,\n",
      "\t\t\t\t\t\t  \"?method=\", \"track.getSimilar\", \n",
      "\t\t\t\t\t\t  \"&api_key=\", api_key,\n",
      "\t\t\t\t\t\t  \"&artist=\", artist,\n",
      "\t\t\t\t\t\t  \"&track=\", songtitle,\n",
      "\t\t\t\t\t\t  \"&format=json\"\n",
      "\t\t\t\t\t\t  ])\n",
      "\tif mbid:\n",
      "\t\trequest_url = request_url + \"&mbid=\" + str(mbid)\n",
      "\tif autocorrect and autocorrect==0 or autocorrect==1:\n",
      "\t\trequest_url = request_url + \"&autocorrect=\" + str(autocorrect)\n",
      "\tif limit and type(limit)==int:\n",
      "\t\trequest_url = request_url + \"&limit=\" + str(limit)\n",
      "\n",
      "\tprint \"HTTP GET: \" + request_url\n",
      "\tresponse = urllib2.urlopen(request_url, timeout=200)\n",
      "\tresponse_json = response.read()\n",
      "\tresponse_dict = json.loads(response_json)\n",
      "\treturn response_dict"
     ],
     "language": "python",
     "metadata": {},
     "outputs": [],
     "prompt_number": 170
    },
    {
     "cell_type": "code",
     "collapsed": false,
     "input": [
      "getSimilarTracks(this_artist,this_track_name, API_KEY, limit=10)"
     ],
     "language": "python",
     "metadata": {},
     "outputs": [
      {
       "output_type": "stream",
       "stream": "stdout",
       "text": [
        "HTTP GET: http://ws.audioscrobbler.com/2.0/?method=track.getSimilar&api_key=27caacb0c5a55b33e72f02fabfb6ebf7&artist=Cher&track=Strong Enough&format=json&limit=10\n"
       ]
      },
      {
       "ename": "BadStatusLine",
       "evalue": "''",
       "output_type": "pyerr",
       "traceback": [
        "\u001b[0;31m---------------------------------------------------------------------------\u001b[0m\n\u001b[0;31mBadStatusLine\u001b[0m                             Traceback (most recent call last)",
        "\u001b[0;32m<ipython-input-171-14263f1ed80b>\u001b[0m in \u001b[0;36m<module>\u001b[0;34m()\u001b[0m\n\u001b[0;32m----> 1\u001b[0;31m \u001b[0mgetSimilarTracks\u001b[0m\u001b[0;34m(\u001b[0m\u001b[0mthis_artist\u001b[0m\u001b[0;34m,\u001b[0m\u001b[0mthis_track_name\u001b[0m\u001b[0;34m,\u001b[0m \u001b[0mAPI_KEY\u001b[0m\u001b[0;34m,\u001b[0m \u001b[0mlimit\u001b[0m\u001b[0;34m=\u001b[0m\u001b[0;36m10\u001b[0m\u001b[0;34m)\u001b[0m\u001b[0;34m\u001b[0m\u001b[0m\n\u001b[0m",
        "\u001b[0;32m<ipython-input-170-93ac5d4437b7>\u001b[0m in \u001b[0;36mgetSimilarTracks\u001b[0;34m(artist, songtitle, api_key, mbid, autocorrect, limit)\u001b[0m\n\u001b[1;32m     18\u001b[0m \u001b[0;34m\u001b[0m\u001b[0m\n\u001b[1;32m     19\u001b[0m         \u001b[0;32mprint\u001b[0m \u001b[0;34m\"HTTP GET: \"\u001b[0m \u001b[0;34m+\u001b[0m \u001b[0mrequest_url\u001b[0m\u001b[0;34m\u001b[0m\u001b[0m\n\u001b[0;32m---> 20\u001b[0;31m         \u001b[0mresponse\u001b[0m \u001b[0;34m=\u001b[0m \u001b[0murllib2\u001b[0m\u001b[0;34m.\u001b[0m\u001b[0murlopen\u001b[0m\u001b[0;34m(\u001b[0m\u001b[0mrequest_url\u001b[0m\u001b[0;34m,\u001b[0m \u001b[0mtimeout\u001b[0m\u001b[0;34m=\u001b[0m\u001b[0;36m200\u001b[0m\u001b[0;34m)\u001b[0m\u001b[0;34m\u001b[0m\u001b[0m\n\u001b[0m\u001b[1;32m     21\u001b[0m         \u001b[0mresponse_json\u001b[0m \u001b[0;34m=\u001b[0m \u001b[0mresponse\u001b[0m\u001b[0;34m.\u001b[0m\u001b[0mread\u001b[0m\u001b[0;34m(\u001b[0m\u001b[0;34m)\u001b[0m\u001b[0;34m\u001b[0m\u001b[0m\n\u001b[1;32m     22\u001b[0m         \u001b[0mresponse_dict\u001b[0m \u001b[0;34m=\u001b[0m \u001b[0mjson\u001b[0m\u001b[0;34m.\u001b[0m\u001b[0mloads\u001b[0m\u001b[0;34m(\u001b[0m\u001b[0mresponse_json\u001b[0m\u001b[0;34m)\u001b[0m\u001b[0;34m\u001b[0m\u001b[0m\n",
        "\u001b[0;32m/Applications/Canopy.app/appdata/canopy-1.4.1.1975.macosx-x86_64/Canopy.app/Contents/lib/python2.7/urllib2.pyc\u001b[0m in \u001b[0;36murlopen\u001b[0;34m(url, data, timeout)\u001b[0m\n\u001b[1;32m    125\u001b[0m     \u001b[0;32mif\u001b[0m \u001b[0m_opener\u001b[0m \u001b[0;32mis\u001b[0m \u001b[0mNone\u001b[0m\u001b[0;34m:\u001b[0m\u001b[0;34m\u001b[0m\u001b[0m\n\u001b[1;32m    126\u001b[0m         \u001b[0m_opener\u001b[0m \u001b[0;34m=\u001b[0m \u001b[0mbuild_opener\u001b[0m\u001b[0;34m(\u001b[0m\u001b[0;34m)\u001b[0m\u001b[0;34m\u001b[0m\u001b[0m\n\u001b[0;32m--> 127\u001b[0;31m     \u001b[0;32mreturn\u001b[0m \u001b[0m_opener\u001b[0m\u001b[0;34m.\u001b[0m\u001b[0mopen\u001b[0m\u001b[0;34m(\u001b[0m\u001b[0murl\u001b[0m\u001b[0;34m,\u001b[0m \u001b[0mdata\u001b[0m\u001b[0;34m,\u001b[0m \u001b[0mtimeout\u001b[0m\u001b[0;34m)\u001b[0m\u001b[0;34m\u001b[0m\u001b[0m\n\u001b[0m\u001b[1;32m    128\u001b[0m \u001b[0;34m\u001b[0m\u001b[0m\n\u001b[1;32m    129\u001b[0m \u001b[0;32mdef\u001b[0m \u001b[0minstall_opener\u001b[0m\u001b[0;34m(\u001b[0m\u001b[0mopener\u001b[0m\u001b[0;34m)\u001b[0m\u001b[0;34m:\u001b[0m\u001b[0;34m\u001b[0m\u001b[0m\n",
        "\u001b[0;32m/Applications/Canopy.app/appdata/canopy-1.4.1.1975.macosx-x86_64/Canopy.app/Contents/lib/python2.7/urllib2.pyc\u001b[0m in \u001b[0;36mopen\u001b[0;34m(self, fullurl, data, timeout)\u001b[0m\n\u001b[1;32m    402\u001b[0m             \u001b[0mreq\u001b[0m \u001b[0;34m=\u001b[0m \u001b[0mmeth\u001b[0m\u001b[0;34m(\u001b[0m\u001b[0mreq\u001b[0m\u001b[0;34m)\u001b[0m\u001b[0;34m\u001b[0m\u001b[0m\n\u001b[1;32m    403\u001b[0m \u001b[0;34m\u001b[0m\u001b[0m\n\u001b[0;32m--> 404\u001b[0;31m         \u001b[0mresponse\u001b[0m \u001b[0;34m=\u001b[0m \u001b[0mself\u001b[0m\u001b[0;34m.\u001b[0m\u001b[0m_open\u001b[0m\u001b[0;34m(\u001b[0m\u001b[0mreq\u001b[0m\u001b[0;34m,\u001b[0m \u001b[0mdata\u001b[0m\u001b[0;34m)\u001b[0m\u001b[0;34m\u001b[0m\u001b[0m\n\u001b[0m\u001b[1;32m    405\u001b[0m \u001b[0;34m\u001b[0m\u001b[0m\n\u001b[1;32m    406\u001b[0m         \u001b[0;31m# post-process response\u001b[0m\u001b[0;34m\u001b[0m\u001b[0;34m\u001b[0m\u001b[0m\n",
        "\u001b[0;32m/Applications/Canopy.app/appdata/canopy-1.4.1.1975.macosx-x86_64/Canopy.app/Contents/lib/python2.7/urllib2.pyc\u001b[0m in \u001b[0;36m_open\u001b[0;34m(self, req, data)\u001b[0m\n\u001b[1;32m    420\u001b[0m         \u001b[0mprotocol\u001b[0m \u001b[0;34m=\u001b[0m \u001b[0mreq\u001b[0m\u001b[0;34m.\u001b[0m\u001b[0mget_type\u001b[0m\u001b[0;34m(\u001b[0m\u001b[0;34m)\u001b[0m\u001b[0;34m\u001b[0m\u001b[0m\n\u001b[1;32m    421\u001b[0m         result = self._call_chain(self.handle_open, protocol, protocol +\n\u001b[0;32m--> 422\u001b[0;31m                                   '_open', req)\n\u001b[0m\u001b[1;32m    423\u001b[0m         \u001b[0;32mif\u001b[0m \u001b[0mresult\u001b[0m\u001b[0;34m:\u001b[0m\u001b[0;34m\u001b[0m\u001b[0m\n\u001b[1;32m    424\u001b[0m             \u001b[0;32mreturn\u001b[0m \u001b[0mresult\u001b[0m\u001b[0;34m\u001b[0m\u001b[0m\n",
        "\u001b[0;32m/Applications/Canopy.app/appdata/canopy-1.4.1.1975.macosx-x86_64/Canopy.app/Contents/lib/python2.7/urllib2.pyc\u001b[0m in \u001b[0;36m_call_chain\u001b[0;34m(self, chain, kind, meth_name, *args)\u001b[0m\n\u001b[1;32m    380\u001b[0m             \u001b[0mfunc\u001b[0m \u001b[0;34m=\u001b[0m \u001b[0mgetattr\u001b[0m\u001b[0;34m(\u001b[0m\u001b[0mhandler\u001b[0m\u001b[0;34m,\u001b[0m \u001b[0mmeth_name\u001b[0m\u001b[0;34m)\u001b[0m\u001b[0;34m\u001b[0m\u001b[0m\n\u001b[1;32m    381\u001b[0m \u001b[0;34m\u001b[0m\u001b[0m\n\u001b[0;32m--> 382\u001b[0;31m             \u001b[0mresult\u001b[0m \u001b[0;34m=\u001b[0m \u001b[0mfunc\u001b[0m\u001b[0;34m(\u001b[0m\u001b[0;34m*\u001b[0m\u001b[0margs\u001b[0m\u001b[0;34m)\u001b[0m\u001b[0;34m\u001b[0m\u001b[0m\n\u001b[0m\u001b[1;32m    383\u001b[0m             \u001b[0;32mif\u001b[0m \u001b[0mresult\u001b[0m \u001b[0;32mis\u001b[0m \u001b[0;32mnot\u001b[0m \u001b[0mNone\u001b[0m\u001b[0;34m:\u001b[0m\u001b[0;34m\u001b[0m\u001b[0m\n\u001b[1;32m    384\u001b[0m                 \u001b[0;32mreturn\u001b[0m \u001b[0mresult\u001b[0m\u001b[0;34m\u001b[0m\u001b[0m\n",
        "\u001b[0;32m/Applications/Canopy.app/appdata/canopy-1.4.1.1975.macosx-x86_64/Canopy.app/Contents/lib/python2.7/urllib2.pyc\u001b[0m in \u001b[0;36mhttp_open\u001b[0;34m(self, req)\u001b[0m\n\u001b[1;32m   1212\u001b[0m \u001b[0;34m\u001b[0m\u001b[0m\n\u001b[1;32m   1213\u001b[0m     \u001b[0;32mdef\u001b[0m \u001b[0mhttp_open\u001b[0m\u001b[0;34m(\u001b[0m\u001b[0mself\u001b[0m\u001b[0;34m,\u001b[0m \u001b[0mreq\u001b[0m\u001b[0;34m)\u001b[0m\u001b[0;34m:\u001b[0m\u001b[0;34m\u001b[0m\u001b[0m\n\u001b[0;32m-> 1214\u001b[0;31m         \u001b[0;32mreturn\u001b[0m \u001b[0mself\u001b[0m\u001b[0;34m.\u001b[0m\u001b[0mdo_open\u001b[0m\u001b[0;34m(\u001b[0m\u001b[0mhttplib\u001b[0m\u001b[0;34m.\u001b[0m\u001b[0mHTTPConnection\u001b[0m\u001b[0;34m,\u001b[0m \u001b[0mreq\u001b[0m\u001b[0;34m)\u001b[0m\u001b[0;34m\u001b[0m\u001b[0m\n\u001b[0m\u001b[1;32m   1215\u001b[0m \u001b[0;34m\u001b[0m\u001b[0m\n\u001b[1;32m   1216\u001b[0m     \u001b[0mhttp_request\u001b[0m \u001b[0;34m=\u001b[0m \u001b[0mAbstractHTTPHandler\u001b[0m\u001b[0;34m.\u001b[0m\u001b[0mdo_request_\u001b[0m\u001b[0;34m\u001b[0m\u001b[0m\n",
        "\u001b[0;32m/Applications/Canopy.app/appdata/canopy-1.4.1.1975.macosx-x86_64/Canopy.app/Contents/lib/python2.7/urllib2.pyc\u001b[0m in \u001b[0;36mdo_open\u001b[0;34m(self, http_class, req)\u001b[0m\n\u001b[1;32m   1185\u001b[0m         \u001b[0;32melse\u001b[0m\u001b[0;34m:\u001b[0m\u001b[0;34m\u001b[0m\u001b[0m\n\u001b[1;32m   1186\u001b[0m             \u001b[0;32mtry\u001b[0m\u001b[0;34m:\u001b[0m\u001b[0;34m\u001b[0m\u001b[0m\n\u001b[0;32m-> 1187\u001b[0;31m                 \u001b[0mr\u001b[0m \u001b[0;34m=\u001b[0m \u001b[0mh\u001b[0m\u001b[0;34m.\u001b[0m\u001b[0mgetresponse\u001b[0m\u001b[0;34m(\u001b[0m\u001b[0mbuffering\u001b[0m\u001b[0;34m=\u001b[0m\u001b[0mTrue\u001b[0m\u001b[0;34m)\u001b[0m\u001b[0;34m\u001b[0m\u001b[0m\n\u001b[0m\u001b[1;32m   1188\u001b[0m             \u001b[0;32mexcept\u001b[0m \u001b[0mTypeError\u001b[0m\u001b[0;34m:\u001b[0m \u001b[0;31m# buffering kw not supported\u001b[0m\u001b[0;34m\u001b[0m\u001b[0m\n\u001b[1;32m   1189\u001b[0m                 \u001b[0mr\u001b[0m \u001b[0;34m=\u001b[0m \u001b[0mh\u001b[0m\u001b[0;34m.\u001b[0m\u001b[0mgetresponse\u001b[0m\u001b[0;34m(\u001b[0m\u001b[0;34m)\u001b[0m\u001b[0;34m\u001b[0m\u001b[0m\n",
        "\u001b[0;32m/Applications/Canopy.app/appdata/canopy-1.4.1.1975.macosx-x86_64/Canopy.app/Contents/lib/python2.7/httplib.pyc\u001b[0m in \u001b[0;36mgetresponse\u001b[0;34m(self, buffering)\u001b[0m\n\u001b[1;32m   1043\u001b[0m         \u001b[0mresponse\u001b[0m \u001b[0;34m=\u001b[0m \u001b[0mself\u001b[0m\u001b[0;34m.\u001b[0m\u001b[0mresponse_class\u001b[0m\u001b[0;34m(\u001b[0m\u001b[0;34m*\u001b[0m\u001b[0margs\u001b[0m\u001b[0;34m,\u001b[0m \u001b[0;34m**\u001b[0m\u001b[0mkwds\u001b[0m\u001b[0;34m)\u001b[0m\u001b[0;34m\u001b[0m\u001b[0m\n\u001b[1;32m   1044\u001b[0m \u001b[0;34m\u001b[0m\u001b[0m\n\u001b[0;32m-> 1045\u001b[0;31m         \u001b[0mresponse\u001b[0m\u001b[0;34m.\u001b[0m\u001b[0mbegin\u001b[0m\u001b[0;34m(\u001b[0m\u001b[0;34m)\u001b[0m\u001b[0;34m\u001b[0m\u001b[0m\n\u001b[0m\u001b[1;32m   1046\u001b[0m         \u001b[0;32massert\u001b[0m \u001b[0mresponse\u001b[0m\u001b[0;34m.\u001b[0m\u001b[0mwill_close\u001b[0m \u001b[0;34m!=\u001b[0m \u001b[0m_UNKNOWN\u001b[0m\u001b[0;34m\u001b[0m\u001b[0m\n\u001b[1;32m   1047\u001b[0m         \u001b[0mself\u001b[0m\u001b[0;34m.\u001b[0m\u001b[0m__state\u001b[0m \u001b[0;34m=\u001b[0m \u001b[0m_CS_IDLE\u001b[0m\u001b[0;34m\u001b[0m\u001b[0m\n",
        "\u001b[0;32m/Applications/Canopy.app/appdata/canopy-1.4.1.1975.macosx-x86_64/Canopy.app/Contents/lib/python2.7/httplib.pyc\u001b[0m in \u001b[0;36mbegin\u001b[0;34m(self)\u001b[0m\n\u001b[1;32m    407\u001b[0m         \u001b[0;31m# read until we get a non-100 response\u001b[0m\u001b[0;34m\u001b[0m\u001b[0;34m\u001b[0m\u001b[0m\n\u001b[1;32m    408\u001b[0m         \u001b[0;32mwhile\u001b[0m \u001b[0mTrue\u001b[0m\u001b[0;34m:\u001b[0m\u001b[0;34m\u001b[0m\u001b[0m\n\u001b[0;32m--> 409\u001b[0;31m             \u001b[0mversion\u001b[0m\u001b[0;34m,\u001b[0m \u001b[0mstatus\u001b[0m\u001b[0;34m,\u001b[0m \u001b[0mreason\u001b[0m \u001b[0;34m=\u001b[0m \u001b[0mself\u001b[0m\u001b[0;34m.\u001b[0m\u001b[0m_read_status\u001b[0m\u001b[0;34m(\u001b[0m\u001b[0;34m)\u001b[0m\u001b[0;34m\u001b[0m\u001b[0m\n\u001b[0m\u001b[1;32m    410\u001b[0m             \u001b[0;32mif\u001b[0m \u001b[0mstatus\u001b[0m \u001b[0;34m!=\u001b[0m \u001b[0mCONTINUE\u001b[0m\u001b[0;34m:\u001b[0m\u001b[0;34m\u001b[0m\u001b[0m\n\u001b[1;32m    411\u001b[0m                 \u001b[0;32mbreak\u001b[0m\u001b[0;34m\u001b[0m\u001b[0m\n",
        "\u001b[0;32m/Applications/Canopy.app/appdata/canopy-1.4.1.1975.macosx-x86_64/Canopy.app/Contents/lib/python2.7/httplib.pyc\u001b[0m in \u001b[0;36m_read_status\u001b[0;34m(self)\u001b[0m\n\u001b[1;32m    371\u001b[0m             \u001b[0;31m# Presumably, the server closed the connection before\u001b[0m\u001b[0;34m\u001b[0m\u001b[0;34m\u001b[0m\u001b[0m\n\u001b[1;32m    372\u001b[0m             \u001b[0;31m# sending a valid response.\u001b[0m\u001b[0;34m\u001b[0m\u001b[0;34m\u001b[0m\u001b[0m\n\u001b[0;32m--> 373\u001b[0;31m             \u001b[0;32mraise\u001b[0m \u001b[0mBadStatusLine\u001b[0m\u001b[0;34m(\u001b[0m\u001b[0mline\u001b[0m\u001b[0;34m)\u001b[0m\u001b[0;34m\u001b[0m\u001b[0m\n\u001b[0m\u001b[1;32m    374\u001b[0m         \u001b[0;32mtry\u001b[0m\u001b[0;34m:\u001b[0m\u001b[0;34m\u001b[0m\u001b[0m\n\u001b[1;32m    375\u001b[0m             \u001b[0;34m[\u001b[0m\u001b[0mversion\u001b[0m\u001b[0;34m,\u001b[0m \u001b[0mstatus\u001b[0m\u001b[0;34m,\u001b[0m \u001b[0mreason\u001b[0m\u001b[0;34m]\u001b[0m \u001b[0;34m=\u001b[0m \u001b[0mline\u001b[0m\u001b[0;34m.\u001b[0m\u001b[0msplit\u001b[0m\u001b[0;34m(\u001b[0m\u001b[0mNone\u001b[0m\u001b[0;34m,\u001b[0m \u001b[0;36m2\u001b[0m\u001b[0;34m)\u001b[0m\u001b[0;34m\u001b[0m\u001b[0m\n",
        "\u001b[0;31mBadStatusLine\u001b[0m: ''"
       ]
      }
     ],
     "prompt_number": 171
    },
    {
     "cell_type": "code",
     "collapsed": false,
     "input": [
      "request_url\n"
     ],
     "language": "python",
     "metadata": {},
     "outputs": [
      {
       "metadata": {},
       "output_type": "pyout",
       "prompt_number": 172,
       "text": [
        "u'http://ws.audioscrobbler.com/2.0/?method=track.getSimilar&api_key=27caacb0c5a55b33e72f02fabfb6ebf7&artist=Cher&track=Strong Enough&format=json'"
       ]
      }
     ],
     "prompt_number": 172
    },
    {
     "cell_type": "code",
     "collapsed": false,
     "input": [
      "request_url_mod = u'http://ws.audioscrobbler.com/2.0/?method=track.getSimilar&api_key=27caacb0c5a55b33e72f02fabfb6ebf7&artist=Cher&track=Strong%20Enough&format=json'"
     ],
     "language": "python",
     "metadata": {},
     "outputs": [],
     "prompt_number": 175
    },
    {
     "cell_type": "code",
     "collapsed": false,
     "input": [
      "urllib2.urlopen(request_url_fixed, timeout=200)"
     ],
     "language": "python",
     "metadata": {},
     "outputs": [
      {
       "metadata": {},
       "output_type": "pyout",
       "prompt_number": 181,
       "text": [
        "<addinfourl at 4540610680 whose fp = <socket._fileobject object at 0x10eabe5d0>>"
       ]
      }
     ],
     "prompt_number": 181
    },
    {
     "cell_type": "code",
     "collapsed": false,
     "input": [
      "import urllib\n",
      "import urlparse\n",
      "\n",
      "def url_fix(s, charset='utf-8'):\n",
      "    \"\"\"Sometimes you get an URL by a user that just isn't a real\n",
      "    URL because it contains unsafe characters like ' ' and so on.  This\n",
      "    function can fix some of the problems in a similar way browsers\n",
      "    handle data entered by the user:\n",
      "\n",
      "    >>> url_fix(u'http://de.wikipedia.org/wiki/Elf (Begriffskl\u00e4rung)')\n",
      "    'http://de.wikipedia.org/wiki/Elf%20%28Begriffskl%C3%A4rung%29'\n",
      "\n",
      "    :param charset: The target charset for the URL if the url was\n",
      "                    given as unicode string.\n",
      "    \"\"\"\n",
      "    if isinstance(s, unicode):\n",
      "        s = s.encode(charset, 'ignore')\n",
      "    scheme, netloc, path, qs, anchor = urlparse.urlsplit(s)\n",
      "    path = urllib.quote(path, '/%')\n",
      "    qs = urllib.quote_plus(qs, ':&=')\n",
      "    return urlparse.urlunsplit((scheme, netloc, path, qs, anchor))"
     ],
     "language": "python",
     "metadata": {},
     "outputs": [],
     "prompt_number": 177
    },
    {
     "cell_type": "code",
     "collapsed": false,
     "input": [
      "request_url"
     ],
     "language": "python",
     "metadata": {},
     "outputs": [
      {
       "metadata": {},
       "output_type": "pyout",
       "prompt_number": 178,
       "text": [
        "u'http://ws.audioscrobbler.com/2.0/?method=track.getSimilar&api_key=27caacb0c5a55b33e72f02fabfb6ebf7&artist=Cher&track=Strong Enough&format=json'"
       ]
      }
     ],
     "prompt_number": 178
    },
    {
     "cell_type": "code",
     "collapsed": false,
     "input": [
      "request_url_fixed = url_fix(request_url)"
     ],
     "language": "python",
     "metadata": {},
     "outputs": [],
     "prompt_number": 179
    },
    {
     "cell_type": "code",
     "collapsed": false,
     "input": [
      "request_url_fixed"
     ],
     "language": "python",
     "metadata": {},
     "outputs": [
      {
       "metadata": {},
       "output_type": "pyout",
       "prompt_number": 180,
       "text": [
        "'http://ws.audioscrobbler.com/2.0/?method=track.getSimilar&api_key=27caacb0c5a55b33e72f02fabfb6ebf7&artist=Cher&track=Strong+Enough&format=json'"
       ]
      }
     ],
     "prompt_number": 180
    },
    {
     "cell_type": "code",
     "collapsed": false,
     "input": [
      "def url_fix(s, charset='utf-8'):\n",
      "    \"\"\"Sometimes you get an URL by a user that just isn't a real\n",
      "    URL because it contains unsafe characters like ' ' and so on.  This\n",
      "    function can fix some of the problems in a similar way browsers\n",
      "    handle data entered by the user:\n",
      "\n",
      "    >>> url_fix(u'http://de.wikipedia.org/wiki/Elf (Begriffskl\u00e4rung)')\n",
      "    'http://de.wikipedia.org/wiki/Elf%20%28Begriffskl%C3%A4rung%29'\n",
      "\n",
      "    :param charset: The target charset for the URL if the url was\n",
      "                    given as unicode string.\n",
      "    \"\"\"\n",
      "    if isinstance(s, unicode):\n",
      "        s = s.encode(charset, 'ignore')\n",
      "    scheme, netloc, path, qs, anchor = urlparse.urlsplit(s)\n",
      "    path = urllib.quote(path, '/%')\n",
      "    qs = urllib.quote_plus(qs, ':&=')\n",
      "    return urlparse.urlunsplit((scheme, netloc, path, qs, anchor))\n",
      "\n",
      "def getSimilarTracks(artist, songtitle, api_key, mbid=None, autocorrect=None, limit=None):\n",
      "\t'''\n",
      "\tget similar songs to the songe name \"songtitle\" by artiest \"artist\"\n",
      "\t'''\n",
      "\t#repace all spaces with character %20\n",
      "\trequest_url = ''.join([API_ROOT_ADDRESS,\n",
      "\t\t\t\t\t\t  \"?method=\", \"track.getSimilar\", \n",
      "\t\t\t\t\t\t  \"&api_key=\", api_key,\n",
      "\t\t\t\t\t\t  \"&artist=\", artist,\n",
      "\t\t\t\t\t\t  \"&track=\", songtitle,\n",
      "\t\t\t\t\t\t  \"&format=json\"\n",
      "\t\t\t\t\t\t  ])\n",
      "\tif mbid:\n",
      "\t\trequest_url = request_url + \"&mbid=\" + str(mbid)\n",
      "\tif autocorrect and autocorrect==0 or autocorrect==1:\n",
      "\t\trequest_url = request_url + \"&autocorrect=\" + str(autocorrect)\n",
      "\tif limit and type(limit)==int:\n",
      "\t\trequest_url = request_url + \"&limit=\" + str(limit)\n",
      "\trequest_url = url_fix(request_url)\n",
      "\tprint \"HTTP GET: \" + request_url\n",
      "\tresponse = urllib2.urlopen(request_url, timeout=200)\n",
      "\tresponse_json = response.read()\n",
      "\tresponse_dict = json.loads(response_json)\n",
      "\treturn response_dict"
     ],
     "language": "python",
     "metadata": {},
     "outputs": [],
     "prompt_number": 182
    },
    {
     "cell_type": "code",
     "collapsed": false,
     "input": [
      "t_10mostSimilarTracks_toOriginalSimilars = ()\n",
      "for track in nparr_similartracks_origArtist:\n",
      "\tthis_artist = track['artist']['name']\n",
      "\tthis_track_name = track['name']\n",
      "\tthis_mbid = track['mbid']\n",
      "\td_getSimilarTracks_thisTrack = getSimilarTracks(this_artist,this_track_name, API_KEY, limit=10) #use API to get similar tracks to this track\n",
      "\tnparr_similarTracks_thisTrack = np.array(d_getSimilarTracks_thisTrack['similartracks']['track'])\n",
      "\tnparr_similarTracks_thisTrack = removeTracksWithMissingMbid(nparr_similarTracks_thisTrack)\n",
      "\t#make list of mbid for similar tracks to this track\n",
      "\tl_mbid_similarTracks_thisTrack = []\n",
      "\tfor t in nparr_similarTracks_thisTrack:\n",
      "\t\tl_mbid_similarTracks_thisTrack.append(t['mbid'])\n",
      "\tt_10mostSimilarTracks_toOriginalSimilars = t_10mostSimilarTracks_toOriginalSimilars + ((this_mbid,l_mbid_similarTracks_thisTrack),)# append tuple (this_mbid,l_mbid_similarTracks_thisTrack) to the tuple t_10mostSimilarTracks_toOriginalSimilars\n"
     ],
     "language": "python",
     "metadata": {},
     "outputs": [
      {
       "output_type": "stream",
       "stream": "stdout",
       "text": [
        "HTTP GET: http://ws.audioscrobbler.com/2.0/?method=track.getSimilar&api_key=27caacb0c5a55b33e72f02fabfb6ebf7&artist=Cher&track=Strong+Enough&format=json&limit=10\n",
        "HTTP GET: http://ws.audioscrobbler.com/2.0/?method=track.getSimilar&api_key=27caacb0c5a55b33e72f02fabfb6ebf7&artist=Cher&track=All+or+Nothing&format=json&limit=10"
       ]
      },
      {
       "output_type": "stream",
       "stream": "stdout",
       "text": [
        "\n",
        "HTTP GET: http://ws.audioscrobbler.com/2.0/?method=track.getSimilar&api_key=27caacb0c5a55b33e72f02fabfb6ebf7&artist=Kylie+Minogue&track=Can%27t+Get+You+Out+of+My+Head&format=json&limit=10"
       ]
      },
      {
       "output_type": "stream",
       "stream": "stdout",
       "text": [
        "\n",
        "HTTP GET: http://ws.audioscrobbler.com/2.0/?method=track.getSimilar&api_key=27caacb0c5a55b33e72f02fabfb6ebf7&artist=Madonna&track=Hung+Up&format=json&limit=10"
       ]
      },
      {
       "output_type": "stream",
       "stream": "stdout",
       "text": [
        "\n",
        "HTTP GET: http://ws.audioscrobbler.com/2.0/?method=track.getSimilar&api_key=27caacb0c5a55b33e72f02fabfb6ebf7&artist=Madonna&track=Vogue&format=json&limit=10"
       ]
      },
      {
       "output_type": "stream",
       "stream": "stdout",
       "text": [
        "\n",
        "HTTP GET: http://ws.audioscrobbler.com/2.0/?method=track.getSimilar&api_key=27caacb0c5a55b33e72f02fabfb6ebf7&artist=Kylie+Minogue&track=Get+Outta+My+Way&format=json&limit=10"
       ]
      },
      {
       "output_type": "stream",
       "stream": "stdout",
       "text": [
        "\n",
        "HTTP GET: http://ws.audioscrobbler.com/2.0/?method=track.getSimilar&api_key=27caacb0c5a55b33e72f02fabfb6ebf7&artist=Jennifer+Lopez&track=Waiting+for+Tonight&format=json&limit=10"
       ]
      },
      {
       "output_type": "stream",
       "stream": "stdout",
       "text": [
        "\n",
        "HTTP GET: http://ws.audioscrobbler.com/2.0/?method=track.getSimilar&api_key=27caacb0c5a55b33e72f02fabfb6ebf7&artist=Lady+Gaga&track=Applause&format=json&limit=10"
       ]
      },
      {
       "output_type": "stream",
       "stream": "stdout",
       "text": [
        "\n",
        "no mbid -- empty string"
       ]
      },
      {
       "output_type": "stream",
       "stream": "stdout",
       "text": [
        "\n",
        "HTTP GET: http://ws.audioscrobbler.com/2.0/?method=track.getSimilar&api_key=27caacb0c5a55b33e72f02fabfb6ebf7&artist=Natalie+Imbruglia&track=Torn&format=json&limit=10\n",
        "HTTP GET: http://ws.audioscrobbler.com/2.0/?method=track.getSimilar&api_key=27caacb0c5a55b33e72f02fabfb6ebf7&artist=Katy+Perry&track=Walking+on+Air&format=json&limit=10"
       ]
      },
      {
       "output_type": "stream",
       "stream": "stdout",
       "text": [
        "\n",
        "no mbid -- empty string"
       ]
      },
      {
       "output_type": "stream",
       "stream": "stdout",
       "text": [
        "\n",
        "no mbid -- empty string\n",
        "HTTP GET: http://ws.audioscrobbler.com/2.0/?method=track.getSimilar&api_key=27caacb0c5a55b33e72f02fabfb6ebf7&artist=Lady+Gaga&track=Poker+Face&format=json&limit=10\n",
        "no mbid -- empty string"
       ]
      },
      {
       "output_type": "stream",
       "stream": "stdout",
       "text": [
        "\n",
        "HTTP GET: http://ws.audioscrobbler.com/2.0/?method=track.getSimilar&api_key=27caacb0c5a55b33e72f02fabfb6ebf7&artist=Aqua&track=Barbie+Girl&format=json&limit=10\n",
        "HTTP GET: http://ws.audioscrobbler.com/2.0/?method=track.getSimilar&api_key=27caacb0c5a55b33e72f02fabfb6ebf7&artist=Christina+Aguilera&track=Let+There+Be+Love&format=json&limit=10"
       ]
      },
      {
       "output_type": "stream",
       "stream": "stdout",
       "text": [
        "\n",
        "no mbid -- empty string"
       ]
      },
      {
       "output_type": "stream",
       "stream": "stdout",
       "text": [
        "\n",
        "no mbid -- empty string\n",
        "HTTP GET: http://ws.audioscrobbler.com/2.0/?method=track.getSimilar&api_key=27caacb0c5a55b33e72f02fabfb6ebf7&artist=Britney+Spears&track=...Baby+One+More+Time&format=json&limit=10\n",
        "no mbid -- empty string"
       ]
      },
      {
       "output_type": "stream",
       "stream": "stdout",
       "text": [
        "\n",
        "no mbid -- empty string\n",
        "HTTP GET: http://ws.audioscrobbler.com/2.0/?method=track.getSimilar&api_key=27caacb0c5a55b33e72f02fabfb6ebf7&artist=Britney+Spears&track=Toxic&format=json&limit=10\n",
        "no mbid -- empty string"
       ]
      },
      {
       "output_type": "stream",
       "stream": "stdout",
       "text": [
        "\n",
        "no mbid -- empty string\n",
        "HTTP GET: http://ws.audioscrobbler.com/2.0/?method=track.getSimilar&api_key=27caacb0c5a55b33e72f02fabfb6ebf7&artist=Spice+Girls&track=Wannabe&format=json&limit=10\n",
        "HTTP GET: http://ws.audioscrobbler.com/2.0/?method=track.getSimilar&api_key=27caacb0c5a55b33e72f02fabfb6ebf7&artist=Christina+Aguilera&track=Not+Myself+Tonight&format=json&limit=10"
       ]
      },
      {
       "output_type": "stream",
       "stream": "stdout",
       "text": [
        "\n",
        "HTTP GET: http://ws.audioscrobbler.com/2.0/?method=track.getSimilar&api_key=27caacb0c5a55b33e72f02fabfb6ebf7&artist=Spice+Girls&track=Say+You%27ll+Be+There&format=json&limit=10"
       ]
      },
      {
       "output_type": "stream",
       "stream": "stdout",
       "text": [
        "\n",
        "HTTP GET: http://ws.audioscrobbler.com/2.0/?method=track.getSimilar&api_key=27caacb0c5a55b33e72f02fabfb6ebf7&artist=Ace+of+Base&track=All+That+She+Wants&format=json&limit=10"
       ]
      },
      {
       "output_type": "stream",
       "stream": "stdout",
       "text": [
        "\n",
        "HTTP GET: http://ws.audioscrobbler.com/2.0/?method=track.getSimilar&api_key=27caacb0c5a55b33e72f02fabfb6ebf7&artist=Jennifer+Lopez&track=If+You+Had+My+Love&format=json&limit=10"
       ]
      },
      {
       "output_type": "stream",
       "stream": "stdout",
       "text": [
        "\n",
        "no mbid -- empty string"
       ]
      },
      {
       "output_type": "stream",
       "stream": "stdout",
       "text": [
        "\n",
        "no mbid -- empty string\n",
        "HTTP GET: http://ws.audioscrobbler.com/2.0/?method=track.getSimilar&api_key=27caacb0c5a55b33e72f02fabfb6ebf7&artist=Ace+of+Base&track=The+Sign&format=json&limit=10\n",
        "HTTP GET: http://ws.audioscrobbler.com/2.0/?method=track.getSimilar&api_key=27caacb0c5a55b33e72f02fabfb6ebf7&artist=Rihanna&track=Only+Girl+%28In+the+World%29&format=json&limit=10"
       ]
      },
      {
       "output_type": "stream",
       "stream": "stdout",
       "text": [
        "\n",
        "no mbid -- empty string"
       ]
      },
      {
       "output_type": "stream",
       "stream": "stdout",
       "text": [
        "\n",
        "HTTP GET: http://ws.audioscrobbler.com/2.0/?method=track.getSimilar&api_key=27caacb0c5a55b33e72f02fabfb6ebf7&artist=Cyndi+Lauper&track=Time+After+Time&format=json&limit=10\n",
        "HTTP GET: http://ws.audioscrobbler.com/2.0/?method=track.getSimilar&api_key=27caacb0c5a55b33e72f02fabfb6ebf7&artist=Sophie+Ellis-Bextor&track=Murder+on+the+Dancefloor&format=json&limit=10"
       ]
      },
      {
       "output_type": "stream",
       "stream": "stdout",
       "text": [
        "\n",
        "HTTP GET: http://ws.audioscrobbler.com/2.0/?method=track.getSimilar&api_key=27caacb0c5a55b33e72f02fabfb6ebf7&artist=Janet+Jackson&track=Together+Again&format=json&limit=10"
       ]
      },
      {
       "output_type": "stream",
       "stream": "stdout",
       "text": [
        "\n",
        "HTTP GET: http://ws.audioscrobbler.com/2.0/?method=track.getSimilar&api_key=27caacb0c5a55b33e72f02fabfb6ebf7&artist=Katy+Perry&track=Birthday&format=json&limit=10"
       ]
      },
      {
       "output_type": "stream",
       "stream": "stdout",
       "text": [
        "\n",
        "no mbid -- empty string"
       ]
      },
      {
       "output_type": "stream",
       "stream": "stdout",
       "text": [
        "\n",
        "no mbid -- empty string\n",
        "HTTP GET: http://ws.audioscrobbler.com/2.0/?method=track.getSimilar&api_key=27caacb0c5a55b33e72f02fabfb6ebf7&artist=Jessie+J&track=Domino&format=json&limit=10\n",
        "HTTP GET: http://ws.audioscrobbler.com/2.0/?method=track.getSimilar&api_key=27caacb0c5a55b33e72f02fabfb6ebf7&artist=Ke%24ha&track=Die+Young&format=json&limit=10"
       ]
      },
      {
       "output_type": "stream",
       "stream": "stdout",
       "text": [
        "\n",
        "HTTP GET: http://ws.audioscrobbler.com/2.0/?method=track.getSimilar&api_key=27caacb0c5a55b33e72f02fabfb6ebf7&artist=Gwen+Stefani&track=What+You+Waiting+For%3F&format=json&limit=10"
       ]
      },
      {
       "output_type": "stream",
       "stream": "stdout",
       "text": [
        "\n",
        "HTTP GET: http://ws.audioscrobbler.com/2.0/?method=track.getSimilar&api_key=27caacb0c5a55b33e72f02fabfb6ebf7&artist=Ke%24ha&track=Your+Love+Is+My+Drug&format=json&limit=10"
       ]
      },
      {
       "output_type": "stream",
       "stream": "stdout",
       "text": [
        "\n",
        "no mbid -- empty string"
       ]
      },
      {
       "output_type": "stream",
       "stream": "stdout",
       "text": [
        "\n",
        "HTTP GET: http://ws.audioscrobbler.com/2.0/?method=track.getSimilar&api_key=27caacb0c5a55b33e72f02fabfb6ebf7&artist=Robyn&track=Dancing+on+My+Own&format=json&limit=10\n",
        "no mbid -- empty string"
       ]
      },
      {
       "output_type": "stream",
       "stream": "stdout",
       "text": [
        "\n",
        "HTTP GET: http://ws.audioscrobbler.com/2.0/?method=track.getSimilar&api_key=27caacb0c5a55b33e72f02fabfb6ebf7&artist=Ricky+Martin&track=Livin%27+La+Vida+Loca&format=json&limit=10\n",
        "HTTP GET: http://ws.audioscrobbler.com/2.0/?method=track.getSimilar&api_key=27caacb0c5a55b33e72f02fabfb6ebf7&artist=Geri+Halliwell&track=It%27s+Raining+Men&format=json&limit=10"
       ]
      },
      {
       "output_type": "stream",
       "stream": "stdout",
       "text": [
        "\n",
        "HTTP GET: http://ws.audioscrobbler.com/2.0/?method=track.getSimilar&api_key=27caacb0c5a55b33e72f02fabfb6ebf7&artist=Gwen+Stefani&track=Cool&format=json&limit=10"
       ]
      },
      {
       "output_type": "stream",
       "stream": "stdout",
       "text": [
        "\n",
        "no mbid -- empty string"
       ]
      },
      {
       "output_type": "stream",
       "stream": "stdout",
       "text": [
        "\n",
        "HTTP GET: http://ws.audioscrobbler.com/2.0/?method=track.getSimilar&api_key=27caacb0c5a55b33e72f02fabfb6ebf7&artist=Nicki+Minaj&track=Starships&format=json&limit=10\n",
        "no mbid -- empty string"
       ]
      },
      {
       "output_type": "stream",
       "stream": "stdout",
       "text": [
        "\n",
        "HTTP GET: http://ws.audioscrobbler.com/2.0/?method=track.getSimilar&api_key=27caacb0c5a55b33e72f02fabfb6ebf7&artist=Whitney+Houston&track=I+Wanna+Dance+with+Somebody+%28Who+Loves+Me%29&format=json&limit=10\n",
        "HTTP GET: http://ws.audioscrobbler.com/2.0/?method=track.getSimilar&api_key=27caacb0c5a55b33e72f02fabfb6ebf7&artist=Mariah+Carey&track=Hero&format=json&limit=10"
       ]
      },
      {
       "output_type": "stream",
       "stream": "stdout",
       "text": [
        "\n",
        "HTTP GET: http://ws.audioscrobbler.com/2.0/?method=track.getSimilar&api_key=27caacb0c5a55b33e72f02fabfb6ebf7&artist=Anastacia&track=Left+Outside+Alone&format=json&limit=10"
       ]
      },
      {
       "output_type": "stream",
       "stream": "stdout",
       "text": [
        "\n",
        "no mbid -- empty string"
       ]
      },
      {
       "output_type": "stream",
       "stream": "stdout",
       "text": [
        "\n",
        "HTTP GET: http://ws.audioscrobbler.com/2.0/?method=track.getSimilar&api_key=27caacb0c5a55b33e72f02fabfb6ebf7&artist=Shakira&track=She+Wolf&format=json&limit=10\n",
        "HTTP GET: http://ws.audioscrobbler.com/2.0/?method=track.getSimilar&api_key=27caacb0c5a55b33e72f02fabfb6ebf7&artist=Mariah+Carey&track=Fantasy&format=json&limit=10"
       ]
      },
      {
       "output_type": "stream",
       "stream": "stdout",
       "text": [
        "\n",
        "no mbid -- empty string"
       ]
      },
      {
       "output_type": "stream",
       "stream": "stdout",
       "text": [
        "\n",
        "HTTP GET: http://ws.audioscrobbler.com/2.0/?method=track.getSimilar&api_key=27caacb0c5a55b33e72f02fabfb6ebf7&artist=Selena+Gomez&track=Come+&+Get+It&format=json&limit=10\n"
       ]
      },
      {
       "ename": "TypeError",
       "evalue": "len() of unsized object",
       "output_type": "pyerr",
       "traceback": [
        "\u001b[0;31m---------------------------------------------------------------------------\u001b[0m\n\u001b[0;31mTypeError\u001b[0m                                 Traceback (most recent call last)",
        "\u001b[0;32m<ipython-input-183-5c9f452550d0>\u001b[0m in \u001b[0;36m<module>\u001b[0;34m()\u001b[0m\n\u001b[1;32m      6\u001b[0m         \u001b[0md_getSimilarTracks_thisTrack\u001b[0m \u001b[0;34m=\u001b[0m \u001b[0mgetSimilarTracks\u001b[0m\u001b[0;34m(\u001b[0m\u001b[0mthis_artist\u001b[0m\u001b[0;34m,\u001b[0m\u001b[0mthis_track_name\u001b[0m\u001b[0;34m,\u001b[0m \u001b[0mAPI_KEY\u001b[0m\u001b[0;34m,\u001b[0m \u001b[0mlimit\u001b[0m\u001b[0;34m=\u001b[0m\u001b[0;36m10\u001b[0m\u001b[0;34m)\u001b[0m \u001b[0;31m#use API to get similar tracks to this track\u001b[0m\u001b[0;34m\u001b[0m\u001b[0m\n\u001b[1;32m      7\u001b[0m         \u001b[0mnparr_similarTracks_thisTrack\u001b[0m \u001b[0;34m=\u001b[0m \u001b[0mnp\u001b[0m\u001b[0;34m.\u001b[0m\u001b[0marray\u001b[0m\u001b[0;34m(\u001b[0m\u001b[0md_getSimilarTracks_thisTrack\u001b[0m\u001b[0;34m[\u001b[0m\u001b[0;34m'similartracks'\u001b[0m\u001b[0;34m]\u001b[0m\u001b[0;34m[\u001b[0m\u001b[0;34m'track'\u001b[0m\u001b[0;34m]\u001b[0m\u001b[0;34m)\u001b[0m\u001b[0;34m\u001b[0m\u001b[0m\n\u001b[0;32m----> 8\u001b[0;31m         \u001b[0mnparr_similarTracks_thisTrack\u001b[0m \u001b[0;34m=\u001b[0m \u001b[0mremoveTracksWithMissingMbid\u001b[0m\u001b[0;34m(\u001b[0m\u001b[0mnparr_similarTracks_thisTrack\u001b[0m\u001b[0;34m)\u001b[0m\u001b[0;34m\u001b[0m\u001b[0m\n\u001b[0m\u001b[1;32m      9\u001b[0m         \u001b[0;31m#make list of mbid for similar tracks to this track\u001b[0m\u001b[0;34m\u001b[0m\u001b[0;34m\u001b[0m\u001b[0m\n\u001b[1;32m     10\u001b[0m         \u001b[0ml_mbid_similarTracks_thisTrack\u001b[0m \u001b[0;34m=\u001b[0m \u001b[0;34m[\u001b[0m\u001b[0;34m]\u001b[0m\u001b[0;34m\u001b[0m\u001b[0m\n",
        "\u001b[0;32m<ipython-input-153-82b9e6e1b17b>\u001b[0m in \u001b[0;36mremoveTracksWithMissingMbid\u001b[0;34m(nparr_tracks)\u001b[0m\n\u001b[1;32m      4\u001b[0m \t'''\n\u001b[1;32m      5\u001b[0m         \u001b[0ml_index_missing_mbid\u001b[0m \u001b[0;34m=\u001b[0m \u001b[0;34m[\u001b[0m\u001b[0;34m]\u001b[0m\u001b[0;34m\u001b[0m\u001b[0m\n\u001b[0;32m----> 6\u001b[0;31m         \u001b[0;32mfor\u001b[0m \u001b[0mi\u001b[0m \u001b[0;32min\u001b[0m \u001b[0mrange\u001b[0m\u001b[0;34m(\u001b[0m\u001b[0mlen\u001b[0m\u001b[0;34m(\u001b[0m\u001b[0mnparr_tracks\u001b[0m\u001b[0;34m)\u001b[0m\u001b[0;34m)\u001b[0m\u001b[0;34m:\u001b[0m\u001b[0;34m\u001b[0m\u001b[0m\n\u001b[0m\u001b[1;32m      7\u001b[0m                 \u001b[0mtrack\u001b[0m \u001b[0;34m=\u001b[0m \u001b[0mnparr_tracks\u001b[0m\u001b[0;34m[\u001b[0m\u001b[0mi\u001b[0m\u001b[0;34m]\u001b[0m\u001b[0;34m\u001b[0m\u001b[0m\n\u001b[1;32m      8\u001b[0m                 \u001b[0;32mif\u001b[0m \u001b[0;32mnot\u001b[0m \u001b[0;34m'mbid'\u001b[0m \u001b[0;32min\u001b[0m \u001b[0mtrack\u001b[0m\u001b[0;34m:\u001b[0m \u001b[0;31m# if the track does NOT have an mbid\u001b[0m\u001b[0;34m\u001b[0m\u001b[0m\n",
        "\u001b[0;31mTypeError\u001b[0m: len() of unsized object"
       ]
      }
     ],
     "prompt_number": 183
    },
    {
     "cell_type": "code",
     "collapsed": false,
     "input": [
      "nparr_similarTracks_thisTrack"
     ],
     "language": "python",
     "metadata": {},
     "outputs": [
      {
       "metadata": {},
       "output_type": "pyout",
       "prompt_number": 184,
       "text": [
        "array(u'Come', \n",
        "      dtype='<U4')"
       ]
      }
     ],
     "prompt_number": 184
    },
    {
     "cell_type": "code",
     "collapsed": false,
     "input": [
      "d_getSimilarTracks_thisTrack"
     ],
     "language": "python",
     "metadata": {},
     "outputs": [
      {
       "metadata": {},
       "output_type": "pyout",
       "prompt_number": 185,
       "text": [
        "{u'similartracks': {u'#text': u'\\n',\n",
        "  u'artist': u'Selena Gomez',\n",
        "  u'track': u'Come'}}"
       ]
      }
     ],
     "prompt_number": 185
    },
    {
     "cell_type": "code",
     "collapsed": false,
     "input": [
      "np.array(d_getSimilarTracks_thisTrack['similartracks'])"
     ],
     "language": "python",
     "metadata": {},
     "outputs": [
      {
       "metadata": {},
       "output_type": "pyout",
       "prompt_number": 188,
       "text": [
        "array({u'track': u'Come', u'#text': u'\\n', u'artist': u'Selena Gomez'}, dtype=object)"
       ]
      }
     ],
     "prompt_number": 188
    },
    {
     "cell_type": "code",
     "collapsed": false,
     "input": [
      "\tif len(d_getSimilarTracks_thisTrack['similartracks']) > 1:\n",
      "\t\tnparr_similarTracks_thisTrack = np.array(d_getSimilarTracks_thisTrack['similartracks']['track'])\n",
      "\telse:\n",
      "\t\tnparr_similarTracks_thisTrack = nparr(d_getSimilarTracks_thisTrack['similartracks'])\n",
      "\tnparr_similarTracks_thisTrack = removeTracksWithMissingMbid(nparr_similarTracks_thisTrack)"
     ],
     "language": "python",
     "metadata": {},
     "outputs": [
      {
       "ename": "TypeError",
       "evalue": "len() of unsized object",
       "output_type": "pyerr",
       "traceback": [
        "\u001b[0;31m---------------------------------------------------------------------------\u001b[0m\n\u001b[0;31mTypeError\u001b[0m                                 Traceback (most recent call last)",
        "\u001b[0;32m<ipython-input-189-4eb294ac0f62>\u001b[0m in \u001b[0;36m<module>\u001b[0;34m()\u001b[0m\n\u001b[1;32m      3\u001b[0m \u001b[0;32melse\u001b[0m\u001b[0;34m:\u001b[0m\u001b[0;34m\u001b[0m\u001b[0m\n\u001b[1;32m      4\u001b[0m         \u001b[0mnparr_similarTracks_thisTrack\u001b[0m \u001b[0;34m=\u001b[0m \u001b[0mnparr\u001b[0m\u001b[0;34m(\u001b[0m\u001b[0md_getSimilarTracks_thisTrack\u001b[0m\u001b[0;34m[\u001b[0m\u001b[0;34m'similartracks'\u001b[0m\u001b[0;34m]\u001b[0m\u001b[0;34m)\u001b[0m\u001b[0;34m\u001b[0m\u001b[0m\n\u001b[0;32m----> 5\u001b[0;31m \u001b[0mnparr_similarTracks_thisTrack\u001b[0m \u001b[0;34m=\u001b[0m \u001b[0mremoveTracksWithMissingMbid\u001b[0m\u001b[0;34m(\u001b[0m\u001b[0mnparr_similarTracks_thisTrack\u001b[0m\u001b[0;34m)\u001b[0m\u001b[0;34m\u001b[0m\u001b[0m\n\u001b[0m",
        "\u001b[0;32m<ipython-input-153-82b9e6e1b17b>\u001b[0m in \u001b[0;36mremoveTracksWithMissingMbid\u001b[0;34m(nparr_tracks)\u001b[0m\n\u001b[1;32m      4\u001b[0m \t'''\n\u001b[1;32m      5\u001b[0m         \u001b[0ml_index_missing_mbid\u001b[0m \u001b[0;34m=\u001b[0m \u001b[0;34m[\u001b[0m\u001b[0;34m]\u001b[0m\u001b[0;34m\u001b[0m\u001b[0m\n\u001b[0;32m----> 6\u001b[0;31m         \u001b[0;32mfor\u001b[0m \u001b[0mi\u001b[0m \u001b[0;32min\u001b[0m \u001b[0mrange\u001b[0m\u001b[0;34m(\u001b[0m\u001b[0mlen\u001b[0m\u001b[0;34m(\u001b[0m\u001b[0mnparr_tracks\u001b[0m\u001b[0;34m)\u001b[0m\u001b[0;34m)\u001b[0m\u001b[0;34m:\u001b[0m\u001b[0;34m\u001b[0m\u001b[0m\n\u001b[0m\u001b[1;32m      7\u001b[0m                 \u001b[0mtrack\u001b[0m \u001b[0;34m=\u001b[0m \u001b[0mnparr_tracks\u001b[0m\u001b[0;34m[\u001b[0m\u001b[0mi\u001b[0m\u001b[0;34m]\u001b[0m\u001b[0;34m\u001b[0m\u001b[0m\n\u001b[1;32m      8\u001b[0m                 \u001b[0;32mif\u001b[0m \u001b[0;32mnot\u001b[0m \u001b[0;34m'mbid'\u001b[0m \u001b[0;32min\u001b[0m \u001b[0mtrack\u001b[0m\u001b[0;34m:\u001b[0m \u001b[0;31m# if the track does NOT have an mbid\u001b[0m\u001b[0;34m\u001b[0m\u001b[0m\n",
        "\u001b[0;31mTypeError\u001b[0m: len() of unsized object"
       ]
      }
     ],
     "prompt_number": 189
    },
    {
     "cell_type": "code",
     "collapsed": false,
     "input": [
      "nparr_similarTracks_thisTrack"
     ],
     "language": "python",
     "metadata": {},
     "outputs": [
      {
       "metadata": {},
       "output_type": "pyout",
       "prompt_number": 190,
       "text": [
        "array(u'Come', \n",
        "      dtype='<U4')"
       ]
      }
     ],
     "prompt_number": 190
    },
    {
     "cell_type": "code",
     "collapsed": false,
     "input": [
      "\n",
      "len(d_getSimilarTracks_thisTrack['similartracks']) > 1"
     ],
     "language": "python",
     "metadata": {},
     "outputs": [
      {
       "metadata": {},
       "output_type": "pyout",
       "prompt_number": 192,
       "text": [
        "True"
       ]
      }
     ],
     "prompt_number": 192
    },
    {
     "cell_type": "code",
     "collapsed": false,
     "input": [
      "len(d_getSimilarTracks_thisTrack['similartracks'])"
     ],
     "language": "python",
     "metadata": {},
     "outputs": [
      {
       "metadata": {},
       "output_type": "pyout",
       "prompt_number": 193,
       "text": [
        "3"
       ]
      }
     ],
     "prompt_number": 193
    },
    {
     "cell_type": "code",
     "collapsed": false,
     "input": [
      "d_getSimilarTracks_thisTrack['similartracks']"
     ],
     "language": "python",
     "metadata": {},
     "outputs": [
      {
       "metadata": {},
       "output_type": "pyout",
       "prompt_number": 194,
       "text": [
        "{u'#text': u'\\n', u'artist': u'Selena Gomez', u'track': u'Come'}"
       ]
      }
     ],
     "prompt_number": 194
    },
    {
     "cell_type": "code",
     "collapsed": false,
     "input": [
      "type(d_getSimilarTracks_thisTrack['similartracks'])"
     ],
     "language": "python",
     "metadata": {},
     "outputs": [
      {
       "metadata": {},
       "output_type": "pyout",
       "prompt_number": 195,
       "text": [
        "dict"
       ]
      }
     ],
     "prompt_number": 195
    },
    {
     "cell_type": "code",
     "collapsed": false,
     "input": [
      "type(d_getSimilarTracks_thisTrack['similartracks']) != list"
     ],
     "language": "python",
     "metadata": {},
     "outputs": [
      {
       "metadata": {},
       "output_type": "pyout",
       "prompt_number": 197,
       "text": [
        "True"
       ]
      }
     ],
     "prompt_number": 197
    },
    {
     "cell_type": "code",
     "collapsed": false,
     "input": [
      "t_10mostSimilarTracks_toOriginalSimilars = ()\n",
      "for track in nparr_similartracks_origArtist:\n",
      "\tthis_artist = track['artist']['name']\n",
      "\tthis_track_name = track['name']\n",
      "\tthis_mbid = track['mbid']\n",
      "\td_getSimilarTracks_thisTrack = getSimilarTracks(this_artist,this_track_name, API_KEY, limit=10) #use API to get similar tracks to this track\n",
      "\t\n",
      "\tif type(d_getSimilarTracks_thisTrack['similartracks']) == list: \n",
      "\t\tnparr_similarTracks_thisTrack = np.array(d_getSimilarTracks_thisTrack['similartracks']['track'])\n",
      "\telif type(d_getSimilarTracks_thisTrack['similartracks']) == dict:\n",
      "\t\tnparr_similarTracks_thisTrack = nparr(d_getSimilarTracks_thisTrack['similartracks'])\n",
      "\telse:\n",
      "\t\tcontinue\n",
      "\tnparr_similarTracks_thisTrack = removeTracksWithMissingMbid(nparr_similarTracks_thisTrack)\n",
      "\n",
      "\t#make list of mbid for similar tracks to this track\n",
      "\tl_mbid_similarTracks_thisTrack = []\n",
      "\tfor t in nparr_similarTracks_thisTrack:\n",
      "\t\tl_mbid_similarTracks_thisTrack.append(t['mbid'])\n",
      "\tt_10mostSimilarTracks_toOriginalSimilars = t_10mostSimilarTracks_toOriginalSimilars + ((this_mbid,l_mbid_similarTracks_thisTrack),)# append tuple (this_mbid,l_mbid_similarTracks_thisTrack) to the tuple t_10mostSimilarTracks_toOriginalSimilars\n"
     ],
     "language": "python",
     "metadata": {},
     "outputs": [
      {
       "output_type": "stream",
       "stream": "stdout",
       "text": [
        "HTTP GET: http://ws.audioscrobbler.com/2.0/?method=track.getSimilar&api_key=27caacb0c5a55b33e72f02fabfb6ebf7&artist=Cher&track=Strong+Enough&format=json&limit=10\n"
       ]
      },
      {
       "ename": "NameError",
       "evalue": "name 'nparr' is not defined",
       "output_type": "pyerr",
       "traceback": [
        "\u001b[0;31m---------------------------------------------------------------------------\u001b[0m\n\u001b[0;31mNameError\u001b[0m                                 Traceback (most recent call last)",
        "\u001b[0;32m<ipython-input-198-ffabe5c27e6e>\u001b[0m in \u001b[0;36m<module>\u001b[0;34m()\u001b[0m\n\u001b[1;32m      9\u001b[0m                 \u001b[0mnparr_similarTracks_thisTrack\u001b[0m \u001b[0;34m=\u001b[0m \u001b[0mnp\u001b[0m\u001b[0;34m.\u001b[0m\u001b[0marray\u001b[0m\u001b[0;34m(\u001b[0m\u001b[0md_getSimilarTracks_thisTrack\u001b[0m\u001b[0;34m[\u001b[0m\u001b[0;34m'similartracks'\u001b[0m\u001b[0;34m]\u001b[0m\u001b[0;34m[\u001b[0m\u001b[0;34m'track'\u001b[0m\u001b[0;34m]\u001b[0m\u001b[0;34m)\u001b[0m\u001b[0;34m\u001b[0m\u001b[0m\n\u001b[1;32m     10\u001b[0m         \u001b[0;32melif\u001b[0m \u001b[0mtype\u001b[0m\u001b[0;34m(\u001b[0m\u001b[0md_getSimilarTracks_thisTrack\u001b[0m\u001b[0;34m[\u001b[0m\u001b[0;34m'similartracks'\u001b[0m\u001b[0;34m]\u001b[0m\u001b[0;34m)\u001b[0m \u001b[0;34m==\u001b[0m \u001b[0mdict\u001b[0m\u001b[0;34m:\u001b[0m\u001b[0;34m\u001b[0m\u001b[0m\n\u001b[0;32m---> 11\u001b[0;31m                 \u001b[0mnparr_similarTracks_thisTrack\u001b[0m \u001b[0;34m=\u001b[0m \u001b[0mnparr\u001b[0m\u001b[0;34m(\u001b[0m\u001b[0md_getSimilarTracks_thisTrack\u001b[0m\u001b[0;34m[\u001b[0m\u001b[0;34m'similartracks'\u001b[0m\u001b[0;34m]\u001b[0m\u001b[0;34m)\u001b[0m\u001b[0;34m\u001b[0m\u001b[0m\n\u001b[0m\u001b[1;32m     12\u001b[0m         \u001b[0;32melse\u001b[0m\u001b[0;34m:\u001b[0m\u001b[0;34m\u001b[0m\u001b[0m\n\u001b[1;32m     13\u001b[0m                 \u001b[0;32mcontinue\u001b[0m\u001b[0;34m\u001b[0m\u001b[0m\n",
        "\u001b[0;31mNameError\u001b[0m: name 'nparr' is not defined"
       ]
      }
     ],
     "prompt_number": 198
    },
    {
     "cell_type": "code",
     "collapsed": false,
     "input": [
      "d_getSimilarTracks_thisTrack['similartracks']"
     ],
     "language": "python",
     "metadata": {},
     "outputs": [
      {
       "metadata": {},
       "output_type": "pyout",
       "prompt_number": 199,
       "text": [
        "{u'@attr': {u'artist': u'Cher', u'track': u'Strong Enough'},\n",
        " u'track': [{u'artist': {u'mbid': u'bfcc6d75-a6a5-4bc6-8282-47aec8531818',\n",
        "    u'name': u'Cher',\n",
        "    u'url': u'http://www.last.fm/music/Cher'},\n",
        "   u'duration': u'220000',\n",
        "   u'image': [{u'#text': u'http://userserve-ak.last.fm/serve/34s/71997588.png',\n",
        "     u'size': u'small'},\n",
        "    {u'#text': u'http://userserve-ak.last.fm/serve/64s/71997588.png',\n",
        "     u'size': u'medium'},\n",
        "    {u'#text': u'http://userserve-ak.last.fm/serve/126/71997588.png',\n",
        "     u'size': u'large'},\n",
        "    {u'#text': u'http://userserve-ak.last.fm/serve/300x300/71997588.png',\n",
        "     u'size': u'extralarge'}],\n",
        "   u'match': u'1',\n",
        "   u'mbid': u'a88735e6-b35c-4379-8ef7-bbd2b793ccf4',\n",
        "   u'name': u'All or Nothing',\n",
        "   u'playcount': u'236522',\n",
        "   u'streamable': {u'#text': u'0', u'fulltrack': u'0'},\n",
        "   u'url': u'http://www.last.fm/music/Cher/_/All+or+Nothing'},\n",
        "  {u'artist': {u'mbid': u'bfcc6d75-a6a5-4bc6-8282-47aec8531818',\n",
        "    u'name': u'Cher',\n",
        "    u'url': u'http://www.last.fm/music/Cher'},\n",
        "   u'duration': u'220000',\n",
        "   u'image': [{u'#text': u'http://userserve-ak.last.fm/serve/34s/71997588.png',\n",
        "     u'size': u'small'},\n",
        "    {u'#text': u'http://userserve-ak.last.fm/serve/64s/71997588.png',\n",
        "     u'size': u'medium'},\n",
        "    {u'#text': u'http://userserve-ak.last.fm/serve/126/71997588.png',\n",
        "     u'size': u'large'},\n",
        "    {u'#text': u'http://userserve-ak.last.fm/serve/300x300/71997588.png',\n",
        "     u'size': u'extralarge'}],\n",
        "   u'match': u'0.865281',\n",
        "   u'mbid': u'13194c93-89c6-4ab4-aaf2-15db5d73b74e',\n",
        "   u'name': u'Believe',\n",
        "   u'playcount': u'1487033',\n",
        "   u'streamable': {u'#text': u'0', u'fulltrack': u'0'},\n",
        "   u'url': u'http://www.last.fm/music/Cher/_/Believe'},\n",
        "  {u'artist': {u'mbid': u'79239441-bfd5-4981-a70c-55c3f15c1287',\n",
        "    u'name': u'Madonna',\n",
        "    u'url': u'http://www.last.fm/music/Madonna'},\n",
        "   u'duration': u'220000',\n",
        "   u'image': [{u'#text': u'http://userserve-ak.last.fm/serve/34s/89014729.png',\n",
        "     u'size': u'small'},\n",
        "    {u'#text': u'http://userserve-ak.last.fm/serve/64s/89014729.png',\n",
        "     u'size': u'medium'},\n",
        "    {u'#text': u'http://userserve-ak.last.fm/serve/126/89014729.png',\n",
        "     u'size': u'large'},\n",
        "    {u'#text': u'http://userserve-ak.last.fm/serve/300x300/89014729.png',\n",
        "     u'size': u'extralarge'}],\n",
        "   u'match': u'0.157542',\n",
        "   u'mbid': u'1111fd1f-7868-40a5-9dec-15dcd9b175a3',\n",
        "   u'name': u'Vogue',\n",
        "   u'playcount': u'1891064',\n",
        "   u'streamable': {u'#text': u'0', u'fulltrack': u'0'},\n",
        "   u'url': u'http://www.last.fm/music/Madonna/_/Vogue'},\n",
        "  {u'artist': {u'mbid': u'79239441-bfd5-4981-a70c-55c3f15c1287',\n",
        "    u'name': u'Madonna',\n",
        "    u'url': u'http://www.last.fm/music/Madonna'},\n",
        "   u'duration': u'220000',\n",
        "   u'image': [{u'#text': u'http://userserve-ak.last.fm/serve/34s/74051744.png',\n",
        "     u'size': u'small'},\n",
        "    {u'#text': u'http://userserve-ak.last.fm/serve/64s/74051744.png',\n",
        "     u'size': u'medium'},\n",
        "    {u'#text': u'http://userserve-ak.last.fm/serve/126/74051744.png',\n",
        "     u'size': u'large'},\n",
        "    {u'#text': u'http://userserve-ak.last.fm/serve/300x300/74051744.png',\n",
        "     u'size': u'extralarge'}],\n",
        "   u'match': u'0.139807',\n",
        "   u'mbid': u'31a6b752-291c-456f-ade5-f4b85545e6df',\n",
        "   u'name': u'Hung Up',\n",
        "   u'playcount': u'3559828',\n",
        "   u'streamable': {u'#text': u'0', u'fulltrack': u'0'},\n",
        "   u'url': u'http://www.last.fm/music/Madonna/_/Hung+Up'},\n",
        "  {u'artist': {u'mbid': u'2fddb92d-24b2-46a5-bf28-3aed46f4684c',\n",
        "    u'name': u'Kylie Minogue',\n",
        "    u'url': u'http://www.last.fm/music/Kylie+Minogue'},\n",
        "   u'duration': u'220000',\n",
        "   u'image': [{u'#text': u'http://userserve-ak.last.fm/serve/34s/80337607.png',\n",
        "     u'size': u'small'},\n",
        "    {u'#text': u'http://userserve-ak.last.fm/serve/64s/80337607.png',\n",
        "     u'size': u'medium'},\n",
        "    {u'#text': u'http://userserve-ak.last.fm/serve/126/80337607.png',\n",
        "     u'size': u'large'},\n",
        "    {u'#text': u'http://userserve-ak.last.fm/serve/300x300/80337607.png',\n",
        "     u'size': u'extralarge'}],\n",
        "   u'match': u'0.13682',\n",
        "   u'mbid': u'a3fa6ee1-598d-4f06-a89d-ee2660eaeef3',\n",
        "   u'name': u'In Your Eyes',\n",
        "   u'playcount': u'1216324',\n",
        "   u'streamable': {u'#text': u'0', u'fulltrack': u'0'},\n",
        "   u'url': u'http://www.last.fm/music/Kylie+Minogue/_/In+Your+Eyes'},\n",
        "  {u'artist': {u'mbid': u'3e518707-b079-4334-bb6e-bfde317ce4d3',\n",
        "    u'name': u'Jennifer Lopez',\n",
        "    u'url': u'http://www.last.fm/music/Jennifer+Lopez'},\n",
        "   u'duration': u'220000',\n",
        "   u'image': [{u'#text': u'http://userserve-ak.last.fm/serve/34s/44969241.png',\n",
        "     u'size': u'small'},\n",
        "    {u'#text': u'http://userserve-ak.last.fm/serve/64s/44969241.png',\n",
        "     u'size': u'medium'},\n",
        "    {u'#text': u'http://userserve-ak.last.fm/serve/126/44969241.png',\n",
        "     u'size': u'large'},\n",
        "    {u'#text': u'http://userserve-ak.last.fm/serve/300x300/44969241.png',\n",
        "     u'size': u'extralarge'}],\n",
        "   u'match': u'0.134544',\n",
        "   u'mbid': u'd48db0f4-fab6-4d18-bc1f-aec43772af96',\n",
        "   u'name': u'Waiting for Tonight',\n",
        "   u'playcount': u'828992',\n",
        "   u'streamable': {u'#text': u'0', u'fulltrack': u'0'},\n",
        "   u'url': u'http://www.last.fm/music/Jennifer+Lopez/_/Waiting+for+Tonight'},\n",
        "  {u'artist': {u'mbid': u'2fddb92d-24b2-46a5-bf28-3aed46f4684c',\n",
        "    u'name': u'Kylie Minogue',\n",
        "    u'url': u'http://www.last.fm/music/Kylie+Minogue'},\n",
        "   u'duration': u'220000',\n",
        "   u'image': [{u'#text': u'http://userserve-ak.last.fm/serve/34s/85578251.png',\n",
        "     u'size': u'small'},\n",
        "    {u'#text': u'http://userserve-ak.last.fm/serve/64s/85578251.png',\n",
        "     u'size': u'medium'},\n",
        "    {u'#text': u'http://userserve-ak.last.fm/serve/126/85578251.png',\n",
        "     u'size': u'large'},\n",
        "    {u'#text': u'http://userserve-ak.last.fm/serve/300x300/85578251.png',\n",
        "     u'size': u'extralarge'}],\n",
        "   u'match': u'0.131964',\n",
        "   u'mbid': u'4988f79d-2945-471d-b238-79f04949ed34',\n",
        "   u'name': u'Get Outta My Way',\n",
        "   u'playcount': u'2023223',\n",
        "   u'streamable': {u'#text': u'0', u'fulltrack': u'0'},\n",
        "   u'url': u'http://www.last.fm/music/Kylie+Minogue/_/Get+Outta+My+Way'},\n",
        "  {u'artist': {u'mbid': u'122d63fc-8671-43e4-9752-34e846d62a9c',\n",
        "    u'name': u'Katy Perry',\n",
        "    u'url': u'http://www.last.fm/music/Katy+Perry'},\n",
        "   u'duration': u'220000',\n",
        "   u'image': [{u'#text': u'http://userserve-ak.last.fm/serve/34s/98230957.png',\n",
        "     u'size': u'small'},\n",
        "    {u'#text': u'http://userserve-ak.last.fm/serve/64s/98230957.png',\n",
        "     u'size': u'medium'},\n",
        "    {u'#text': u'http://userserve-ak.last.fm/serve/126/98230957.png',\n",
        "     u'size': u'large'},\n",
        "    {u'#text': u'http://userserve-ak.last.fm/serve/300x300/98230957.png',\n",
        "     u'size': u'extralarge'}],\n",
        "   u'match': u'0.117845',\n",
        "   u'mbid': u'35143c2f-0484-44e2-bf27-7baa7ca5e135',\n",
        "   u'name': u'Walking on Air',\n",
        "   u'playcount': u'1017098',\n",
        "   u'streamable': {u'#text': u'0', u'fulltrack': u'0'},\n",
        "   u'url': u'http://www.last.fm/music/Katy+Perry/_/Walking+on+Air'},\n",
        "  {u'artist': {u'mbid': u'23207c32-6743-4982-9f46-e297b2e4eb14',\n",
        "    u'name': u'Geri Halliwell',\n",
        "    u'url': u'http://www.last.fm/music/Geri+Halliwell'},\n",
        "   u'duration': u'220000',\n",
        "   u'image': [{u'#text': u'http://userserve-ak.last.fm/serve/34s/98087067.jpg',\n",
        "     u'size': u'small'},\n",
        "    {u'#text': u'http://userserve-ak.last.fm/serve/64s/98087067.jpg',\n",
        "     u'size': u'medium'},\n",
        "    {u'#text': u'http://userserve-ak.last.fm/serve/126/98087067.jpg',\n",
        "     u'size': u'large'},\n",
        "    {u'#text': u'http://userserve-ak.last.fm/serve/300x300/98087067.jpg',\n",
        "     u'size': u'extralarge'}],\n",
        "   u'match': u'0.106851',\n",
        "   u'mbid': u'ba9dbfff-f193-43b8-b1ab-7c5ad426ab14',\n",
        "   u'name': u\"It's Raining Men\",\n",
        "   u'playcount': u'392013',\n",
        "   u'streamable': {u'#text': u'0', u'fulltrack': u'0'},\n",
        "   u'url': u'http://www.last.fm/music/Geri+Halliwell/_/It%27s+Raining+Men'},\n",
        "  {u'artist': {u'mbid': u'd3b2bec4-b70e-460e-b433-a865ceac2de8',\n",
        "    u'name': u'Anastacia',\n",
        "    u'url': u'http://www.last.fm/music/Anastacia'},\n",
        "   u'duration': u'220000',\n",
        "   u'image': [{u'#text': u'http://userserve-ak.last.fm/serve/34s/86123697.png',\n",
        "     u'size': u'small'},\n",
        "    {u'#text': u'http://userserve-ak.last.fm/serve/64s/86123697.png',\n",
        "     u'size': u'medium'},\n",
        "    {u'#text': u'http://userserve-ak.last.fm/serve/126/86123697.png',\n",
        "     u'size': u'large'},\n",
        "    {u'#text': u'http://userserve-ak.last.fm/serve/300x300/86123697.png',\n",
        "     u'size': u'extralarge'}],\n",
        "   u'match': u'0.105881',\n",
        "   u'mbid': u'10b9d8d4-2205-47b8-ad51-87bb214cff25',\n",
        "   u'name': u\"I'm Outta Love\",\n",
        "   u'playcount': u'471934',\n",
        "   u'streamable': {u'#text': u'0', u'fulltrack': u'0'},\n",
        "   u'url': u'http://www.last.fm/music/Anastacia/_/I%27m+Outta+Love'}]}"
       ]
      }
     ],
     "prompt_number": 199
    },
    {
     "cell_type": "code",
     "collapsed": false,
     "input": [
      "#now, loop through each track and find the 10 most similar tracks\n",
      "t_10mostSimilarTracks_toOriginalSimilars = ()\n",
      "for track in nparr_similartracks_origArtist:\n",
      "\tthis_artist = track['artist']['name']\n",
      "\tthis_track_name = track['name']\n",
      "\tthis_mbid = track['mbid']\n",
      "\td_getSimilarTracks_thisTrack = getSimilarTracks(this_artist,this_track_name, API_KEY, limit=10) #use API to get similar tracks to this track\n",
      "\t\n",
      "\tif type(d_getSimilarTracks_thisTrack['similartracks']['track']) == list: \n",
      "\t\tnparr_similarTracks_thisTrack = np.array(d_getSimilarTracks_thisTrack['similartracks']['track'])\n",
      "\telif type(d_getSimilarTracks_thisTrack['similartracks']['track']) == dict:\n",
      "\t\tnparr_similarTracks_thisTrack = nparr(d_getSimilarTracks_thisTrack['similartracks'])\n",
      "\telse:\n",
      "\t\tcontinue\n",
      "\tnparr_similarTracks_thisTrack = removeTracksWithMissingMbid(nparr_similarTracks_thisTrack)\n",
      "\n",
      "\t#make list of mbid for similar tracks to this track\n",
      "\tl_mbid_similarTracks_thisTrack = []\n",
      "\tfor t in nparr_similarTracks_thisTrack:\n",
      "\t\tl_mbid_similarTracks_thisTrack.append(t['mbid'])\n",
      "\tt_10mostSimilarTracks_toOriginalSimilars = t_10mostSimilarTracks_toOriginalSimilars + ((this_mbid,l_mbid_similarTracks_thisTrack),)# append tuple (this_mbid,l_mbid_similarTracks_thisTrack) to the tuple t_10mostSimilarTracks_toOriginalSimilars\n"
     ],
     "language": "python",
     "metadata": {},
     "outputs": [
      {
       "output_type": "stream",
       "stream": "stdout",
       "text": [
        "HTTP GET: http://ws.audioscrobbler.com/2.0/?method=track.getSimilar&api_key=27caacb0c5a55b33e72f02fabfb6ebf7&artist=Cher&track=Strong+Enough&format=json&limit=10\n",
        "HTTP GET: http://ws.audioscrobbler.com/2.0/?method=track.getSimilar&api_key=27caacb0c5a55b33e72f02fabfb6ebf7&artist=Cher&track=All+or+Nothing&format=json&limit=10"
       ]
      },
      {
       "output_type": "stream",
       "stream": "stdout",
       "text": [
        "\n",
        "HTTP GET: http://ws.audioscrobbler.com/2.0/?method=track.getSimilar&api_key=27caacb0c5a55b33e72f02fabfb6ebf7&artist=Kylie+Minogue&track=Can%27t+Get+You+Out+of+My+Head&format=json&limit=10"
       ]
      },
      {
       "output_type": "stream",
       "stream": "stdout",
       "text": [
        "\n",
        "HTTP GET: http://ws.audioscrobbler.com/2.0/?method=track.getSimilar&api_key=27caacb0c5a55b33e72f02fabfb6ebf7&artist=Madonna&track=Hung+Up&format=json&limit=10"
       ]
      },
      {
       "output_type": "stream",
       "stream": "stdout",
       "text": [
        "\n",
        "HTTP GET: http://ws.audioscrobbler.com/2.0/?method=track.getSimilar&api_key=27caacb0c5a55b33e72f02fabfb6ebf7&artist=Madonna&track=Vogue&format=json&limit=10"
       ]
      },
      {
       "output_type": "stream",
       "stream": "stdout",
       "text": [
        "\n",
        "HTTP GET: http://ws.audioscrobbler.com/2.0/?method=track.getSimilar&api_key=27caacb0c5a55b33e72f02fabfb6ebf7&artist=Kylie+Minogue&track=Get+Outta+My+Way&format=json&limit=10"
       ]
      },
      {
       "output_type": "stream",
       "stream": "stdout",
       "text": [
        "\n",
        "HTTP GET: http://ws.audioscrobbler.com/2.0/?method=track.getSimilar&api_key=27caacb0c5a55b33e72f02fabfb6ebf7&artist=Jennifer+Lopez&track=Waiting+for+Tonight&format=json&limit=10"
       ]
      },
      {
       "output_type": "stream",
       "stream": "stdout",
       "text": [
        "\n",
        "HTTP GET: http://ws.audioscrobbler.com/2.0/?method=track.getSimilar&api_key=27caacb0c5a55b33e72f02fabfb6ebf7&artist=Lady+Gaga&track=Applause&format=json&limit=10"
       ]
      },
      {
       "output_type": "stream",
       "stream": "stdout",
       "text": [
        "\n",
        "no mbid -- empty string"
       ]
      },
      {
       "output_type": "stream",
       "stream": "stdout",
       "text": [
        "\n",
        "HTTP GET: http://ws.audioscrobbler.com/2.0/?method=track.getSimilar&api_key=27caacb0c5a55b33e72f02fabfb6ebf7&artist=Natalie+Imbruglia&track=Torn&format=json&limit=10\n",
        "HTTP GET: http://ws.audioscrobbler.com/2.0/?method=track.getSimilar&api_key=27caacb0c5a55b33e72f02fabfb6ebf7&artist=Katy+Perry&track=Walking+on+Air&format=json&limit=10"
       ]
      },
      {
       "output_type": "stream",
       "stream": "stdout",
       "text": [
        "\n",
        "no mbid -- empty string"
       ]
      },
      {
       "output_type": "stream",
       "stream": "stdout",
       "text": [
        "\n",
        "no mbid -- empty string\n",
        "HTTP GET: http://ws.audioscrobbler.com/2.0/?method=track.getSimilar&api_key=27caacb0c5a55b33e72f02fabfb6ebf7&artist=Lady+Gaga&track=Poker+Face&format=json&limit=10\n",
        "no mbid -- empty string"
       ]
      },
      {
       "output_type": "stream",
       "stream": "stdout",
       "text": [
        "\n",
        "HTTP GET: http://ws.audioscrobbler.com/2.0/?method=track.getSimilar&api_key=27caacb0c5a55b33e72f02fabfb6ebf7&artist=Aqua&track=Barbie+Girl&format=json&limit=10\n",
        "HTTP GET: http://ws.audioscrobbler.com/2.0/?method=track.getSimilar&api_key=27caacb0c5a55b33e72f02fabfb6ebf7&artist=Christina+Aguilera&track=Let+There+Be+Love&format=json&limit=10"
       ]
      },
      {
       "output_type": "stream",
       "stream": "stdout",
       "text": [
        "\n",
        "no mbid -- empty string"
       ]
      },
      {
       "output_type": "stream",
       "stream": "stdout",
       "text": [
        "\n",
        "no mbid -- empty string\n",
        "HTTP GET: http://ws.audioscrobbler.com/2.0/?method=track.getSimilar&api_key=27caacb0c5a55b33e72f02fabfb6ebf7&artist=Britney+Spears&track=...Baby+One+More+Time&format=json&limit=10\n",
        "no mbid -- empty string"
       ]
      },
      {
       "output_type": "stream",
       "stream": "stdout",
       "text": [
        "\n",
        "no mbid -- empty string\n",
        "HTTP GET: http://ws.audioscrobbler.com/2.0/?method=track.getSimilar&api_key=27caacb0c5a55b33e72f02fabfb6ebf7&artist=Britney+Spears&track=Toxic&format=json&limit=10\n",
        "no mbid -- empty string"
       ]
      },
      {
       "output_type": "stream",
       "stream": "stdout",
       "text": [
        "\n",
        "no mbid -- empty string\n",
        "HTTP GET: http://ws.audioscrobbler.com/2.0/?method=track.getSimilar&api_key=27caacb0c5a55b33e72f02fabfb6ebf7&artist=Spice+Girls&track=Wannabe&format=json&limit=10\n",
        "HTTP GET: http://ws.audioscrobbler.com/2.0/?method=track.getSimilar&api_key=27caacb0c5a55b33e72f02fabfb6ebf7&artist=Christina+Aguilera&track=Not+Myself+Tonight&format=json&limit=10"
       ]
      },
      {
       "output_type": "stream",
       "stream": "stdout",
       "text": [
        "\n",
        "HTTP GET: http://ws.audioscrobbler.com/2.0/?method=track.getSimilar&api_key=27caacb0c5a55b33e72f02fabfb6ebf7&artist=Spice+Girls&track=Say+You%27ll+Be+There&format=json&limit=10"
       ]
      },
      {
       "output_type": "stream",
       "stream": "stdout",
       "text": [
        "\n",
        "HTTP GET: http://ws.audioscrobbler.com/2.0/?method=track.getSimilar&api_key=27caacb0c5a55b33e72f02fabfb6ebf7&artist=Ace+of+Base&track=All+That+She+Wants&format=json&limit=10"
       ]
      },
      {
       "output_type": "stream",
       "stream": "stdout",
       "text": [
        "\n",
        "HTTP GET: http://ws.audioscrobbler.com/2.0/?method=track.getSimilar&api_key=27caacb0c5a55b33e72f02fabfb6ebf7&artist=Jennifer+Lopez&track=If+You+Had+My+Love&format=json&limit=10"
       ]
      },
      {
       "output_type": "stream",
       "stream": "stdout",
       "text": [
        "\n",
        "no mbid -- empty string"
       ]
      },
      {
       "output_type": "stream",
       "stream": "stdout",
       "text": [
        "\n",
        "no mbid -- empty string\n",
        "HTTP GET: http://ws.audioscrobbler.com/2.0/?method=track.getSimilar&api_key=27caacb0c5a55b33e72f02fabfb6ebf7&artist=Ace+of+Base&track=The+Sign&format=json&limit=10\n",
        "HTTP GET: http://ws.audioscrobbler.com/2.0/?method=track.getSimilar&api_key=27caacb0c5a55b33e72f02fabfb6ebf7&artist=Rihanna&track=Only+Girl+%28In+the+World%29&format=json&limit=10"
       ]
      },
      {
       "output_type": "stream",
       "stream": "stdout",
       "text": [
        "\n",
        "no mbid -- empty string"
       ]
      },
      {
       "output_type": "stream",
       "stream": "stdout",
       "text": [
        "\n",
        "HTTP GET: http://ws.audioscrobbler.com/2.0/?method=track.getSimilar&api_key=27caacb0c5a55b33e72f02fabfb6ebf7&artist=Cyndi+Lauper&track=Time+After+Time&format=json&limit=10\n",
        "HTTP GET: http://ws.audioscrobbler.com/2.0/?method=track.getSimilar&api_key=27caacb0c5a55b33e72f02fabfb6ebf7&artist=Sophie+Ellis-Bextor&track=Murder+on+the+Dancefloor&format=json&limit=10"
       ]
      },
      {
       "output_type": "stream",
       "stream": "stdout",
       "text": [
        "\n",
        "HTTP GET: http://ws.audioscrobbler.com/2.0/?method=track.getSimilar&api_key=27caacb0c5a55b33e72f02fabfb6ebf7&artist=Janet+Jackson&track=Together+Again&format=json&limit=10"
       ]
      },
      {
       "output_type": "stream",
       "stream": "stdout",
       "text": [
        "\n",
        "HTTP GET: http://ws.audioscrobbler.com/2.0/?method=track.getSimilar&api_key=27caacb0c5a55b33e72f02fabfb6ebf7&artist=Katy+Perry&track=Birthday&format=json&limit=10"
       ]
      },
      {
       "output_type": "stream",
       "stream": "stdout",
       "text": [
        "\n",
        "no mbid -- empty string"
       ]
      },
      {
       "output_type": "stream",
       "stream": "stdout",
       "text": [
        "\n",
        "no mbid -- empty string\n",
        "HTTP GET: http://ws.audioscrobbler.com/2.0/?method=track.getSimilar&api_key=27caacb0c5a55b33e72f02fabfb6ebf7&artist=Jessie+J&track=Domino&format=json&limit=10\n",
        "HTTP GET: http://ws.audioscrobbler.com/2.0/?method=track.getSimilar&api_key=27caacb0c5a55b33e72f02fabfb6ebf7&artist=Ke%24ha&track=Die+Young&format=json&limit=10"
       ]
      },
      {
       "output_type": "stream",
       "stream": "stdout",
       "text": [
        "\n",
        "HTTP GET: http://ws.audioscrobbler.com/2.0/?method=track.getSimilar&api_key=27caacb0c5a55b33e72f02fabfb6ebf7&artist=Gwen+Stefani&track=What+You+Waiting+For%3F&format=json&limit=10"
       ]
      },
      {
       "output_type": "stream",
       "stream": "stdout",
       "text": [
        "\n",
        "HTTP GET: http://ws.audioscrobbler.com/2.0/?method=track.getSimilar&api_key=27caacb0c5a55b33e72f02fabfb6ebf7&artist=Ke%24ha&track=Your+Love+Is+My+Drug&format=json&limit=10"
       ]
      },
      {
       "output_type": "stream",
       "stream": "stdout",
       "text": [
        "\n",
        "no mbid -- empty string"
       ]
      },
      {
       "output_type": "stream",
       "stream": "stdout",
       "text": [
        "\n",
        "HTTP GET: http://ws.audioscrobbler.com/2.0/?method=track.getSimilar&api_key=27caacb0c5a55b33e72f02fabfb6ebf7&artist=Robyn&track=Dancing+on+My+Own&format=json&limit=10\n",
        "no mbid -- empty string"
       ]
      },
      {
       "output_type": "stream",
       "stream": "stdout",
       "text": [
        "\n",
        "HTTP GET: http://ws.audioscrobbler.com/2.0/?method=track.getSimilar&api_key=27caacb0c5a55b33e72f02fabfb6ebf7&artist=Ricky+Martin&track=Livin%27+La+Vida+Loca&format=json&limit=10\n",
        "HTTP GET: http://ws.audioscrobbler.com/2.0/?method=track.getSimilar&api_key=27caacb0c5a55b33e72f02fabfb6ebf7&artist=Geri+Halliwell&track=It%27s+Raining+Men&format=json&limit=10"
       ]
      },
      {
       "output_type": "stream",
       "stream": "stdout",
       "text": [
        "\n",
        "HTTP GET: http://ws.audioscrobbler.com/2.0/?method=track.getSimilar&api_key=27caacb0c5a55b33e72f02fabfb6ebf7&artist=Gwen+Stefani&track=Cool&format=json&limit=10"
       ]
      },
      {
       "output_type": "stream",
       "stream": "stdout",
       "text": [
        "\n",
        "no mbid -- empty string"
       ]
      },
      {
       "output_type": "stream",
       "stream": "stdout",
       "text": [
        "\n",
        "HTTP GET: http://ws.audioscrobbler.com/2.0/?method=track.getSimilar&api_key=27caacb0c5a55b33e72f02fabfb6ebf7&artist=Nicki+Minaj&track=Starships&format=json&limit=10\n",
        "no mbid -- empty string"
       ]
      },
      {
       "output_type": "stream",
       "stream": "stdout",
       "text": [
        "\n",
        "HTTP GET: http://ws.audioscrobbler.com/2.0/?method=track.getSimilar&api_key=27caacb0c5a55b33e72f02fabfb6ebf7&artist=Whitney+Houston&track=I+Wanna+Dance+with+Somebody+%28Who+Loves+Me%29&format=json&limit=10\n",
        "HTTP GET: http://ws.audioscrobbler.com/2.0/?method=track.getSimilar&api_key=27caacb0c5a55b33e72f02fabfb6ebf7&artist=Mariah+Carey&track=Hero&format=json&limit=10"
       ]
      },
      {
       "output_type": "stream",
       "stream": "stdout",
       "text": [
        "\n",
        "HTTP GET: http://ws.audioscrobbler.com/2.0/?method=track.getSimilar&api_key=27caacb0c5a55b33e72f02fabfb6ebf7&artist=Anastacia&track=Left+Outside+Alone&format=json&limit=10"
       ]
      },
      {
       "output_type": "stream",
       "stream": "stdout",
       "text": [
        "\n",
        "no mbid -- empty string"
       ]
      },
      {
       "output_type": "stream",
       "stream": "stdout",
       "text": [
        "\n",
        "HTTP GET: http://ws.audioscrobbler.com/2.0/?method=track.getSimilar&api_key=27caacb0c5a55b33e72f02fabfb6ebf7&artist=Shakira&track=She+Wolf&format=json&limit=10\n",
        "HTTP GET: http://ws.audioscrobbler.com/2.0/?method=track.getSimilar&api_key=27caacb0c5a55b33e72f02fabfb6ebf7&artist=Mariah+Carey&track=Fantasy&format=json&limit=10"
       ]
      },
      {
       "output_type": "stream",
       "stream": "stdout",
       "text": [
        "\n",
        "no mbid -- empty string"
       ]
      },
      {
       "output_type": "stream",
       "stream": "stdout",
       "text": [
        "\n",
        "HTTP GET: http://ws.audioscrobbler.com/2.0/?method=track.getSimilar&api_key=27caacb0c5a55b33e72f02fabfb6ebf7&artist=Selena+Gomez&track=Come+&+Get+It&format=json&limit=10\n",
        "HTTP GET: http://ws.audioscrobbler.com/2.0/?method=track.getSimilar&api_key=27caacb0c5a55b33e72f02fabfb6ebf7&artist=RuPaul&track=Supermodel+%28You+Better+Work%29&format=json&limit=10"
       ]
      },
      {
       "output_type": "stream",
       "stream": "stdout",
       "text": [
        "\n",
        "no mbid -- empty string"
       ]
      },
      {
       "output_type": "stream",
       "stream": "stdout",
       "text": [
        "\n",
        "no mbid -- empty string\n",
        "HTTP GET: http://ws.audioscrobbler.com/2.0/?method=track.getSimilar&api_key=27caacb0c5a55b33e72f02fabfb6ebf7&artist=Robyn&track=Call+Your+Girlfriend&format=json&limit=10\n",
        "HTTP GET: http://ws.audioscrobbler.com/2.0/?method=track.getSimilar&api_key=27caacb0c5a55b33e72f02fabfb6ebf7&artist=Nelly+Furtado&track=Say+It+Right&format=json&limit=10"
       ]
      },
      {
       "output_type": "stream",
       "stream": "stdout",
       "text": [
        "\n",
        "HTTP GET: http://ws.audioscrobbler.com/2.0/?method=track.getSimilar&api_key=27caacb0c5a55b33e72f02fabfb6ebf7&artist=Girls+Aloud&track=Something+New&format=json&limit=10"
       ]
      },
      {
       "output_type": "stream",
       "stream": "stdout",
       "text": [
        "\n",
        "HTTP GET: http://ws.audioscrobbler.com/2.0/?method=track.getSimilar&api_key=27caacb0c5a55b33e72f02fabfb6ebf7&artist=RuPaul&track=Jealous+Of+My+Boogie&format=json&limit=10"
       ]
      },
      {
       "output_type": "stream",
       "stream": "stdout",
       "text": [
        "\n",
        "no mbid -- empty string"
       ]
      },
      {
       "output_type": "stream",
       "stream": "stdout",
       "text": [
        "\n",
        "HTTP GET: http://ws.audioscrobbler.com/2.0/?method=track.getSimilar&api_key=27caacb0c5a55b33e72f02fabfb6ebf7&artist=Blondie&track=Maria&format=json&limit=10\n",
        "HTTP GET: http://ws.audioscrobbler.com/2.0/?method=track.getSimilar&api_key=27caacb0c5a55b33e72f02fabfb6ebf7&artist=Shakira&track=Empire&format=json&limit=10"
       ]
      },
      {
       "output_type": "stream",
       "stream": "stdout",
       "text": [
        "\n",
        "no mbid -- empty string"
       ]
      },
      {
       "output_type": "stream",
       "stream": "stdout",
       "text": [
        "\n",
        "no mbid -- empty string\n",
        "no mbid -- empty string\n",
        "HTTP GET: http://ws.audioscrobbler.com/2.0/?method=track.getSimilar&api_key=27caacb0c5a55b33e72f02fabfb6ebf7&artist=Nicole+Scherzinger&track=Don%27t+Hold+Your+Breath&format=json&limit=10\n",
        "no mbid -- empty string"
       ]
      },
      {
       "output_type": "stream",
       "stream": "stdout",
       "text": [
        "\n",
        "HTTP GET: http://ws.audioscrobbler.com/2.0/?method=track.getSimilar&api_key=27caacb0c5a55b33e72f02fabfb6ebf7&artist=M+People&track=Moving+on+Up&format=json&limit=10\n",
        "HTTP GET: http://ws.audioscrobbler.com/2.0/?method=track.getSimilar&api_key=27caacb0c5a55b33e72f02fabfb6ebf7&artist=Anastacia&track=I%27m+Outta+Love&format=json&limit=10"
       ]
      },
      {
       "output_type": "stream",
       "stream": "stdout",
       "text": [
        "\n",
        "HTTP GET: http://ws.audioscrobbler.com/2.0/?method=track.getSimilar&api_key=27caacb0c5a55b33e72f02fabfb6ebf7&artist=Nicki+Minaj&track=Va+Va+Voom&format=json&limit=10"
       ]
      },
      {
       "output_type": "stream",
       "stream": "stdout",
       "text": [
        "\n",
        "HTTP GET: http://ws.audioscrobbler.com/2.0/?method=track.getSimilar&api_key=27caacb0c5a55b33e72f02fabfb6ebf7&artist=Janet+Jackson&track=All+for+You&format=json&limit=10"
       ]
      },
      {
       "output_type": "stream",
       "stream": "stdout",
       "text": [
        "\n",
        "no mbid -- empty string"
       ]
      },
      {
       "output_type": "stream",
       "stream": "stdout",
       "text": [
        "\n",
        "HTTP GET: http://ws.audioscrobbler.com/2.0/?method=track.getSimilar&api_key=27caacb0c5a55b33e72f02fabfb6ebf7&artist=Nelly+Furtado&track=I%27m+Like+a+Bird&format=json&limit=10\n",
        "HTTP GET: http://ws.audioscrobbler.com/2.0/?method=track.getSimilar&api_key=27caacb0c5a55b33e72f02fabfb6ebf7&artist=Cyndi+Lauper&track=True+Colors&format=json&limit=10"
       ]
      },
      {
       "output_type": "stream",
       "stream": "stdout",
       "text": [
        "\n",
        "HTTP GET: http://ws.audioscrobbler.com/2.0/?method=track.getSimilar&api_key=27caacb0c5a55b33e72f02fabfb6ebf7&artist=Nicole+Scherzinger&track=Poison&format=json&limit=10"
       ]
      },
      {
       "output_type": "stream",
       "stream": "stdout",
       "text": [
        "\n",
        "no mbid -- empty string"
       ]
      },
      {
       "output_type": "stream",
       "stream": "stdout",
       "text": [
        "\n",
        "HTTP GET: http://ws.audioscrobbler.com/2.0/?method=track.getSimilar&api_key=27caacb0c5a55b33e72f02fabfb6ebf7&artist=Cheryl+Cole&track=Call+My+Name&format=json&limit=10\n",
        "HTTP GET: http://ws.audioscrobbler.com/2.0/?method=track.getSimilar&api_key=27caacb0c5a55b33e72f02fabfb6ebf7&artist=Miley+Cyrus&track=Someone+Else&format=json&limit=10"
       ]
      },
      {
       "output_type": "stream",
       "stream": "stdout",
       "text": [
        "\n",
        "no mbid -- empty string"
       ]
      },
      {
       "output_type": "stream",
       "stream": "stdout",
       "text": [
        "\n",
        "no mbid -- empty string\n",
        "HTTP GET: http://ws.audioscrobbler.com/2.0/?method=track.getSimilar&api_key=27caacb0c5a55b33e72f02fabfb6ebf7&artist=Laura+Branigan&track=Self+Control&format=json&limit=10\n",
        "HTTP GET: http://ws.audioscrobbler.com/2.0/?method=track.getSimilar&api_key=27caacb0c5a55b33e72f02fabfb6ebf7&artist=Paula+Abdul&track=Vibeology&format=json&limit=10"
       ]
      },
      {
       "output_type": "stream",
       "stream": "stdout",
       "text": [
        "\n",
        "HTTP GET: http://ws.audioscrobbler.com/2.0/?method=track.getSimilar&api_key=27caacb0c5a55b33e72f02fabfb6ebf7&artist=Cascada&track=Everytime+We+Touch&format=json&limit=10"
       ]
      },
      {
       "output_type": "stream",
       "stream": "stdout",
       "text": [
        "\n",
        "no mbid -- empty string"
       ]
      },
      {
       "output_type": "stream",
       "stream": "stdout",
       "text": [
        "\n",
        "HTTP GET: http://ws.audioscrobbler.com/2.0/?method=track.getSimilar&api_key=27caacb0c5a55b33e72f02fabfb6ebf7&artist=Aqua&track=Turn+Back+Time&format=json&limit=10\n",
        "HTTP GET: http://ws.audioscrobbler.com/2.0/?method=track.getSimilar&api_key=27caacb0c5a55b33e72f02fabfb6ebf7&artist=Michael+Jackson&track=Black+or+White&format=json&limit=10"
       ]
      },
      {
       "output_type": "stream",
       "stream": "stdout",
       "text": [
        "\n",
        "no mbid -- empty string"
       ]
      },
      {
       "output_type": "stream",
       "stream": "stdout",
       "text": [
        "\n",
        "no mbid -- empty string\n",
        "HTTP GET: http://ws.audioscrobbler.com/2.0/?method=track.getSimilar&api_key=27caacb0c5a55b33e72f02fabfb6ebf7&artist=Miley+Cyrus&track=#GETITRIGHT&format=json&limit=10\n"
       ]
      },
      {
       "ename": "ValueError",
       "evalue": "No JSON object could be decoded",
       "output_type": "pyerr",
       "traceback": [
        "\u001b[0;31m---------------------------------------------------------------------------\u001b[0m\n\u001b[0;31mValueError\u001b[0m                                Traceback (most recent call last)",
        "\u001b[0;32m<ipython-input-200-995a7276f368>\u001b[0m in \u001b[0;36m<module>\u001b[0;34m()\u001b[0m\n\u001b[1;32m      5\u001b[0m         \u001b[0mthis_track_name\u001b[0m \u001b[0;34m=\u001b[0m \u001b[0mtrack\u001b[0m\u001b[0;34m[\u001b[0m\u001b[0;34m'name'\u001b[0m\u001b[0;34m]\u001b[0m\u001b[0;34m\u001b[0m\u001b[0m\n\u001b[1;32m      6\u001b[0m         \u001b[0mthis_mbid\u001b[0m \u001b[0;34m=\u001b[0m \u001b[0mtrack\u001b[0m\u001b[0;34m[\u001b[0m\u001b[0;34m'mbid'\u001b[0m\u001b[0;34m]\u001b[0m\u001b[0;34m\u001b[0m\u001b[0m\n\u001b[0;32m----> 7\u001b[0;31m         \u001b[0md_getSimilarTracks_thisTrack\u001b[0m \u001b[0;34m=\u001b[0m \u001b[0mgetSimilarTracks\u001b[0m\u001b[0;34m(\u001b[0m\u001b[0mthis_artist\u001b[0m\u001b[0;34m,\u001b[0m\u001b[0mthis_track_name\u001b[0m\u001b[0;34m,\u001b[0m \u001b[0mAPI_KEY\u001b[0m\u001b[0;34m,\u001b[0m \u001b[0mlimit\u001b[0m\u001b[0;34m=\u001b[0m\u001b[0;36m10\u001b[0m\u001b[0;34m)\u001b[0m \u001b[0;31m#use API to get similar tracks to this track\u001b[0m\u001b[0;34m\u001b[0m\u001b[0m\n\u001b[0m\u001b[1;32m      8\u001b[0m \u001b[0;34m\u001b[0m\u001b[0m\n\u001b[1;32m      9\u001b[0m         \u001b[0;32mif\u001b[0m \u001b[0mtype\u001b[0m\u001b[0;34m(\u001b[0m\u001b[0md_getSimilarTracks_thisTrack\u001b[0m\u001b[0;34m[\u001b[0m\u001b[0;34m'similartracks'\u001b[0m\u001b[0;34m]\u001b[0m\u001b[0;34m[\u001b[0m\u001b[0;34m'track'\u001b[0m\u001b[0;34m]\u001b[0m\u001b[0;34m)\u001b[0m \u001b[0;34m==\u001b[0m \u001b[0mlist\u001b[0m\u001b[0;34m:\u001b[0m\u001b[0;34m\u001b[0m\u001b[0m\n",
        "\u001b[0;32m<ipython-input-182-2d2232e01682>\u001b[0m in \u001b[0;36mgetSimilarTracks\u001b[0;34m(artist, songtitle, api_key, mbid, autocorrect, limit)\u001b[0m\n\u001b[1;32m     40\u001b[0m         \u001b[0mresponse\u001b[0m \u001b[0;34m=\u001b[0m \u001b[0murllib2\u001b[0m\u001b[0;34m.\u001b[0m\u001b[0murlopen\u001b[0m\u001b[0;34m(\u001b[0m\u001b[0mrequest_url\u001b[0m\u001b[0;34m,\u001b[0m \u001b[0mtimeout\u001b[0m\u001b[0;34m=\u001b[0m\u001b[0;36m200\u001b[0m\u001b[0;34m)\u001b[0m\u001b[0;34m\u001b[0m\u001b[0m\n\u001b[1;32m     41\u001b[0m         \u001b[0mresponse_json\u001b[0m \u001b[0;34m=\u001b[0m \u001b[0mresponse\u001b[0m\u001b[0;34m.\u001b[0m\u001b[0mread\u001b[0m\u001b[0;34m(\u001b[0m\u001b[0;34m)\u001b[0m\u001b[0;34m\u001b[0m\u001b[0m\n\u001b[0;32m---> 42\u001b[0;31m         \u001b[0mresponse_dict\u001b[0m \u001b[0;34m=\u001b[0m \u001b[0mjson\u001b[0m\u001b[0;34m.\u001b[0m\u001b[0mloads\u001b[0m\u001b[0;34m(\u001b[0m\u001b[0mresponse_json\u001b[0m\u001b[0;34m)\u001b[0m\u001b[0;34m\u001b[0m\u001b[0m\n\u001b[0m\u001b[1;32m     43\u001b[0m         \u001b[0;32mreturn\u001b[0m \u001b[0mresponse_dict\u001b[0m\u001b[0;34m\u001b[0m\u001b[0m\n",
        "\u001b[0;32m/Applications/Canopy.app/appdata/canopy-1.4.1.1975.macosx-x86_64/Canopy.app/Contents/lib/python2.7/json/__init__.pyc\u001b[0m in \u001b[0;36mloads\u001b[0;34m(s, encoding, cls, object_hook, parse_float, parse_int, parse_constant, object_pairs_hook, **kw)\u001b[0m\n\u001b[1;32m    336\u001b[0m             \u001b[0mparse_int\u001b[0m \u001b[0;32mis\u001b[0m \u001b[0mNone\u001b[0m \u001b[0;32mand\u001b[0m \u001b[0mparse_float\u001b[0m \u001b[0;32mis\u001b[0m \u001b[0mNone\u001b[0m \u001b[0;32mand\u001b[0m\u001b[0;34m\u001b[0m\u001b[0m\n\u001b[1;32m    337\u001b[0m             parse_constant is None and object_pairs_hook is None and not kw):\n\u001b[0;32m--> 338\u001b[0;31m         \u001b[0;32mreturn\u001b[0m \u001b[0m_default_decoder\u001b[0m\u001b[0;34m.\u001b[0m\u001b[0mdecode\u001b[0m\u001b[0;34m(\u001b[0m\u001b[0ms\u001b[0m\u001b[0;34m)\u001b[0m\u001b[0;34m\u001b[0m\u001b[0m\n\u001b[0m\u001b[1;32m    339\u001b[0m     \u001b[0;32mif\u001b[0m \u001b[0mcls\u001b[0m \u001b[0;32mis\u001b[0m \u001b[0mNone\u001b[0m\u001b[0;34m:\u001b[0m\u001b[0;34m\u001b[0m\u001b[0m\n\u001b[1;32m    340\u001b[0m         \u001b[0mcls\u001b[0m \u001b[0;34m=\u001b[0m \u001b[0mJSONDecoder\u001b[0m\u001b[0;34m\u001b[0m\u001b[0m\n",
        "\u001b[0;32m/Applications/Canopy.app/appdata/canopy-1.4.1.1975.macosx-x86_64/Canopy.app/Contents/lib/python2.7/json/decoder.pyc\u001b[0m in \u001b[0;36mdecode\u001b[0;34m(self, s, _w)\u001b[0m\n\u001b[1;32m    363\u001b[0m \u001b[0;34m\u001b[0m\u001b[0m\n\u001b[1;32m    364\u001b[0m         \"\"\"\n\u001b[0;32m--> 365\u001b[0;31m         \u001b[0mobj\u001b[0m\u001b[0;34m,\u001b[0m \u001b[0mend\u001b[0m \u001b[0;34m=\u001b[0m \u001b[0mself\u001b[0m\u001b[0;34m.\u001b[0m\u001b[0mraw_decode\u001b[0m\u001b[0;34m(\u001b[0m\u001b[0ms\u001b[0m\u001b[0;34m,\u001b[0m \u001b[0midx\u001b[0m\u001b[0;34m=\u001b[0m\u001b[0m_w\u001b[0m\u001b[0;34m(\u001b[0m\u001b[0ms\u001b[0m\u001b[0;34m,\u001b[0m \u001b[0;36m0\u001b[0m\u001b[0;34m)\u001b[0m\u001b[0;34m.\u001b[0m\u001b[0mend\u001b[0m\u001b[0;34m(\u001b[0m\u001b[0;34m)\u001b[0m\u001b[0;34m)\u001b[0m\u001b[0;34m\u001b[0m\u001b[0m\n\u001b[0m\u001b[1;32m    366\u001b[0m         \u001b[0mend\u001b[0m \u001b[0;34m=\u001b[0m \u001b[0m_w\u001b[0m\u001b[0;34m(\u001b[0m\u001b[0ms\u001b[0m\u001b[0;34m,\u001b[0m \u001b[0mend\u001b[0m\u001b[0;34m)\u001b[0m\u001b[0;34m.\u001b[0m\u001b[0mend\u001b[0m\u001b[0;34m(\u001b[0m\u001b[0;34m)\u001b[0m\u001b[0;34m\u001b[0m\u001b[0m\n\u001b[1;32m    367\u001b[0m         \u001b[0;32mif\u001b[0m \u001b[0mend\u001b[0m \u001b[0;34m!=\u001b[0m \u001b[0mlen\u001b[0m\u001b[0;34m(\u001b[0m\u001b[0ms\u001b[0m\u001b[0;34m)\u001b[0m\u001b[0;34m:\u001b[0m\u001b[0;34m\u001b[0m\u001b[0m\n",
        "\u001b[0;32m/Applications/Canopy.app/appdata/canopy-1.4.1.1975.macosx-x86_64/Canopy.app/Contents/lib/python2.7/json/decoder.pyc\u001b[0m in \u001b[0;36mraw_decode\u001b[0;34m(self, s, idx)\u001b[0m\n\u001b[1;32m    381\u001b[0m             \u001b[0mobj\u001b[0m\u001b[0;34m,\u001b[0m \u001b[0mend\u001b[0m \u001b[0;34m=\u001b[0m \u001b[0mself\u001b[0m\u001b[0;34m.\u001b[0m\u001b[0mscan_once\u001b[0m\u001b[0;34m(\u001b[0m\u001b[0ms\u001b[0m\u001b[0;34m,\u001b[0m \u001b[0midx\u001b[0m\u001b[0;34m)\u001b[0m\u001b[0;34m\u001b[0m\u001b[0m\n\u001b[1;32m    382\u001b[0m         \u001b[0;32mexcept\u001b[0m \u001b[0mStopIteration\u001b[0m\u001b[0;34m:\u001b[0m\u001b[0;34m\u001b[0m\u001b[0m\n\u001b[0;32m--> 383\u001b[0;31m             \u001b[0;32mraise\u001b[0m \u001b[0mValueError\u001b[0m\u001b[0;34m(\u001b[0m\u001b[0;34m\"No JSON object could be decoded\"\u001b[0m\u001b[0;34m)\u001b[0m\u001b[0;34m\u001b[0m\u001b[0m\n\u001b[0m\u001b[1;32m    384\u001b[0m         \u001b[0;32mreturn\u001b[0m \u001b[0mobj\u001b[0m\u001b[0;34m,\u001b[0m \u001b[0mend\u001b[0m\u001b[0;34m\u001b[0m\u001b[0m\n",
        "\u001b[0;31mValueError\u001b[0m: No JSON object could be decoded"
       ]
      }
     ],
     "prompt_number": 200
    },
    {
     "cell_type": "code",
     "collapsed": false,
     "input": [
      "t_10mostSimilarTracks_toOriginalSimilars"
     ],
     "language": "python",
     "metadata": {},
     "outputs": [
      {
       "metadata": {},
       "output_type": "pyout",
       "prompt_number": 201,
       "text": [
        "((u'2527625b-0752-48f3-95fd-c3f216686db8',\n",
        "  [u'a88735e6-b35c-4379-8ef7-bbd2b793ccf4',\n",
        "   u'13194c93-89c6-4ab4-aaf2-15db5d73b74e',\n",
        "   u'1111fd1f-7868-40a5-9dec-15dcd9b175a3',\n",
        "   u'31a6b752-291c-456f-ade5-f4b85545e6df',\n",
        "   u'a3fa6ee1-598d-4f06-a89d-ee2660eaeef3',\n",
        "   u'd48db0f4-fab6-4d18-bc1f-aec43772af96',\n",
        "   u'4988f79d-2945-471d-b238-79f04949ed34',\n",
        "   u'35143c2f-0484-44e2-bf27-7baa7ca5e135',\n",
        "   u'ba9dbfff-f193-43b8-b1ab-7c5ad426ab14',\n",
        "   u'10b9d8d4-2205-47b8-ad51-87bb214cff25']),\n",
        " (u'a88735e6-b35c-4379-8ef7-bbd2b793ccf4',\n",
        "  [u'2527625b-0752-48f3-95fd-c3f216686db8',\n",
        "   u'379f760d-1f29-4317-ab04-06a8218a874d',\n",
        "   u'17e5415a-4448-48b7-a8aa-93f1f7bf5af2',\n",
        "   u'a3d01483-2aef-4d74-8f82-9d50242dede0',\n",
        "   u'78683dde-8e91-4634-92f1-6f4d1ae50e37',\n",
        "   u'1f41baad-817c-4e8d-81ea-9baae2589678',\n",
        "   u'd48db0f4-fab6-4d18-bc1f-aec43772af96',\n",
        "   u'35966105-5196-460a-b58f-865c3f3d36b8',\n",
        "   u'bd59fce3-fdd1-4212-b26f-dbcfedd66c57',\n",
        "   u'5fa29b31-c159-43f4-83a3-5862f6e45dc6']),\n",
        " (u'f7048ce4-6368-4087-9204-62d90480f708',\n",
        "  [u'78683dde-8e91-4634-92f1-6f4d1ae50e37',\n",
        "   u'a3fa6ee1-598d-4f06-a89d-ee2660eaeef3',\n",
        "   u'31a6b752-291c-456f-ade5-f4b85545e6df',\n",
        "   u'd452127a-e5ed-4b58-97db-54a2426b7e45',\n",
        "   u'05b95428-108d-4ec9-a8cd-5b6a70c35cda',\n",
        "   u'09e07c50-04ed-4f7e-b1bc-bad22d316ebe',\n",
        "   u'7d9f69b7-81e7-4b42-ac24-ee58028740c8',\n",
        "   u'00b0f9ec-6bff-449e-98ea-50ac5129f215',\n",
        "   u'13194c93-89c6-4ab4-aaf2-15db5d73b74e',\n",
        "   u'575d4e21-9d41-43e3-a001-1df583de26fa']),\n",
        " (u'31a6b752-291c-456f-ade5-f4b85545e6df',\n",
        "  [u'd452127a-e5ed-4b58-97db-54a2426b7e45',\n",
        "   u'82822f34-826d-4316-a8f0-d48a96067009',\n",
        "   u'f7048ce4-6368-4087-9204-62d90480f708',\n",
        "   u'09e07c50-04ed-4f7e-b1bc-bad22d316ebe',\n",
        "   u'4988f79d-2945-471d-b238-79f04949ed34',\n",
        "   u'05b95428-108d-4ec9-a8cd-5b6a70c35cda',\n",
        "   u'bd59fce3-fdd1-4212-b26f-dbcfedd66c57',\n",
        "   u'26918716-9365-4f4a-991f-241ffc350628',\n",
        "   u'7d9f69b7-81e7-4b42-ac24-ee58028740c8',\n",
        "   u'35143c2f-0484-44e2-bf27-7baa7ca5e135']),\n",
        " (u'1111fd1f-7868-40a5-9dec-15dcd9b175a3',\n",
        "  [u'1f41baad-817c-4e8d-81ea-9baae2589678',\n",
        "   u'1757d48d-1979-4e2d-a373-24405c5431c3',\n",
        "   u'05b95428-108d-4ec9-a8cd-5b6a70c35cda',\n",
        "   u'f90fa723-9d8f-4260-9e03-34778e0ea7d1',\n",
        "   u'09e07c50-04ed-4f7e-b1bc-bad22d316ebe',\n",
        "   u'4988f79d-2945-471d-b238-79f04949ed34',\n",
        "   u'f7048ce4-6368-4087-9204-62d90480f708',\n",
        "   u'307e8e3a-1910-4ccd-a25e-38f14ff750cf',\n",
        "   u'35143c2f-0484-44e2-bf27-7baa7ca5e135',\n",
        "   u'7d9f69b7-81e7-4b42-ac24-ee58028740c8']),\n",
        " (u'4988f79d-2945-471d-b238-79f04949ed34',\n",
        "  [u'f6ffb3eb-140e-45f5-b69b-44620e624da3',\n",
        "   u'1ba71ace-1957-4f6c-a8eb-82834418cb76',\n",
        "   u'dd0e6c05-2af1-4d8a-9262-2d227e25497d',\n",
        "   u'35143c2f-0484-44e2-bf27-7baa7ca5e135',\n",
        "   u'd452127a-e5ed-4b58-97db-54a2426b7e45',\n",
        "   u'8b2d135d-2f37-4a1c-8795-35ec075be68f',\n",
        "   u'617dfc80-eb78-4f54-bdc2-39412dacd7b3',\n",
        "   u'17410183-d250-49c9-8be1-04d26fa4c71d',\n",
        "   u'bd59fce3-fdd1-4212-b26f-dbcfedd66c57',\n",
        "   u'7d9f69b7-81e7-4b42-ac24-ee58028740c8']),\n",
        " (u'd48db0f4-fab6-4d18-bc1f-aec43772af96',\n",
        "  [u'bb9401f9-41b1-4a5d-9b8c-b2ae039c09fe',\n",
        "   u'bbc597dd-dc54-4187-ab2e-9a72f046f0fd',\n",
        "   u'66ddd018-4bc6-4940-b38b-7dafe8e45090',\n",
        "   u'a3fa6ee1-598d-4f06-a89d-ee2660eaeef3',\n",
        "   u'03659fc1-e2b6-407c-8f90-8854fbfe82c7',\n",
        "   u'13194c93-89c6-4ab4-aaf2-15db5d73b74e',\n",
        "   u'35143c2f-0484-44e2-bf27-7baa7ca5e135',\n",
        "   u'216b0d95-63eb-4b85-b229-386c81d2434c',\n",
        "   u'2a3e8a48-e484-4f7b-83c7-c221b45c1d76',\n",
        "   u'09e07c50-04ed-4f7e-b1bc-bad22d316ebe']),\n",
        " (u'bd59fce3-fdd1-4212-b26f-dbcfedd66c57',\n",
        "  [u'26918716-9365-4f4a-991f-241ffc350628',\n",
        "   u'da40ede7-cacb-40ca-8873-fe8bb7eba844',\n",
        "   u'35143c2f-0484-44e2-bf27-7baa7ca5e135',\n",
        "   u'617dfc80-eb78-4f54-bdc2-39412dacd7b3',\n",
        "   u'7e561bc2-21ae-45d1-805e-ffc7f9371691',\n",
        "   u'0ddf2623-3285-48b7-b9a1-f6b1ed01ee65',\n",
        "   u'24788d77-9950-450f-a6f8-4e3b9da220d4',\n",
        "   u'c1ae327a-083b-40eb-b823-81feacf1564d',\n",
        "   u'dd0e6c05-2af1-4d8a-9262-2d227e25497d']),\n",
        " (u'5aa0d7aa-a9ed-4063-b978-18e089861d60',\n",
        "  [u'fbe1d07d-e1de-4163-83bc-8ad80dce65bc',\n",
        "   u'4c0f35d4-b53c-4334-b973-43ac9299e6b0',\n",
        "   u'0ec4e51b-a944-4a85-be1b-7e49f52a360a',\n",
        "   u'15d5edc1-3a20-4b2c-912b-e69dd8f6355d',\n",
        "   u'e014c0d8-ef43-4a74-bb8b-ee5b0e67749d',\n",
        "   u'170e61f3-0665-4740-98f9-e5d3f21bd07e',\n",
        "   u'81cde6ab-8251-4e41-bd7a-a04b72ca36be',\n",
        "   u'208e92ab-42f0-44b3-8c03-5872944ce891',\n",
        "   u'7ac31983-e60a-4bcc-9e19-71e3b1362ce6',\n",
        "   u'07738b53-f361-40b8-8b5e-6bd96feafc06']),\n",
        " (u'35143c2f-0484-44e2-bf27-7baa7ca5e135',\n",
        "  [u'102519c2-d076-4aee-8189-c44b32e62da7',\n",
        "   u'0d286b5c-1745-4606-8e27-a7ad851a68bb',\n",
        "   u'f90fa723-9d8f-4260-9e03-34778e0ea7d1',\n",
        "   u'617dfc80-eb78-4f54-bdc2-39412dacd7b3',\n",
        "   u'8587d745-92a6-4882-b3c3-0f7308ac627a',\n",
        "   u'1fe9cded-3b48-48d4-bfc4-b07c269c63a1',\n",
        "   u'24788d77-9950-450f-a6f8-4e3b9da220d4',\n",
        "   u'c1ae327a-083b-40eb-b823-81feacf1564d']),\n",
        " (u'080975b0-39b1-493c-ae64-5cb3292409bb',\n",
        "  [u'0e3fd2b1-f79c-439f-9da1-a605032c2dce',\n",
        "   u'09e07c50-04ed-4f7e-b1bc-bad22d316ebe',\n",
        "   u'35143c2f-0484-44e2-bf27-7baa7ca5e135',\n",
        "   u'0683d2e8-b431-45b7-9778-7e41f30e5263',\n",
        "   u'a6ed5358-6ad7-422e-9be6-dbc49a02586c',\n",
        "   u'2a924daa-b652-4296-8e37-c0353fc2c4f6',\n",
        "   u'c1fd17a9-2900-4f45-812c-4a90fcc0a61c',\n",
        "   u'1599ed89-3ecd-44b2-ba42-0765b78beeb8',\n",
        "   u'dd0e6c05-2af1-4d8a-9262-2d227e25497d']),\n",
        " (u'7e6e701c-4fdb-4fdb-9b3d-3fd00005cf68',\n",
        "  [u'7a0bce9a-11c7-49cd-807c-a5c406fa8265',\n",
        "   u'b9bcf11e-c624-44b9-9fb5-a9d61c566ad4',\n",
        "   u'0062af2d-3932-4b11-a61f-b582ef791aef',\n",
        "   u'710f21dc-4237-4459-90fd-b117a71d347f',\n",
        "   u'f43ef43d-b2ca-46a5-83ed-8efadefc3532',\n",
        "   u'4f90ae6c-e7d3-4778-88d0-aaea79718c3e',\n",
        "   u'01ea95f9-0747-466e-a0ee-637826e2e96d',\n",
        "   u'e5cab197-1faf-4b36-a4b6-3ef8f7324e92',\n",
        "   u'eb718752-c993-4402-9cd5-ae3303037477',\n",
        "   u'd4629513-bc4d-4c86-96e1-f7fc5c281520']),\n",
        " (u'17410183-d250-49c9-8be1-04d26fa4c71d',\n",
        "  [u'5e20c9ed-4d14-46c6-b30b-8076c4f0e678',\n",
        "   u'35143c2f-0484-44e2-bf27-7baa7ca5e135',\n",
        "   u'617dfc80-eb78-4f54-bdc2-39412dacd7b3',\n",
        "   u'dd0e6c05-2af1-4d8a-9262-2d227e25497d',\n",
        "   u'bd59fce3-fdd1-4212-b26f-dbcfedd66c57',\n",
        "   u'f90fa723-9d8f-4260-9e03-34778e0ea7d1',\n",
        "   u'8b2d135d-2f37-4a1c-8795-35ec075be68f',\n",
        "   u'8587d745-92a6-4882-b3c3-0f7308ac627a']),\n",
        " (u'030c5163-88d9-4e9f-babb-59aa3d9db620',\n",
        "  [u'0ae68f2d-9d3b-4df8-b98a-0fece5d11762',\n",
        "   u'434db322-10b4-467a-897b-807c75ccb562',\n",
        "   u'2a3e8a48-e484-4f7b-83c7-c221b45c1d76',\n",
        "   u'35143c2f-0484-44e2-bf27-7baa7ca5e135',\n",
        "   u'31990f0e-a62b-4577-ae31-21af514a5da0',\n",
        "   u'7d9f69b7-81e7-4b42-ac24-ee58028740c8',\n",
        "   u'8b2d135d-2f37-4a1c-8795-35ec075be68f',\n",
        "   u'575d4e21-9d41-43e3-a001-1df583de26fa']),\n",
        " (u'05b95428-108d-4ec9-a8cd-5b6a70c35cda',\n",
        "  [u'434db322-10b4-467a-897b-807c75ccb562',\n",
        "   u'818a15b4-4273-45af-a45a-a3aa0fce12a8',\n",
        "   u'7d9f69b7-81e7-4b42-ac24-ee58028740c8',\n",
        "   u'35143c2f-0484-44e2-bf27-7baa7ca5e135',\n",
        "   u'bd59fce3-fdd1-4212-b26f-dbcfedd66c57',\n",
        "   u'dd0e6c05-2af1-4d8a-9262-2d227e25497d',\n",
        "   u'080975b0-39b1-493c-ae64-5cb3292409bb',\n",
        "   u'8b2d135d-2f37-4a1c-8795-35ec075be68f']),\n",
        " (u'4f90ae6c-e7d3-4778-88d0-aaea79718c3e',\n",
        "  [u'de9a5376-a45b-4255-8e82-031ce6728e87',\n",
        "   u'2ff57d87-e97e-4c98-949c-ad44eaf04c3a',\n",
        "   u'7e6e701c-4fdb-4fdb-9b3d-3fd00005cf68',\n",
        "   u'05b95428-108d-4ec9-a8cd-5b6a70c35cda',\n",
        "   u'030c5163-88d9-4e9f-babb-59aa3d9db620',\n",
        "   u'2a3e8a48-e484-4f7b-83c7-c221b45c1d76',\n",
        "   u'07a16134-927e-49b5-a0fc-0e751a6824dc',\n",
        "   u'aa983bff-fbd1-4761-9c39-b1dbf16d156c',\n",
        "   u'8a3b2b5e-af88-4ae7-9a59-7f3d0f84ffaa',\n",
        "   u'539167ba-a704-4908-b25c-d07918294598']),\n",
        " (u'7d9f69b7-81e7-4b42-ac24-ee58028740c8',\n",
        "  [u'5fa29b31-c159-43f4-83a3-5862f6e45dc6',\n",
        "   u'184cc1e2-debf-43bb-9d50-5c058e5d22ee',\n",
        "   u'09e07c50-04ed-4f7e-b1bc-bad22d316ebe',\n",
        "   u'617dfc80-eb78-4f54-bdc2-39412dacd7b3',\n",
        "   u'dd0e6c05-2af1-4d8a-9262-2d227e25497d',\n",
        "   u'35143c2f-0484-44e2-bf27-7baa7ca5e135',\n",
        "   u'bd59fce3-fdd1-4212-b26f-dbcfedd66c57',\n",
        "   u'307e8e3a-1910-4ccd-a25e-38f14ff750cf',\n",
        "   u'89268d32-efd6-44c4-88e5-ba4c4db55103',\n",
        "   u'6833643a-b2cd-4685-bc0f-e4d713750bf7']),\n",
        " (u'de9a5376-a45b-4255-8e82-031ce6728e87',\n",
        "  [u'8bf43939-e0a4-4de5-ac45-7482e1ffd6d1',\n",
        "   u'219ab499-9531-4d94-b60e-62e2dcb80d8d',\n",
        "   u'f62b6ad9-c0b1-42e5-bc8b-83be67d66789',\n",
        "   u'0836ad5c-0cd8-4928-aefa-2175a5909c89',\n",
        "   u'13d21923-f9da-4015-bb75-29839cd2b2a4',\n",
        "   u'bb9401f9-41b1-4a5d-9b8c-b2ae039c09fe',\n",
        "   u'aa40227e-c877-408d-b0b7-8e0a48db687b',\n",
        "   u'030c5163-88d9-4e9f-babb-59aa3d9db620',\n",
        "   u'16a45c0e-9bb9-4161-8d03-45dc3ffdb459',\n",
        "   u'2a3e8a48-e484-4f7b-83c7-c221b45c1d76']),\n",
        " (u'710f21dc-4237-4459-90fd-b117a71d347f',\n",
        "  [u'60535489-7d75-4686-a578-a42ca0cd1e49',\n",
        "   u'3c62fa98-904b-46b1-a392-a632c2bfd658',\n",
        "   u'01ea95f9-0747-466e-a0ee-637826e2e96d',\n",
        "   u'f43ef43d-b2ca-46a5-83ed-8efadefc3532',\n",
        "   u'59d2b01d-7a62-47eb-85c0-6a311159b126',\n",
        "   u'7e6e701c-4fdb-4fdb-9b3d-3fd00005cf68',\n",
        "   u'37802ece-2b2a-4042-a0a6-1b882be6cf7a',\n",
        "   u'd4629513-bc4d-4c86-96e1-f7fc5c281520',\n",
        "   u'eb718752-c993-4402-9cd5-ae3303037477',\n",
        "   u'7273ede7-d911-4847-b7e8-8b3b6807e515']),\n",
        " (u'bb9401f9-41b1-4a5d-9b8c-b2ae039c09fe',\n",
        "  [u'bbc597dd-dc54-4187-ab2e-9a72f046f0fd',\n",
        "   u'd48db0f4-fab6-4d18-bc1f-aec43772af96',\n",
        "   u'fbcb1038-6ae1-4f35-be9a-633def93da6d',\n",
        "   u'2a3e8a48-e484-4f7b-83c7-c221b45c1d76',\n",
        "   u'18f6362f-3d3c-47f3-8999-037b46e58105',\n",
        "   u'8a3b2b5e-af88-4ae7-9a59-7f3d0f84ffaa',\n",
        "   u'1e900597-9afc-4c9b-b861-396305743042',\n",
        "   u'1c644d50-a251-4b14-aa5a-09eb0501083b']),\n",
        " (u'60535489-7d75-4686-a578-a42ca0cd1e49',\n",
        "  [u'3c62fa98-904b-46b1-a392-a632c2bfd658',\n",
        "   u'710f21dc-4237-4459-90fd-b117a71d347f',\n",
        "   u'f43ef43d-b2ca-46a5-83ed-8efadefc3532',\n",
        "   u'7e6e701c-4fdb-4fdb-9b3d-3fd00005cf68',\n",
        "   u'ef9f3da1-970e-438c-9e1c-b84ed2ca51b4',\n",
        "   u'eb718752-c993-4402-9cd5-ae3303037477',\n",
        "   u'01ea95f9-0747-466e-a0ee-637826e2e96d',\n",
        "   u'37802ece-2b2a-4042-a0a6-1b882be6cf7a',\n",
        "   u'865a1edc-75b7-429a-aac2-30522fae80eb',\n",
        "   u'd4629513-bc4d-4c86-96e1-f7fc5c281520']),\n",
        " (u'c1fd17a9-2900-4f45-812c-4a90fcc0a61c',\n",
        "  [u'a6ed5358-6ad7-422e-9be6-dbc49a02586c',\n",
        "   u'22ae2174-d74b-465d-a7b0-427a41ecedcc',\n",
        "   u'35143c2f-0484-44e2-bf27-7baa7ca5e135',\n",
        "   u'bd59fce3-fdd1-4212-b26f-dbcfedd66c57',\n",
        "   u'ad8745e6-803c-428d-aafe-0979d3caa119',\n",
        "   u'0683d2e8-b431-45b7-9778-7e41f30e5263',\n",
        "   u'c36aa359-1fca-45da-bf1f-9cfaf706a4b2',\n",
        "   u'8b2d135d-2f37-4a1c-8795-35ec075be68f',\n",
        "   u'dd0e6c05-2af1-4d8a-9262-2d227e25497d']),\n",
        " (u'1408a530-838c-40da-a2f5-94f96a94ca3a',\n",
        "  [u'b68f5d07-5a02-4e43-b880-3a444a3b5561',\n",
        "   u'f430ab5e-3581-4b9c-995c-21f5044647a9',\n",
        "   u'038c4d4a-f5c1-47db-90c7-35b13514773a',\n",
        "   u'b718611e-0c9d-45f7-a16c-fe690cef9e90',\n",
        "   u'392567e3-c5a4-4d94-8f6c-a6a2551ded3e',\n",
        "   u'cbd13c67-ddff-4533-a995-49ed8acc4d91',\n",
        "   u'131323d7-a4b5-48c0-8eb4-ed43fdd0793b',\n",
        "   u'9bc1fd9e-0457-4983-bdc9-ea213d34487d',\n",
        "   u'c1a654ab-3e09-4060-8057-ae259b1d3fd4',\n",
        "   u'401145f5-3f73-40ba-8a49-ae4666bef611']),\n",
        " (u'44e38b7b-11b1-4ada-82e2-6583c947aa34',\n",
        "  [u'24f0414a-fb48-41ba-a32d-f8a498c6bb59',\n",
        "   u'6cbd2e2b-c869-43f2-93b3-1d3deb513196',\n",
        "   u'f7048ce4-6368-4087-9204-62d90480f708',\n",
        "   u'78683dde-8e91-4634-92f1-6f4d1ae50e37',\n",
        "   u'c7677cc2-9d61-4b8e-bfa4-43472f94acd5',\n",
        "   u'05800de6-c330-481c-9655-614f594d2ad1',\n",
        "   u'31a6b752-291c-456f-ade5-f4b85545e6df',\n",
        "   u'ba9dbfff-f193-43b8-b1ab-7c5ad426ab14',\n",
        "   u'd452127a-e5ed-4b58-97db-54a2426b7e45',\n",
        "   u'a65906cf-f469-410f-978b-bd532eaf21d6']),\n",
        " (u'03659fc1-e2b6-407c-8f90-8854fbfe82c7',\n",
        "  [u'7265976c-b461-4644-b84f-246f43a37db9',\n",
        "   u'4214801b-ff63-445a-b1ea-5e640c6a7cda',\n",
        "   u'd48db0f4-fab6-4d18-bc1f-aec43772af96',\n",
        "   u'6e4c8548-b7e4-4811-8720-abf576956ef8',\n",
        "   u'091d16b3-1326-4420-9e45-f8e196764eca',\n",
        "   u'ced408d9-b686-4aac-89f4-1e778cab0b48',\n",
        "   u'24b54cbb-e955-4861-8d6f-7b98d262c077',\n",
        "   u'bb9401f9-41b1-4a5d-9b8c-b2ae039c09fe',\n",
        "   u'5f8bb72f-6745-4a0e-8122-2d72fa5a392b',\n",
        "   u'9f00b0fb-2fa2-4712-84a2-c8a80ed6ed61']),\n",
        " (u'8b2d135d-2f37-4a1c-8795-35ec075be68f',\n",
        "  [u'35143c2f-0484-44e2-bf27-7baa7ca5e135',\n",
        "   u'0d286b5c-1745-4606-8e27-a7ad851a68bb',\n",
        "   u'575d4e21-9d41-43e3-a001-1df583de26fa',\n",
        "   u'6a9c0b3f-9a29-42c3-8270-7a68f0b58c61',\n",
        "   u'f90fa723-9d8f-4260-9e03-34778e0ea7d1',\n",
        "   u'8587d745-92a6-4882-b3c3-0f7308ac627a',\n",
        "   u'fe872d20-f73b-47f0-9c26-cc080e994582',\n",
        "   u'4fb07e4c-8a52-40e6-9529-bfb0af1e0643']),\n",
        " (u'3e5da524-7dc7-44b9-abbb-c1a0cad3a496',\n",
        "  [u'a837a6a6-e5b9-481f-b23f-95038f005020',\n",
        "   u'c0cb14be-fe7c-4a59-b684-31e6a670d0fd',\n",
        "   u'2a924daa-b652-4296-8e37-c0353fc2c4f6',\n",
        "   u'e5755e48-0a36-4428-a6db-04b5ed100a83',\n",
        "   u'202e1f87-172f-4bb0-bbee-06b18f125c92',\n",
        "   u'8b2d135d-2f37-4a1c-8795-35ec075be68f',\n",
        "   u'19233a62-c1d3-4af7-82ba-d2382d7e69f1',\n",
        "   u'ab8f4b6f-8ed7-4ee0-9fab-29611a8d49ac',\n",
        "   u'8587d745-92a6-4882-b3c3-0f7308ac627a',\n",
        "   u'4e67f9ac-8cf9-4427-938e-bad7bf33154f']),\n",
        " (u'2a924daa-b652-4296-8e37-c0353fc2c4f6',\n",
        "  [u'047c268d-fe5b-4aaf-a20b-d7ff32145100',\n",
        "   u'7eda7b08-2131-4785-8cdc-258167c905b5',\n",
        "   u'bd59fce3-fdd1-4212-b26f-dbcfedd66c57',\n",
        "   u'24788d77-9950-450f-a6f8-4e3b9da220d4',\n",
        "   u'8b2d135d-2f37-4a1c-8795-35ec075be68f',\n",
        "   u'e5755e48-0a36-4428-a6db-04b5ed100a83',\n",
        "   u'0d286b5c-1745-4606-8e27-a7ad851a68bb',\n",
        "   u'31990f0e-a62b-4577-ae31-21af514a5da0',\n",
        "   u'559d6bc0-003c-4aea-bb41-33206279b7aa',\n",
        "   u'202e1f87-172f-4bb0-bbee-06b18f125c92']),\n",
        " (u'00b0f9ec-6bff-449e-98ea-50ac5129f215',\n",
        "  [u'539167ba-a704-4908-b25c-d07918294598',\n",
        "   u'948ca642-cd6f-412c-b94b-1e6c0d6a8014',\n",
        "   u'050fcaa2-b384-4bda-9279-96e89e5fffb7',\n",
        "   u'16e8d60b-44c2-46e7-afec-ff65a9191fc2',\n",
        "   u'f7048ce4-6368-4087-9204-62d90480f708',\n",
        "   u'31a6b752-291c-456f-ade5-f4b85545e6df',\n",
        "   u'05b95428-108d-4ec9-a8cd-5b6a70c35cda',\n",
        "   u'd452127a-e5ed-4b58-97db-54a2426b7e45',\n",
        "   u'09e07c50-04ed-4f7e-b1bc-bad22d316ebe',\n",
        "   u'01094cae-de10-4507-8e89-1d4ecac05865']),\n",
        " (u'3c848550-0f64-4c30-b50a-d750672a2217',\n",
        "  [u'183b9e11-2143-42f9-bf04-b0ccf70458a4',\n",
        "   u'1599ed89-3ecd-44b2-ba42-0765b78beeb8',\n",
        "   u'bd59fce3-fdd1-4212-b26f-dbcfedd66c57',\n",
        "   u'8b2d135d-2f37-4a1c-8795-35ec075be68f',\n",
        "   u'59c04c0c-27e3-4b54-957b-33768222515d',\n",
        "   u'c1fd17a9-2900-4f45-812c-4a90fcc0a61c',\n",
        "   u'e074482b-6600-4864-8a46-b15000a329a7',\n",
        "   u'080975b0-39b1-493c-ae64-5cb3292409bb',\n",
        "   u'e5755e48-0a36-4428-a6db-04b5ed100a83']),\n",
        " (u'79ae7638-afcd-4b94-ac52-37eb33aeefc3',\n",
        "  [u'66e342f1-ca85-4576-807d-8e3857d4f142',\n",
        "   u'4e6c0d85-da07-4761-9bce-13d5b526b40d',\n",
        "   u'e7acc02d-7a5a-41a6-9f26-1c6ddd269423',\n",
        "   u'd3ff2ae7-06e8-4386-8893-40437a779a7a',\n",
        "   u'21211852-ae80-4f49-b9f3-a31b847ec073',\n",
        "   u'6cc4c11d-f298-40ef-88da-d6f0aa980c34',\n",
        "   u'6833643a-b2cd-4685-bc0f-e4d713750bf7',\n",
        "   u'307e8e3a-1910-4ccd-a25e-38f14ff750cf',\n",
        "   u'4988f79d-2945-471d-b238-79f04949ed34']),\n",
        " (u'02dea461-4c05-4568-97b9-213fb2f1001e',\n",
        "  [u'1b25a1b2-c68c-4eb5-bef1-38ce5324c7b5',\n",
        "   u'37e7b205-fbb5-49aa-86e7-58e3dc33e480',\n",
        "   u'12994b02-ce90-409a-a819-9500d5d2b38e',\n",
        "   u'f71230fa-664f-495a-a3fa-1e5a33ba9052',\n",
        "   u'1101e63a-811c-4ce1-9ae1-39a9ed191f22',\n",
        "   u'd48db0f4-fab6-4d18-bc1f-aec43772af96',\n",
        "   u'36114ff7-0d23-4fc5-8e47-f596f2ceae18',\n",
        "   u'0f7a94a7-f37d-4e2a-833e-fc11094cd980',\n",
        "   u'4f90ae6c-e7d3-4778-88d0-aaea79718c3e',\n",
        "   u'aa983bff-fbd1-4761-9c39-b1dbf16d156c']),\n",
        " (u'ba9dbfff-f193-43b8-b1ab-7c5ad426ab14',\n",
        "  [u'0836ad5c-0cd8-4928-aefa-2175a5909c89',\n",
        "   u'f62b6ad9-c0b1-42e5-bc8b-83be67d66789',\n",
        "   u'64fb3897-d84d-46cf-8347-045565a67630',\n",
        "   u'fb6ee8ab-5c12-4a00-91f7-6caf0e10aa18',\n",
        "   u'2ff57d87-e97e-4c98-949c-ad44eaf04c3a',\n",
        "   u'44e38b7b-11b1-4ada-82e2-6583c947aa34',\n",
        "   u'f7048ce4-6368-4087-9204-62d90480f708',\n",
        "   u'78683dde-8e91-4634-92f1-6f4d1ae50e37',\n",
        "   u'16a45c0e-9bb9-4161-8d03-45dc3ffdb459',\n",
        "   u'de9a5376-a45b-4255-8e82-031ce6728e87']),\n",
        " (u'dc0cce76-0cec-4ffd-b02a-791042c87936',\n",
        "  [u'1c9d96d4-db11-4b1c-9f7b-e9048b9a8347',\n",
        "   u'35832bf4-78aa-4af0-8b0c-072c3c8a9fd7',\n",
        "   u'16e8d60b-44c2-46e7-afec-ff65a9191fc2',\n",
        "   u'dc5c8fdf-bb90-4f60-98a8-c667eef74ac3',\n",
        "   u'8b2d135d-2f37-4a1c-8795-35ec075be68f',\n",
        "   u'12971987-f859-491b-b9f9-9137c1681964',\n",
        "   u'4988f79d-2945-471d-b238-79f04949ed34',\n",
        "   u'18587a60-bdd6-45bd-8a8c-156bcfa1d7c9',\n",
        "   u'f6f4ba49-edfd-4186-bcf0-539791509501']),\n",
        " (u'e5755e48-0a36-4428-a6db-04b5ed100a83',\n",
        "  [u'b35127eb-0696-40ae-bb08-8eb9d8c74cdd',\n",
        "   u'559d6bc0-003c-4aea-bb41-33206279b7aa',\n",
        "   u'2a924daa-b652-4296-8e37-c0353fc2c4f6',\n",
        "   u'22ae2174-d74b-465d-a7b0-427a41ecedcc',\n",
        "   u'202e1f87-172f-4bb0-bbee-06b18f125c92',\n",
        "   u'1599ed89-3ecd-44b2-ba42-0765b78beeb8',\n",
        "   u'3e5da524-7dc7-44b9-abbb-c1a0cad3a496',\n",
        "   u'c1fd17a9-2900-4f45-812c-4a90fcc0a61c',\n",
        "   u'24788d77-9950-450f-a6f8-4e3b9da220d4']),\n",
        " (u'363eb084-5711-4615-a169-50fc3a80e296',\n",
        "  [u'a5a4cfd5-d198-47f0-b807-c06d5e42ab82',\n",
        "   u'67cff384-b6f8-4aa8-a48b-48ec72740270',\n",
        "   u'a24737dc-710a-4096-bf47-6725122547e0',\n",
        "   u'5154d031-7be6-4fb5-8181-5f7e57c96a4b',\n",
        "   u'c5942b89-3845-4585-a376-fd760e772fdf',\n",
        "   u'6cd29451-b9fc-43b8-bc40-9b4c7812b8c0',\n",
        "   u'07a7fc00-eb3b-418b-bbd4-60ed4a0aaacf',\n",
        "   u'04865b70-9b53-4e8b-9fa7-de87552ac172',\n",
        "   u'35887d1e-8857-49df-a573-36d700560004',\n",
        "   u'288d8d0d-22fe-4ef7-9535-21ff5feafa5d']),\n",
        " (u'2ea5e2c3-b89c-49df-9173-0c4f36141d1a',\n",
        "  [u'e8eed0a7-edde-49b6-b488-b6d37394b25d',\n",
        "   u'ffa9440d-2248-4249-b855-68d80c5120db',\n",
        "   u'0efb98df-0b2d-45ca-ad72-182aa7af4f0d',\n",
        "   u'78dc2d67-1bec-4b8e-9476-edad6163380b',\n",
        "   u'364f123c-5a61-4896-ab47-de4ead3958e0',\n",
        "   u'256c5c12-fb16-4599-9576-c5a57fb2e579',\n",
        "   u'fc065b8f-5ceb-4a1e-b654-dfe240105485',\n",
        "   u'1e98fbb0-7c35-490a-bbb7-62285336d32b',\n",
        "   u'cd0b064f-fae4-4726-aa2e-047bd0d4b1e5',\n",
        "   u'03659fc1-e2b6-407c-8f90-8854fbfe82c7']),\n",
        " (u'126e356b-5538-4b17-b599-3d95fedbf349',\n",
        "  [u'f17db8b2-7bb2-4fbf-9d91-605da6503154',\n",
        "   u'3ae67fbd-9aad-4200-ba06-918167230b55',\n",
        "   u'1811149e-73c0-4aa0-939d-d4c93ded6348',\n",
        "   u'3b27dc8c-1e94-45f4-bb48-1e7dedc7ef7b',\n",
        "   u'f7048ce4-6368-4087-9204-62d90480f708',\n",
        "   u'78683dde-8e91-4634-92f1-6f4d1ae50e37',\n",
        "   u'5aa0d7aa-a9ed-4063-b978-18e089861d60',\n",
        "   u'e9750236-774b-460d-bd4d-fdf05b3fc367',\n",
        "   u'0a50e2f3-3e95-4408-bfd3-69cbe3283a4d']),\n",
        " (u'e36f49e9-c215-41f3-8579-3f56481d91a6',\n",
        "  [u'6c932d96-bf88-4ce3-87a1-635fb390ed1a',\n",
        "   u'5586e359-eb45-4215-aded-c2cf165cbd48',\n",
        "   u'c1fd17a9-2900-4f45-812c-4a90fcc0a61c',\n",
        "   u'a6ed5358-6ad7-422e-9be6-dbc49a02586c',\n",
        "   u'7d9f69b7-81e7-4b42-ac24-ee58028740c8',\n",
        "   u'09e07c50-04ed-4f7e-b1bc-bad22d316ebe',\n",
        "   u'05b95428-108d-4ec9-a8cd-5b6a70c35cda',\n",
        "   u'dd0e6c05-2af1-4d8a-9262-2d227e25497d',\n",
        "   u'4988f79d-2945-471d-b238-79f04949ed34',\n",
        "   u'35143c2f-0484-44e2-bf27-7baa7ca5e135']),\n",
        " (u'ced408d9-b686-4aac-89f4-1e778cab0b48',\n",
        "  [u'647f301c-6db8-4484-a9d4-d7b79e965dd0',\n",
        "   u'6e4c8548-b7e4-4811-8720-abf576956ef8',\n",
        "   u'00bf2a72-2ca3-4a18-8bf9-7178ab0e964d',\n",
        "   u'216b0d95-63eb-4b85-b229-386c81d2434c',\n",
        "   u'091d16b3-1326-4420-9e45-f8e196764eca',\n",
        "   u'8a3b2b5e-af88-4ae7-9a59-7f3d0f84ffaa',\n",
        "   u'2a3e8a48-e484-4f7b-83c7-c221b45c1d76',\n",
        "   u'bb9401f9-41b1-4a5d-9b8c-b2ae039c09fe',\n",
        "   u'e8a83629-a377-417c-9d64-ae02be53e4a5']),\n",
        " (u'ff9782e3-39da-45b0-b6ad-1e6b9dbc083a',\n",
        "  [u'7630417f-60d8-4810-9da4-04441f259b6f',\n",
        "   u'7ed638fe-111c-4648-8a9d-eeaa891269ca',\n",
        "   u'9855f2d9-3720-4052-a3b0-181682666a7f',\n",
        "   u'13194c93-89c6-4ab4-aaf2-15db5d73b74e',\n",
        "   u'6833643a-b2cd-4685-bc0f-e4d713750bf7',\n",
        "   u'1111fd1f-7868-40a5-9dec-15dcd9b175a3',\n",
        "   u'33c1e136-a784-47a3-9635-39549a42812f',\n",
        "   u'f90fa723-9d8f-4260-9e03-34778e0ea7d1']),\n",
        " (u'66e342f1-ca85-4576-807d-8e3857d4f142',\n",
        "  [u'4e6c0d85-da07-4761-9bce-13d5b526b40d',\n",
        "   u'094e2f8f-d620-415e-975b-66f06d1dcfe9',\n",
        "   u'e7acc02d-7a5a-41a6-9f26-1c6ddd269423',\n",
        "   u'd3ff2ae7-06e8-4386-8893-40437a779a7a',\n",
        "   u'4988f79d-2945-471d-b238-79f04949ed34',\n",
        "   u'6833643a-b2cd-4685-bc0f-e4d713750bf7',\n",
        "   u'6cc4c11d-f298-40ef-88da-d6f0aa980c34',\n",
        "   u'f90fa723-9d8f-4260-9e03-34778e0ea7d1',\n",
        "   u'307e8e3a-1910-4ccd-a25e-38f14ff750cf',\n",
        "   u'b1abca18-f709-42d3-bfc7-b8fe07c583d3']),\n",
        " (u'e787999f-46f5-4d97-9b46-11a3a9b0a2d5',\n",
        "  [u'01094cae-de10-4507-8e89-1d4ecac05865',\n",
        "   u'27271258-4919-4456-91ff-f6ceca3f2b71',\n",
        "   u'c1fd17a9-2900-4f45-812c-4a90fcc0a61c',\n",
        "   u'05b95428-108d-4ec9-a8cd-5b6a70c35cda',\n",
        "   u'539167ba-a704-4908-b25c-d07918294598',\n",
        "   u'66402dcb-9bda-41d4-a3ad-a5f6550b9db4',\n",
        "   u'22ae2174-d74b-465d-a7b0-427a41ecedcc',\n",
        "   u'080975b0-39b1-493c-ae64-5cb3292409bb',\n",
        "   u'6e9b0ed1-05ab-4a26-89c3-0cbf31085dfa',\n",
        "   u'f7048ce4-6368-4087-9204-62d90480f708']),\n",
        " (u'b4be7f77-bb4d-46ac-931a-1fe0f8b16a9e',\n",
        "  [u'6c4dc807-4073-4b0a-88e1-1cf6cb993413',\n",
        "   u'770e6be6-b2d4-41ce-b69e-ae070477d82a',\n",
        "   u'fb45caf5-3769-4666-affb-6e4d3a823e64',\n",
        "   u'1795a939-37ef-479b-a6e7-5586de34f5c4',\n",
        "   u'374a7a48-3eef-4897-884e-c1d690662b6a',\n",
        "   u'823c7f6b-0bf3-4a50-b26a-e73849907791',\n",
        "   u'6833643a-b2cd-4685-bc0f-e4d713750bf7',\n",
        "   u'a5fb766a-1bde-4f29-8e21-536b2b574986',\n",
        "   u'22f1878f-8673-4fb4-b470-ec27c5e5e145',\n",
        "   u'0a50e2f3-3e95-4408-bfd3-69cbe3283a4d']),\n",
        " (u'7ed638fe-111c-4648-8a9d-eeaa891269ca',\n",
        "  [u'a8ad09b4-0606-42e5-9d7b-8d8daafbbe96',\n",
        "   u'097ae7e7-5916-4797-967a-c31e2a9ea5c3',\n",
        "   u'307e8e3a-1910-4ccd-a25e-38f14ff750cf',\n",
        "   u'f90fa723-9d8f-4260-9e03-34778e0ea7d1',\n",
        "   u'4988f79d-2945-471d-b238-79f04949ed34',\n",
        "   u'6833643a-b2cd-4685-bc0f-e4d713750bf7',\n",
        "   u'13194c93-89c6-4ab4-aaf2-15db5d73b74e',\n",
        "   u'dd0e6c05-2af1-4d8a-9262-2d227e25497d',\n",
        "   u'7d9f69b7-81e7-4b42-ac24-ee58028740c8']),\n",
        " (u'3a28489d-5c4d-42e3-a2a5-b938dc41f535',\n",
        "  [u'632f5ea3-b3b5-4076-b6b3-fb0d67c10670',\n",
        "   u'00d4f237-01d0-4dc4-83c0-5b0e543d7eb8',\n",
        "   u'00772b99-31a1-4c71-8edf-5b0a7f6a2b8d',\n",
        "   u'0da14eba-ea5f-4e3d-be7e-a1e51c3ed003',\n",
        "   u'60f5d7d6-a1fc-4cfc-9dc7-aff012618af6',\n",
        "   u'7d12d21b-bacd-480c-ac26-fc8b64b9e7cd',\n",
        "   u'038c4d4a-f5c1-47db-90c7-35b13514773a',\n",
        "   u'022aee6e-5570-43b5-ab5e-b7ad975b71ea',\n",
        "   u'f9907df7-07b6-48cf-80be-aac44fdc741f',\n",
        "   u'a24737dc-710a-4096-bf47-6725122547e0']),\n",
        " (u'4fb07e4c-8a52-40e6-9529-bfb0af1e0643',\n",
        "  [u'125fc4ba-3106-46c0-967f-ce7ac9ac958e',\n",
        "   u'68618da4-235e-4afc-99a2-46ff6e9b5621',\n",
        "   u'8b2d135d-2f37-4a1c-8795-35ec075be68f',\n",
        "   u'498eb6fb-e438-4af0-9f49-e66dcc616e25',\n",
        "   u'102519c2-d076-4aee-8189-c44b32e62da7',\n",
        "   u'3bcd370b-c86f-44ab-8c08-1f2d6e6ff992',\n",
        "   u'd0d9670a-b485-49d6-bf54-e7ed45a7642c']),\n",
        " (u'a0842b4a-6b42-4a45-b309-48445b58333c',\n",
        "  [u'8c1f4c3e-24f1-49f3-836e-19bbad1ce404',\n",
        "   u'849b2dbc-c94e-432b-88a0-4d9932fab32e',\n",
        "   u'5d64ba4f-c317-4a30-9645-f7775ddb49d9',\n",
        "   u'fb45caf5-3769-4666-affb-6e4d3a823e64',\n",
        "   u'961320dd-8e5a-4eee-826e-97a8c8f6353c',\n",
        "   u'e3fd9b66-b660-4460-8e1f-44282136bf5c',\n",
        "   u'6a9c0b3f-9a29-42c3-8270-7a68f0b58c61',\n",
        "   u'b4be7f77-bb4d-46ac-931a-1fe0f8b16a9e',\n",
        "   u'374a7a48-3eef-4897-884e-c1d690662b6a']),\n",
        " (u'0e3906b9-e1e5-4d6d-8f31-975ef3a22724',\n",
        "  [u'10fb9da4-6d54-4a63-9c09-29235e7ce5b2',\n",
        "   u'226aaeaf-f52e-40aa-ab65-7a1005f4556e',\n",
        "   u'6f18aab1-e92f-4a1d-b744-547d1fe2bdcd',\n",
        "   u'c3f5320d-117d-4a12-a97b-bc8136876bb4',\n",
        "   u'fc4e73fa-ad54-4346-90f1-df02eb18d2aa',\n",
        "   u'7273ede7-d911-4847-b7e8-8b3b6807e515',\n",
        "   u'36497e70-451e-4c51-b4f3-ffdf8e4b413e',\n",
        "   u'02df5df9-bb92-4b57-9b4d-d03df372532c',\n",
        "   u'eb718752-c993-4402-9cd5-ae3303037477',\n",
        "   u'79e3ef9f-43fe-4f4f-aebb-3ac3b46dac05']),\n",
        " (u'10b9d8d4-2205-47b8-ad51-87bb214cff25',\n",
        "  [u'0d0aa890-e91a-4af9-b2ca-9e1e4b0ac635',\n",
        "   u'69b7b43b-9fbd-4001-9106-ac6d2711b716',\n",
        "   u'05800de6-c330-481c-9655-614f594d2ad1',\n",
        "   u'f7048ce4-6368-4087-9204-62d90480f708',\n",
        "   u'44e38b7b-11b1-4ada-82e2-6583c947aa34',\n",
        "   u'bbc597dd-dc54-4187-ab2e-9a72f046f0fd',\n",
        "   u'a3fa6ee1-598d-4f06-a89d-ee2660eaeef3',\n",
        "   u'13194c93-89c6-4ab4-aaf2-15db5d73b74e',\n",
        "   u'1fc1239e-f1a8-4943-bd20-af2bf9f06274',\n",
        "   u'a65906cf-f469-410f-978b-bd532eaf21d6']),\n",
        " (u'559d6bc0-003c-4aea-bb41-33206279b7aa',\n",
        "  [u'b35127eb-0696-40ae-bb08-8eb9d8c74cdd',\n",
        "   u'4677bae4-93b4-494f-a79a-676825f79c21',\n",
        "   u'2a924daa-b652-4296-8e37-c0353fc2c4f6',\n",
        "   u'bd59fce3-fdd1-4212-b26f-dbcfedd66c57',\n",
        "   u'7eda7b08-2131-4785-8cdc-258167c905b5',\n",
        "   u'31990f0e-a62b-4577-ae31-21af514a5da0',\n",
        "   u'35143c2f-0484-44e2-bf27-7baa7ca5e135',\n",
        "   u'307e8e3a-1910-4ccd-a25e-38f14ff750cf',\n",
        "   u'8b2d135d-2f37-4a1c-8795-35ec075be68f',\n",
        "   u'22ae2174-d74b-465d-a7b0-427a41ecedcc']),\n",
        " (u'216b0d95-63eb-4b85-b229-386c81d2434c',\n",
        "  [u'0a95fa71-4eb5-4a08-8ddb-ffa327a1a238',\n",
        "   u'ced408d9-b686-4aac-89f4-1e778cab0b48',\n",
        "   u'd48db0f4-fab6-4d18-bc1f-aec43772af96',\n",
        "   u'78683dde-8e91-4634-92f1-6f4d1ae50e37',\n",
        "   u'dff733e2-9476-48a7-919b-c76fed7ffb54',\n",
        "   u'8a3b2b5e-af88-4ae7-9a59-7f3d0f84ffaa',\n",
        "   u'59329447-a5a8-47ba-9480-5d6c590ce247',\n",
        "   u'f7048ce4-6368-4087-9204-62d90480f708',\n",
        "   u'0f7393dd-b355-49ce-b03a-32420686af69']),\n",
        " (u'e9750236-774b-460d-bd4d-fdf05b3fc367',\n",
        "  [u'2d4b4877-0600-4c53-9e27-6b0120dcd6f9',\n",
        "   u'de4109d0-75b6-4685-932c-b866bb17e4ab',\n",
        "   u'5aa0d7aa-a9ed-4063-b978-18e089861d60',\n",
        "   u'6a7e4552-ed19-4513-9586-e949c486ec9f',\n",
        "   u'208e92ab-42f0-44b3-8c03-5872944ce891',\n",
        "   u'7ac31983-e60a-4bcc-9e19-71e3b1362ce6',\n",
        "   u'0b0bb002-8b52-4ceb-bc67-e4c622f4d5d8',\n",
        "   u'43dcf53e-70b7-4fa5-ba66-49a27521fc97',\n",
        "   u'dc0cce76-0cec-4ffd-b02a-791042c87936',\n",
        "   u'539167ba-a704-4908-b25c-d07918294598']),\n",
        " (u'0d2853b3-2dfc-4739-b5f1-1266b0e7084a',\n",
        "  [u'1408a530-838c-40da-a2f5-94f96a94ca3a',\n",
        "   u'4e39970b-164b-4f44-8b93-28009ddefdf7',\n",
        "   u'038c4d4a-f5c1-47db-90c7-35b13514773a',\n",
        "   u'3ada42d9-cb66-45e5-9d7c-bca2e38371fe',\n",
        "   u'401145f5-3f73-40ba-8a49-ae4666bef611',\n",
        "   u'131323d7-a4b5-48c0-8eb4-ed43fdd0793b',\n",
        "   u'392567e3-c5a4-4d94-8f6c-a6a2551ded3e',\n",
        "   u'288d8d0d-22fe-4ef7-9535-21ff5feafa5d',\n",
        "   u'e61ec431-92fa-4119-8ccc-86f228e5d9c4',\n",
        "   u'b718611e-0c9d-45f7-a16c-fe690cef9e90']),\n",
        " (u'8f2334a3-ead8-4a05-91e3-55ed83a13cab',\n",
        "  [u'8c1f4c3e-24f1-49f3-836e-19bbad1ce404',\n",
        "   u'849b2dbc-c94e-432b-88a0-4d9932fab32e',\n",
        "   u'60fe129c-4409-4069-9262-bb6f2277e299',\n",
        "   u'7d9f69b7-81e7-4b42-ac24-ee58028740c8',\n",
        "   u'66402dcb-9bda-41d4-a3ad-a5f6550b9db4',\n",
        "   u'17410183-d250-49c9-8be1-04d26fa4c71d',\n",
        "   u'e3fd9b66-b660-4460-8e1f-44282136bf5c',\n",
        "   u'bd59fce3-fdd1-4212-b26f-dbcfedd66c57',\n",
        "   u'35143c2f-0484-44e2-bf27-7baa7ca5e135']),\n",
        " (u'fb45caf5-3769-4666-affb-6e4d3a823e64',\n",
        "  [u'89f4d849-1bf0-43bc-be30-eb3724042085',\n",
        "   u'374a7a48-3eef-4897-884e-c1d690662b6a',\n",
        "   u'b4be7f77-bb4d-46ac-931a-1fe0f8b16a9e',\n",
        "   u'6c4dc807-4073-4b0a-88e1-1cf6cb993413',\n",
        "   u'1795a939-37ef-479b-a6e7-5586de34f5c4',\n",
        "   u'823c7f6b-0bf3-4a50-b26a-e73849907791',\n",
        "   u'617dfc80-eb78-4f54-bdc2-39412dacd7b3',\n",
        "   u'6a9c0b3f-9a29-42c3-8270-7a68f0b58c61',\n",
        "   u'6833643a-b2cd-4685-bc0f-e4d713750bf7',\n",
        "   u'35143c2f-0484-44e2-bf27-7baa7ca5e135']),\n",
        " (u'0088e5ea-5540-4685-849e-1e40fa624c8c',\n",
        "  [u'093d0b21-5e17-4cc4-8a7d-713b4d6b45be',\n",
        "   u'1fe9cded-3b48-48d4-bfc4-b07c269c63a1',\n",
        "   u'35143c2f-0484-44e2-bf27-7baa7ca5e135',\n",
        "   u'f90fa723-9d8f-4260-9e03-34778e0ea7d1',\n",
        "   u'307e8e3a-1910-4ccd-a25e-38f14ff750cf',\n",
        "   u'102519c2-d076-4aee-8189-c44b32e62da7',\n",
        "   u'3805b6a9-291c-4315-bca0-0b96c01c7ef7',\n",
        "   u'305c4cb3-0ceb-4dd7-b3ab-6a227294e478']),\n",
        " (u'60f5d7d6-a1fc-4cfc-9dc7-aff012618af6',\n",
        "  [u'773bfc6a-3969-4637-9915-92b4eae7ebf5',\n",
        "   u'7e03a61b-fca4-4ecc-ad9c-4ddadcb69ec0',\n",
        "   u'b1a7c595-6dec-43eb-a83b-b597fe5805ea',\n",
        "   u'b916bd8d-be9a-4a99-be5e-db61b32123f5',\n",
        "   u'cfe5245b-7813-421b-b380-264918db4222',\n",
        "   u'48c5f2d6-7182-4b5b-97a6-0df261bbe534',\n",
        "   u'6b44bc8b-226f-4806-b910-de87cd856034',\n",
        "   u'0701596e-7626-4b15-bb7e-e63877fda786',\n",
        "   u'e6fb80b5-e7ee-410b-8a80-15c619736177',\n",
        "   u'6f23d5a9-590f-4a52-b53d-964d0ba039d8']),\n",
        " (u'9855f2d9-3720-4052-a3b0-181682666a7f',\n",
        "  [u'bf2d8750-7396-4f6f-9703-23522d60274c',\n",
        "   u'6cd29451-b9fc-43b8-bc40-9b4c7812b8c0',\n",
        "   u'ff9782e3-39da-45b0-b6ad-1e6b9dbc083a',\n",
        "   u'f9fb46ef-c9f8-481f-a8a2-c98e21a1fc5d',\n",
        "   u'10899065-63cd-4365-a7a1-e158638fe338',\n",
        "   u'c5942b89-3845-4585-a376-fd760e772fdf',\n",
        "   u'dbbc6aad-99cf-45b2-a3e4-90d7afbf599b',\n",
        "   u'13194c93-89c6-4ab4-aaf2-15db5d73b74e',\n",
        "   u'9b5d8a7d-05fe-4f3d-ba09-2025858fb122',\n",
        "   u'1111fd1f-7868-40a5-9dec-15dcd9b175a3']),\n",
        " (u'092e42a4-c8f5-4837-9663-8a50405a3896',\n",
        "  [u'd3cc4ef9-6386-4932-be85-b64f7f4e9674',\n",
        "   u'40a68514-b7b8-469d-a12c-9341484bc346',\n",
        "   u'f69b39a6-8063-43a2-a604-52a2567c3878',\n",
        "   u'944bd5e2-bb27-482b-a358-bad83ca61647',\n",
        "   u'2f83a795-b784-413c-92d7-ae731ba69d25',\n",
        "   u'344fd45c-4d5d-4caa-8e45-f5690af59238',\n",
        "   u'd8b9f15b-2e1a-47a9-9f5c-0eaa71f0275f',\n",
        "   u'a63449b1-98b7-41da-8087-66fce7e70c0a',\n",
        "   u'15e40966-6cbb-473c-97fc-362de81f95d9']),\n",
        " (u'7e742abc-2a23-4f0c-b638-4be8c299bf57',\n",
        "  [u'8cb0470b-6d7c-4f32-bf78-7ce1161e95a9',\n",
        "   u'185b1511-725f-4bfb-8c64-ef4b7e11b801',\n",
        "   u'74574855-25f8-47a2-8fc3-c981267a82d6',\n",
        "   u'710f21dc-4237-4459-90fd-b117a71d347f',\n",
        "   u'219ab499-9531-4d94-b60e-62e2dcb80d8d',\n",
        "   u'60535489-7d75-4686-a578-a42ca0cd1e49',\n",
        "   u'143c6b5f-f3c4-4da5-9b7c-1e67426d4e56',\n",
        "   u'5aa0d7aa-a9ed-4063-b978-18e089861d60',\n",
        "   u'6e0eb323-251d-492c-8dd1-10c3b808266c',\n",
        "   u'07a16134-927e-49b5-a0fc-0e751a6824dc']),\n",
        " (u'071fa60b-652a-4d67-b7e4-58a63a1bbe6f',\n",
        "  [u'069c31c6-6259-4d14-ae49-94001db9ead9',\n",
        "   u'0362e11d-068d-4a2c-bcb8-c51fbf86dfe8',\n",
        "   u'1111fd1f-7868-40a5-9dec-15dcd9b175a3',\n",
        "   u'd7decd27-2234-467a-a9e0-d608f04d75f3',\n",
        "   u'096ae087-5cb2-41b6-a0e0-211d0fb0de68',\n",
        "   u'dfb5920d-789c-41d0-8f59-8bc34ed2cae0',\n",
        "   u'030c5163-88d9-4e9f-babb-59aa3d9db620',\n",
        "   u'4f90ae6c-e7d3-4778-88d0-aaea79718c3e']))"
       ]
      }
     ],
     "prompt_number": 201
    },
    {
     "cell_type": "code",
     "collapsed": false,
     "input": [
      "### create the output file for track_id_sim_track_id.csv\n",
      "l_orig_mbid = []\n",
      "l_similar_mbid = []\n",
      "for t_track_listOfSimilars in t_10mostSimilarTracks_toOriginalSimilars:\n",
      "\tfor mbid_in_sim_list in t_track_listOfSimilars[1]: #for each similar mbid in the list of 10 similar mbids\n",
      "\t\tl_mbid.append(t_track_listOfSimilars[0])\n",
      "\t\tl_similar_mbid.append(mbid_in_sim_list)\n",
      "od_trackId_similarTrackId = collections.OrderedDict((('source', l_orig_mbid), ('target', l_similar_mbid)))\n",
      "df_trackId_similarTrackId = pd.DataFrame.from_dict(od_trackId_similarTrackId)\n",
      "df_trackId_similarTrackId.to_csv(\"track_id_sim_track_id.csv\", encoding='utf-8', index= False)"
     ],
     "language": "python",
     "metadata": {},
     "outputs": [
      {
       "ename": "ValueError",
       "evalue": "arrays must all be same length",
       "output_type": "pyerr",
       "traceback": [
        "\u001b[0;31m---------------------------------------------------------------------------\u001b[0m\n\u001b[0;31mValueError\u001b[0m                                Traceback (most recent call last)",
        "\u001b[0;32m<ipython-input-202-0e2506deda5f>\u001b[0m in \u001b[0;36m<module>\u001b[0;34m()\u001b[0m\n\u001b[1;32m      7\u001b[0m                 \u001b[0ml_similar_mbid\u001b[0m\u001b[0;34m.\u001b[0m\u001b[0mappend\u001b[0m\u001b[0;34m(\u001b[0m\u001b[0mmbid_in_sim_list\u001b[0m\u001b[0;34m)\u001b[0m\u001b[0;34m\u001b[0m\u001b[0m\n\u001b[1;32m      8\u001b[0m \u001b[0mod_trackId_similarTrackId\u001b[0m \u001b[0;34m=\u001b[0m \u001b[0mcollections\u001b[0m\u001b[0;34m.\u001b[0m\u001b[0mOrderedDict\u001b[0m\u001b[0;34m(\u001b[0m\u001b[0;34m(\u001b[0m\u001b[0;34m(\u001b[0m\u001b[0;34m'source'\u001b[0m\u001b[0;34m,\u001b[0m \u001b[0ml_orig_mbid\u001b[0m\u001b[0;34m)\u001b[0m\u001b[0;34m,\u001b[0m \u001b[0;34m(\u001b[0m\u001b[0;34m'target'\u001b[0m\u001b[0;34m,\u001b[0m \u001b[0ml_similar_mbid\u001b[0m\u001b[0;34m)\u001b[0m\u001b[0;34m)\u001b[0m\u001b[0;34m)\u001b[0m\u001b[0;34m\u001b[0m\u001b[0m\n\u001b[0;32m----> 9\u001b[0;31m \u001b[0mdf_trackId_similarTrackId\u001b[0m \u001b[0;34m=\u001b[0m \u001b[0mpd\u001b[0m\u001b[0;34m.\u001b[0m\u001b[0mDataFrame\u001b[0m\u001b[0;34m.\u001b[0m\u001b[0mfrom_dict\u001b[0m\u001b[0;34m(\u001b[0m\u001b[0mod_trackId_similarTrackId\u001b[0m\u001b[0;34m)\u001b[0m\u001b[0;34m\u001b[0m\u001b[0m\n\u001b[0m\u001b[1;32m     10\u001b[0m \u001b[0mdf_trackId_similarTrackId\u001b[0m\u001b[0;34m.\u001b[0m\u001b[0mto_csv\u001b[0m\u001b[0;34m(\u001b[0m\u001b[0;34m\"track_id_sim_track_id.csv\"\u001b[0m\u001b[0;34m,\u001b[0m \u001b[0mencoding\u001b[0m\u001b[0;34m=\u001b[0m\u001b[0;34m'utf-8'\u001b[0m\u001b[0;34m,\u001b[0m \u001b[0mindex\u001b[0m\u001b[0;34m=\u001b[0m \u001b[0mFalse\u001b[0m\u001b[0;34m)\u001b[0m\u001b[0;34m\u001b[0m\u001b[0m\n",
        "\u001b[0;32m/Users/localadmin/Library/Enthought/Canopy_64bit/User/lib/python2.7/site-packages/pandas/core/frame.pyc\u001b[0m in \u001b[0;36mfrom_dict\u001b[0;34m(cls, data, orient, dtype)\u001b[0m\n\u001b[1;32m    637\u001b[0m             \u001b[0;32mraise\u001b[0m \u001b[0mValueError\u001b[0m\u001b[0;34m(\u001b[0m\u001b[0;34m'only recognize index or columns for orient'\u001b[0m\u001b[0;34m)\u001b[0m\u001b[0;34m\u001b[0m\u001b[0m\n\u001b[1;32m    638\u001b[0m \u001b[0;34m\u001b[0m\u001b[0m\n\u001b[0;32m--> 639\u001b[0;31m         \u001b[0;32mreturn\u001b[0m \u001b[0mcls\u001b[0m\u001b[0;34m(\u001b[0m\u001b[0mdata\u001b[0m\u001b[0;34m,\u001b[0m \u001b[0mindex\u001b[0m\u001b[0;34m=\u001b[0m\u001b[0mindex\u001b[0m\u001b[0;34m,\u001b[0m \u001b[0mcolumns\u001b[0m\u001b[0;34m=\u001b[0m\u001b[0mcolumns\u001b[0m\u001b[0;34m,\u001b[0m \u001b[0mdtype\u001b[0m\u001b[0;34m=\u001b[0m\u001b[0mdtype\u001b[0m\u001b[0;34m)\u001b[0m\u001b[0;34m\u001b[0m\u001b[0m\n\u001b[0m\u001b[1;32m    640\u001b[0m \u001b[0;34m\u001b[0m\u001b[0m\n\u001b[1;32m    641\u001b[0m     \u001b[0;32mdef\u001b[0m \u001b[0mto_dict\u001b[0m\u001b[0;34m(\u001b[0m\u001b[0mself\u001b[0m\u001b[0;34m,\u001b[0m \u001b[0mouttype\u001b[0m\u001b[0;34m=\u001b[0m\u001b[0;34m'dict'\u001b[0m\u001b[0;34m)\u001b[0m\u001b[0;34m:\u001b[0m\u001b[0;34m\u001b[0m\u001b[0m\n",
        "\u001b[0;32m/Users/localadmin/Library/Enthought/Canopy_64bit/User/lib/python2.7/site-packages/pandas/core/frame.pyc\u001b[0m in \u001b[0;36m__init__\u001b[0;34m(self, data, index, columns, dtype, copy)\u001b[0m\n\u001b[1;32m    201\u001b[0m                                  dtype=dtype, copy=copy)\n\u001b[1;32m    202\u001b[0m         \u001b[0;32melif\u001b[0m \u001b[0misinstance\u001b[0m\u001b[0;34m(\u001b[0m\u001b[0mdata\u001b[0m\u001b[0;34m,\u001b[0m \u001b[0mdict\u001b[0m\u001b[0;34m)\u001b[0m\u001b[0;34m:\u001b[0m\u001b[0;34m\u001b[0m\u001b[0m\n\u001b[0;32m--> 203\u001b[0;31m             \u001b[0mmgr\u001b[0m \u001b[0;34m=\u001b[0m \u001b[0mself\u001b[0m\u001b[0;34m.\u001b[0m\u001b[0m_init_dict\u001b[0m\u001b[0;34m(\u001b[0m\u001b[0mdata\u001b[0m\u001b[0;34m,\u001b[0m \u001b[0mindex\u001b[0m\u001b[0;34m,\u001b[0m \u001b[0mcolumns\u001b[0m\u001b[0;34m,\u001b[0m \u001b[0mdtype\u001b[0m\u001b[0;34m=\u001b[0m\u001b[0mdtype\u001b[0m\u001b[0;34m)\u001b[0m\u001b[0;34m\u001b[0m\u001b[0m\n\u001b[0m\u001b[1;32m    204\u001b[0m         \u001b[0;32melif\u001b[0m \u001b[0misinstance\u001b[0m\u001b[0;34m(\u001b[0m\u001b[0mdata\u001b[0m\u001b[0;34m,\u001b[0m \u001b[0mma\u001b[0m\u001b[0;34m.\u001b[0m\u001b[0mMaskedArray\u001b[0m\u001b[0;34m)\u001b[0m\u001b[0;34m:\u001b[0m\u001b[0;34m\u001b[0m\u001b[0m\n\u001b[1;32m    205\u001b[0m             \u001b[0;32mimport\u001b[0m \u001b[0mnumpy\u001b[0m\u001b[0;34m.\u001b[0m\u001b[0mma\u001b[0m\u001b[0;34m.\u001b[0m\u001b[0mmrecords\u001b[0m \u001b[0;32mas\u001b[0m \u001b[0mmrecords\u001b[0m\u001b[0;34m\u001b[0m\u001b[0m\n",
        "\u001b[0;32m/Users/localadmin/Library/Enthought/Canopy_64bit/User/lib/python2.7/site-packages/pandas/core/frame.pyc\u001b[0m in \u001b[0;36m_init_dict\u001b[0;34m(self, data, index, columns, dtype)\u001b[0m\n\u001b[1;32m    325\u001b[0m \u001b[0;34m\u001b[0m\u001b[0m\n\u001b[1;32m    326\u001b[0m         return _arrays_to_mgr(arrays, data_names, index, columns,\n\u001b[0;32m--> 327\u001b[0;31m                               dtype=dtype)\n\u001b[0m\u001b[1;32m    328\u001b[0m \u001b[0;34m\u001b[0m\u001b[0m\n\u001b[1;32m    329\u001b[0m     def _init_ndarray(self, values, index, columns, dtype=None,\n",
        "\u001b[0;32m/Users/localadmin/Library/Enthought/Canopy_64bit/User/lib/python2.7/site-packages/pandas/core/frame.pyc\u001b[0m in \u001b[0;36m_arrays_to_mgr\u001b[0;34m(arrays, arr_names, index, columns, dtype)\u001b[0m\n\u001b[1;32m   4513\u001b[0m     \u001b[0;31m# figure out the index, if necessary\u001b[0m\u001b[0;34m\u001b[0m\u001b[0;34m\u001b[0m\u001b[0m\n\u001b[1;32m   4514\u001b[0m     \u001b[0;32mif\u001b[0m \u001b[0mindex\u001b[0m \u001b[0;32mis\u001b[0m \u001b[0mNone\u001b[0m\u001b[0;34m:\u001b[0m\u001b[0;34m\u001b[0m\u001b[0m\n\u001b[0;32m-> 4515\u001b[0;31m         \u001b[0mindex\u001b[0m \u001b[0;34m=\u001b[0m \u001b[0mextract_index\u001b[0m\u001b[0;34m(\u001b[0m\u001b[0marrays\u001b[0m\u001b[0;34m)\u001b[0m\u001b[0;34m\u001b[0m\u001b[0m\n\u001b[0m\u001b[1;32m   4516\u001b[0m     \u001b[0;32melse\u001b[0m\u001b[0;34m:\u001b[0m\u001b[0;34m\u001b[0m\u001b[0m\n\u001b[1;32m   4517\u001b[0m         \u001b[0mindex\u001b[0m \u001b[0;34m=\u001b[0m \u001b[0m_ensure_index\u001b[0m\u001b[0;34m(\u001b[0m\u001b[0mindex\u001b[0m\u001b[0;34m)\u001b[0m\u001b[0;34m\u001b[0m\u001b[0m\n",
        "\u001b[0;32m/Users/localadmin/Library/Enthought/Canopy_64bit/User/lib/python2.7/site-packages/pandas/core/frame.pyc\u001b[0m in \u001b[0;36mextract_index\u001b[0;34m(data)\u001b[0m\n\u001b[1;32m   4561\u001b[0m             \u001b[0mlengths\u001b[0m \u001b[0;34m=\u001b[0m \u001b[0mlist\u001b[0m\u001b[0;34m(\u001b[0m\u001b[0mset\u001b[0m\u001b[0;34m(\u001b[0m\u001b[0mraw_lengths\u001b[0m\u001b[0;34m)\u001b[0m\u001b[0;34m)\u001b[0m\u001b[0;34m\u001b[0m\u001b[0m\n\u001b[1;32m   4562\u001b[0m             \u001b[0;32mif\u001b[0m \u001b[0mlen\u001b[0m\u001b[0;34m(\u001b[0m\u001b[0mlengths\u001b[0m\u001b[0;34m)\u001b[0m \u001b[0;34m>\u001b[0m \u001b[0;36m1\u001b[0m\u001b[0;34m:\u001b[0m\u001b[0;34m\u001b[0m\u001b[0m\n\u001b[0;32m-> 4563\u001b[0;31m                 \u001b[0;32mraise\u001b[0m \u001b[0mValueError\u001b[0m\u001b[0;34m(\u001b[0m\u001b[0;34m'arrays must all be same length'\u001b[0m\u001b[0;34m)\u001b[0m\u001b[0;34m\u001b[0m\u001b[0m\n\u001b[0m\u001b[1;32m   4564\u001b[0m \u001b[0;34m\u001b[0m\u001b[0m\n\u001b[1;32m   4565\u001b[0m             \u001b[0;32mif\u001b[0m \u001b[0mhave_dicts\u001b[0m\u001b[0;34m:\u001b[0m\u001b[0;34m\u001b[0m\u001b[0m\n",
        "\u001b[0;31mValueError\u001b[0m: arrays must all be same length"
       ]
      }
     ],
     "prompt_number": 202
    },
    {
     "cell_type": "code",
     "collapsed": false,
     "input": [
      "len(l_orig_mbid)"
     ],
     "language": "python",
     "metadata": {},
     "outputs": [
      {
       "metadata": {},
       "output_type": "pyout",
       "prompt_number": 203,
       "text": [
        "0"
       ]
      }
     ],
     "prompt_number": 203
    },
    {
     "cell_type": "code",
     "collapsed": false,
     "input": [
      "len(l_similar_mbid)"
     ],
     "language": "python",
     "metadata": {},
     "outputs": [
      {
       "metadata": {},
       "output_type": "pyout",
       "prompt_number": 204,
       "text": [
        "585"
       ]
      }
     ],
     "prompt_number": 204
    },
    {
     "cell_type": "code",
     "collapsed": false,
     "input": [
      "### create the output file for track_id_sim_track_id.csv\n",
      "l_orig_mbid = []\n",
      "l_similar_mbid = []\n",
      "for t_track_listOfSimilars in t_10mostSimilarTracks_toOriginalSimilars:\n",
      "\tfor mbid_in_sim_list in t_track_listOfSimilars[1]: #for each similar mbid in the list of 10 similar mbids\n",
      "\t\tl_orig_mbid.append(t_track_listOfSimilars[0])\n",
      "\t\tl_similar_mbid.append(mbid_in_sim_list)\n",
      "od_trackId_similarTrackId = collections.OrderedDict((('source', l_orig_mbid), ('target', l_similar_mbid)))\n",
      "df_trackId_similarTrackId = pd.DataFrame.from_dict(od_trackId_similarTrackId)\n",
      "df_trackId_similarTrackId.to_csv(\"track_id_sim_track_id.csv\", encoding='utf-8', index= False)"
     ],
     "language": "python",
     "metadata": {},
     "outputs": [],
     "prompt_number": 205
    },
    {
     "cell_type": "code",
     "collapsed": false,
     "input": [
      "df_trackId_similarTrackId"
     ],
     "language": "python",
     "metadata": {},
     "outputs": [
      {
       "html": [
        "<div style=\"max-height:1000px;max-width:1500px;overflow:auto;\">\n",
        "<table border=\"1\" class=\"dataframe\">\n",
        "  <thead>\n",
        "    <tr style=\"text-align: right;\">\n",
        "      <th></th>\n",
        "      <th>source</th>\n",
        "      <th>target</th>\n",
        "    </tr>\n",
        "  </thead>\n",
        "  <tbody>\n",
        "    <tr>\n",
        "      <th>0  </th>\n",
        "      <td> 2527625b-0752-48f3-95fd-c3f216686db8</td>\n",
        "      <td> a88735e6-b35c-4379-8ef7-bbd2b793ccf4</td>\n",
        "    </tr>\n",
        "    <tr>\n",
        "      <th>1  </th>\n",
        "      <td> 2527625b-0752-48f3-95fd-c3f216686db8</td>\n",
        "      <td> 13194c93-89c6-4ab4-aaf2-15db5d73b74e</td>\n",
        "    </tr>\n",
        "    <tr>\n",
        "      <th>2  </th>\n",
        "      <td> 2527625b-0752-48f3-95fd-c3f216686db8</td>\n",
        "      <td> 1111fd1f-7868-40a5-9dec-15dcd9b175a3</td>\n",
        "    </tr>\n",
        "    <tr>\n",
        "      <th>3  </th>\n",
        "      <td> 2527625b-0752-48f3-95fd-c3f216686db8</td>\n",
        "      <td> 31a6b752-291c-456f-ade5-f4b85545e6df</td>\n",
        "    </tr>\n",
        "    <tr>\n",
        "      <th>4  </th>\n",
        "      <td> 2527625b-0752-48f3-95fd-c3f216686db8</td>\n",
        "      <td> a3fa6ee1-598d-4f06-a89d-ee2660eaeef3</td>\n",
        "    </tr>\n",
        "    <tr>\n",
        "      <th>5  </th>\n",
        "      <td> 2527625b-0752-48f3-95fd-c3f216686db8</td>\n",
        "      <td> d48db0f4-fab6-4d18-bc1f-aec43772af96</td>\n",
        "    </tr>\n",
        "    <tr>\n",
        "      <th>6  </th>\n",
        "      <td> 2527625b-0752-48f3-95fd-c3f216686db8</td>\n",
        "      <td> 4988f79d-2945-471d-b238-79f04949ed34</td>\n",
        "    </tr>\n",
        "    <tr>\n",
        "      <th>7  </th>\n",
        "      <td> 2527625b-0752-48f3-95fd-c3f216686db8</td>\n",
        "      <td> 35143c2f-0484-44e2-bf27-7baa7ca5e135</td>\n",
        "    </tr>\n",
        "    <tr>\n",
        "      <th>8  </th>\n",
        "      <td> 2527625b-0752-48f3-95fd-c3f216686db8</td>\n",
        "      <td> ba9dbfff-f193-43b8-b1ab-7c5ad426ab14</td>\n",
        "    </tr>\n",
        "    <tr>\n",
        "      <th>9  </th>\n",
        "      <td> 2527625b-0752-48f3-95fd-c3f216686db8</td>\n",
        "      <td> 10b9d8d4-2205-47b8-ad51-87bb214cff25</td>\n",
        "    </tr>\n",
        "    <tr>\n",
        "      <th>10 </th>\n",
        "      <td> a88735e6-b35c-4379-8ef7-bbd2b793ccf4</td>\n",
        "      <td> 2527625b-0752-48f3-95fd-c3f216686db8</td>\n",
        "    </tr>\n",
        "    <tr>\n",
        "      <th>11 </th>\n",
        "      <td> a88735e6-b35c-4379-8ef7-bbd2b793ccf4</td>\n",
        "      <td> 379f760d-1f29-4317-ab04-06a8218a874d</td>\n",
        "    </tr>\n",
        "    <tr>\n",
        "      <th>12 </th>\n",
        "      <td> a88735e6-b35c-4379-8ef7-bbd2b793ccf4</td>\n",
        "      <td> 17e5415a-4448-48b7-a8aa-93f1f7bf5af2</td>\n",
        "    </tr>\n",
        "    <tr>\n",
        "      <th>13 </th>\n",
        "      <td> a88735e6-b35c-4379-8ef7-bbd2b793ccf4</td>\n",
        "      <td> a3d01483-2aef-4d74-8f82-9d50242dede0</td>\n",
        "    </tr>\n",
        "    <tr>\n",
        "      <th>14 </th>\n",
        "      <td> a88735e6-b35c-4379-8ef7-bbd2b793ccf4</td>\n",
        "      <td> 78683dde-8e91-4634-92f1-6f4d1ae50e37</td>\n",
        "    </tr>\n",
        "    <tr>\n",
        "      <th>15 </th>\n",
        "      <td> a88735e6-b35c-4379-8ef7-bbd2b793ccf4</td>\n",
        "      <td> 1f41baad-817c-4e8d-81ea-9baae2589678</td>\n",
        "    </tr>\n",
        "    <tr>\n",
        "      <th>16 </th>\n",
        "      <td> a88735e6-b35c-4379-8ef7-bbd2b793ccf4</td>\n",
        "      <td> d48db0f4-fab6-4d18-bc1f-aec43772af96</td>\n",
        "    </tr>\n",
        "    <tr>\n",
        "      <th>17 </th>\n",
        "      <td> a88735e6-b35c-4379-8ef7-bbd2b793ccf4</td>\n",
        "      <td> 35966105-5196-460a-b58f-865c3f3d36b8</td>\n",
        "    </tr>\n",
        "    <tr>\n",
        "      <th>18 </th>\n",
        "      <td> a88735e6-b35c-4379-8ef7-bbd2b793ccf4</td>\n",
        "      <td> bd59fce3-fdd1-4212-b26f-dbcfedd66c57</td>\n",
        "    </tr>\n",
        "    <tr>\n",
        "      <th>19 </th>\n",
        "      <td> a88735e6-b35c-4379-8ef7-bbd2b793ccf4</td>\n",
        "      <td> 5fa29b31-c159-43f4-83a3-5862f6e45dc6</td>\n",
        "    </tr>\n",
        "    <tr>\n",
        "      <th>20 </th>\n",
        "      <td> f7048ce4-6368-4087-9204-62d90480f708</td>\n",
        "      <td> 78683dde-8e91-4634-92f1-6f4d1ae50e37</td>\n",
        "    </tr>\n",
        "    <tr>\n",
        "      <th>21 </th>\n",
        "      <td> f7048ce4-6368-4087-9204-62d90480f708</td>\n",
        "      <td> a3fa6ee1-598d-4f06-a89d-ee2660eaeef3</td>\n",
        "    </tr>\n",
        "    <tr>\n",
        "      <th>22 </th>\n",
        "      <td> f7048ce4-6368-4087-9204-62d90480f708</td>\n",
        "      <td> 31a6b752-291c-456f-ade5-f4b85545e6df</td>\n",
        "    </tr>\n",
        "    <tr>\n",
        "      <th>23 </th>\n",
        "      <td> f7048ce4-6368-4087-9204-62d90480f708</td>\n",
        "      <td> d452127a-e5ed-4b58-97db-54a2426b7e45</td>\n",
        "    </tr>\n",
        "    <tr>\n",
        "      <th>24 </th>\n",
        "      <td> f7048ce4-6368-4087-9204-62d90480f708</td>\n",
        "      <td> 05b95428-108d-4ec9-a8cd-5b6a70c35cda</td>\n",
        "    </tr>\n",
        "    <tr>\n",
        "      <th>25 </th>\n",
        "      <td> f7048ce4-6368-4087-9204-62d90480f708</td>\n",
        "      <td> 09e07c50-04ed-4f7e-b1bc-bad22d316ebe</td>\n",
        "    </tr>\n",
        "    <tr>\n",
        "      <th>26 </th>\n",
        "      <td> f7048ce4-6368-4087-9204-62d90480f708</td>\n",
        "      <td> 7d9f69b7-81e7-4b42-ac24-ee58028740c8</td>\n",
        "    </tr>\n",
        "    <tr>\n",
        "      <th>27 </th>\n",
        "      <td> f7048ce4-6368-4087-9204-62d90480f708</td>\n",
        "      <td> 00b0f9ec-6bff-449e-98ea-50ac5129f215</td>\n",
        "    </tr>\n",
        "    <tr>\n",
        "      <th>28 </th>\n",
        "      <td> f7048ce4-6368-4087-9204-62d90480f708</td>\n",
        "      <td> 13194c93-89c6-4ab4-aaf2-15db5d73b74e</td>\n",
        "    </tr>\n",
        "    <tr>\n",
        "      <th>29 </th>\n",
        "      <td> f7048ce4-6368-4087-9204-62d90480f708</td>\n",
        "      <td> 575d4e21-9d41-43e3-a001-1df583de26fa</td>\n",
        "    </tr>\n",
        "    <tr>\n",
        "      <th>...</th>\n",
        "      <td>...</td>\n",
        "      <td>...</td>\n",
        "    </tr>\n",
        "    <tr>\n",
        "      <th>555</th>\n",
        "      <td> 9855f2d9-3720-4052-a3b0-181682666a7f</td>\n",
        "      <td> 13194c93-89c6-4ab4-aaf2-15db5d73b74e</td>\n",
        "    </tr>\n",
        "    <tr>\n",
        "      <th>556</th>\n",
        "      <td> 9855f2d9-3720-4052-a3b0-181682666a7f</td>\n",
        "      <td> 9b5d8a7d-05fe-4f3d-ba09-2025858fb122</td>\n",
        "    </tr>\n",
        "    <tr>\n",
        "      <th>557</th>\n",
        "      <td> 9855f2d9-3720-4052-a3b0-181682666a7f</td>\n",
        "      <td> 1111fd1f-7868-40a5-9dec-15dcd9b175a3</td>\n",
        "    </tr>\n",
        "    <tr>\n",
        "      <th>558</th>\n",
        "      <td> 092e42a4-c8f5-4837-9663-8a50405a3896</td>\n",
        "      <td> d3cc4ef9-6386-4932-be85-b64f7f4e9674</td>\n",
        "    </tr>\n",
        "    <tr>\n",
        "      <th>559</th>\n",
        "      <td> 092e42a4-c8f5-4837-9663-8a50405a3896</td>\n",
        "      <td> 40a68514-b7b8-469d-a12c-9341484bc346</td>\n",
        "    </tr>\n",
        "    <tr>\n",
        "      <th>560</th>\n",
        "      <td> 092e42a4-c8f5-4837-9663-8a50405a3896</td>\n",
        "      <td> f69b39a6-8063-43a2-a604-52a2567c3878</td>\n",
        "    </tr>\n",
        "    <tr>\n",
        "      <th>561</th>\n",
        "      <td> 092e42a4-c8f5-4837-9663-8a50405a3896</td>\n",
        "      <td> 944bd5e2-bb27-482b-a358-bad83ca61647</td>\n",
        "    </tr>\n",
        "    <tr>\n",
        "      <th>562</th>\n",
        "      <td> 092e42a4-c8f5-4837-9663-8a50405a3896</td>\n",
        "      <td> 2f83a795-b784-413c-92d7-ae731ba69d25</td>\n",
        "    </tr>\n",
        "    <tr>\n",
        "      <th>563</th>\n",
        "      <td> 092e42a4-c8f5-4837-9663-8a50405a3896</td>\n",
        "      <td> 344fd45c-4d5d-4caa-8e45-f5690af59238</td>\n",
        "    </tr>\n",
        "    <tr>\n",
        "      <th>564</th>\n",
        "      <td> 092e42a4-c8f5-4837-9663-8a50405a3896</td>\n",
        "      <td> d8b9f15b-2e1a-47a9-9f5c-0eaa71f0275f</td>\n",
        "    </tr>\n",
        "    <tr>\n",
        "      <th>565</th>\n",
        "      <td> 092e42a4-c8f5-4837-9663-8a50405a3896</td>\n",
        "      <td> a63449b1-98b7-41da-8087-66fce7e70c0a</td>\n",
        "    </tr>\n",
        "    <tr>\n",
        "      <th>566</th>\n",
        "      <td> 092e42a4-c8f5-4837-9663-8a50405a3896</td>\n",
        "      <td> 15e40966-6cbb-473c-97fc-362de81f95d9</td>\n",
        "    </tr>\n",
        "    <tr>\n",
        "      <th>567</th>\n",
        "      <td> 7e742abc-2a23-4f0c-b638-4be8c299bf57</td>\n",
        "      <td> 8cb0470b-6d7c-4f32-bf78-7ce1161e95a9</td>\n",
        "    </tr>\n",
        "    <tr>\n",
        "      <th>568</th>\n",
        "      <td> 7e742abc-2a23-4f0c-b638-4be8c299bf57</td>\n",
        "      <td> 185b1511-725f-4bfb-8c64-ef4b7e11b801</td>\n",
        "    </tr>\n",
        "    <tr>\n",
        "      <th>569</th>\n",
        "      <td> 7e742abc-2a23-4f0c-b638-4be8c299bf57</td>\n",
        "      <td> 74574855-25f8-47a2-8fc3-c981267a82d6</td>\n",
        "    </tr>\n",
        "    <tr>\n",
        "      <th>570</th>\n",
        "      <td> 7e742abc-2a23-4f0c-b638-4be8c299bf57</td>\n",
        "      <td> 710f21dc-4237-4459-90fd-b117a71d347f</td>\n",
        "    </tr>\n",
        "    <tr>\n",
        "      <th>571</th>\n",
        "      <td> 7e742abc-2a23-4f0c-b638-4be8c299bf57</td>\n",
        "      <td> 219ab499-9531-4d94-b60e-62e2dcb80d8d</td>\n",
        "    </tr>\n",
        "    <tr>\n",
        "      <th>572</th>\n",
        "      <td> 7e742abc-2a23-4f0c-b638-4be8c299bf57</td>\n",
        "      <td> 60535489-7d75-4686-a578-a42ca0cd1e49</td>\n",
        "    </tr>\n",
        "    <tr>\n",
        "      <th>573</th>\n",
        "      <td> 7e742abc-2a23-4f0c-b638-4be8c299bf57</td>\n",
        "      <td> 143c6b5f-f3c4-4da5-9b7c-1e67426d4e56</td>\n",
        "    </tr>\n",
        "    <tr>\n",
        "      <th>574</th>\n",
        "      <td> 7e742abc-2a23-4f0c-b638-4be8c299bf57</td>\n",
        "      <td> 5aa0d7aa-a9ed-4063-b978-18e089861d60</td>\n",
        "    </tr>\n",
        "    <tr>\n",
        "      <th>575</th>\n",
        "      <td> 7e742abc-2a23-4f0c-b638-4be8c299bf57</td>\n",
        "      <td> 6e0eb323-251d-492c-8dd1-10c3b808266c</td>\n",
        "    </tr>\n",
        "    <tr>\n",
        "      <th>576</th>\n",
        "      <td> 7e742abc-2a23-4f0c-b638-4be8c299bf57</td>\n",
        "      <td> 07a16134-927e-49b5-a0fc-0e751a6824dc</td>\n",
        "    </tr>\n",
        "    <tr>\n",
        "      <th>577</th>\n",
        "      <td> 071fa60b-652a-4d67-b7e4-58a63a1bbe6f</td>\n",
        "      <td> 069c31c6-6259-4d14-ae49-94001db9ead9</td>\n",
        "    </tr>\n",
        "    <tr>\n",
        "      <th>578</th>\n",
        "      <td> 071fa60b-652a-4d67-b7e4-58a63a1bbe6f</td>\n",
        "      <td> 0362e11d-068d-4a2c-bcb8-c51fbf86dfe8</td>\n",
        "    </tr>\n",
        "    <tr>\n",
        "      <th>579</th>\n",
        "      <td> 071fa60b-652a-4d67-b7e4-58a63a1bbe6f</td>\n",
        "      <td> 1111fd1f-7868-40a5-9dec-15dcd9b175a3</td>\n",
        "    </tr>\n",
        "    <tr>\n",
        "      <th>580</th>\n",
        "      <td> 071fa60b-652a-4d67-b7e4-58a63a1bbe6f</td>\n",
        "      <td> d7decd27-2234-467a-a9e0-d608f04d75f3</td>\n",
        "    </tr>\n",
        "    <tr>\n",
        "      <th>581</th>\n",
        "      <td> 071fa60b-652a-4d67-b7e4-58a63a1bbe6f</td>\n",
        "      <td> 096ae087-5cb2-41b6-a0e0-211d0fb0de68</td>\n",
        "    </tr>\n",
        "    <tr>\n",
        "      <th>582</th>\n",
        "      <td> 071fa60b-652a-4d67-b7e4-58a63a1bbe6f</td>\n",
        "      <td> dfb5920d-789c-41d0-8f59-8bc34ed2cae0</td>\n",
        "    </tr>\n",
        "    <tr>\n",
        "      <th>583</th>\n",
        "      <td> 071fa60b-652a-4d67-b7e4-58a63a1bbe6f</td>\n",
        "      <td> 030c5163-88d9-4e9f-babb-59aa3d9db620</td>\n",
        "    </tr>\n",
        "    <tr>\n",
        "      <th>584</th>\n",
        "      <td> 071fa60b-652a-4d67-b7e4-58a63a1bbe6f</td>\n",
        "      <td> 4f90ae6c-e7d3-4778-88d0-aaea79718c3e</td>\n",
        "    </tr>\n",
        "  </tbody>\n",
        "</table>\n",
        "<p>585 rows \u00d7 2 columns</p>\n",
        "</div>"
       ],
       "metadata": {},
       "output_type": "pyout",
       "prompt_number": 206,
       "text": [
        "                                   source  \\\n",
        "0    2527625b-0752-48f3-95fd-c3f216686db8   \n",
        "1    2527625b-0752-48f3-95fd-c3f216686db8   \n",
        "2    2527625b-0752-48f3-95fd-c3f216686db8   \n",
        "3    2527625b-0752-48f3-95fd-c3f216686db8   \n",
        "4    2527625b-0752-48f3-95fd-c3f216686db8   \n",
        "5    2527625b-0752-48f3-95fd-c3f216686db8   \n",
        "6    2527625b-0752-48f3-95fd-c3f216686db8   \n",
        "7    2527625b-0752-48f3-95fd-c3f216686db8   \n",
        "8    2527625b-0752-48f3-95fd-c3f216686db8   \n",
        "9    2527625b-0752-48f3-95fd-c3f216686db8   \n",
        "10   a88735e6-b35c-4379-8ef7-bbd2b793ccf4   \n",
        "11   a88735e6-b35c-4379-8ef7-bbd2b793ccf4   \n",
        "12   a88735e6-b35c-4379-8ef7-bbd2b793ccf4   \n",
        "13   a88735e6-b35c-4379-8ef7-bbd2b793ccf4   \n",
        "14   a88735e6-b35c-4379-8ef7-bbd2b793ccf4   \n",
        "15   a88735e6-b35c-4379-8ef7-bbd2b793ccf4   \n",
        "16   a88735e6-b35c-4379-8ef7-bbd2b793ccf4   \n",
        "17   a88735e6-b35c-4379-8ef7-bbd2b793ccf4   \n",
        "18   a88735e6-b35c-4379-8ef7-bbd2b793ccf4   \n",
        "19   a88735e6-b35c-4379-8ef7-bbd2b793ccf4   \n",
        "20   f7048ce4-6368-4087-9204-62d90480f708   \n",
        "21   f7048ce4-6368-4087-9204-62d90480f708   \n",
        "22   f7048ce4-6368-4087-9204-62d90480f708   \n",
        "23   f7048ce4-6368-4087-9204-62d90480f708   \n",
        "24   f7048ce4-6368-4087-9204-62d90480f708   \n",
        "25   f7048ce4-6368-4087-9204-62d90480f708   \n",
        "26   f7048ce4-6368-4087-9204-62d90480f708   \n",
        "27   f7048ce4-6368-4087-9204-62d90480f708   \n",
        "28   f7048ce4-6368-4087-9204-62d90480f708   \n",
        "29   f7048ce4-6368-4087-9204-62d90480f708   \n",
        "..                                    ...   \n",
        "555  9855f2d9-3720-4052-a3b0-181682666a7f   \n",
        "556  9855f2d9-3720-4052-a3b0-181682666a7f   \n",
        "557  9855f2d9-3720-4052-a3b0-181682666a7f   \n",
        "558  092e42a4-c8f5-4837-9663-8a50405a3896   \n",
        "559  092e42a4-c8f5-4837-9663-8a50405a3896   \n",
        "560  092e42a4-c8f5-4837-9663-8a50405a3896   \n",
        "561  092e42a4-c8f5-4837-9663-8a50405a3896   \n",
        "562  092e42a4-c8f5-4837-9663-8a50405a3896   \n",
        "563  092e42a4-c8f5-4837-9663-8a50405a3896   \n",
        "564  092e42a4-c8f5-4837-9663-8a50405a3896   \n",
        "565  092e42a4-c8f5-4837-9663-8a50405a3896   \n",
        "566  092e42a4-c8f5-4837-9663-8a50405a3896   \n",
        "567  7e742abc-2a23-4f0c-b638-4be8c299bf57   \n",
        "568  7e742abc-2a23-4f0c-b638-4be8c299bf57   \n",
        "569  7e742abc-2a23-4f0c-b638-4be8c299bf57   \n",
        "570  7e742abc-2a23-4f0c-b638-4be8c299bf57   \n",
        "571  7e742abc-2a23-4f0c-b638-4be8c299bf57   \n",
        "572  7e742abc-2a23-4f0c-b638-4be8c299bf57   \n",
        "573  7e742abc-2a23-4f0c-b638-4be8c299bf57   \n",
        "574  7e742abc-2a23-4f0c-b638-4be8c299bf57   \n",
        "575  7e742abc-2a23-4f0c-b638-4be8c299bf57   \n",
        "576  7e742abc-2a23-4f0c-b638-4be8c299bf57   \n",
        "577  071fa60b-652a-4d67-b7e4-58a63a1bbe6f   \n",
        "578  071fa60b-652a-4d67-b7e4-58a63a1bbe6f   \n",
        "579  071fa60b-652a-4d67-b7e4-58a63a1bbe6f   \n",
        "580  071fa60b-652a-4d67-b7e4-58a63a1bbe6f   \n",
        "581  071fa60b-652a-4d67-b7e4-58a63a1bbe6f   \n",
        "582  071fa60b-652a-4d67-b7e4-58a63a1bbe6f   \n",
        "583  071fa60b-652a-4d67-b7e4-58a63a1bbe6f   \n",
        "584  071fa60b-652a-4d67-b7e4-58a63a1bbe6f   \n",
        "\n",
        "                                   target  \n",
        "0    a88735e6-b35c-4379-8ef7-bbd2b793ccf4  \n",
        "1    13194c93-89c6-4ab4-aaf2-15db5d73b74e  \n",
        "2    1111fd1f-7868-40a5-9dec-15dcd9b175a3  \n",
        "3    31a6b752-291c-456f-ade5-f4b85545e6df  \n",
        "4    a3fa6ee1-598d-4f06-a89d-ee2660eaeef3  \n",
        "5    d48db0f4-fab6-4d18-bc1f-aec43772af96  \n",
        "6    4988f79d-2945-471d-b238-79f04949ed34  \n",
        "7    35143c2f-0484-44e2-bf27-7baa7ca5e135  \n",
        "8    ba9dbfff-f193-43b8-b1ab-7c5ad426ab14  \n",
        "9    10b9d8d4-2205-47b8-ad51-87bb214cff25  \n",
        "10   2527625b-0752-48f3-95fd-c3f216686db8  \n",
        "11   379f760d-1f29-4317-ab04-06a8218a874d  \n",
        "12   17e5415a-4448-48b7-a8aa-93f1f7bf5af2  \n",
        "13   a3d01483-2aef-4d74-8f82-9d50242dede0  \n",
        "14   78683dde-8e91-4634-92f1-6f4d1ae50e37  \n",
        "15   1f41baad-817c-4e8d-81ea-9baae2589678  \n",
        "16   d48db0f4-fab6-4d18-bc1f-aec43772af96  \n",
        "17   35966105-5196-460a-b58f-865c3f3d36b8  \n",
        "18   bd59fce3-fdd1-4212-b26f-dbcfedd66c57  \n",
        "19   5fa29b31-c159-43f4-83a3-5862f6e45dc6  \n",
        "20   78683dde-8e91-4634-92f1-6f4d1ae50e37  \n",
        "21   a3fa6ee1-598d-4f06-a89d-ee2660eaeef3  \n",
        "22   31a6b752-291c-456f-ade5-f4b85545e6df  \n",
        "23   d452127a-e5ed-4b58-97db-54a2426b7e45  \n",
        "24   05b95428-108d-4ec9-a8cd-5b6a70c35cda  \n",
        "25   09e07c50-04ed-4f7e-b1bc-bad22d316ebe  \n",
        "26   7d9f69b7-81e7-4b42-ac24-ee58028740c8  \n",
        "27   00b0f9ec-6bff-449e-98ea-50ac5129f215  \n",
        "28   13194c93-89c6-4ab4-aaf2-15db5d73b74e  \n",
        "29   575d4e21-9d41-43e3-a001-1df583de26fa  \n",
        "..                                    ...  \n",
        "555  13194c93-89c6-4ab4-aaf2-15db5d73b74e  \n",
        "556  9b5d8a7d-05fe-4f3d-ba09-2025858fb122  \n",
        "557  1111fd1f-7868-40a5-9dec-15dcd9b175a3  \n",
        "558  d3cc4ef9-6386-4932-be85-b64f7f4e9674  \n",
        "559  40a68514-b7b8-469d-a12c-9341484bc346  \n",
        "560  f69b39a6-8063-43a2-a604-52a2567c3878  \n",
        "561  944bd5e2-bb27-482b-a358-bad83ca61647  \n",
        "562  2f83a795-b784-413c-92d7-ae731ba69d25  \n",
        "563  344fd45c-4d5d-4caa-8e45-f5690af59238  \n",
        "564  d8b9f15b-2e1a-47a9-9f5c-0eaa71f0275f  \n",
        "565  a63449b1-98b7-41da-8087-66fce7e70c0a  \n",
        "566  15e40966-6cbb-473c-97fc-362de81f95d9  \n",
        "567  8cb0470b-6d7c-4f32-bf78-7ce1161e95a9  \n",
        "568  185b1511-725f-4bfb-8c64-ef4b7e11b801  \n",
        "569  74574855-25f8-47a2-8fc3-c981267a82d6  \n",
        "570  710f21dc-4237-4459-90fd-b117a71d347f  \n",
        "571  219ab499-9531-4d94-b60e-62e2dcb80d8d  \n",
        "572  60535489-7d75-4686-a578-a42ca0cd1e49  \n",
        "573  143c6b5f-f3c4-4da5-9b7c-1e67426d4e56  \n",
        "574  5aa0d7aa-a9ed-4063-b978-18e089861d60  \n",
        "575  6e0eb323-251d-492c-8dd1-10c3b808266c  \n",
        "576  07a16134-927e-49b5-a0fc-0e751a6824dc  \n",
        "577  069c31c6-6259-4d14-ae49-94001db9ead9  \n",
        "578  0362e11d-068d-4a2c-bcb8-c51fbf86dfe8  \n",
        "579  1111fd1f-7868-40a5-9dec-15dcd9b175a3  \n",
        "580  d7decd27-2234-467a-a9e0-d608f04d75f3  \n",
        "581  096ae087-5cb2-41b6-a0e0-211d0fb0de68  \n",
        "582  dfb5920d-789c-41d0-8f59-8bc34ed2cae0  \n",
        "583  030c5163-88d9-4e9f-babb-59aa3d9db620  \n",
        "584  4f90ae6c-e7d3-4778-88d0-aaea79718c3e  \n",
        "\n",
        "[585 rows x 2 columns]"
       ]
      }
     ],
     "prompt_number": 206
    },
    {
     "cell_type": "code",
     "collapsed": false,
     "input": [],
     "language": "python",
     "metadata": {},
     "outputs": []
    }
   ],
   "metadata": {}
  }
 ]
}