{
 "metadata": {
  "name": "",
  "signature": "sha256:67facc86dd88573303ed812a89eb99525f1353b07f644c527d2711b3b078fc5a"
 },
 "nbformat": 3,
 "nbformat_minor": 0,
 "worksheets": []
}